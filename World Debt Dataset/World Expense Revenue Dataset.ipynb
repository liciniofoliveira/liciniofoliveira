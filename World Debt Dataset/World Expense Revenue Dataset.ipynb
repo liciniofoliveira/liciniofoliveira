{
 "cells":[
  {
   "cell_type":"markdown",
   "source":[
    "# World Debt Dataset"
   ],
   "attachments":{
    
   },
   "metadata":{
    "datalore":{
     "node_id":"POMPIRBOCLfdcXDHqPwfMu",
     "type":"MD",
     "hide_input_from_viewers":true,
     "hide_output_from_viewers":true
    }
   }
  },
  {
   "cell_type":"markdown",
   "source":[
    "### Lets start by importing some libs"
   ],
   "attachments":{
    
   },
   "metadata":{
    "datalore":{
     "node_id":"gLKyNKvY4847fIHSCkxotQ",
     "type":"MD",
     "hide_input_from_viewers":true,
     "hide_output_from_viewers":true
    }
   }
  },
  {
   "cell_type":"code",
   "source":[
    "import pandas as pd\n",
    "import numpy as np\n",
    "\n",
    "import plotly.express as px\n",
    "from plotly.subplots import make_subplots\n",
    "import plotly.graph_objects as go\n",
    "import matplotlib.pyplot as plt\n",
    "\n",
    "import warnings\n",
    "warnings.filterwarnings('ignore')\n",
    "import math\n",
    "!pip install bar-chart-race\n",
    "!pip install ffmpeg-python\n",
    "import bar_chart_race as bcr\n",
    "\n",
    "\n",
    "pd.set_option('display.max_columns', None)\n",
    "pd.set_option('display.max_rows', None)"
   ],
   "execution_count":43,
   "outputs":[
    {
     "name":"stdout",
     "text":[
      "Requirement already satisfied: bar-chart-race in \/opt\/python\/envs\/default\/lib\/python3.8\/site-packages (0.1.0)\r\n",
      "Requirement already satisfied: pandas>=0.24 in \/opt\/python\/envs\/default\/lib\/python3.8\/site-packages (from bar-chart-race) (1.3.5)\r\n",
      "Requirement already satisfied: matplotlib>=3.1 in \/opt\/python\/envs\/default\/lib\/python3.8\/site-packages (from bar-chart-race) (3.5.1)\r\n",
      "Requirement already satisfied: kiwisolver>=1.0.1 in \/opt\/python\/envs\/default\/lib\/python3.8\/site-packages (from matplotlib>=3.1->bar-chart-race) (1.4.4)\r\n",
      "Requirement already satisfied: numpy>=1.17 in \/opt\/python\/envs\/default\/lib\/python3.8\/site-packages (from matplotlib>=3.1->bar-chart-race) (1.23.5)\r\n",
      "Requirement already satisfied: python-dateutil>=2.7 in \/opt\/python\/envs\/default\/lib\/python3.8\/site-packages (from matplotlib>=3.1->bar-chart-race) (2.8.2)\r\n",
      "Requirement already satisfied: cycler>=0.10 in \/opt\/python\/envs\/default\/lib\/python3.8\/site-packages (from matplotlib>=3.1->bar-chart-race) (0.11.0)\r\n",
      "Requirement already satisfied: pillow>=6.2.0 in \/opt\/python\/envs\/default\/lib\/python3.8\/site-packages (from matplotlib>=3.1->bar-chart-race) (9.5.0)\r\n",
      "Requirement already satisfied: fonttools>=4.22.0 in \/opt\/python\/envs\/default\/lib\/python3.8\/site-packages (from matplotlib>=3.1->bar-chart-race) (4.39.3)\r\n",
      "Requirement already satisfied: pyparsing>=2.2.1 in \/opt\/python\/envs\/default\/lib\/python3.8\/site-packages (from matplotlib>=3.1->bar-chart-race) (3.0.9)\r\n",
      "Requirement already satisfied: packaging>=20.0 in \/opt\/python\/envs\/default\/lib\/python3.8\/site-packages (from matplotlib>=3.1->bar-chart-race) (23.1)\r\n",
      "Requirement already satisfied: pytz>=2017.3 in \/opt\/python\/envs\/default\/lib\/python3.8\/site-packages (from pandas>=0.24->bar-chart-race) (2023.3)\r\n",
      "Requirement already satisfied: six>=1.5 in \/opt\/python\/envs\/default\/lib\/python3.8\/site-packages (from python-dateutil>=2.7->matplotlib>=3.1->bar-chart-race) (1.16.0)\r\n",
      "\r\n",
      "\u001b[1m[\u001b[0m\u001b[34;49mnotice\u001b[0m\u001b[1;39;49m]\u001b[0m\u001b[39;49m A new release of pip is available: \u001b[0m\u001b[31;49m23.0.1\u001b[0m\u001b[39;49m -> \u001b[0m\u001b[32;49m23.1.2\u001b[0m\r\n",
      "\u001b[1m[\u001b[0m\u001b[34;49mnotice\u001b[0m\u001b[1;39;49m]\u001b[0m\u001b[39;49m To update, run: \u001b[0m\u001b[32;49mpip install --upgrade pip\u001b[0m\r\n",
      "Requirement already satisfied: ffmpeg-python in \/opt\/python\/envs\/default\/lib\/python3.8\/site-packages (0.2.0)\r\n",
      "Requirement already satisfied: future in \/opt\/python\/envs\/default\/lib\/python3.8\/site-packages (from ffmpeg-python) (0.18.3)\r\n",
      "\r\n",
      "\u001b[1m[\u001b[0m\u001b[34;49mnotice\u001b[0m\u001b[1;39;49m]\u001b[0m\u001b[39;49m A new release of pip is available: \u001b[0m\u001b[31;49m23.0.1\u001b[0m\u001b[39;49m -> \u001b[0m\u001b[32;49m23.1.2\u001b[0m\r\n",
      "\u001b[1m[\u001b[0m\u001b[34;49mnotice\u001b[0m\u001b[1;39;49m]\u001b[0m\u001b[39;49m To update, run: \u001b[0m\u001b[32;49mpip install --upgrade pip\u001b[0m\r\n"
     ],
     "output_type":"stream"
    }
   ],
   "metadata":{
    "datalore":{
     "node_id":"l6y3vY4GjwdyITQurdDm1k",
     "type":"CODE",
     "hide_input_from_viewers":false,
     "hide_output_from_viewers":false,
     "report_properties":{
      "rowId":"g6lhOdrFDSJvbVaEM3lUNi",
      "relativeY":0
     }
    }
   }
  },
  {
   "cell_type":"markdown",
   "source":[
    "### Import dataset"
   ],
   "attachments":{
    
   },
   "metadata":{
    "datalore":{
     "node_id":"cxXDGuMmPn7Wp9PMdikdtW",
     "type":"MD",
     "hide_input_from_viewers":true,
     "hide_output_from_viewers":true
    }
   }
  },
  {
   "cell_type":"code",
   "source":[
    "debtdata = pd.read_csv('\/data\/notebook_files\/Historical Public Debt Database.csv')"
   ],
   "execution_count":20,
   "outputs":[
    
   ],
   "metadata":{
    "datalore":{
     "node_id":"Kas2ZRsB48VM1B5FPSjWg9",
     "type":"CODE",
     "hide_input_from_viewers":false,
     "hide_output_from_viewers":false,
     "report_properties":{
      "rowId":"rSp6K2lWxarTuaiYl6SEkq",
      "relativeY":0
     }
    }
   }
  },
  {
   "cell_type":"markdown",
   "source":[
    "Now lets see our data"
   ],
   "attachments":{
    
   },
   "metadata":{
    "datalore":{
     "node_id":"OqKny6RL6lSrAXu4uVIJyD",
     "type":"MD",
     "hide_input_from_viewers":true,
     "hide_output_from_viewers":true
    }
   }
  },
  {
   "cell_type":"code",
   "source":[
    "debtdata"
   ],
   "execution_count":21,
   "outputs":[
    {
     "data":{
      "text\/html":[
       "<div>\n",
       "<style scoped>\n",
       "    .dataframe tbody tr th:only-of-type {\n",
       "        vertical-align: middle;\n",
       "    }\n",
       "\n",
       "    .dataframe tbody tr th {\n",
       "        vertical-align: top;\n",
       "    }\n",
       "\n",
       "    .dataframe thead th {\n",
       "        text-align: right;\n",
       "    }\n",
       "<\/style>\n",
       "<table border=\"1\" class=\"dataframe\">\n",
       "  <thead>\n",
       "    <tr style=\"text-align: right;\">\n",
       "      <th><\/th>\n",
       "      <th>Country Name<\/th>\n",
       "      <th>Country Code<\/th>\n",
       "      <th>Indicator Name<\/th>\n",
       "      <th>Indicator Code<\/th>\n",
       "      <th>Attribute<\/th>\n",
       "      <th>1800<\/th>\n",
       "      <th>1801<\/th>\n",
       "      <th>1802<\/th>\n",
       "      <th>1803<\/th>\n",
       "      <th>1804<\/th>\n",
       "      <th>...<\/th>\n",
       "      <th>2007<\/th>\n",
       "      <th>2008<\/th>\n",
       "      <th>2009<\/th>\n",
       "      <th>2010<\/th>\n",
       "      <th>2011<\/th>\n",
       "      <th>2012<\/th>\n",
       "      <th>2013<\/th>\n",
       "      <th>2014<\/th>\n",
       "      <th>2015<\/th>\n",
       "      <th>Unnamed: 221<\/th>\n",
       "    <\/tr>\n",
       "  <\/thead>\n",
       "  <tbody>\n",
       "    <tr>\n",
       "      <th>0<\/th>\n",
       "      <td>Portugal<\/td>\n",
       "      <td>182<\/td>\n",
       "      <td>Debt to GDP Ratio<\/td>\n",
       "      <td>GGXWDG_GDP<\/td>\n",
       "      <td>Value<\/td>\n",
       "      <td>NaN<\/td>\n",
       "      <td>NaN<\/td>\n",
       "      <td>NaN<\/td>\n",
       "      <td>NaN<\/td>\n",
       "      <td>NaN<\/td>\n",
       "      <td>...<\/td>\n",
       "      <td>68.439083<\/td>\n",
       "      <td>71.666333<\/td>\n",
       "      <td>83.609401<\/td>\n",
       "      <td>96.183319<\/td>\n",
       "      <td>111.389679<\/td>\n",
       "      <td>126.209890<\/td>\n",
       "      <td>129.000844<\/td>\n",
       "      <td>130.165395<\/td>\n",
       "      <td>128.976822<\/td>\n",
       "      <td>NaN<\/td>\n",
       "    <\/tr>\n",
       "    <tr>\n",
       "      <th>1<\/th>\n",
       "      <td>Qatar<\/td>\n",
       "      <td>453<\/td>\n",
       "      <td>Debt to GDP Ratio<\/td>\n",
       "      <td>GGXWDG_GDP<\/td>\n",
       "      <td>Value<\/td>\n",
       "      <td>NaN<\/td>\n",
       "      <td>NaN<\/td>\n",
       "      <td>NaN<\/td>\n",
       "      <td>NaN<\/td>\n",
       "      <td>NaN<\/td>\n",
       "      <td>...<\/td>\n",
       "      <td>8.927508<\/td>\n",
       "      <td>11.095734<\/td>\n",
       "      <td>35.972303<\/td>\n",
       "      <td>41.842260<\/td>\n",
       "      <td>35.568812<\/td>\n",
       "      <td>36.563094<\/td>\n",
       "      <td>32.599240<\/td>\n",
       "      <td>31.676338<\/td>\n",
       "      <td>39.760044<\/td>\n",
       "      <td>NaN<\/td>\n",
       "    <\/tr>\n",
       "    <tr>\n",
       "      <th>2<\/th>\n",
       "      <td>Romania<\/td>\n",
       "      <td>968<\/td>\n",
       "      <td>Debt to GDP Ratio<\/td>\n",
       "      <td>GGXWDG_GDP<\/td>\n",
       "      <td>Value<\/td>\n",
       "      <td>NaN<\/td>\n",
       "      <td>NaN<\/td>\n",
       "      <td>NaN<\/td>\n",
       "      <td>NaN<\/td>\n",
       "      <td>NaN<\/td>\n",
       "      <td>...<\/td>\n",
       "      <td>12.651644<\/td>\n",
       "      <td>13.387073<\/td>\n",
       "      <td>23.347557<\/td>\n",
       "      <td>30.535338<\/td>\n",
       "      <td>33.874314<\/td>\n",
       "      <td>37.630485<\/td>\n",
       "      <td>38.826068<\/td>\n",
       "      <td>40.495409<\/td>\n",
       "      <td>39.304125<\/td>\n",
       "      <td>NaN<\/td>\n",
       "    <\/tr>\n",
       "    <tr>\n",
       "      <th>3<\/th>\n",
       "      <td>Russia<\/td>\n",
       "      <td>922<\/td>\n",
       "      <td>Debt to GDP Ratio<\/td>\n",
       "      <td>GGXWDG_GDP<\/td>\n",
       "      <td>Value<\/td>\n",
       "      <td>NaN<\/td>\n",
       "      <td>NaN<\/td>\n",
       "      <td>NaN<\/td>\n",
       "      <td>NaN<\/td>\n",
       "      <td>NaN<\/td>\n",
       "      <td>...<\/td>\n",
       "      <td>8.010246<\/td>\n",
       "      <td>7.425429<\/td>\n",
       "      <td>9.890471<\/td>\n",
       "      <td>10.559784<\/td>\n",
       "      <td>10.913245<\/td>\n",
       "      <td>11.761041<\/td>\n",
       "      <td>13.075516<\/td>\n",
       "      <td>15.893951<\/td>\n",
       "      <td>16.423032<\/td>\n",
       "      <td>NaN<\/td>\n",
       "    <\/tr>\n",
       "    <tr>\n",
       "      <th>4<\/th>\n",
       "      <td>Rwanda<\/td>\n",
       "      <td>714<\/td>\n",
       "      <td>Debt to GDP Ratio<\/td>\n",
       "      <td>GGXWDG_GDP<\/td>\n",
       "      <td>Value<\/td>\n",
       "      <td>NaN<\/td>\n",
       "      <td>NaN<\/td>\n",
       "      <td>NaN<\/td>\n",
       "      <td>NaN<\/td>\n",
       "      <td>NaN<\/td>\n",
       "      <td>...<\/td>\n",
       "      <td>26.709372<\/td>\n",
       "      <td>20.903872<\/td>\n",
       "      <td>22.366127<\/td>\n",
       "      <td>22.556519<\/td>\n",
       "      <td>23.061183<\/td>\n",
       "      <td>21.461119<\/td>\n",
       "      <td>28.684382<\/td>\n",
       "      <td>31.126915<\/td>\n",
       "      <td>37.293894<\/td>\n",
       "      <td>NaN<\/td>\n",
       "    <\/tr>\n",
       "    <tr>\n",
       "      <th>...<\/th>\n",
       "      <td>...<\/td>\n",
       "      <td>...<\/td>\n",
       "      <td>...<\/td>\n",
       "      <td>...<\/td>\n",
       "      <td>...<\/td>\n",
       "      <td>...<\/td>\n",
       "      <td>...<\/td>\n",
       "      <td>...<\/td>\n",
       "      <td>...<\/td>\n",
       "      <td>...<\/td>\n",
       "      <td>...<\/td>\n",
       "      <td>...<\/td>\n",
       "      <td>...<\/td>\n",
       "      <td>...<\/td>\n",
       "      <td>...<\/td>\n",
       "      <td>...<\/td>\n",
       "      <td>...<\/td>\n",
       "      <td>...<\/td>\n",
       "      <td>...<\/td>\n",
       "      <td>...<\/td>\n",
       "      <td>...<\/td>\n",
       "    <\/tr>\n",
       "    <tr>\n",
       "      <th>186<\/th>\n",
       "      <td>Tonga<\/td>\n",
       "      <td>866<\/td>\n",
       "      <td>Debt to GDP Ratio<\/td>\n",
       "      <td>GGXWDG_GDP<\/td>\n",
       "      <td>Value<\/td>\n",
       "      <td>NaN<\/td>\n",
       "      <td>NaN<\/td>\n",
       "      <td>NaN<\/td>\n",
       "      <td>NaN<\/td>\n",
       "      <td>NaN<\/td>\n",
       "      <td>...<\/td>\n",
       "      <td>NaN<\/td>\n",
       "      <td>NaN<\/td>\n",
       "      <td>NaN<\/td>\n",
       "      <td>NaN<\/td>\n",
       "      <td>NaN<\/td>\n",
       "      <td>NaN<\/td>\n",
       "      <td>NaN<\/td>\n",
       "      <td>NaN<\/td>\n",
       "      <td>NaN<\/td>\n",
       "      <td>NaN<\/td>\n",
       "    <\/tr>\n",
       "    <tr>\n",
       "      <th>187<\/th>\n",
       "      <td>Micronesia, Fed. States of<\/td>\n",
       "      <td>868<\/td>\n",
       "      <td>Debt to GDP Ratio<\/td>\n",
       "      <td>GGXWDG_GDP<\/td>\n",
       "      <td>Value<\/td>\n",
       "      <td>NaN<\/td>\n",
       "      <td>NaN<\/td>\n",
       "      <td>NaN<\/td>\n",
       "      <td>NaN<\/td>\n",
       "      <td>NaN<\/td>\n",
       "      <td>...<\/td>\n",
       "      <td>25.727949<\/td>\n",
       "      <td>28.272798<\/td>\n",
       "      <td>31.018950<\/td>\n",
       "      <td>29.237042<\/td>\n",
       "      <td>28.933187<\/td>\n",
       "      <td>27.710247<\/td>\n",
       "      <td>26.984258<\/td>\n",
       "      <td>26.083883<\/td>\n",
       "      <td>26.345741<\/td>\n",
       "      <td>NaN<\/td>\n",
       "    <\/tr>\n",
       "    <tr>\n",
       "      <th>188<\/th>\n",
       "      <td>Mongolia<\/td>\n",
       "      <td>948<\/td>\n",
       "      <td>Debt to GDP Ratio<\/td>\n",
       "      <td>GGXWDG_GDP<\/td>\n",
       "      <td>Value<\/td>\n",
       "      <td>NaN<\/td>\n",
       "      <td>NaN<\/td>\n",
       "      <td>NaN<\/td>\n",
       "      <td>NaN<\/td>\n",
       "      <td>NaN<\/td>\n",
       "      <td>...<\/td>\n",
       "      <td>40.736100<\/td>\n",
       "      <td>NaN<\/td>\n",
       "      <td>NaN<\/td>\n",
       "      <td>NaN<\/td>\n",
       "      <td>NaN<\/td>\n",
       "      <td>NaN<\/td>\n",
       "      <td>NaN<\/td>\n",
       "      <td>NaN<\/td>\n",
       "      <td>NaN<\/td>\n",
       "      <td>NaN<\/td>\n",
       "    <\/tr>\n",
       "    <tr>\n",
       "      <th>189<\/th>\n",
       "      <td>Afghanistan<\/td>\n",
       "      <td>512<\/td>\n",
       "      <td>Debt to GDP Ratio<\/td>\n",
       "      <td>GGXWDG_GDP<\/td>\n",
       "      <td>Value<\/td>\n",
       "      <td>NaN<\/td>\n",
       "      <td>NaN<\/td>\n",
       "      <td>NaN<\/td>\n",
       "      <td>NaN<\/td>\n",
       "      <td>NaN<\/td>\n",
       "      <td>...<\/td>\n",
       "      <td>20.239910<\/td>\n",
       "      <td>18.369594<\/td>\n",
       "      <td>16.775564<\/td>\n",
       "      <td>7.901553<\/td>\n",
       "      <td>7.136649<\/td>\n",
       "      <td>6.625249<\/td>\n",
       "      <td>6.748725<\/td>\n",
       "      <td>6.380300<\/td>\n",
       "      <td>6.246007<\/td>\n",
       "      <td>NaN<\/td>\n",
       "    <\/tr>\n",
       "    <tr>\n",
       "      <th>190<\/th>\n",
       "      <td>Puerto Rico<\/td>\n",
       "      <td>359<\/td>\n",
       "      <td>Debt to GDP Ratio<\/td>\n",
       "      <td>GGXWDG_GDP<\/td>\n",
       "      <td>Value<\/td>\n",
       "      <td>NaN<\/td>\n",
       "      <td>NaN<\/td>\n",
       "      <td>NaN<\/td>\n",
       "      <td>NaN<\/td>\n",
       "      <td>NaN<\/td>\n",
       "      <td>...<\/td>\n",
       "      <td>36.897440<\/td>\n",
       "      <td>40.764288<\/td>\n",
       "      <td>46.508189<\/td>\n",
       "      <td>48.338994<\/td>\n",
       "      <td>49.996896<\/td>\n",
       "      <td>53.732304<\/td>\n",
       "      <td>52.308336<\/td>\n",
       "      <td>54.737133<\/td>\n",
       "      <td>52.976692<\/td>\n",
       "      <td>NaN<\/td>\n",
       "    <\/tr>\n",
       "  <\/tbody>\n",
       "<\/table>\n",
       "<p>191 rows × 222 columns<\/p>\n",
       "<\/div>"
      ]
     },
     "metadata":{
      
     },
     "output_type":"display_data"
    }
   ],
   "metadata":{
    "datalore":{
     "node_id":"P66yraaIo5TCkExSdvCvN6",
     "type":"CODE",
     "hide_input_from_viewers":false,
     "hide_output_from_viewers":false,
     "report_properties":{
      "rowId":"Ic475lb688Fms9MnrIwt3E",
      "relativeY":0
     }
    }
   }
  },
  {
   "cell_type":"code",
   "source":[
    "debtdata.info()"
   ],
   "execution_count":22,
   "outputs":[
    {
     "name":"stdout",
     "text":[
      "<class 'pandas.core.frame.DataFrame'>\n",
      "RangeIndex: 191 entries, 0 to 190\n",
      "Columns: 222 entries, Country Name to Unnamed: 221\n",
      "dtypes: float64(217), int64(1), object(4)\n",
      "memory usage: 331.4+ KB\n"
     ],
     "output_type":"stream"
    }
   ],
   "metadata":{
    "datalore":{
     "node_id":"IAD0uThzy840CK3S49dXm5",
     "type":"CODE",
     "hide_input_from_viewers":false,
     "hide_output_from_viewers":false,
     "report_properties":{
      "rowId":"qHiUCnyJK1maKpKkSGHDPu",
      "relativeY":0
     }
    }
   }
  },
  {
   "cell_type":"markdown",
   "source":[
    "### Cleaning Data"
   ],
   "attachments":{
    
   },
   "metadata":{
    "datalore":{
     "node_id":"ceRUKWuznT0BNb2xzo3EiP",
     "type":"MD",
     "hide_input_from_viewers":true,
     "hide_output_from_viewers":true
    }
   }
  },
  {
   "cell_type":"code",
   "source":[
    "# Lets remove some column not needed\n",
    "debtdata =debtdata.drop([\"Indicator Name\",\"Indicator Code\",\"Attribute\",\"Unnamed: 221\"],axis=1)"
   ],
   "execution_count":23,
   "outputs":[
    
   ],
   "metadata":{
    "datalore":{
     "node_id":"bl3WG9uAyUHWWKkKFqq2lB",
     "type":"CODE",
     "hide_input_from_viewers":false,
     "hide_output_from_viewers":false,
     "report_properties":{
      "rowId":"SzLe2k3MpUVG7WYhesPh7G",
      "relativeY":0
     }
    }
   }
  },
  {
   "cell_type":"code",
   "source":[
    "#Flattening the time series data\n",
    "years = list(debtdata.columns[2:].values)\n",
    "debtdata = pd.melt(debtdata,id_vars =['Country Name', 'Country Code'], \n",
    "               value_vars =years,\n",
    "              var_name ='Year', value_name ='Debt to GDP Ratio')"
   ],
   "execution_count":25,
   "outputs":[
    
   ],
   "metadata":{
    "datalore":{
     "node_id":"drl0aRGU8hRARRXNBYS7Rc",
     "type":"CODE",
     "hide_input_from_viewers":false,
     "hide_output_from_viewers":false,
     "report_properties":{
      "rowId":"ZLROwlr3VfhkXBaBm8YRWq",
      "relativeY":0
     }
    }
   }
  },
  {
   "cell_type":"code",
   "source":[
    "debtdata.dtypes"
   ],
   "execution_count":26,
   "outputs":[
    {
     "data":{
      "text\/html":[
       "<pre>Country Name          object\n",
       "Country Code           int64\n",
       "Year                  object\n",
       "Debt to GDP Ratio    float64\n",
       "dtype: object<\/pre>"
      ]
     },
     "metadata":{
      
     },
     "output_type":"display_data"
    }
   ],
   "metadata":{
    "datalore":{
     "node_id":"V1ONfoQqvCBvQLvM26GXMZ",
     "type":"CODE",
     "hide_input_from_viewers":false,
     "hide_output_from_viewers":false,
     "report_properties":{
      "rowId":"ShKWv5zpuEe1bT0tRktTQJ",
      "relativeY":0
     }
    }
   }
  },
  {
   "cell_type":"markdown",
   "source":[
    "Reshaping the Dataset "
   ],
   "attachments":{
    
   },
   "metadata":{
    "datalore":{
     "node_id":"RpUsEZX7V1Op19cgrzO6vg",
     "type":"MD",
     "hide_input_from_viewers":true,
     "hide_output_from_viewers":true
    }
   }
  },
  {
   "cell_type":"code",
   "source":[
    "debtdata[\"Year\"] = debtdata[\"Year\"].astype(str)"
   ],
   "execution_count":27,
   "outputs":[
    
   ],
   "metadata":{
    "datalore":{
     "node_id":"vPESw7jE0l1dHF2Ut8k52M",
     "type":"CODE",
     "hide_input_from_viewers":false,
     "hide_output_from_viewers":false,
     "report_properties":{
      "rowId":"9AfT4eMceVA0T6dPM1889B",
      "relativeY":0
     }
    }
   }
  },
  {
   "cell_type":"code",
   "source":[
    "debtdata_pivot = pd.pivot_table(debtdata, values='Debt to GDP Ratio', index=['Year'],\n",
    "                          columns=['Country Name'], aggfunc='sum', fill_value=0)\n",
    "debtdata_pivot"
   ],
   "execution_count":28,
   "outputs":[
    {
     "data":{
      "text\/html":[
       "<div>\n",
       "<style scoped>\n",
       "    .dataframe tbody tr th:only-of-type {\n",
       "        vertical-align: middle;\n",
       "    }\n",
       "\n",
       "    .dataframe tbody tr th {\n",
       "        vertical-align: top;\n",
       "    }\n",
       "\n",
       "    .dataframe thead th {\n",
       "        text-align: right;\n",
       "    }\n",
       "<\/style>\n",
       "<table border=\"1\" class=\"dataframe\">\n",
       "  <thead>\n",
       "    <tr style=\"text-align: right;\">\n",
       "      <th>Country Name<\/th>\n",
       "      <th>Afghanistan<\/th>\n",
       "      <th>Albania<\/th>\n",
       "      <th>Algeria<\/th>\n",
       "      <th>Angola<\/th>\n",
       "      <th>Anguilla<\/th>\n",
       "      <th>Antigua and Barbuda<\/th>\n",
       "      <th>Argentina<\/th>\n",
       "      <th>Armenia<\/th>\n",
       "      <th>Australia<\/th>\n",
       "      <th>Austria<\/th>\n",
       "      <th>...<\/th>\n",
       "      <th>United Kingdom<\/th>\n",
       "      <th>United States<\/th>\n",
       "      <th>Uruguay<\/th>\n",
       "      <th>Uzbekistan<\/th>\n",
       "      <th>Vanuatu<\/th>\n",
       "      <th>Venezuela<\/th>\n",
       "      <th>Vietnam<\/th>\n",
       "      <th>Yemen<\/th>\n",
       "      <th>Zambia<\/th>\n",
       "      <th>Zimbabwe<\/th>\n",
       "    <\/tr>\n",
       "    <tr>\n",
       "      <th>Year<\/th>\n",
       "      <th><\/th>\n",
       "      <th><\/th>\n",
       "      <th><\/th>\n",
       "      <th><\/th>\n",
       "      <th><\/th>\n",
       "      <th><\/th>\n",
       "      <th><\/th>\n",
       "      <th><\/th>\n",
       "      <th><\/th>\n",
       "      <th><\/th>\n",
       "      <th><\/th>\n",
       "      <th><\/th>\n",
       "      <th><\/th>\n",
       "      <th><\/th>\n",
       "      <th><\/th>\n",
       "      <th><\/th>\n",
       "      <th><\/th>\n",
       "      <th><\/th>\n",
       "      <th><\/th>\n",
       "      <th><\/th>\n",
       "      <th><\/th>\n",
       "    <\/tr>\n",
       "  <\/thead>\n",
       "  <tbody>\n",
       "    <tr>\n",
       "      <th>1800<\/th>\n",
       "      <td>0.000000<\/td>\n",
       "      <td>0.000000<\/td>\n",
       "      <td>0.000000<\/td>\n",
       "      <td>0.000000<\/td>\n",
       "      <td>0.000000<\/td>\n",
       "      <td>0.000000<\/td>\n",
       "      <td>0.000000<\/td>\n",
       "      <td>0.000000<\/td>\n",
       "      <td>0.000000<\/td>\n",
       "      <td>0.000000<\/td>\n",
       "      <td>...<\/td>\n",
       "      <td>176.840000<\/td>\n",
       "      <td>18.082789<\/td>\n",
       "      <td>0.000000<\/td>\n",
       "      <td>0.000000<\/td>\n",
       "      <td>0.000000<\/td>\n",
       "      <td>0.000000<\/td>\n",
       "      <td>0.000000<\/td>\n",
       "      <td>0.000000<\/td>\n",
       "      <td>0.000000<\/td>\n",
       "      <td>0.000000<\/td>\n",
       "    <\/tr>\n",
       "    <tr>\n",
       "      <th>1801<\/th>\n",
       "      <td>0.000000<\/td>\n",
       "      <td>0.000000<\/td>\n",
       "      <td>0.000000<\/td>\n",
       "      <td>0.000000<\/td>\n",
       "      <td>0.000000<\/td>\n",
       "      <td>0.000000<\/td>\n",
       "      <td>0.000000<\/td>\n",
       "      <td>0.000000<\/td>\n",
       "      <td>0.000000<\/td>\n",
       "      <td>0.000000<\/td>\n",
       "      <td>...<\/td>\n",
       "      <td>177.470000<\/td>\n",
       "      <td>15.719697<\/td>\n",
       "      <td>0.000000<\/td>\n",
       "      <td>0.000000<\/td>\n",
       "      <td>0.000000<\/td>\n",
       "      <td>0.000000<\/td>\n",
       "      <td>0.000000<\/td>\n",
       "      <td>0.000000<\/td>\n",
       "      <td>0.000000<\/td>\n",
       "      <td>0.000000<\/td>\n",
       "    <\/tr>\n",
       "    <tr>\n",
       "      <th>1802<\/th>\n",
       "      <td>0.000000<\/td>\n",
       "      <td>0.000000<\/td>\n",
       "      <td>0.000000<\/td>\n",
       "      <td>0.000000<\/td>\n",
       "      <td>0.000000<\/td>\n",
       "      <td>0.000000<\/td>\n",
       "      <td>0.000000<\/td>\n",
       "      <td>0.000000<\/td>\n",
       "      <td>0.000000<\/td>\n",
       "      <td>0.000000<\/td>\n",
       "      <td>...<\/td>\n",
       "      <td>188.990000<\/td>\n",
       "      <td>16.469388<\/td>\n",
       "      <td>0.000000<\/td>\n",
       "      <td>0.000000<\/td>\n",
       "      <td>0.000000<\/td>\n",
       "      <td>0.000000<\/td>\n",
       "      <td>0.000000<\/td>\n",
       "      <td>0.000000<\/td>\n",
       "      <td>0.000000<\/td>\n",
       "      <td>0.000000<\/td>\n",
       "    <\/tr>\n",
       "    <tr>\n",
       "      <th>1803<\/th>\n",
       "      <td>0.000000<\/td>\n",
       "      <td>0.000000<\/td>\n",
       "      <td>0.000000<\/td>\n",
       "      <td>0.000000<\/td>\n",
       "      <td>0.000000<\/td>\n",
       "      <td>0.000000<\/td>\n",
       "      <td>0.000000<\/td>\n",
       "      <td>0.000000<\/td>\n",
       "      <td>0.000000<\/td>\n",
       "      <td>0.000000<\/td>\n",
       "      <td>...<\/td>\n",
       "      <td>190.670000<\/td>\n",
       "      <td>15.799180<\/td>\n",
       "      <td>0.000000<\/td>\n",
       "      <td>0.000000<\/td>\n",
       "      <td>0.000000<\/td>\n",
       "      <td>0.000000<\/td>\n",
       "      <td>0.000000<\/td>\n",
       "      <td>0.000000<\/td>\n",
       "      <td>0.000000<\/td>\n",
       "      <td>0.000000<\/td>\n",
       "    <\/tr>\n",
       "    <tr>\n",
       "      <th>1804<\/th>\n",
       "      <td>0.000000<\/td>\n",
       "      <td>0.000000<\/td>\n",
       "      <td>0.000000<\/td>\n",
       "      <td>0.000000<\/td>\n",
       "      <td>0.000000<\/td>\n",
       "      <td>0.000000<\/td>\n",
       "      <td>0.000000<\/td>\n",
       "      <td>0.000000<\/td>\n",
       "      <td>0.000000<\/td>\n",
       "      <td>0.000000<\/td>\n",
       "      <td>...<\/td>\n",
       "      <td>188.400000<\/td>\n",
       "      <td>16.179775<\/td>\n",
       "      <td>0.000000<\/td>\n",
       "      <td>0.000000<\/td>\n",
       "      <td>0.000000<\/td>\n",
       "      <td>0.000000<\/td>\n",
       "      <td>0.000000<\/td>\n",
       "      <td>0.000000<\/td>\n",
       "      <td>0.000000<\/td>\n",
       "      <td>0.000000<\/td>\n",
       "    <\/tr>\n",
       "    <tr>\n",
       "      <th>...<\/th>\n",
       "      <td>...<\/td>\n",
       "      <td>...<\/td>\n",
       "      <td>...<\/td>\n",
       "      <td>...<\/td>\n",
       "      <td>...<\/td>\n",
       "      <td>...<\/td>\n",
       "      <td>...<\/td>\n",
       "      <td>...<\/td>\n",
       "      <td>...<\/td>\n",
       "      <td>...<\/td>\n",
       "      <td>...<\/td>\n",
       "      <td>...<\/td>\n",
       "      <td>...<\/td>\n",
       "      <td>...<\/td>\n",
       "      <td>...<\/td>\n",
       "      <td>...<\/td>\n",
       "      <td>...<\/td>\n",
       "      <td>...<\/td>\n",
       "      <td>...<\/td>\n",
       "      <td>...<\/td>\n",
       "      <td>...<\/td>\n",
       "    <\/tr>\n",
       "    <tr>\n",
       "      <th>2011<\/th>\n",
       "      <td>7.136649<\/td>\n",
       "      <td>59.412625<\/td>\n",
       "      <td>9.489045<\/td>\n",
       "      <td>33.800868<\/td>\n",
       "      <td>29.205448<\/td>\n",
       "      <td>92.430731<\/td>\n",
       "      <td>38.062868<\/td>\n",
       "      <td>35.691128<\/td>\n",
       "      <td>24.200510<\/td>\n",
       "      <td>82.193135<\/td>\n",
       "      <td>...<\/td>\n",
       "      <td>81.324273<\/td>\n",
       "      <td>98.994775<\/td>\n",
       "      <td>58.095987<\/td>\n",
       "      <td>9.087715<\/td>\n",
       "      <td>20.707463<\/td>\n",
       "      <td>50.570415<\/td>\n",
       "      <td>45.786619<\/td>\n",
       "      <td>45.725985<\/td>\n",
       "      <td>20.803322<\/td>\n",
       "      <td>51.761246<\/td>\n",
       "    <\/tr>\n",
       "    <tr>\n",
       "      <th>2012<\/th>\n",
       "      <td>6.625249<\/td>\n",
       "      <td>62.144467<\/td>\n",
       "      <td>9.491093<\/td>\n",
       "      <td>29.486661<\/td>\n",
       "      <td>30.941384<\/td>\n",
       "      <td>87.147489<\/td>\n",
       "      <td>39.433889<\/td>\n",
       "      <td>36.476851<\/td>\n",
       "      <td>27.798238<\/td>\n",
       "      <td>81.624408<\/td>\n",
       "      <td>...<\/td>\n",
       "      <td>84.817533<\/td>\n",
       "      <td>102.497522<\/td>\n",
       "      <td>58.009609<\/td>\n",
       "      <td>8.554218<\/td>\n",
       "      <td>21.749361<\/td>\n",
       "      <td>58.091816<\/td>\n",
       "      <td>47.921461<\/td>\n",
       "      <td>47.312378<\/td>\n",
       "      <td>24.910842<\/td>\n",
       "      <td>56.730463<\/td>\n",
       "    <\/tr>\n",
       "    <tr>\n",
       "      <th>2013<\/th>\n",
       "      <td>6.748725<\/td>\n",
       "      <td>70.391063<\/td>\n",
       "      <td>7.744179<\/td>\n",
       "      <td>32.874126<\/td>\n",
       "      <td>30.422149<\/td>\n",
       "      <td>94.263091<\/td>\n",
       "      <td>42.195379<\/td>\n",
       "      <td>37.958656<\/td>\n",
       "      <td>30.829111<\/td>\n",
       "      <td>80.798864<\/td>\n",
       "      <td>...<\/td>\n",
       "      <td>85.995103<\/td>\n",
       "      <td>104.621196<\/td>\n",
       "      <td>60.184201<\/td>\n",
       "      <td>8.275957<\/td>\n",
       "      <td>20.567682<\/td>\n",
       "      <td>73.702418<\/td>\n",
       "      <td>51.829896<\/td>\n",
       "      <td>48.199762<\/td>\n",
       "      <td>25.914770<\/td>\n",
       "      <td>54.558659<\/td>\n",
       "    <\/tr>\n",
       "    <tr>\n",
       "      <th>2014<\/th>\n",
       "      <td>6.380300<\/td>\n",
       "      <td>72.038010<\/td>\n",
       "      <td>7.955684<\/td>\n",
       "      <td>40.660897<\/td>\n",
       "      <td>24.112630<\/td>\n",
       "      <td>100.422126<\/td>\n",
       "      <td>43.586674<\/td>\n",
       "      <td>41.447232<\/td>\n",
       "      <td>34.322830<\/td>\n",
       "      <td>84.253783<\/td>\n",
       "      <td>...<\/td>\n",
       "      <td>87.935341<\/td>\n",
       "      <td>104.605125<\/td>\n",
       "      <td>61.403632<\/td>\n",
       "      <td>7.641886<\/td>\n",
       "      <td>19.316247<\/td>\n",
       "      <td>63.489309<\/td>\n",
       "      <td>55.133733<\/td>\n",
       "      <td>48.722146<\/td>\n",
       "      <td>33.605962<\/td>\n",
       "      <td>55.272918<\/td>\n",
       "    <\/tr>\n",
       "    <tr>\n",
       "      <th>2015<\/th>\n",
       "      <td>6.246007<\/td>\n",
       "      <td>73.321326<\/td>\n",
       "      <td>9.060291<\/td>\n",
       "      <td>64.238741<\/td>\n",
       "      <td>22.147033<\/td>\n",
       "      <td>104.357530<\/td>\n",
       "      <td>52.130934<\/td>\n",
       "      <td>46.893048<\/td>\n",
       "      <td>37.637749<\/td>\n",
       "      <td>86.192676<\/td>\n",
       "      <td>...<\/td>\n",
       "      <td>88.984360<\/td>\n",
       "      <td>105.151988<\/td>\n",
       "      <td>64.287451<\/td>\n",
       "      <td>10.756169<\/td>\n",
       "      <td>25.630731<\/td>\n",
       "      <td>41.500601<\/td>\n",
       "      <td>58.252654<\/td>\n",
       "      <td>66.670942<\/td>\n",
       "      <td>56.282192<\/td>\n",
       "      <td>58.898933<\/td>\n",
       "    <\/tr>\n",
       "  <\/tbody>\n",
       "<\/table>\n",
       "<p>216 rows × 191 columns<\/p>\n",
       "<\/div>"
      ]
     },
     "metadata":{
      
     },
     "output_type":"display_data"
    }
   ],
   "metadata":{
    "datalore":{
     "node_id":"u0HGqYC4VrN74TOEtINVhI",
     "type":"CODE",
     "hide_input_from_viewers":false,
     "hide_output_from_viewers":false,
     "report_properties":{
      "rowId":"R824somMI8FhH60ODrYnXo",
      "relativeY":0
     }
    }
   }
  },
  {
   "cell_type":"markdown",
   "source":[
    "### Lets work on the data a see some values "
   ],
   "attachments":{
    
   },
   "metadata":{
    "datalore":{
     "node_id":"EmTLWixU17b5fa1MM1xhqC",
     "type":"MD",
     "hide_input_from_viewers":true,
     "hide_output_from_viewers":true
    }
   }
  },
  {
   "cell_type":"code",
   "source":[
    "\n",
    "# Find the country with the highest and lowest debt-to-GDP ratio for each year\n",
    "max_debtdata = debtdata.loc[debtdata.groupby('Year')['Debt to GDP Ratio'].idxmax()]\n",
    "min_debtdata = debtdata.loc[debtdata.groupby('Year')['Debt to GDP Ratio'].idxmin()]"
   ],
   "execution_count":29,
   "outputs":[
    
   ],
   "metadata":{
    "datalore":{
     "node_id":"CzvDsjT9uMxO5Yyj39p9gU",
     "type":"CODE",
     "hide_input_from_viewers":false,
     "hide_output_from_viewers":false,
     "report_properties":{
      "rowId":"u1i7ROjzzsAMUhSXY8hMsj",
      "relativeY":0
     }
    }
   }
  },
  {
   "cell_type":"code",
   "source":[
    "max_debtdata"
   ],
   "execution_count":30,
   "outputs":[
    {
     "data":{
      "text\/html":[
       "<div>\n",
       "<style scoped>\n",
       "    .dataframe tbody tr th:only-of-type {\n",
       "        vertical-align: middle;\n",
       "    }\n",
       "\n",
       "    .dataframe tbody tr th {\n",
       "        vertical-align: top;\n",
       "    }\n",
       "\n",
       "    .dataframe thead th {\n",
       "        text-align: right;\n",
       "    }\n",
       "<\/style>\n",
       "<table border=\"1\" class=\"dataframe\">\n",
       "  <thead>\n",
       "    <tr style=\"text-align: right;\">\n",
       "      <th><\/th>\n",
       "      <th>Country Name<\/th>\n",
       "      <th>Country Code<\/th>\n",
       "      <th>Year<\/th>\n",
       "      <th>Debt to GDP Ratio<\/th>\n",
       "    <\/tr>\n",
       "  <\/thead>\n",
       "  <tbody>\n",
       "    <tr>\n",
       "      <th>138<\/th>\n",
       "      <td>United Kingdom<\/td>\n",
       "      <td>112<\/td>\n",
       "      <td>1800<\/td>\n",
       "      <td>176.840000<\/td>\n",
       "    <\/tr>\n",
       "    <tr>\n",
       "      <th>329<\/th>\n",
       "      <td>United Kingdom<\/td>\n",
       "      <td>112<\/td>\n",
       "      <td>1801<\/td>\n",
       "      <td>177.470000<\/td>\n",
       "    <\/tr>\n",
       "    <tr>\n",
       "      <th>520<\/th>\n",
       "      <td>United Kingdom<\/td>\n",
       "      <td>112<\/td>\n",
       "      <td>1802<\/td>\n",
       "      <td>188.990000<\/td>\n",
       "    <\/tr>\n",
       "    <tr>\n",
       "      <th>711<\/th>\n",
       "      <td>United Kingdom<\/td>\n",
       "      <td>112<\/td>\n",
       "      <td>1803<\/td>\n",
       "      <td>190.670000<\/td>\n",
       "    <\/tr>\n",
       "    <tr>\n",
       "      <th>902<\/th>\n",
       "      <td>United Kingdom<\/td>\n",
       "      <td>112<\/td>\n",
       "      <td>1804<\/td>\n",
       "      <td>188.400000<\/td>\n",
       "    <\/tr>\n",
       "    <tr>\n",
       "      <th>...<\/th>\n",
       "      <td>...<\/td>\n",
       "      <td>...<\/td>\n",
       "      <td>...<\/td>\n",
       "      <td>...<\/td>\n",
       "    <\/tr>\n",
       "    <tr>\n",
       "      <th>40413<\/th>\n",
       "      <td>Japan<\/td>\n",
       "      <td>158<\/td>\n",
       "      <td>2011<\/td>\n",
       "      <td>231.629355<\/td>\n",
       "    <\/tr>\n",
       "    <tr>\n",
       "      <th>40604<\/th>\n",
       "      <td>Japan<\/td>\n",
       "      <td>158<\/td>\n",
       "      <td>2012<\/td>\n",
       "      <td>238.014557<\/td>\n",
       "    <\/tr>\n",
       "    <tr>\n",
       "      <th>40795<\/th>\n",
       "      <td>Japan<\/td>\n",
       "      <td>158<\/td>\n",
       "      <td>2013<\/td>\n",
       "      <td>244.477406<\/td>\n",
       "    <\/tr>\n",
       "    <tr>\n",
       "      <th>40986<\/th>\n",
       "      <td>Japan<\/td>\n",
       "      <td>158<\/td>\n",
       "      <td>2014<\/td>\n",
       "      <td>249.113739<\/td>\n",
       "    <\/tr>\n",
       "    <tr>\n",
       "      <th>41177<\/th>\n",
       "      <td>Japan<\/td>\n",
       "      <td>158<\/td>\n",
       "      <td>2015<\/td>\n",
       "      <td>247.975864<\/td>\n",
       "    <\/tr>\n",
       "  <\/tbody>\n",
       "<\/table>\n",
       "<p>216 rows × 4 columns<\/p>\n",
       "<\/div>"
      ]
     },
     "metadata":{
      
     },
     "output_type":"display_data"
    }
   ],
   "metadata":{
    "datalore":{
     "node_id":"CyoWlUivmUlSI8Y51uTwGr",
     "type":"CODE",
     "hide_input_from_viewers":false,
     "hide_output_from_viewers":false,
     "report_properties":{
      "rowId":"K3krQX0SbgBzX33XHixj2a",
      "relativeY":0
     }
    }
   }
  },
  {
   "cell_type":"code",
   "source":[
    "min_debtdata"
   ],
   "execution_count":31,
   "outputs":[
    {
     "data":{
      "text\/html":[
       "<div>\n",
       "<style scoped>\n",
       "    .dataframe tbody tr th:only-of-type {\n",
       "        vertical-align: middle;\n",
       "    }\n",
       "\n",
       "    .dataframe tbody tr th {\n",
       "        vertical-align: top;\n",
       "    }\n",
       "\n",
       "    .dataframe thead th {\n",
       "        text-align: right;\n",
       "    }\n",
       "<\/style>\n",
       "<table border=\"1\" class=\"dataframe\">\n",
       "  <thead>\n",
       "    <tr style=\"text-align: right;\">\n",
       "      <th><\/th>\n",
       "      <th>Country Name<\/th>\n",
       "      <th>Country Code<\/th>\n",
       "      <th>Year<\/th>\n",
       "      <th>Debt to GDP Ratio<\/th>\n",
       "    <\/tr>\n",
       "  <\/thead>\n",
       "  <tbody>\n",
       "    <tr>\n",
       "      <th>139<\/th>\n",
       "      <td>United States<\/td>\n",
       "      <td>111<\/td>\n",
       "      <td>1800<\/td>\n",
       "      <td>18.082789<\/td>\n",
       "    <\/tr>\n",
       "    <tr>\n",
       "      <th>330<\/th>\n",
       "      <td>United States<\/td>\n",
       "      <td>111<\/td>\n",
       "      <td>1801<\/td>\n",
       "      <td>15.719697<\/td>\n",
       "    <\/tr>\n",
       "    <tr>\n",
       "      <th>521<\/th>\n",
       "      <td>United States<\/td>\n",
       "      <td>111<\/td>\n",
       "      <td>1802<\/td>\n",
       "      <td>16.469388<\/td>\n",
       "    <\/tr>\n",
       "    <tr>\n",
       "      <th>712<\/th>\n",
       "      <td>United States<\/td>\n",
       "      <td>111<\/td>\n",
       "      <td>1803<\/td>\n",
       "      <td>15.799180<\/td>\n",
       "    <\/tr>\n",
       "    <tr>\n",
       "      <th>903<\/th>\n",
       "      <td>United States<\/td>\n",
       "      <td>111<\/td>\n",
       "      <td>1804<\/td>\n",
       "      <td>16.179775<\/td>\n",
       "    <\/tr>\n",
       "    <tr>\n",
       "      <th>...<\/th>\n",
       "      <td>...<\/td>\n",
       "      <td>...<\/td>\n",
       "      <td>...<\/td>\n",
       "      <td>...<\/td>\n",
       "    <\/tr>\n",
       "    <tr>\n",
       "      <th>40389<\/th>\n",
       "      <td>Hong Kong SAR<\/td>\n",
       "      <td>532<\/td>\n",
       "      <td>2011<\/td>\n",
       "      <td>0.581567<\/td>\n",
       "    <\/tr>\n",
       "    <tr>\n",
       "      <th>40580<\/th>\n",
       "      <td>Hong Kong SAR<\/td>\n",
       "      <td>532<\/td>\n",
       "      <td>2012<\/td>\n",
       "      <td>0.552267<\/td>\n",
       "    <\/tr>\n",
       "    <tr>\n",
       "      <th>40771<\/th>\n",
       "      <td>Hong Kong SAR<\/td>\n",
       "      <td>532<\/td>\n",
       "      <td>2013<\/td>\n",
       "      <td>0.526190<\/td>\n",
       "    <\/tr>\n",
       "    <tr>\n",
       "      <th>40962<\/th>\n",
       "      <td>Hong Kong SAR<\/td>\n",
       "      <td>532<\/td>\n",
       "      <td>2014<\/td>\n",
       "      <td>0.066424<\/td>\n",
       "    <\/tr>\n",
       "    <tr>\n",
       "      <th>41153<\/th>\n",
       "      <td>Hong Kong SAR<\/td>\n",
       "      <td>532<\/td>\n",
       "      <td>2015<\/td>\n",
       "      <td>0.062575<\/td>\n",
       "    <\/tr>\n",
       "  <\/tbody>\n",
       "<\/table>\n",
       "<p>216 rows × 4 columns<\/p>\n",
       "<\/div>"
      ]
     },
     "metadata":{
      
     },
     "output_type":"display_data"
    }
   ],
   "metadata":{
    "datalore":{
     "node_id":"tj5RbMduRC5ugg5f5bHpla",
     "type":"CODE",
     "hide_input_from_viewers":false,
     "hide_output_from_viewers":false,
     "report_properties":{
      "rowId":"NY27cTkDuF99uEjL6Zm47f",
      "relativeY":0
     }
    }
   }
  },
  {
   "cell_type":"markdown",
   "source":[
    "Creating some visualizations of our data"
   ],
   "attachments":{
    
   },
   "metadata":{
    "datalore":{
     "node_id":"NnAuyJn2rsEue7181N8JgW",
     "type":"MD",
     "hide_input_from_viewers":true,
     "hide_output_from_viewers":true
    }
   }
  },
  {
   "cell_type":"code",
   "source":[
    "# Create the interactive subplots\n",
    "fig = make_subplots(rows=2, cols=1, shared_xaxes=True, \n",
    "                    subplot_titles=(\"Country with highest debt-to-GDP ratio\", \n",
    "                                    \"Country with lowest debt-to-GDP ratio\"))\n",
    "\n",
    "# Add the scatter plots for the highest and lowest ratios\n",
    "fig.add_trace(go.Scatter(x=max_debtdata['Year'], y=max_debtdata['Debt to GDP Ratio'], \n",
    "                         mode='markers', marker=dict(size=10, color='red'), \n",
    "                         hovertext=max_debtdata['Country Name'], name='Highest'), row=1, col=1)\n",
    "fig.add_trace(go.Scatter(x=min_debtdata['Year'], y=min_debtdata['Debt to GDP Ratio'], \n",
    "                         mode='markers', marker=dict(size=10, color='blue'), \n",
    "                         hovertext=min_debtdata['Country Name'], name='Lowest'), row=2, col=1)\n",
    "\n",
    "# Update the axis and layout properties\n",
    "fig.update_layout(height=900, title_text=\"Debt-to-GDP Ratio by Country and Year\", \n",
    "                  xaxis=dict(title=\"Year\"), yaxis=dict(title=\"Debt to GDP Ratio\"))\n",
    "\n",
    "# Show the plot\n",
    "fig.show()"
   ],
   "execution_count":37,
   "outputs":[
    {
     "data":{
      "application\/vnd.plotly.v1+json":{
       "data":[
        {
         "hovertext":[
          "United Kingdom",
          "United Kingdom",
          "United Kingdom",
          "United Kingdom",
          "United Kingdom",
          "United Kingdom",
          "United Kingdom",
          "United Kingdom",
          "United Kingdom",
          "United Kingdom",
          "United Kingdom",
          "United Kingdom",
          "United Kingdom",
          "United Kingdom",
          "United Kingdom",
          "United Kingdom",
          "United Kingdom",
          "United Kingdom",
          "United Kingdom",
          "United Kingdom",
          "United Kingdom",
          "United Kingdom",
          "United Kingdom",
          "United Kingdom",
          "United Kingdom",
          "United Kingdom",
          "Netherlands",
          "Netherlands",
          "Netherlands",
          "Netherlands",
          "Netherlands",
          "Netherlands",
          "Netherlands",
          "Netherlands",
          "Netherlands",
          "Netherlands",
          "Netherlands",
          "Netherlands",
          "Netherlands",
          "Netherlands",
          "Netherlands",
          "Netherlands",
          "Netherlands",
          "Netherlands",
          "Netherlands",
          "Netherlands",
          "Netherlands",
          "Netherlands",
          "Netherlands",
          "Netherlands",
          "Netherlands",
          "Netherlands",
          "Netherlands",
          "Netherlands",
          "Netherlands",
          "Netherlands",
          "Netherlands",
          "Netherlands",
          "Netherlands",
          "Netherlands",
          "Netherlands",
          "Netherlands",
          "Netherlands",
          "Netherlands",
          "Netherlands",
          "Netherlands",
          "Netherlands",
          "Netherlands",
          "Netherlands",
          "Netherlands",
          "Netherlands",
          "Netherlands",
          "Italy",
          "Netherlands",
          "Netherlands",
          "Italy",
          "Italy",
          "Italy",
          "Italy",
          "Italy",
          "Spain",
          "Spain",
          "Spain",
          "Italy",
          "Brazil",
          "France",
          "New Zealand",
          "New Zealand",
          "New Zealand",
          "New Zealand",
          "Greece",
          "Greece",
          "Greece",
          "Greece",
          "Greece",
          "Greece",
          "Greece",
          "Greece",
          "Greece",
          "Greece",
          "Greece",
          "Greece",
          "Greece",
          "Greece",
          "Greece",
          "Greece",
          "Greece",
          "Australia",
          "Australia",
          "Australia",
          "Australia",
          "Australia",
          "Australia",
          "Australia",
          "New Zealand",
          "New Zealand",
          "New Zealand",
          "New Zealand",
          "New Zealand",
          "United Kingdom",
          "France",
          "France",
          "France",
          "France",
          "France",
          "France",
          "United Kingdom",
          "United Kingdom",
          "United Kingdom",
          "United Kingdom",
          "United Kingdom",
          "New Zealand",
          "New Zealand",
          "New Zealand",
          "New Zealand",
          "New Zealand",
          "New Zealand",
          "United Kingdom",
          "United Kingdom",
          "United Kingdom",
          "New Zealand",
          "Belgium",
          "United Kingdom",
          "Belgium",
          "Japan",
          "United Kingdom",
          "United Kingdom",
          "United Kingdom",
          "United Kingdom",
          "United Kingdom",
          "United Kingdom",
          "United Kingdom",
          "United Kingdom",
          "United Kingdom",
          "United Kingdom",
          "United Kingdom",
          "United Kingdom",
          "United Kingdom",
          "United Kingdom",
          "United Kingdom",
          "United Kingdom",
          "United Kingdom",
          "United Kingdom",
          "United Kingdom",
          "United Kingdom",
          "United Kingdom",
          "United Kingdom",
          "United Kingdom",
          "United Kingdom",
          "United Kingdom",
          "Grenada",
          "Guyana",
          "Guyana",
          "Guyana",
          "Guyana",
          "Guyana",
          "Guyana",
          "Guyana",
          "Guyana",
          "Guyana",
          "Guyana",
          "Guyana",
          "Guyana",
          "Guyana",
          "Guyana",
          "Guyana",
          "Guyana",
          "Guyana",
          "Nicaragua",
          "Guyana",
          "Nicaragua",
          "Guyana",
          "Guyana",
          "Guyana",
          "Guyana",
          "Guyana",
          "Guinea-Bissau",
          "Guinea-Bissau",
          "Guinea-Bissau",
          "São Tomé and Príncipe",
          "São Tomé and Príncipe",
          "São Tomé and Príncipe",
          "Liberia",
          "Liberia",
          "Liberia",
          "Liberia",
          "Liberia",
          "Japan",
          "Liberia",
          "Japan",
          "Japan",
          "Japan",
          "Japan",
          "Japan",
          "Japan",
          "Japan"
         ],
         "marker":{
          "color":"red",
          "size":10
         },
         "mode":"markers",
         "name":"Highest",
         "x":[
          "1800",
          "1801",
          "1802",
          "1803",
          "1804",
          "1805",
          "1806",
          "1807",
          "1808",
          "1809",
          "1810",
          "1811",
          "1812",
          "1813",
          "1814",
          "1815",
          "1816",
          "1817",
          "1818",
          "1819",
          "1820",
          "1821",
          "1822",
          "1823",
          "1824",
          "1825",
          "1826",
          "1827",
          "1828",
          "1829",
          "1830",
          "1831",
          "1832",
          "1833",
          "1834",
          "1835",
          "1836",
          "1837",
          "1838",
          "1839",
          "1840",
          "1841",
          "1842",
          "1843",
          "1844",
          "1845",
          "1846",
          "1847",
          "1848",
          "1849",
          "1850",
          "1851",
          "1852",
          "1853",
          "1854",
          "1855",
          "1856",
          "1857",
          "1858",
          "1859",
          "1860",
          "1861",
          "1862",
          "1863",
          "1864",
          "1865",
          "1866",
          "1867",
          "1868",
          "1869",
          "1870",
          "1871",
          "1872",
          "1873",
          "1874",
          "1875",
          "1876",
          "1877",
          "1878",
          "1879",
          "1880",
          "1881",
          "1882",
          "1883",
          "1884",
          "1885",
          "1886",
          "1887",
          "1888",
          "1889",
          "1890",
          "1891",
          "1892",
          "1893",
          "1894",
          "1895",
          "1896",
          "1897",
          "1898",
          "1899",
          "1900",
          "1901",
          "1902",
          "1903",
          "1904",
          "1905",
          "1906",
          "1907",
          "1908",
          "1909",
          "1910",
          "1911",
          "1912",
          "1913",
          "1914",
          "1915",
          "1916",
          "1917",
          "1918",
          "1919",
          "1920",
          "1921",
          "1922",
          "1923",
          "1924",
          "1925",
          "1926",
          "1927",
          "1928",
          "1929",
          "1930",
          "1931",
          "1932",
          "1933",
          "1934",
          "1935",
          "1936",
          "1937",
          "1938",
          "1939",
          "1940",
          "1941",
          "1942",
          "1943",
          "1944",
          "1945",
          "1946",
          "1947",
          "1948",
          "1949",
          "1950",
          "1951",
          "1952",
          "1953",
          "1954",
          "1955",
          "1956",
          "1957",
          "1958",
          "1959",
          "1960",
          "1961",
          "1962",
          "1963",
          "1964",
          "1965",
          "1966",
          "1967",
          "1968",
          "1969",
          "1970",
          "1971",
          "1972",
          "1973",
          "1974",
          "1975",
          "1976",
          "1977",
          "1978",
          "1979",
          "1980",
          "1981",
          "1982",
          "1983",
          "1984",
          "1985",
          "1986",
          "1987",
          "1988",
          "1989",
          "1990",
          "1991",
          "1992",
          "1993",
          "1994",
          "1995",
          "1996",
          "1997",
          "1998",
          "1999",
          "2000",
          "2001",
          "2002",
          "2003",
          "2004",
          "2005",
          "2006",
          "2007",
          "2008",
          "2009",
          "2010",
          "2011",
          "2012",
          "2013",
          "2014",
          "2015"
         ],
         "y":[
          176.84,
          177.47,
          188.99,
          190.67,
          188.4,
          189.07,
          192.64,
          193.88,
          191.51,
          188.99,
          186.69,
          182.51,
          188.11,
          196.74,
          219.62,
          226.31,
          237.32,
          231.09,
          259.04,
          260.29,
          259.95,
          260.34,
          246.73,
          237.29,
          224.8,
          212.72,
          208.339777185953,
          196.405457304131,
          203.994543985089,
          198.637441509805,
          210.480659129056,
          196.876286661649,
          198.788231564181,
          236.650187306277,
          246.75800172235,
          244.966140851841,
          223.14108517377,
          235.938252556559,
          223.787730360944,
          212.342858029419,
          216.307411868893,
          215.238307075674,
          222.258394168195,
          234.877681080087,
          243.884076887166,
          221.125351424896,
          189.364063128172,
          171.263086505626,
          200.54589175743,
          201.622166668472,
          200.903371065376,
          196.728307824507,
          188.493739800229,
          185.033166242593,
          158.320144743105,
          160.329270644291,
          145.32842486807,
          145.188795477717,
          156.147722833109,
          156.302755867707,
          139.994908047814,
          135.72416154771,
          121.604261815352,
          119.933942087283,
          113.503021246367,
          112.697340565298,
          103.972370932005,
          106.119927791305,
          106.35223714175,
          102.714401089734,
          100.100440836979,
          96.9406617793211,
          88.7552971223475,
          79.714405824939,
          81.6997808141287,
          89.7842641878406,
          101.305085911474,
          91.3649476294912,
          97.1508926870417,
          98.5786887144994,
          161.715899729316,
          149.132821075741,
          115.478028198004,
          116.33072534835,
          120.740740740741,
          112.571386191235,
          116.650786278992,
          123.061664632366,
          126.350396661034,
          129.865906493727,
          134.084302325581,
          144.154349284831,
          152.541573275862,
          161.583323328331,
          216.976076555024,
          193.261762040611,
          223.496057078483,
          190.707313532455,
          181.001969022903,
          190.688729508197,
          218.057921937116,
          205.452533333333,
          209.321863636364,
          194.541697450771,
          189.619928471466,
          164.127288401254,
          148.946037735849,
          123.191094619666,
          129.664179104478,
          124.607329842932,
          119.582664526485,
          121.783625730994,
          123.433242506812,
          120.074812967581,
          118.581315249793,
          106.012984892839,
          102.650605990079,
          116.515205826148,
          128.110242866405,
          142.766153896605,
          169.565093430499,
          237.034599825019,
          235.884371225166,
          216.821460513016,
          192.405931298553,
          197.186876121721,
          187.124844952779,
          177.452234818504,
          175.780389464689,
          170.523925722734,
          170.996993414215,
          190.180017601161,
          233.131210060211,
          246.562158678602,
          235.980653181059,
          205.065175023055,
          179.966591704317,
          158.69138808483,
          155.081206165607,
          149.68408125153,
          128.073270132135,
          173.445434782609,
          153.2039174871,
          225.143090909091,
          203.953562943774,
          234.686434092043,
          269.797596885853,
          264.124919999567,
          239.573393207971,
          220.273204903678,
          216.918159643368,
          196.762606318348,
          180.858201132155,
          169.75748093096,
          163.225628109835,
          154.185900005727,
          143.758842614755,
          135.734539969834,
          131.127649325626,
          124.87041430918,
          117.94435463286,
          113.751661363728,
          110.521263060493,
          108.554330823238,
          101.081081081081,
          94.6061548026111,
          91.9492942868042,
          89.1478508111724,
          88.5483411463055,
          82.8373963920039,
          136.449,
          113.976,
          127.15,
          145.291,
          126.316,
          176.771,
          234.276,
          272.19,
          264.419,
          299.836,
          318.93,
          357.502,
          509.327,
          598.304,
          610.2,
          664.519,
          717.723,
          615.248,
          629.186,
          602.456,
          2092.92,
          784.351,
          711.94,
          624.643,
          526.805,
          447.719,
          322.371,
          316.001,
          434.907,
          385.582,
          376.038,
          388.401,
          367.724,
          523.382,
          487.448,
          402.437,
          357.737,
          183.01235615289,
          309.660541177595,
          210.246836069046,
          215.821204619488,
          231.629354760934,
          238.014556574821,
          244.477405513901,
          249.113739092857,
          247.975864153389
         ],
         "type":"scatter",
         "xaxis":"x",
         "yaxis":"y"
        },
        {
         "hovertext":[
          "United States",
          "United States",
          "United States",
          "United States",
          "United States",
          "United States",
          "United States",
          "United States",
          "United States",
          "United States",
          "United States",
          "United States",
          "United States",
          "United States",
          "United States",
          "Sweden",
          "Sweden",
          "Sweden",
          "Sweden",
          "Sweden",
          "Sweden",
          "Sweden",
          "Sweden",
          "Sweden",
          "Sweden",
          "Sweden",
          "Sweden",
          "Sweden",
          "Sweden",
          "Sweden",
          "Sweden",
          "United States",
          "United States",
          "United States",
          "United States",
          "Sweden",
          "Sweden",
          "United States",
          "United States",
          "United States",
          "United States",
          "United States",
          "United States",
          "United States",
          "United States",
          "United States",
          "United States",
          "United States",
          "United States",
          "Sweden",
          "Sweden",
          "United States",
          "United States",
          "United States",
          "United States",
          "United States",
          "United States",
          "United States",
          "United States",
          "United States",
          "United States",
          "United States",
          "Sweden",
          "New Zealand",
          "Sweden",
          "Sweden",
          "Sweden",
          "Sweden",
          "Sweden",
          "Sweden",
          "Sweden",
          "Sweden",
          "Sweden",
          "Sweden",
          "Sweden",
          "Sweden",
          "Japan",
          "Sweden",
          "Sweden",
          "Sweden",
          "Norway",
          "Norway",
          "United States",
          "United States",
          "United States",
          "United States",
          "United States",
          "United States",
          "United States",
          "United States",
          "United States",
          "United States",
          "United States",
          "United States",
          "United States",
          "United States",
          "United States",
          "United States",
          "United States",
          "Switzerland",
          "Switzerland",
          "Switzerland",
          "Switzerland",
          "Switzerland",
          "Switzerland",
          "Switzerland",
          "Switzerland",
          "Switzerland",
          "Switzerland",
          "Switzerland",
          "Switzerland",
          "Switzerland",
          "Switzerland",
          "Switzerland",
          "United States",
          "United States",
          "United States",
          "United States",
          "Peru",
          "Peru",
          "Peru",
          "Peru",
          "Peru",
          "Peru",
          "Peru",
          "Germany",
          "Venezuela",
          "Venezuela",
          "Venezuela",
          "Venezuela",
          "Venezuela",
          "Venezuela",
          "Venezuela",
          "Venezuela",
          "Venezuela",
          "Venezuela",
          "Venezuela",
          "Venezuela",
          "Venezuela",
          "Venezuela",
          "Venezuela",
          "Venezuela",
          "Venezuela",
          "Venezuela",
          "Venezuela",
          "Venezuela",
          "Venezuela",
          "Mexico",
          "Mexico",
          "Mexico",
          "Mexico",
          "Venezuela",
          "Venezuela",
          "Venezuela",
          "Honduras",
          "Venezuela",
          "Venezuela",
          "Venezuela",
          "Venezuela",
          "El Salvador",
          "El Salvador",
          "El Salvador",
          "Japan",
          "Japan",
          "Burundi",
          "Burundi",
          "Korea",
          "Korea",
          "Korea",
          "Korea",
          "Nepal",
          "Kuwait",
          "Kuwait",
          "Kuwait",
          "Kuwait",
          "Kuwait",
          "Kuwait",
          "Kuwait",
          "Kuwait",
          "Kuwait",
          "Kuwait",
          "Kuwait",
          "Bhutan",
          "Bhutan",
          "China",
          "China",
          "China",
          "China",
          "Kiribati",
          "Luxembourg",
          "Romania",
          "Romania",
          "Luxembourg",
          "Luxembourg",
          "Luxembourg",
          "Korea",
          "United Arab Emirates",
          "United Arab Emirates",
          "Estonia",
          "United Arab Emirates",
          "United Arab Emirates",
          "United Arab Emirates",
          "Brunei Darussalam",
          "Brunei Darussalam",
          "Brunei Darussalam",
          "Brunei Darussalam",
          "Brunei Darussalam",
          "Brunei Darussalam",
          "Equatorial Guinea",
          "Hong Kong SAR",
          "Hong Kong SAR",
          "Hong Kong SAR",
          "Hong Kong SAR",
          "Hong Kong SAR",
          "Hong Kong SAR",
          "Hong Kong SAR"
         ],
         "marker":{
          "color":"blue",
          "size":10
         },
         "mode":"markers",
         "name":"Lowest",
         "x":[
          "1800",
          "1801",
          "1802",
          "1803",
          "1804",
          "1805",
          "1806",
          "1807",
          "1808",
          "1809",
          "1810",
          "1811",
          "1812",
          "1813",
          "1814",
          "1815",
          "1816",
          "1817",
          "1818",
          "1819",
          "1820",
          "1821",
          "1822",
          "1823",
          "1824",
          "1825",
          "1826",
          "1827",
          "1828",
          "1829",
          "1830",
          "1831",
          "1832",
          "1833",
          "1834",
          "1835",
          "1836",
          "1837",
          "1838",
          "1839",
          "1840",
          "1841",
          "1842",
          "1843",
          "1844",
          "1845",
          "1846",
          "1847",
          "1848",
          "1849",
          "1850",
          "1851",
          "1852",
          "1853",
          "1854",
          "1855",
          "1856",
          "1857",
          "1858",
          "1859",
          "1860",
          "1861",
          "1862",
          "1863",
          "1864",
          "1865",
          "1866",
          "1867",
          "1868",
          "1869",
          "1870",
          "1871",
          "1872",
          "1873",
          "1874",
          "1875",
          "1876",
          "1877",
          "1878",
          "1879",
          "1880",
          "1881",
          "1882",
          "1883",
          "1884",
          "1885",
          "1886",
          "1887",
          "1888",
          "1889",
          "1890",
          "1891",
          "1892",
          "1893",
          "1894",
          "1895",
          "1896",
          "1897",
          "1898",
          "1899",
          "1900",
          "1901",
          "1902",
          "1903",
          "1904",
          "1905",
          "1906",
          "1907",
          "1908",
          "1909",
          "1910",
          "1911",
          "1912",
          "1913",
          "1914",
          "1915",
          "1916",
          "1917",
          "1918",
          "1919",
          "1920",
          "1921",
          "1922",
          "1923",
          "1924",
          "1925",
          "1926",
          "1927",
          "1928",
          "1929",
          "1930",
          "1931",
          "1932",
          "1933",
          "1934",
          "1935",
          "1936",
          "1937",
          "1938",
          "1939",
          "1940",
          "1941",
          "1942",
          "1943",
          "1944",
          "1945",
          "1946",
          "1947",
          "1948",
          "1949",
          "1950",
          "1951",
          "1952",
          "1953",
          "1954",
          "1955",
          "1956",
          "1957",
          "1958",
          "1959",
          "1960",
          "1961",
          "1962",
          "1963",
          "1964",
          "1965",
          "1966",
          "1967",
          "1968",
          "1969",
          "1970",
          "1971",
          "1972",
          "1973",
          "1974",
          "1975",
          "1976",
          "1977",
          "1978",
          "1979",
          "1980",
          "1981",
          "1982",
          "1983",
          "1984",
          "1985",
          "1986",
          "1987",
          "1988",
          "1989",
          "1990",
          "1991",
          "1992",
          "1993",
          "1994",
          "1995",
          "1996",
          "1997",
          "1998",
          "1999",
          "2000",
          "2001",
          "2002",
          "2003",
          "2004",
          "2005",
          "2006",
          "2007",
          "2008",
          "2009",
          "2010",
          "2011",
          "2012",
          "2013",
          "2014",
          "2015"
         ],
         "y":[
          18.082788671024,
          15.719696969697,
          16.469387755102,
          15.7991803278689,
          16.1797752808989,
          13.902027027027,
          12.4302134646962,
          12.2695035460993,
          14.1431670281996,
          11.3545816733068,
          9.89795918367347,
          8.27586206896552,
          7.94376098418278,
          8.98876404494382,
          11.6262482168331,
          11.4850975265784,
          10.9284605088847,
          10.343874027664,
          9.37994111154505,
          8.9449292210627,
          9.04109955537111,
          9.20667364128628,
          9.20179393867658,
          6.80148817858371,
          6.54067502102378,
          6.2659130606581,
          5.77834601863043,
          5.2598709737398,
          5.44410092799238,
          3.43075734185178,
          3.86204097931686,
          3.64398881640261,
          2.1038961038961,
          0.539291217257319,
          0.360090022505626,
          3.86540659942189,
          3.58155714952838,
          0.0218579234972678,
          0.187713310580205,
          0.538302277432712,
          0.208092485549133,
          0.303899082568807,
          0.81437125748503,
          1.99877750611247,
          1.2954796030871,
          0.812883435582822,
          0.756547041707081,
          1.66167023554604,
          1.98061525495154,
          2.65648111854498,
          2.35883119498736,
          2.52029520295203,
          2.19602559784439,
          1.74293208976975,
          1.08734862148931,
          0.87988136431043,
          0.762631077216397,
          0.664967562557924,
          1.10373647984267,
          1.36459062281316,
          1.44481605351171,
          1.93962748876044,
          6.46362112050083,
          5.66687591972628,
          8.22598787860632,
          9.4246321176386,
          11.0548844193425,
          11.5582258767542,
          13.307512960427,
          13.1229022455921,
          12.6682996420206,
          12.3497743994168,
          10.9680347244189,
          9.24543972007342,
          9.26227566901462,
          10.3148859574752,
          10.1749056603774,
          12.9181124485195,
          16.6977900129164,
          17.5384522604321,
          15.77375,
          15.5366711772666,
          13.8100550349546,
          13.7693906924676,
          13.2938000981515,
          12.9542097488922,
          11.5906720309939,
          10.5904032374621,
          10.1369060692584,
          8.58821912158911,
          7.7337559429477,
          6.46401028277635,
          6.17750271166975,
          6.32375189107413,
          7.46458195698451,
          7.08774877229258,
          7.99463842029554,
          7.704094448631,
          7.43486127864898,
          3.5574728960885,
          3.6273307299843,
          3.40724849537037,
          3.33425946745562,
          4.09367914364641,
          3.46650708929789,
          3.3030500322165,
          3.03816551100392,
          2.68859784975504,
          2.92109839110473,
          3.44862530769231,
          3.17092034029389,
          2.89505428226779,
          2.8353177996637,
          2.70332717190388,
          3.46666666666667,
          3.30723744482385,
          2.74108381438224,
          5.71670092793606,
          5.98220396988364,
          5.28460543337646,
          4.34673366834171,
          5.4171562867215,
          5.86538461538462,
          6.73109721432632,
          6.75050301810865,
          4.16966115285243,
          4.39576311988445,
          4.215,
          3.63378952336008,
          2.58682634730539,
          2.0545746388443,
          1.43400325909832,
          1.23606889564336,
          1.31382673551348,
          1.20976692563818,
          1.03448275862069,
          0.15291936978684,
          0.133166874739908,
          0.118637581324148,
          0.117025292563231,
          0.114857354575769,
          0.0401167031363968,
          0.0428348909657321,
          0.295478818084728,
          0.700139470013947,
          0.568731291733825,
          0.421449374678773,
          0.0722044934403507,
          0.0785474759070723,
          0.0801749271137026,
          0.0782676754500392,
          0.113076923076923,
          0.05,
          0.326666666666667,
          2.7734375,
          0.196111111111111,
          0.1535,
          0.111666666666667,
          0.0912,
          3.22081575246132,
          2.83464566929134,
          2.53380782918149,
          5.73548063487514,
          4.51630662711696,
          3.80698474667135,
          5.1641964872275,
          4.44352311280443,
          3.73691278415848,
          2.75670782669802,
          2.63123619963453,
          1.77686,
          0.003909,
          0.024819,
          0.064069,
          0.114924,
          0.176803,
          0.318607,
          0.367066,
          0.472743,
          0.513835,
          0.610515,
          2.5103,
          1.72206654126037,
          3.49347671176673,
          0.971136206213822,
          3.30522164264305,
          3.24081931183361,
          3.59908671730818,
          2.18359197016196,
          4.001738,
          1.02666,
          2.69522,
          4.79464129753026,
          5.98873288361159,
          5.495422486518,
          7.10565,
          5.89801,
          4.84277,
          5.45302318463924,
          4.81531495501266,
          3.09265776465136,
          2.68968848289814,
          1.96071,
          0.98344,
          0.406748,
          0.318164,
          0.98404,
          0.694768,
          0.47440794553359,
          0.678019219584811,
          0.633327553632992,
          0.58156666304803,
          0.552266772832795,
          0.526190242328146,
          0.0664241447337831,
          0.0625749856911866
         ],
         "type":"scatter",
         "xaxis":"x2",
         "yaxis":"y2"
        }
       ],
       "layout":{
        "template":{
         "data":{
          "bar":[
           {
            "error_x":{
             "color":"#2a3f5f"
            },
            "error_y":{
             "color":"#2a3f5f"
            },
            "marker":{
             "line":{
              "color":"#E5ECF6",
              "width":0.5
             },
             "pattern":{
              "fillmode":"overlay",
              "size":10,
              "solidity":0.2
             }
            },
            "type":"bar"
           }
          ],
          "barpolar":[
           {
            "marker":{
             "line":{
              "color":"#E5ECF6",
              "width":0.5
             },
             "pattern":{
              "fillmode":"overlay",
              "size":10,
              "solidity":0.2
             }
            },
            "type":"barpolar"
           }
          ],
          "carpet":[
           {
            "aaxis":{
             "endlinecolor":"#2a3f5f",
             "gridcolor":"white",
             "linecolor":"white",
             "minorgridcolor":"white",
             "startlinecolor":"#2a3f5f"
            },
            "baxis":{
             "endlinecolor":"#2a3f5f",
             "gridcolor":"white",
             "linecolor":"white",
             "minorgridcolor":"white",
             "startlinecolor":"#2a3f5f"
            },
            "type":"carpet"
           }
          ],
          "choropleth":[
           {
            "colorbar":{
             "outlinewidth":0,
             "ticks":""
            },
            "type":"choropleth"
           }
          ],
          "contour":[
           {
            "colorbar":{
             "outlinewidth":0,
             "ticks":""
            },
            "colorscale":[
             [
              0,
              "#0d0887"
             ],
             [
              0.1111111111111111,
              "#46039f"
             ],
             [
              0.2222222222222222,
              "#7201a8"
             ],
             [
              0.3333333333333333,
              "#9c179e"
             ],
             [
              0.4444444444444444,
              "#bd3786"
             ],
             [
              0.5555555555555556,
              "#d8576b"
             ],
             [
              0.6666666666666666,
              "#ed7953"
             ],
             [
              0.7777777777777778,
              "#fb9f3a"
             ],
             [
              0.8888888888888888,
              "#fdca26"
             ],
             [
              1,
              "#f0f921"
             ]
            ],
            "type":"contour"
           }
          ],
          "contourcarpet":[
           {
            "colorbar":{
             "outlinewidth":0,
             "ticks":""
            },
            "type":"contourcarpet"
           }
          ],
          "heatmap":[
           {
            "colorbar":{
             "outlinewidth":0,
             "ticks":""
            },
            "colorscale":[
             [
              0,
              "#0d0887"
             ],
             [
              0.1111111111111111,
              "#46039f"
             ],
             [
              0.2222222222222222,
              "#7201a8"
             ],
             [
              0.3333333333333333,
              "#9c179e"
             ],
             [
              0.4444444444444444,
              "#bd3786"
             ],
             [
              0.5555555555555556,
              "#d8576b"
             ],
             [
              0.6666666666666666,
              "#ed7953"
             ],
             [
              0.7777777777777778,
              "#fb9f3a"
             ],
             [
              0.8888888888888888,
              "#fdca26"
             ],
             [
              1,
              "#f0f921"
             ]
            ],
            "type":"heatmap"
           }
          ],
          "heatmapgl":[
           {
            "colorbar":{
             "outlinewidth":0,
             "ticks":""
            },
            "colorscale":[
             [
              0,
              "#0d0887"
             ],
             [
              0.1111111111111111,
              "#46039f"
             ],
             [
              0.2222222222222222,
              "#7201a8"
             ],
             [
              0.3333333333333333,
              "#9c179e"
             ],
             [
              0.4444444444444444,
              "#bd3786"
             ],
             [
              0.5555555555555556,
              "#d8576b"
             ],
             [
              0.6666666666666666,
              "#ed7953"
             ],
             [
              0.7777777777777778,
              "#fb9f3a"
             ],
             [
              0.8888888888888888,
              "#fdca26"
             ],
             [
              1,
              "#f0f921"
             ]
            ],
            "type":"heatmapgl"
           }
          ],
          "histogram":[
           {
            "marker":{
             "pattern":{
              "fillmode":"overlay",
              "size":10,
              "solidity":0.2
             }
            },
            "type":"histogram"
           }
          ],
          "histogram2d":[
           {
            "colorbar":{
             "outlinewidth":0,
             "ticks":""
            },
            "colorscale":[
             [
              0,
              "#0d0887"
             ],
             [
              0.1111111111111111,
              "#46039f"
             ],
             [
              0.2222222222222222,
              "#7201a8"
             ],
             [
              0.3333333333333333,
              "#9c179e"
             ],
             [
              0.4444444444444444,
              "#bd3786"
             ],
             [
              0.5555555555555556,
              "#d8576b"
             ],
             [
              0.6666666666666666,
              "#ed7953"
             ],
             [
              0.7777777777777778,
              "#fb9f3a"
             ],
             [
              0.8888888888888888,
              "#fdca26"
             ],
             [
              1,
              "#f0f921"
             ]
            ],
            "type":"histogram2d"
           }
          ],
          "histogram2dcontour":[
           {
            "colorbar":{
             "outlinewidth":0,
             "ticks":""
            },
            "colorscale":[
             [
              0,
              "#0d0887"
             ],
             [
              0.1111111111111111,
              "#46039f"
             ],
             [
              0.2222222222222222,
              "#7201a8"
             ],
             [
              0.3333333333333333,
              "#9c179e"
             ],
             [
              0.4444444444444444,
              "#bd3786"
             ],
             [
              0.5555555555555556,
              "#d8576b"
             ],
             [
              0.6666666666666666,
              "#ed7953"
             ],
             [
              0.7777777777777778,
              "#fb9f3a"
             ],
             [
              0.8888888888888888,
              "#fdca26"
             ],
             [
              1,
              "#f0f921"
             ]
            ],
            "type":"histogram2dcontour"
           }
          ],
          "mesh3d":[
           {
            "colorbar":{
             "outlinewidth":0,
             "ticks":""
            },
            "type":"mesh3d"
           }
          ],
          "parcoords":[
           {
            "line":{
             "colorbar":{
              "outlinewidth":0,
              "ticks":""
             }
            },
            "type":"parcoords"
           }
          ],
          "pie":[
           {
            "automargin":true,
            "type":"pie"
           }
          ],
          "scatter":[
           {
            "marker":{
             "colorbar":{
              "outlinewidth":0,
              "ticks":""
             }
            },
            "type":"scatter"
           }
          ],
          "scatter3d":[
           {
            "line":{
             "colorbar":{
              "outlinewidth":0,
              "ticks":""
             }
            },
            "marker":{
             "colorbar":{
              "outlinewidth":0,
              "ticks":""
             }
            },
            "type":"scatter3d"
           }
          ],
          "scattercarpet":[
           {
            "marker":{
             "colorbar":{
              "outlinewidth":0,
              "ticks":""
             }
            },
            "type":"scattercarpet"
           }
          ],
          "scattergeo":[
           {
            "marker":{
             "colorbar":{
              "outlinewidth":0,
              "ticks":""
             }
            },
            "type":"scattergeo"
           }
          ],
          "scattergl":[
           {
            "marker":{
             "colorbar":{
              "outlinewidth":0,
              "ticks":""
             }
            },
            "type":"scattergl"
           }
          ],
          "scattermapbox":[
           {
            "marker":{
             "colorbar":{
              "outlinewidth":0,
              "ticks":""
             }
            },
            "type":"scattermapbox"
           }
          ],
          "scatterpolar":[
           {
            "marker":{
             "colorbar":{
              "outlinewidth":0,
              "ticks":""
             }
            },
            "type":"scatterpolar"
           }
          ],
          "scatterpolargl":[
           {
            "marker":{
             "colorbar":{
              "outlinewidth":0,
              "ticks":""
             }
            },
            "type":"scatterpolargl"
           }
          ],
          "scatterternary":[
           {
            "marker":{
             "colorbar":{
              "outlinewidth":0,
              "ticks":""
             }
            },
            "type":"scatterternary"
           }
          ],
          "surface":[
           {
            "colorbar":{
             "outlinewidth":0,
             "ticks":""
            },
            "colorscale":[
             [
              0,
              "#0d0887"
             ],
             [
              0.1111111111111111,
              "#46039f"
             ],
             [
              0.2222222222222222,
              "#7201a8"
             ],
             [
              0.3333333333333333,
              "#9c179e"
             ],
             [
              0.4444444444444444,
              "#bd3786"
             ],
             [
              0.5555555555555556,
              "#d8576b"
             ],
             [
              0.6666666666666666,
              "#ed7953"
             ],
             [
              0.7777777777777778,
              "#fb9f3a"
             ],
             [
              0.8888888888888888,
              "#fdca26"
             ],
             [
              1,
              "#f0f921"
             ]
            ],
            "type":"surface"
           }
          ],
          "table":[
           {
            "cells":{
             "fill":{
              "color":"#EBF0F8"
             },
             "line":{
              "color":"white"
             }
            },
            "header":{
             "fill":{
              "color":"#C8D4E3"
             },
             "line":{
              "color":"white"
             }
            },
            "type":"table"
           }
          ]
         },
         "layout":{
          "annotationdefaults":{
           "arrowcolor":"#2a3f5f",
           "arrowhead":0,
           "arrowwidth":1
          },
          "autotypenumbers":"strict",
          "coloraxis":{
           "colorbar":{
            "outlinewidth":0,
            "ticks":""
           }
          },
          "colorscale":{
           "diverging":[
            [
             0,
             "#8e0152"
            ],
            [
             0.1,
             "#c51b7d"
            ],
            [
             0.2,
             "#de77ae"
            ],
            [
             0.3,
             "#f1b6da"
            ],
            [
             0.4,
             "#fde0ef"
            ],
            [
             0.5,
             "#f7f7f7"
            ],
            [
             0.6,
             "#e6f5d0"
            ],
            [
             0.7,
             "#b8e186"
            ],
            [
             0.8,
             "#7fbc41"
            ],
            [
             0.9,
             "#4d9221"
            ],
            [
             1,
             "#276419"
            ]
           ],
           "sequential":[
            [
             0,
             "#0d0887"
            ],
            [
             0.1111111111111111,
             "#46039f"
            ],
            [
             0.2222222222222222,
             "#7201a8"
            ],
            [
             0.3333333333333333,
             "#9c179e"
            ],
            [
             0.4444444444444444,
             "#bd3786"
            ],
            [
             0.5555555555555556,
             "#d8576b"
            ],
            [
             0.6666666666666666,
             "#ed7953"
            ],
            [
             0.7777777777777778,
             "#fb9f3a"
            ],
            [
             0.8888888888888888,
             "#fdca26"
            ],
            [
             1,
             "#f0f921"
            ]
           ],
           "sequentialminus":[
            [
             0,
             "#0d0887"
            ],
            [
             0.1111111111111111,
             "#46039f"
            ],
            [
             0.2222222222222222,
             "#7201a8"
            ],
            [
             0.3333333333333333,
             "#9c179e"
            ],
            [
             0.4444444444444444,
             "#bd3786"
            ],
            [
             0.5555555555555556,
             "#d8576b"
            ],
            [
             0.6666666666666666,
             "#ed7953"
            ],
            [
             0.7777777777777778,
             "#fb9f3a"
            ],
            [
             0.8888888888888888,
             "#fdca26"
            ],
            [
             1,
             "#f0f921"
            ]
           ]
          },
          "colorway":[
           "#636efa",
           "#EF553B",
           "#00cc96",
           "#ab63fa",
           "#FFA15A",
           "#19d3f3",
           "#FF6692",
           "#B6E880",
           "#FF97FF",
           "#FECB52"
          ],
          "font":{
           "color":"#2a3f5f"
          },
          "geo":{
           "bgcolor":"white",
           "lakecolor":"white",
           "landcolor":"#E5ECF6",
           "showlakes":true,
           "showland":true,
           "subunitcolor":"white"
          },
          "hoverlabel":{
           "align":"left"
          },
          "hovermode":"closest",
          "mapbox":{
           "style":"light"
          },
          "paper_bgcolor":"white",
          "plot_bgcolor":"#E5ECF6",
          "polar":{
           "angularaxis":{
            "gridcolor":"white",
            "linecolor":"white",
            "ticks":""
           },
           "bgcolor":"#E5ECF6",
           "radialaxis":{
            "gridcolor":"white",
            "linecolor":"white",
            "ticks":""
           }
          },
          "scene":{
           "xaxis":{
            "backgroundcolor":"#E5ECF6",
            "gridcolor":"white",
            "gridwidth":2,
            "linecolor":"white",
            "showbackground":true,
            "ticks":"",
            "zerolinecolor":"white"
           },
           "yaxis":{
            "backgroundcolor":"#E5ECF6",
            "gridcolor":"white",
            "gridwidth":2,
            "linecolor":"white",
            "showbackground":true,
            "ticks":"",
            "zerolinecolor":"white"
           },
           "zaxis":{
            "backgroundcolor":"#E5ECF6",
            "gridcolor":"white",
            "gridwidth":2,
            "linecolor":"white",
            "showbackground":true,
            "ticks":"",
            "zerolinecolor":"white"
           }
          },
          "shapedefaults":{
           "line":{
            "color":"#2a3f5f"
           }
          },
          "ternary":{
           "aaxis":{
            "gridcolor":"white",
            "linecolor":"white",
            "ticks":""
           },
           "baxis":{
            "gridcolor":"white",
            "linecolor":"white",
            "ticks":""
           },
           "bgcolor":"#E5ECF6",
           "caxis":{
            "gridcolor":"white",
            "linecolor":"white",
            "ticks":""
           }
          },
          "title":{
           "x":0.05
          },
          "xaxis":{
           "automargin":true,
           "gridcolor":"white",
           "linecolor":"white",
           "ticks":"",
           "title":{
            "standoff":15
           },
           "zerolinecolor":"white",
           "zerolinewidth":2
          },
          "yaxis":{
           "automargin":true,
           "gridcolor":"white",
           "linecolor":"white",
           "ticks":"",
           "title":{
            "standoff":15
           },
           "zerolinecolor":"white",
           "zerolinewidth":2
          }
         }
        },
        "xaxis":{
         "anchor":"y",
         "domain":[
          0,
          1
         ],
         "matches":"x2",
         "showticklabels":false,
         "title":{
          "text":"Year"
         }
        },
        "yaxis":{
         "anchor":"x",
         "domain":[
          0.625,
          1
         ],
         "title":{
          "text":"Debt to GDP Ratio"
         }
        },
        "xaxis2":{
         "anchor":"y2",
         "domain":[
          0,
          1
         ]
        },
        "yaxis2":{
         "anchor":"x2",
         "domain":[
          0,
          0.375
         ]
        },
        "annotations":[
         {
          "font":{
           "size":16
          },
          "showarrow":false,
          "text":"Country with highest debt-to-GDP ratio",
          "x":0.5,
          "xanchor":"center",
          "xref":"paper",
          "y":1,
          "yanchor":"bottom",
          "yref":"paper"
         },
         {
          "font":{
           "size":16
          },
          "showarrow":false,
          "text":"Country with lowest debt-to-GDP ratio",
          "x":0.5,
          "xanchor":"center",
          "xref":"paper",
          "y":0.375,
          "yanchor":"bottom",
          "yref":"paper"
         }
        ],
        "title":{
         "text":"Debt-to-GDP Ratio by Country and Year"
        },
        "height":900
       },
       "config":{
        "plotlyServerURL":"https:\/\/plot.ly"
       }
      }
     },
     "metadata":{
      
     },
     "output_type":"display_data"
    }
   ],
   "metadata":{
    "datalore":{
     "node_id":"u4QMUgWvFw9OlrRPKfhXCd",
     "type":"CODE",
     "hide_input_from_viewers":false,
     "hide_output_from_viewers":false,
     "report_properties":{
      "rowId":"34suNBMT2jnd4kvEtyaTsF",
      "relativeY":0
     }
    }
   }
  },
  {
   "cell_type":"markdown",
   "source":[
    "We have a lot of countries, i'll find the G20 countries and do some some data visualization"
   ],
   "attachments":{
    
   },
   "metadata":{
    "datalore":{
     "node_id":"DrwWS9CL587Z7FCTW2QpjN",
     "type":"MD",
     "hide_input_from_viewers":true,
     "hide_output_from_viewers":true
    }
   }
  },
  {
   "cell_type":"code",
   "source":[
    "G20 = debtdata[debtdata[\"Country Name\"].isin([\"Argentina\",\"Australia\",\"Brazil\",\"Canada\",\"China\",\n",
    "                                              \"Euro area\",\"France\",\"Germany\",\"India\",\"Indonesia\",\n",
    "                                              \"Italy\",\"Japan\",\"Korea\",\"Mexico\",\"Russia\",\"Saudi Arabia\"\n",
    "                                              ,\"South Africa\",\"Turkey\",\"United Kingdom\",\"United States\"])]"
   ],
   "execution_count":38,
   "outputs":[
    
   ],
   "metadata":{
    "datalore":{
     "node_id":"sQGIZeltYTwbt002xwSw3v",
     "type":"CODE",
     "hide_input_from_viewers":false,
     "hide_output_from_viewers":false,
     "report_properties":{
      "rowId":"mvLLrowxMewEJ9iF2qIs86",
      "relativeY":0
     }
    }
   }
  },
  {
   "cell_type":"code",
   "source":[
    "G20_pivot = pd.pivot_table(G20, values='Debt to GDP Ratio', index=['Year'],\n",
    "                           columns=['Country Name'], aggfunc='sum', fill_value=0)"
   ],
   "execution_count":39,
   "outputs":[
    
   ],
   "metadata":{
    "datalore":{
     "node_id":"QfPJ2IjgmmJGJC9a1iDYGa",
     "type":"CODE",
     "hide_input_from_viewers":false,
     "hide_output_from_viewers":false,
     "report_properties":{
      "rowId":"Xa8tfQrm21neXcmv6iph37",
      "relativeY":0
     }
    }
   }
  },
  {
   "cell_type":"code",
   "source":[
    "G20_pivot"
   ],
   "execution_count":40,
   "outputs":[
    {
     "data":{
      "text\/html":[
       "<div>\n",
       "<style scoped>\n",
       "    .dataframe tbody tr th:only-of-type {\n",
       "        vertical-align: middle;\n",
       "    }\n",
       "\n",
       "    .dataframe tbody tr th {\n",
       "        vertical-align: top;\n",
       "    }\n",
       "\n",
       "    .dataframe thead th {\n",
       "        text-align: right;\n",
       "    }\n",
       "<\/style>\n",
       "<table border=\"1\" class=\"dataframe\">\n",
       "  <thead>\n",
       "    <tr style=\"text-align: right;\">\n",
       "      <th>Country Name<\/th>\n",
       "      <th>Argentina<\/th>\n",
       "      <th>Australia<\/th>\n",
       "      <th>Brazil<\/th>\n",
       "      <th>Canada<\/th>\n",
       "      <th>China<\/th>\n",
       "      <th>Euro area<\/th>\n",
       "      <th>France<\/th>\n",
       "      <th>Germany<\/th>\n",
       "      <th>India<\/th>\n",
       "      <th>Indonesia<\/th>\n",
       "      <th>Italy<\/th>\n",
       "      <th>Japan<\/th>\n",
       "      <th>Korea<\/th>\n",
       "      <th>Mexico<\/th>\n",
       "      <th>Russia<\/th>\n",
       "      <th>Saudi Arabia<\/th>\n",
       "      <th>South Africa<\/th>\n",
       "      <th>Turkey<\/th>\n",
       "      <th>United Kingdom<\/th>\n",
       "      <th>United States<\/th>\n",
       "    <\/tr>\n",
       "    <tr>\n",
       "      <th>Year<\/th>\n",
       "      <th><\/th>\n",
       "      <th><\/th>\n",
       "      <th><\/th>\n",
       "      <th><\/th>\n",
       "      <th><\/th>\n",
       "      <th><\/th>\n",
       "      <th><\/th>\n",
       "      <th><\/th>\n",
       "      <th><\/th>\n",
       "      <th><\/th>\n",
       "      <th><\/th>\n",
       "      <th><\/th>\n",
       "      <th><\/th>\n",
       "      <th><\/th>\n",
       "      <th><\/th>\n",
       "      <th><\/th>\n",
       "      <th><\/th>\n",
       "      <th><\/th>\n",
       "      <th><\/th>\n",
       "      <th><\/th>\n",
       "    <\/tr>\n",
       "  <\/thead>\n",
       "  <tbody>\n",
       "    <tr>\n",
       "      <th>1800<\/th>\n",
       "      <td>0.000000<\/td>\n",
       "      <td>0.000000<\/td>\n",
       "      <td>0.000000<\/td>\n",
       "      <td>0.000000<\/td>\n",
       "      <td>0.000000<\/td>\n",
       "      <td>0.000000<\/td>\n",
       "      <td>0.000000<\/td>\n",
       "      <td>0.000000<\/td>\n",
       "      <td>0.000000<\/td>\n",
       "      <td>0.000000<\/td>\n",
       "      <td>0.000000<\/td>\n",
       "      <td>0.000000<\/td>\n",
       "      <td>0.000000<\/td>\n",
       "      <td>0.000000<\/td>\n",
       "      <td>0.000000<\/td>\n",
       "      <td>0.000000<\/td>\n",
       "      <td>0.000000<\/td>\n",
       "      <td>0.000000<\/td>\n",
       "      <td>176.840000<\/td>\n",
       "      <td>18.082789<\/td>\n",
       "    <\/tr>\n",
       "    <tr>\n",
       "      <th>1801<\/th>\n",
       "      <td>0.000000<\/td>\n",
       "      <td>0.000000<\/td>\n",
       "      <td>0.000000<\/td>\n",
       "      <td>0.000000<\/td>\n",
       "      <td>0.000000<\/td>\n",
       "      <td>0.000000<\/td>\n",
       "      <td>0.000000<\/td>\n",
       "      <td>0.000000<\/td>\n",
       "      <td>0.000000<\/td>\n",
       "      <td>0.000000<\/td>\n",
       "      <td>0.000000<\/td>\n",
       "      <td>0.000000<\/td>\n",
       "      <td>0.000000<\/td>\n",
       "      <td>0.000000<\/td>\n",
       "      <td>0.000000<\/td>\n",
       "      <td>0.000000<\/td>\n",
       "      <td>0.000000<\/td>\n",
       "      <td>0.000000<\/td>\n",
       "      <td>177.470000<\/td>\n",
       "      <td>15.719697<\/td>\n",
       "    <\/tr>\n",
       "    <tr>\n",
       "      <th>1802<\/th>\n",
       "      <td>0.000000<\/td>\n",
       "      <td>0.000000<\/td>\n",
       "      <td>0.000000<\/td>\n",
       "      <td>0.000000<\/td>\n",
       "      <td>0.000000<\/td>\n",
       "      <td>0.000000<\/td>\n",
       "      <td>0.000000<\/td>\n",
       "      <td>0.000000<\/td>\n",
       "      <td>0.000000<\/td>\n",
       "      <td>0.000000<\/td>\n",
       "      <td>0.000000<\/td>\n",
       "      <td>0.000000<\/td>\n",
       "      <td>0.000000<\/td>\n",
       "      <td>0.000000<\/td>\n",
       "      <td>0.000000<\/td>\n",
       "      <td>0.000000<\/td>\n",
       "      <td>0.000000<\/td>\n",
       "      <td>0.000000<\/td>\n",
       "      <td>188.990000<\/td>\n",
       "      <td>16.469388<\/td>\n",
       "    <\/tr>\n",
       "    <tr>\n",
       "      <th>1803<\/th>\n",
       "      <td>0.000000<\/td>\n",
       "      <td>0.000000<\/td>\n",
       "      <td>0.000000<\/td>\n",
       "      <td>0.000000<\/td>\n",
       "      <td>0.000000<\/td>\n",
       "      <td>0.000000<\/td>\n",
       "      <td>0.000000<\/td>\n",
       "      <td>0.000000<\/td>\n",
       "      <td>0.000000<\/td>\n",
       "      <td>0.000000<\/td>\n",
       "      <td>0.000000<\/td>\n",
       "      <td>0.000000<\/td>\n",
       "      <td>0.000000<\/td>\n",
       "      <td>0.000000<\/td>\n",
       "      <td>0.000000<\/td>\n",
       "      <td>0.000000<\/td>\n",
       "      <td>0.000000<\/td>\n",
       "      <td>0.000000<\/td>\n",
       "      <td>190.670000<\/td>\n",
       "      <td>15.799180<\/td>\n",
       "    <\/tr>\n",
       "    <tr>\n",
       "      <th>1804<\/th>\n",
       "      <td>0.000000<\/td>\n",
       "      <td>0.000000<\/td>\n",
       "      <td>0.000000<\/td>\n",
       "      <td>0.000000<\/td>\n",
       "      <td>0.000000<\/td>\n",
       "      <td>0.000000<\/td>\n",
       "      <td>0.000000<\/td>\n",
       "      <td>0.000000<\/td>\n",
       "      <td>0.000000<\/td>\n",
       "      <td>0.000000<\/td>\n",
       "      <td>0.000000<\/td>\n",
       "      <td>0.000000<\/td>\n",
       "      <td>0.000000<\/td>\n",
       "      <td>0.000000<\/td>\n",
       "      <td>0.000000<\/td>\n",
       "      <td>0.000000<\/td>\n",
       "      <td>0.000000<\/td>\n",
       "      <td>0.000000<\/td>\n",
       "      <td>188.400000<\/td>\n",
       "      <td>16.179775<\/td>\n",
       "    <\/tr>\n",
       "    <tr>\n",
       "      <th>...<\/th>\n",
       "      <td>...<\/td>\n",
       "      <td>...<\/td>\n",
       "      <td>...<\/td>\n",
       "      <td>...<\/td>\n",
       "      <td>...<\/td>\n",
       "      <td>...<\/td>\n",
       "      <td>...<\/td>\n",
       "      <td>...<\/td>\n",
       "      <td>...<\/td>\n",
       "      <td>...<\/td>\n",
       "      <td>...<\/td>\n",
       "      <td>...<\/td>\n",
       "      <td>...<\/td>\n",
       "      <td>...<\/td>\n",
       "      <td>...<\/td>\n",
       "      <td>...<\/td>\n",
       "      <td>...<\/td>\n",
       "      <td>...<\/td>\n",
       "      <td>...<\/td>\n",
       "      <td>...<\/td>\n",
       "    <\/tr>\n",
       "    <tr>\n",
       "      <th>2011<\/th>\n",
       "      <td>38.062868<\/td>\n",
       "      <td>24.200510<\/td>\n",
       "      <td>61.241677<\/td>\n",
       "      <td>81.513469<\/td>\n",
       "      <td>33.086210<\/td>\n",
       "      <td>86.668889<\/td>\n",
       "      <td>85.209228<\/td>\n",
       "      <td>78.310693<\/td>\n",
       "      <td>69.642845<\/td>\n",
       "      <td>23.106018<\/td>\n",
       "      <td>116.498952<\/td>\n",
       "      <td>231.629355<\/td>\n",
       "      <td>31.510839<\/td>\n",
       "      <td>43.199435<\/td>\n",
       "      <td>10.913245<\/td>\n",
       "      <td>5.397008<\/td>\n",
       "      <td>38.227095<\/td>\n",
       "      <td>39.141711<\/td>\n",
       "      <td>81.324273<\/td>\n",
       "      <td>98.994775<\/td>\n",
       "    <\/tr>\n",
       "    <tr>\n",
       "      <th>2012<\/th>\n",
       "      <td>39.433889<\/td>\n",
       "      <td>27.798238<\/td>\n",
       "      <td>62.310147<\/td>\n",
       "      <td>84.839928<\/td>\n",
       "      <td>34.021460<\/td>\n",
       "      <td>91.250438<\/td>\n",
       "      <td>89.581390<\/td>\n",
       "      <td>79.515999<\/td>\n",
       "      <td>69.072524<\/td>\n",
       "      <td>22.960397<\/td>\n",
       "      <td>123.338681<\/td>\n",
       "      <td>238.014557<\/td>\n",
       "      <td>32.126820<\/td>\n",
       "      <td>43.170976<\/td>\n",
       "      <td>11.761041<\/td>\n",
       "      <td>3.589681<\/td>\n",
       "      <td>40.998534<\/td>\n",
       "      <td>36.158234<\/td>\n",
       "      <td>84.817533<\/td>\n",
       "      <td>102.497522<\/td>\n",
       "    <\/tr>\n",
       "    <tr>\n",
       "      <th>2013<\/th>\n",
       "      <td>42.195379<\/td>\n",
       "      <td>30.829111<\/td>\n",
       "      <td>60.364423<\/td>\n",
       "      <td>86.079855<\/td>\n",
       "      <td>36.928375<\/td>\n",
       "      <td>93.344643<\/td>\n",
       "      <td>92.395436<\/td>\n",
       "      <td>77.057504<\/td>\n",
       "      <td>67.959732<\/td>\n",
       "      <td>24.846708<\/td>\n",
       "      <td>129.004386<\/td>\n",
       "      <td>244.477406<\/td>\n",
       "      <td>33.757495<\/td>\n",
       "      <td>46.352022<\/td>\n",
       "      <td>13.075516<\/td>\n",
       "      <td>2.154499<\/td>\n",
       "      <td>43.985593<\/td>\n",
       "      <td>36.138004<\/td>\n",
       "      <td>85.995103<\/td>\n",
       "      <td>104.621196<\/td>\n",
       "    <\/tr>\n",
       "    <tr>\n",
       "      <th>2014<\/th>\n",
       "      <td>43.586674<\/td>\n",
       "      <td>34.322830<\/td>\n",
       "      <td>63.314056<\/td>\n",
       "      <td>86.201314<\/td>\n",
       "      <td>39.830932<\/td>\n",
       "      <td>94.254036<\/td>\n",
       "      <td>95.342725<\/td>\n",
       "      <td>74.479724<\/td>\n",
       "      <td>68.326270<\/td>\n",
       "      <td>24.695487<\/td>\n",
       "      <td>132.528478<\/td>\n",
       "      <td>249.113739<\/td>\n",
       "      <td>35.876201<\/td>\n",
       "      <td>49.498875<\/td>\n",
       "      <td>15.893951<\/td>\n",
       "      <td>1.567105<\/td>\n",
       "      <td>46.895418<\/td>\n",
       "      <td>33.519510<\/td>\n",
       "      <td>87.935341<\/td>\n",
       "      <td>104.605125<\/td>\n",
       "    <\/tr>\n",
       "    <tr>\n",
       "      <th>2015<\/th>\n",
       "      <td>52.130934<\/td>\n",
       "      <td>37.637749<\/td>\n",
       "      <td>73.697095<\/td>\n",
       "      <td>91.499318<\/td>\n",
       "      <td>42.919283<\/td>\n",
       "      <td>92.490987<\/td>\n",
       "      <td>96.141149<\/td>\n",
       "      <td>70.988156<\/td>\n",
       "      <td>69.069976<\/td>\n",
       "      <td>27.304261<\/td>\n",
       "      <td>132.712549<\/td>\n",
       "      <td>247.975864<\/td>\n",
       "      <td>37.888716<\/td>\n",
       "      <td>54.027792<\/td>\n",
       "      <td>16.423032<\/td>\n",
       "      <td>5.007210<\/td>\n",
       "      <td>49.778129<\/td>\n",
       "      <td>32.929726<\/td>\n",
       "      <td>88.984360<\/td>\n",
       "      <td>105.151988<\/td>\n",
       "    <\/tr>\n",
       "  <\/tbody>\n",
       "<\/table>\n",
       "<p>216 rows × 20 columns<\/p>\n",
       "<\/div>"
      ]
     },
     "metadata":{
      
     },
     "output_type":"display_data"
    }
   ],
   "metadata":{
    "datalore":{
     "node_id":"IEoN5vDNvO9t4XFZb8c5d2",
     "type":"CODE",
     "hide_input_from_viewers":false,
     "hide_output_from_viewers":false,
     "report_properties":{
      "rowId":"HcolyoapHkB1FjUbEYIiZ7",
      "relativeY":0
     }
    }
   }
  },
  {
   "cell_type":"code",
   "source":[
    "# Summary statistics for Debt-to-GDP Ratio by year\n",
    "G20.groupby('Year')['Debt to GDP Ratio'].describe()\n",
    "\n",
    "# Summary statistics for Debt-to-GDP Ratio by country\n",
    "G20.groupby('Country Name')['Debt to GDP Ratio'].describe()"
   ],
   "execution_count":48,
   "outputs":[
    {
     "data":{
      "text\/html":[
       "<div>\n",
       "<style scoped>\n",
       "    .dataframe tbody tr th:only-of-type {\n",
       "        vertical-align: middle;\n",
       "    }\n",
       "\n",
       "    .dataframe tbody tr th {\n",
       "        vertical-align: top;\n",
       "    }\n",
       "\n",
       "    .dataframe thead th {\n",
       "        text-align: right;\n",
       "    }\n",
       "<\/style>\n",
       "<table border=\"1\" class=\"dataframe\">\n",
       "  <thead>\n",
       "    <tr style=\"text-align: right;\">\n",
       "      <th><\/th>\n",
       "      <th>count<\/th>\n",
       "      <th>mean<\/th>\n",
       "      <th>std<\/th>\n",
       "      <th>min<\/th>\n",
       "      <th>25%<\/th>\n",
       "      <th>50%<\/th>\n",
       "      <th>75%<\/th>\n",
       "      <th>max<\/th>\n",
       "    <\/tr>\n",
       "    <tr>\n",
       "      <th>Country Name<\/th>\n",
       "      <th><\/th>\n",
       "      <th><\/th>\n",
       "      <th><\/th>\n",
       "      <th><\/th>\n",
       "      <th><\/th>\n",
       "      <th><\/th>\n",
       "      <th><\/th>\n",
       "      <th><\/th>\n",
       "    <\/tr>\n",
       "  <\/thead>\n",
       "  <tbody>\n",
       "    <tr>\n",
       "      <th>Argentina<\/th>\n",
       "      <td>117.0<\/td>\n",
       "      <td>50.791834<\/td>\n",
       "      <td>27.185182<\/td>\n",
       "      <td>9.347420<\/td>\n",
       "      <td>33.667569<\/td>\n",
       "      <td>46.623333<\/td>\n",
       "      <td>60.603656<\/td>\n",
       "      <td>152.111761<\/td>\n",
       "    <\/tr>\n",
       "    <tr>\n",
       "      <th>Australia<\/th>\n",
       "      <td>111.0<\/td>\n",
       "      <td>51.674653<\/td>\n",
       "      <td>35.113359<\/td>\n",
       "      <td>9.682676<\/td>\n",
       "      <td>23.213111<\/td>\n",
       "      <td>37.637749<\/td>\n",
       "      <td>66.106920<\/td>\n",
       "      <td>136.486486<\/td>\n",
       "    <\/tr>\n",
       "    <tr>\n",
       "      <th>Brazil<\/th>\n",
       "      <td>109.0<\/td>\n",
       "      <td>51.761209<\/td>\n",
       "      <td>27.222013<\/td>\n",
       "      <td>10.642757<\/td>\n",
       "      <td>30.823111<\/td>\n",
       "      <td>47.889400<\/td>\n",
       "      <td>68.457200<\/td>\n",
       "      <td>120.740741<\/td>\n",
       "    <\/tr>\n",
       "    <tr>\n",
       "      <th>Canada<\/th>\n",
       "      <td>146.0<\/td>\n",
       "      <td>62.138196<\/td>\n",
       "      <td>27.705148<\/td>\n",
       "      <td>18.445006<\/td>\n",
       "      <td>40.921172<\/td>\n",
       "      <td>59.587769<\/td>\n",
       "      <td>79.817956<\/td>\n",
       "      <td>155.466577<\/td>\n",
       "    <\/tr>\n",
       "    <tr>\n",
       "      <th>China<\/th>\n",
       "      <td>32.0<\/td>\n",
       "      <td>20.162956<\/td>\n",
       "      <td>12.421483<\/td>\n",
       "      <td>0.971136<\/td>\n",
       "      <td>6.659085<\/td>\n",
       "      <td>22.248240<\/td>\n",
       "      <td>27.509040<\/td>\n",
       "      <td>42.919283<\/td>\n",
       "    <\/tr>\n",
       "    <tr>\n",
       "      <th>Euro area<\/th>\n",
       "      <td>21.0<\/td>\n",
       "      <td>75.463102<\/td>\n",
       "      <td>10.238533<\/td>\n",
       "      <td>64.903590<\/td>\n",
       "      <td>68.032888<\/td>\n",
       "      <td>70.567387<\/td>\n",
       "      <td>84.062493<\/td>\n",
       "      <td>94.254036<\/td>\n",
       "    <\/tr>\n",
       "    <tr>\n",
       "      <th>France<\/th>\n",
       "      <td>112.0<\/td>\n",
       "      <td>73.863105<\/td>\n",
       "      <td>50.210686<\/td>\n",
       "      <td>14.388017<\/td>\n",
       "      <td>32.802367<\/td>\n",
       "      <td>66.041870<\/td>\n",
       "      <td>97.248742<\/td>\n",
       "      <td>237.034600<\/td>\n",
       "    <\/tr>\n",
       "    <tr>\n",
       "      <th>Germany<\/th>\n",
       "      <td>113.0<\/td>\n",
       "      <td>36.657211<\/td>\n",
       "      <td>17.774360<\/td>\n",
       "      <td>4.169661<\/td>\n",
       "      <td>20.104092<\/td>\n",
       "      <td>38.178008<\/td>\n",
       "      <td>43.767375<\/td>\n",
       "      <td>81.003775<\/td>\n",
       "    <\/tr>\n",
       "    <tr>\n",
       "      <th>India<\/th>\n",
       "      <td>65.0<\/td>\n",
       "      <td>50.079912<\/td>\n",
       "      <td>19.566994<\/td>\n",
       "      <td>24.999195<\/td>\n",
       "      <td>35.993487<\/td>\n",
       "      <td>40.400501<\/td>\n",
       "      <td>69.642845<\/td>\n",
       "      <td>84.243037<\/td>\n",
       "    <\/tr>\n",
       "    <tr>\n",
       "      <th>Indonesia<\/th>\n",
       "      <td>40.0<\/td>\n",
       "      <td>38.019346<\/td>\n",
       "      <td>18.568973<\/td>\n",
       "      <td>16.430100<\/td>\n",
       "      <td>24.808902<\/td>\n",
       "      <td>32.178867<\/td>\n",
       "      <td>42.613470<\/td>\n",
       "      <td>95.893500<\/td>\n",
       "    <\/tr>\n",
       "    <tr>\n",
       "      <th>Italy<\/th>\n",
       "      <td>155.0<\/td>\n",
       "      <td>84.927293<\/td>\n",
       "      <td>32.022708<\/td>\n",
       "      <td>24.213945<\/td>\n",
       "      <td>60.275516<\/td>\n",
       "      <td>90.834497<\/td>\n",
       "      <td>106.727154<\/td>\n",
       "      <td>159.720009<\/td>\n",
       "    <\/tr>\n",
       "    <tr>\n",
       "      <th>Japan<\/th>\n",
       "      <td>140.0<\/td>\n",
       "      <td>60.881925<\/td>\n",
       "      <td>59.479670<\/td>\n",
       "      <td>4.438238<\/td>\n",
       "      <td>22.811377<\/td>\n",
       "      <td>37.899869<\/td>\n",
       "      <td>69.980696<\/td>\n",
       "      <td>249.113739<\/td>\n",
       "    <\/tr>\n",
       "    <tr>\n",
       "      <th>Korea<\/th>\n",
       "      <td>56.0<\/td>\n",
       "      <td>17.037302<\/td>\n",
       "      <td>8.936470<\/td>\n",
       "      <td>2.631236<\/td>\n",
       "      <td>9.987567<\/td>\n",
       "      <td>16.782733<\/td>\n",
       "      <td>20.865775<\/td>\n",
       "      <td>37.888716<\/td>\n",
       "    <\/tr>\n",
       "    <tr>\n",
       "      <th>Mexico<\/th>\n",
       "      <td>93.0<\/td>\n",
       "      <td>28.549708<\/td>\n",
       "      <td>18.469075<\/td>\n",
       "      <td>0.072204<\/td>\n",
       "      <td>14.610449<\/td>\n",
       "      <td>28.117591<\/td>\n",
       "      <td>42.611257<\/td>\n",
       "      <td>78.144800<\/td>\n",
       "    <\/tr>\n",
       "    <tr>\n",
       "      <th>Russia<\/th>\n",
       "      <td>53.0<\/td>\n",
       "      <td>53.257457<\/td>\n",
       "      <td>26.765157<\/td>\n",
       "      <td>7.425429<\/td>\n",
       "      <td>37.472145<\/td>\n",
       "      <td>55.764579<\/td>\n",
       "      <td>74.200426<\/td>\n",
       "      <td>116.000000<\/td>\n",
       "    <\/tr>\n",
       "    <tr>\n",
       "      <th>Saudi Arabia<\/th>\n",
       "      <td>25.0<\/td>\n",
       "      <td>49.884826<\/td>\n",
       "      <td>37.021115<\/td>\n",
       "      <td>1.567105<\/td>\n",
       "      <td>12.055995<\/td>\n",
       "      <td>56.838427<\/td>\n",
       "      <td>81.564231<\/td>\n",
       "      <td>102.991788<\/td>\n",
       "    <\/tr>\n",
       "    <tr>\n",
       "      <th>South Africa<\/th>\n",
       "      <td>102.0<\/td>\n",
       "      <td>56.528960<\/td>\n",
       "      <td>23.583256<\/td>\n",
       "      <td>23.198200<\/td>\n",
       "      <td>38.200898<\/td>\n",
       "      <td>46.932259<\/td>\n",
       "      <td>71.907162<\/td>\n",
       "      <td>124.587983<\/td>\n",
       "    <\/tr>\n",
       "    <tr>\n",
       "      <th>Turkey<\/th>\n",
       "      <td>65.0<\/td>\n",
       "      <td>35.154797<\/td>\n",
       "      <td>12.072866<\/td>\n",
       "      <td>18.263554<\/td>\n",
       "      <td>27.644993<\/td>\n",
       "      <td>33.317822<\/td>\n",
       "      <td>39.162600<\/td>\n",
       "      <td>77.935973<\/td>\n",
       "    <\/tr>\n",
       "    <tr>\n",
       "      <th>United Kingdom<\/th>\n",
       "      <td>216.0<\/td>\n",
       "      <td>114.613486<\/td>\n",
       "      <td>67.309219<\/td>\n",
       "      <td>27.271153<\/td>\n",
       "      <td>47.030578<\/td>\n",
       "      <td>107.546903<\/td>\n",
       "      <td>176.045292<\/td>\n",
       "      <td>269.797597<\/td>\n",
       "    <\/tr>\n",
       "    <tr>\n",
       "      <th>United States<\/th>\n",
       "      <td>213.0<\/td>\n",
       "      <td>30.343693<\/td>\n",
       "      <td>28.494901<\/td>\n",
       "      <td>0.021858<\/td>\n",
       "      <td>7.434861<\/td>\n",
       "      <td>20.155968<\/td>\n",
       "      <td>47.848521<\/td>\n",
       "      <td>121.197526<\/td>\n",
       "    <\/tr>\n",
       "  <\/tbody>\n",
       "<\/table>\n",
       "<\/div>"
      ]
     },
     "metadata":{
      
     },
     "output_type":"display_data"
    }
   ],
   "metadata":{
    "datalore":{
     "node_id":"ogmrAGmIoaqoqaTplYnQpO",
     "type":"CODE",
     "hide_input_from_viewers":false,
     "hide_output_from_viewers":false,
     "report_properties":{
      "rowId":"96rXOBqFrpe0Yswo6JRvHb",
      "relativeY":0
     }
    }
   }
  },
  {
   "cell_type":"code",
   "source":[
    "fig = px.scatter(G20, x='Year', y='Debt to GDP Ratio', color='Country Name', hover_data=['Country Name'])\n",
    "fig.update_layout(title='Debt to GDP Ratio vs Year', xaxis_title='Year', yaxis_title='Debt to GDP Ratio')\n",
    "fig.show()"
   ],
   "execution_count":49,
   "outputs":[
    {
     "data":{
      "application\/vnd.plotly.v1+json":{
       "data":[
        {
         "customdata":[
          [
           "Russia"
          ],
          [
           "Russia"
          ],
          [
           "Russia"
          ],
          [
           "Russia"
          ],
          [
           "Russia"
          ],
          [
           "Russia"
          ],
          [
           "Russia"
          ],
          [
           "Russia"
          ],
          [
           "Russia"
          ],
          [
           "Russia"
          ],
          [
           "Russia"
          ],
          [
           "Russia"
          ],
          [
           "Russia"
          ],
          [
           "Russia"
          ],
          [
           "Russia"
          ],
          [
           "Russia"
          ],
          [
           "Russia"
          ],
          [
           "Russia"
          ],
          [
           "Russia"
          ],
          [
           "Russia"
          ],
          [
           "Russia"
          ],
          [
           "Russia"
          ],
          [
           "Russia"
          ],
          [
           "Russia"
          ],
          [
           "Russia"
          ],
          [
           "Russia"
          ],
          [
           "Russia"
          ],
          [
           "Russia"
          ],
          [
           "Russia"
          ],
          [
           "Russia"
          ],
          [
           "Russia"
          ],
          [
           "Russia"
          ],
          [
           "Russia"
          ],
          [
           "Russia"
          ],
          [
           "Russia"
          ],
          [
           "Russia"
          ],
          [
           "Russia"
          ],
          [
           "Russia"
          ],
          [
           "Russia"
          ],
          [
           "Russia"
          ],
          [
           "Russia"
          ],
          [
           "Russia"
          ],
          [
           "Russia"
          ],
          [
           "Russia"
          ],
          [
           "Russia"
          ],
          [
           "Russia"
          ],
          [
           "Russia"
          ],
          [
           "Russia"
          ],
          [
           "Russia"
          ],
          [
           "Russia"
          ],
          [
           "Russia"
          ],
          [
           "Russia"
          ],
          [
           "Russia"
          ],
          [
           "Russia"
          ],
          [
           "Russia"
          ],
          [
           "Russia"
          ],
          [
           "Russia"
          ],
          [
           "Russia"
          ],
          [
           "Russia"
          ],
          [
           "Russia"
          ],
          [
           "Russia"
          ],
          [
           "Russia"
          ],
          [
           "Russia"
          ],
          [
           "Russia"
          ],
          [
           "Russia"
          ],
          [
           "Russia"
          ],
          [
           "Russia"
          ],
          [
           "Russia"
          ],
          [
           "Russia"
          ],
          [
           "Russia"
          ],
          [
           "Russia"
          ],
          [
           "Russia"
          ],
          [
           "Russia"
          ],
          [
           "Russia"
          ],
          [
           "Russia"
          ],
          [
           "Russia"
          ],
          [
           "Russia"
          ],
          [
           "Russia"
          ],
          [
           "Russia"
          ],
          [
           "Russia"
          ],
          [
           "Russia"
          ],
          [
           "Russia"
          ],
          [
           "Russia"
          ],
          [
           "Russia"
          ],
          [
           "Russia"
          ],
          [
           "Russia"
          ],
          [
           "Russia"
          ],
          [
           "Russia"
          ],
          [
           "Russia"
          ],
          [
           "Russia"
          ],
          [
           "Russia"
          ],
          [
           "Russia"
          ],
          [
           "Russia"
          ],
          [
           "Russia"
          ],
          [
           "Russia"
          ],
          [
           "Russia"
          ],
          [
           "Russia"
          ],
          [
           "Russia"
          ],
          [
           "Russia"
          ],
          [
           "Russia"
          ],
          [
           "Russia"
          ],
          [
           "Russia"
          ],
          [
           "Russia"
          ],
          [
           "Russia"
          ],
          [
           "Russia"
          ],
          [
           "Russia"
          ],
          [
           "Russia"
          ],
          [
           "Russia"
          ],
          [
           "Russia"
          ],
          [
           "Russia"
          ],
          [
           "Russia"
          ],
          [
           "Russia"
          ],
          [
           "Russia"
          ],
          [
           "Russia"
          ],
          [
           "Russia"
          ],
          [
           "Russia"
          ],
          [
           "Russia"
          ],
          [
           "Russia"
          ],
          [
           "Russia"
          ],
          [
           "Russia"
          ],
          [
           "Russia"
          ],
          [
           "Russia"
          ],
          [
           "Russia"
          ],
          [
           "Russia"
          ],
          [
           "Russia"
          ],
          [
           "Russia"
          ],
          [
           "Russia"
          ],
          [
           "Russia"
          ],
          [
           "Russia"
          ],
          [
           "Russia"
          ],
          [
           "Russia"
          ],
          [
           "Russia"
          ],
          [
           "Russia"
          ],
          [
           "Russia"
          ],
          [
           "Russia"
          ],
          [
           "Russia"
          ],
          [
           "Russia"
          ],
          [
           "Russia"
          ],
          [
           "Russia"
          ],
          [
           "Russia"
          ],
          [
           "Russia"
          ],
          [
           "Russia"
          ],
          [
           "Russia"
          ],
          [
           "Russia"
          ],
          [
           "Russia"
          ],
          [
           "Russia"
          ],
          [
           "Russia"
          ],
          [
           "Russia"
          ],
          [
           "Russia"
          ],
          [
           "Russia"
          ],
          [
           "Russia"
          ],
          [
           "Russia"
          ],
          [
           "Russia"
          ],
          [
           "Russia"
          ],
          [
           "Russia"
          ],
          [
           "Russia"
          ],
          [
           "Russia"
          ],
          [
           "Russia"
          ],
          [
           "Russia"
          ],
          [
           "Russia"
          ],
          [
           "Russia"
          ],
          [
           "Russia"
          ],
          [
           "Russia"
          ],
          [
           "Russia"
          ],
          [
           "Russia"
          ],
          [
           "Russia"
          ],
          [
           "Russia"
          ],
          [
           "Russia"
          ],
          [
           "Russia"
          ],
          [
           "Russia"
          ],
          [
           "Russia"
          ],
          [
           "Russia"
          ],
          [
           "Russia"
          ],
          [
           "Russia"
          ],
          [
           "Russia"
          ],
          [
           "Russia"
          ],
          [
           "Russia"
          ],
          [
           "Russia"
          ],
          [
           "Russia"
          ],
          [
           "Russia"
          ],
          [
           "Russia"
          ],
          [
           "Russia"
          ],
          [
           "Russia"
          ],
          [
           "Russia"
          ],
          [
           "Russia"
          ],
          [
           "Russia"
          ],
          [
           "Russia"
          ],
          [
           "Russia"
          ],
          [
           "Russia"
          ],
          [
           "Russia"
          ],
          [
           "Russia"
          ],
          [
           "Russia"
          ],
          [
           "Russia"
          ],
          [
           "Russia"
          ],
          [
           "Russia"
          ],
          [
           "Russia"
          ],
          [
           "Russia"
          ],
          [
           "Russia"
          ],
          [
           "Russia"
          ],
          [
           "Russia"
          ],
          [
           "Russia"
          ],
          [
           "Russia"
          ],
          [
           "Russia"
          ],
          [
           "Russia"
          ],
          [
           "Russia"
          ],
          [
           "Russia"
          ],
          [
           "Russia"
          ],
          [
           "Russia"
          ],
          [
           "Russia"
          ],
          [
           "Russia"
          ],
          [
           "Russia"
          ],
          [
           "Russia"
          ],
          [
           "Russia"
          ],
          [
           "Russia"
          ],
          [
           "Russia"
          ],
          [
           "Russia"
          ]
         ],
         "hovertemplate":"Country Name=%{customdata[0]}<br>Year=%{x}<br>Debt to GDP Ratio=%{y}<extra><\/extra>",
         "legendgroup":"Russia",
         "marker":{
          "color":"#636efa",
          "symbol":"circle"
         },
         "mode":"markers",
         "name":"Russia",
         "showlegend":true,
         "x":[
          "1800",
          "1801",
          "1802",
          "1803",
          "1804",
          "1805",
          "1806",
          "1807",
          "1808",
          "1809",
          "1810",
          "1811",
          "1812",
          "1813",
          "1814",
          "1815",
          "1816",
          "1817",
          "1818",
          "1819",
          "1820",
          "1821",
          "1822",
          "1823",
          "1824",
          "1825",
          "1826",
          "1827",
          "1828",
          "1829",
          "1830",
          "1831",
          "1832",
          "1833",
          "1834",
          "1835",
          "1836",
          "1837",
          "1838",
          "1839",
          "1840",
          "1841",
          "1842",
          "1843",
          "1844",
          "1845",
          "1846",
          "1847",
          "1848",
          "1849",
          "1850",
          "1851",
          "1852",
          "1853",
          "1854",
          "1855",
          "1856",
          "1857",
          "1858",
          "1859",
          "1860",
          "1861",
          "1862",
          "1863",
          "1864",
          "1865",
          "1866",
          "1867",
          "1868",
          "1869",
          "1870",
          "1871",
          "1872",
          "1873",
          "1874",
          "1875",
          "1876",
          "1877",
          "1878",
          "1879",
          "1880",
          "1881",
          "1882",
          "1883",
          "1884",
          "1885",
          "1886",
          "1887",
          "1888",
          "1889",
          "1890",
          "1891",
          "1892",
          "1893",
          "1894",
          "1895",
          "1896",
          "1897",
          "1898",
          "1899",
          "1900",
          "1901",
          "1902",
          "1903",
          "1904",
          "1905",
          "1906",
          "1907",
          "1908",
          "1909",
          "1910",
          "1911",
          "1912",
          "1913",
          "1914",
          "1915",
          "1916",
          "1917",
          "1918",
          "1919",
          "1920",
          "1921",
          "1922",
          "1923",
          "1924",
          "1925",
          "1926",
          "1927",
          "1928",
          "1929",
          "1930",
          "1931",
          "1932",
          "1933",
          "1934",
          "1935",
          "1936",
          "1937",
          "1938",
          "1939",
          "1940",
          "1941",
          "1942",
          "1943",
          "1944",
          "1945",
          "1946",
          "1947",
          "1948",
          "1949",
          "1950",
          "1951",
          "1952",
          "1953",
          "1954",
          "1955",
          "1956",
          "1957",
          "1958",
          "1959",
          "1960",
          "1961",
          "1962",
          "1963",
          "1964",
          "1965",
          "1966",
          "1967",
          "1968",
          "1969",
          "1970",
          "1971",
          "1972",
          "1973",
          "1974",
          "1975",
          "1976",
          "1977",
          "1978",
          "1979",
          "1980",
          "1981",
          "1982",
          "1983",
          "1984",
          "1985",
          "1986",
          "1987",
          "1988",
          "1989",
          "1990",
          "1991",
          "1992",
          "1993",
          "1994",
          "1995",
          "1996",
          "1997",
          "1998",
          "1999",
          "2000",
          "2001",
          "2002",
          "2003",
          "2004",
          "2005",
          "2006",
          "2007",
          "2008",
          "2009",
          "2010",
          "2011",
          "2012",
          "2013",
          "2014",
          "2015"
         ],
         "xaxis":"x",
         "y":[
          null,
          null,
          null,
          null,
          null,
          null,
          null,
          null,
          null,
          null,
          null,
          null,
          null,
          null,
          null,
          null,
          null,
          null,
          null,
          null,
          null,
          null,
          null,
          null,
          null,
          null,
          null,
          null,
          null,
          null,
          null,
          null,
          null,
          null,
          null,
          null,
          null,
          null,
          null,
          null,
          null,
          null,
          null,
          null,
          null,
          null,
          null,
          null,
          null,
          null,
          null,
          null,
          null,
          null,
          null,
          null,
          null,
          null,
          null,
          null,
          null,
          null,
          null,
          null,
          null,
          null,
          null,
          null,
          null,
          null,
          null,
          null,
          null,
          null,
          null,
          null,
          null,
          null,
          null,
          null,
          null,
          null,
          null,
          null,
          null,
          80.6554247534203,
          87.1452702702703,
          78.4675072744908,
          73.1916578669483,
          77.7598118477142,
          74.9558823529412,
          80.5902038332826,
          75.714475608135,
          74.2004264392324,
          78.1690975927902,
          85.631067961165,
          78.9473684210526,
          69.134321849106,
          59.8079161816065,
          55.764579414136,
          56.6593687283342,
          56.4618086040386,
          52.4057422306357,
          55.5220883534137,
          53.3081855903433,
          62.2153455526462,
          68.0069378744875,
          64.7735708982925,
          58.7637763909175,
          56.0384376937384,
          52.4877935363869,
          52.82774075603,
          45.1869611794113,
          48.7910786539031,
          null,
          null,
          null,
          null,
          null,
          null,
          null,
          null,
          null,
          null,
          null,
          null,
          null,
          null,
          null,
          null,
          null,
          null,
          null,
          null,
          null,
          null,
          null,
          null,
          null,
          null,
          null,
          null,
          null,
          null,
          null,
          null,
          null,
          null,
          null,
          null,
          null,
          null,
          null,
          null,
          null,
          null,
          null,
          null,
          null,
          null,
          null,
          null,
          null,
          null,
          null,
          null,
          null,
          null,
          null,
          null,
          null,
          null,
          null,
          null,
          null,
          null,
          null,
          null,
          null,
          null,
          null,
          null,
          null,
          null,
          null,
          null,
          null,
          null,
          null,
          null,
          null,
          null,
          116,
          92.4,
          63.5,
          53.7,
          51.9,
          54.7,
          73.1,
          88.7,
          55.7122837414325,
          44.3139425978729,
          37.4721450545673,
          28.2549958426697,
          20.7696783838296,
          14.8091201957035,
          9.77649767991868,
          8.01024550009798,
          7.42542891479877,
          9.89047094854029,
          10.5597839084988,
          10.9132451451554,
          11.7610407773257,
          13.0755160405933,
          15.8939509988441,
          16.423031942607
         ],
         "yaxis":"y",
         "type":"scattergl"
        },
        {
         "customdata":[
          [
           "Saudi Arabia"
          ],
          [
           "Saudi Arabia"
          ],
          [
           "Saudi Arabia"
          ],
          [
           "Saudi Arabia"
          ],
          [
           "Saudi Arabia"
          ],
          [
           "Saudi Arabia"
          ],
          [
           "Saudi Arabia"
          ],
          [
           "Saudi Arabia"
          ],
          [
           "Saudi Arabia"
          ],
          [
           "Saudi Arabia"
          ],
          [
           "Saudi Arabia"
          ],
          [
           "Saudi Arabia"
          ],
          [
           "Saudi Arabia"
          ],
          [
           "Saudi Arabia"
          ],
          [
           "Saudi Arabia"
          ],
          [
           "Saudi Arabia"
          ],
          [
           "Saudi Arabia"
          ],
          [
           "Saudi Arabia"
          ],
          [
           "Saudi Arabia"
          ],
          [
           "Saudi Arabia"
          ],
          [
           "Saudi Arabia"
          ],
          [
           "Saudi Arabia"
          ],
          [
           "Saudi Arabia"
          ],
          [
           "Saudi Arabia"
          ],
          [
           "Saudi Arabia"
          ],
          [
           "Saudi Arabia"
          ],
          [
           "Saudi Arabia"
          ],
          [
           "Saudi Arabia"
          ],
          [
           "Saudi Arabia"
          ],
          [
           "Saudi Arabia"
          ],
          [
           "Saudi Arabia"
          ],
          [
           "Saudi Arabia"
          ],
          [
           "Saudi Arabia"
          ],
          [
           "Saudi Arabia"
          ],
          [
           "Saudi Arabia"
          ],
          [
           "Saudi Arabia"
          ],
          [
           "Saudi Arabia"
          ],
          [
           "Saudi Arabia"
          ],
          [
           "Saudi Arabia"
          ],
          [
           "Saudi Arabia"
          ],
          [
           "Saudi Arabia"
          ],
          [
           "Saudi Arabia"
          ],
          [
           "Saudi Arabia"
          ],
          [
           "Saudi Arabia"
          ],
          [
           "Saudi Arabia"
          ],
          [
           "Saudi Arabia"
          ],
          [
           "Saudi Arabia"
          ],
          [
           "Saudi Arabia"
          ],
          [
           "Saudi Arabia"
          ],
          [
           "Saudi Arabia"
          ],
          [
           "Saudi Arabia"
          ],
          [
           "Saudi Arabia"
          ],
          [
           "Saudi Arabia"
          ],
          [
           "Saudi Arabia"
          ],
          [
           "Saudi Arabia"
          ],
          [
           "Saudi Arabia"
          ],
          [
           "Saudi Arabia"
          ],
          [
           "Saudi Arabia"
          ],
          [
           "Saudi Arabia"
          ],
          [
           "Saudi Arabia"
          ],
          [
           "Saudi Arabia"
          ],
          [
           "Saudi Arabia"
          ],
          [
           "Saudi Arabia"
          ],
          [
           "Saudi Arabia"
          ],
          [
           "Saudi Arabia"
          ],
          [
           "Saudi Arabia"
          ],
          [
           "Saudi Arabia"
          ],
          [
           "Saudi Arabia"
          ],
          [
           "Saudi Arabia"
          ],
          [
           "Saudi Arabia"
          ],
          [
           "Saudi Arabia"
          ],
          [
           "Saudi Arabia"
          ],
          [
           "Saudi Arabia"
          ],
          [
           "Saudi Arabia"
          ],
          [
           "Saudi Arabia"
          ],
          [
           "Saudi Arabia"
          ],
          [
           "Saudi Arabia"
          ],
          [
           "Saudi Arabia"
          ],
          [
           "Saudi Arabia"
          ],
          [
           "Saudi Arabia"
          ],
          [
           "Saudi Arabia"
          ],
          [
           "Saudi Arabia"
          ],
          [
           "Saudi Arabia"
          ],
          [
           "Saudi Arabia"
          ],
          [
           "Saudi Arabia"
          ],
          [
           "Saudi Arabia"
          ],
          [
           "Saudi Arabia"
          ],
          [
           "Saudi Arabia"
          ],
          [
           "Saudi Arabia"
          ],
          [
           "Saudi Arabia"
          ],
          [
           "Saudi Arabia"
          ],
          [
           "Saudi Arabia"
          ],
          [
           "Saudi Arabia"
          ],
          [
           "Saudi Arabia"
          ],
          [
           "Saudi Arabia"
          ],
          [
           "Saudi Arabia"
          ],
          [
           "Saudi Arabia"
          ],
          [
           "Saudi Arabia"
          ],
          [
           "Saudi Arabia"
          ],
          [
           "Saudi Arabia"
          ],
          [
           "Saudi Arabia"
          ],
          [
           "Saudi Arabia"
          ],
          [
           "Saudi Arabia"
          ],
          [
           "Saudi Arabia"
          ],
          [
           "Saudi Arabia"
          ],
          [
           "Saudi Arabia"
          ],
          [
           "Saudi Arabia"
          ],
          [
           "Saudi Arabia"
          ],
          [
           "Saudi Arabia"
          ],
          [
           "Saudi Arabia"
          ],
          [
           "Saudi Arabia"
          ],
          [
           "Saudi Arabia"
          ],
          [
           "Saudi Arabia"
          ],
          [
           "Saudi Arabia"
          ],
          [
           "Saudi Arabia"
          ],
          [
           "Saudi Arabia"
          ],
          [
           "Saudi Arabia"
          ],
          [
           "Saudi Arabia"
          ],
          [
           "Saudi Arabia"
          ],
          [
           "Saudi Arabia"
          ],
          [
           "Saudi Arabia"
          ],
          [
           "Saudi Arabia"
          ],
          [
           "Saudi Arabia"
          ],
          [
           "Saudi Arabia"
          ],
          [
           "Saudi Arabia"
          ],
          [
           "Saudi Arabia"
          ],
          [
           "Saudi Arabia"
          ],
          [
           "Saudi Arabia"
          ],
          [
           "Saudi Arabia"
          ],
          [
           "Saudi Arabia"
          ],
          [
           "Saudi Arabia"
          ],
          [
           "Saudi Arabia"
          ],
          [
           "Saudi Arabia"
          ],
          [
           "Saudi Arabia"
          ],
          [
           "Saudi Arabia"
          ],
          [
           "Saudi Arabia"
          ],
          [
           "Saudi Arabia"
          ],
          [
           "Saudi Arabia"
          ],
          [
           "Saudi Arabia"
          ],
          [
           "Saudi Arabia"
          ],
          [
           "Saudi Arabia"
          ],
          [
           "Saudi Arabia"
          ],
          [
           "Saudi Arabia"
          ],
          [
           "Saudi Arabia"
          ],
          [
           "Saudi Arabia"
          ],
          [
           "Saudi Arabia"
          ],
          [
           "Saudi Arabia"
          ],
          [
           "Saudi Arabia"
          ],
          [
           "Saudi Arabia"
          ],
          [
           "Saudi Arabia"
          ],
          [
           "Saudi Arabia"
          ],
          [
           "Saudi Arabia"
          ],
          [
           "Saudi Arabia"
          ],
          [
           "Saudi Arabia"
          ],
          [
           "Saudi Arabia"
          ],
          [
           "Saudi Arabia"
          ],
          [
           "Saudi Arabia"
          ],
          [
           "Saudi Arabia"
          ],
          [
           "Saudi Arabia"
          ],
          [
           "Saudi Arabia"
          ],
          [
           "Saudi Arabia"
          ],
          [
           "Saudi Arabia"
          ],
          [
           "Saudi Arabia"
          ],
          [
           "Saudi Arabia"
          ],
          [
           "Saudi Arabia"
          ],
          [
           "Saudi Arabia"
          ],
          [
           "Saudi Arabia"
          ],
          [
           "Saudi Arabia"
          ],
          [
           "Saudi Arabia"
          ],
          [
           "Saudi Arabia"
          ],
          [
           "Saudi Arabia"
          ],
          [
           "Saudi Arabia"
          ],
          [
           "Saudi Arabia"
          ],
          [
           "Saudi Arabia"
          ],
          [
           "Saudi Arabia"
          ],
          [
           "Saudi Arabia"
          ],
          [
           "Saudi Arabia"
          ],
          [
           "Saudi Arabia"
          ],
          [
           "Saudi Arabia"
          ],
          [
           "Saudi Arabia"
          ],
          [
           "Saudi Arabia"
          ],
          [
           "Saudi Arabia"
          ],
          [
           "Saudi Arabia"
          ],
          [
           "Saudi Arabia"
          ],
          [
           "Saudi Arabia"
          ],
          [
           "Saudi Arabia"
          ],
          [
           "Saudi Arabia"
          ],
          [
           "Saudi Arabia"
          ],
          [
           "Saudi Arabia"
          ],
          [
           "Saudi Arabia"
          ],
          [
           "Saudi Arabia"
          ],
          [
           "Saudi Arabia"
          ],
          [
           "Saudi Arabia"
          ],
          [
           "Saudi Arabia"
          ],
          [
           "Saudi Arabia"
          ],
          [
           "Saudi Arabia"
          ],
          [
           "Saudi Arabia"
          ],
          [
           "Saudi Arabia"
          ],
          [
           "Saudi Arabia"
          ],
          [
           "Saudi Arabia"
          ],
          [
           "Saudi Arabia"
          ],
          [
           "Saudi Arabia"
          ],
          [
           "Saudi Arabia"
          ],
          [
           "Saudi Arabia"
          ],
          [
           "Saudi Arabia"
          ],
          [
           "Saudi Arabia"
          ],
          [
           "Saudi Arabia"
          ],
          [
           "Saudi Arabia"
          ],
          [
           "Saudi Arabia"
          ],
          [
           "Saudi Arabia"
          ],
          [
           "Saudi Arabia"
          ],
          [
           "Saudi Arabia"
          ],
          [
           "Saudi Arabia"
          ],
          [
           "Saudi Arabia"
          ],
          [
           "Saudi Arabia"
          ],
          [
           "Saudi Arabia"
          ]
         ],
         "hovertemplate":"Country Name=%{customdata[0]}<br>Year=%{x}<br>Debt to GDP Ratio=%{y}<extra><\/extra>",
         "legendgroup":"Saudi Arabia",
         "marker":{
          "color":"#EF553B",
          "symbol":"circle"
         },
         "mode":"markers",
         "name":"Saudi Arabia",
         "showlegend":true,
         "x":[
          "1800",
          "1801",
          "1802",
          "1803",
          "1804",
          "1805",
          "1806",
          "1807",
          "1808",
          "1809",
          "1810",
          "1811",
          "1812",
          "1813",
          "1814",
          "1815",
          "1816",
          "1817",
          "1818",
          "1819",
          "1820",
          "1821",
          "1822",
          "1823",
          "1824",
          "1825",
          "1826",
          "1827",
          "1828",
          "1829",
          "1830",
          "1831",
          "1832",
          "1833",
          "1834",
          "1835",
          "1836",
          "1837",
          "1838",
          "1839",
          "1840",
          "1841",
          "1842",
          "1843",
          "1844",
          "1845",
          "1846",
          "1847",
          "1848",
          "1849",
          "1850",
          "1851",
          "1852",
          "1853",
          "1854",
          "1855",
          "1856",
          "1857",
          "1858",
          "1859",
          "1860",
          "1861",
          "1862",
          "1863",
          "1864",
          "1865",
          "1866",
          "1867",
          "1868",
          "1869",
          "1870",
          "1871",
          "1872",
          "1873",
          "1874",
          "1875",
          "1876",
          "1877",
          "1878",
          "1879",
          "1880",
          "1881",
          "1882",
          "1883",
          "1884",
          "1885",
          "1886",
          "1887",
          "1888",
          "1889",
          "1890",
          "1891",
          "1892",
          "1893",
          "1894",
          "1895",
          "1896",
          "1897",
          "1898",
          "1899",
          "1900",
          "1901",
          "1902",
          "1903",
          "1904",
          "1905",
          "1906",
          "1907",
          "1908",
          "1909",
          "1910",
          "1911",
          "1912",
          "1913",
          "1914",
          "1915",
          "1916",
          "1917",
          "1918",
          "1919",
          "1920",
          "1921",
          "1922",
          "1923",
          "1924",
          "1925",
          "1926",
          "1927",
          "1928",
          "1929",
          "1930",
          "1931",
          "1932",
          "1933",
          "1934",
          "1935",
          "1936",
          "1937",
          "1938",
          "1939",
          "1940",
          "1941",
          "1942",
          "1943",
          "1944",
          "1945",
          "1946",
          "1947",
          "1948",
          "1949",
          "1950",
          "1951",
          "1952",
          "1953",
          "1954",
          "1955",
          "1956",
          "1957",
          "1958",
          "1959",
          "1960",
          "1961",
          "1962",
          "1963",
          "1964",
          "1965",
          "1966",
          "1967",
          "1968",
          "1969",
          "1970",
          "1971",
          "1972",
          "1973",
          "1974",
          "1975",
          "1976",
          "1977",
          "1978",
          "1979",
          "1980",
          "1981",
          "1982",
          "1983",
          "1984",
          "1985",
          "1986",
          "1987",
          "1988",
          "1989",
          "1990",
          "1991",
          "1992",
          "1993",
          "1994",
          "1995",
          "1996",
          "1997",
          "1998",
          "1999",
          "2000",
          "2001",
          "2002",
          "2003",
          "2004",
          "2005",
          "2006",
          "2007",
          "2008",
          "2009",
          "2010",
          "2011",
          "2012",
          "2013",
          "2014",
          "2015"
         ],
         "xaxis":"x",
         "y":[
          null,
          null,
          null,
          null,
          null,
          null,
          null,
          null,
          null,
          null,
          null,
          null,
          null,
          null,
          null,
          null,
          null,
          null,
          null,
          null,
          null,
          null,
          null,
          null,
          null,
          null,
          null,
          null,
          null,
          null,
          null,
          null,
          null,
          null,
          null,
          null,
          null,
          null,
          null,
          null,
          null,
          null,
          null,
          null,
          null,
          null,
          null,
          null,
          null,
          null,
          null,
          null,
          null,
          null,
          null,
          null,
          null,
          null,
          null,
          null,
          null,
          null,
          null,
          null,
          null,
          null,
          null,
          null,
          null,
          null,
          null,
          null,
          null,
          null,
          null,
          null,
          null,
          null,
          null,
          null,
          null,
          null,
          null,
          null,
          null,
          null,
          null,
          null,
          null,
          null,
          null,
          null,
          null,
          null,
          null,
          null,
          null,
          null,
          null,
          null,
          null,
          null,
          null,
          null,
          null,
          null,
          null,
          null,
          null,
          null,
          null,
          null,
          null,
          null,
          null,
          null,
          null,
          null,
          null,
          null,
          null,
          null,
          null,
          null,
          null,
          null,
          null,
          null,
          null,
          null,
          null,
          null,
          null,
          null,
          null,
          null,
          null,
          null,
          null,
          null,
          null,
          null,
          null,
          null,
          null,
          null,
          null,
          null,
          null,
          null,
          null,
          null,
          null,
          null,
          null,
          null,
          null,
          null,
          null,
          null,
          null,
          null,
          null,
          null,
          null,
          null,
          null,
          null,
          null,
          null,
          null,
          null,
          null,
          null,
          null,
          null,
          null,
          null,
          null,
          null,
          null,
          null,
          null,
          null,
          null,
          null,
          null,
          null,
          null,
          null,
          null,
          47.8888009049774,
          56.8384265279584,
          69.547656602073,
          77.765,
          83.8880300814707,
          75.6444372219627,
          77.1549533744833,
          102.210312451985,
          102.991787626975,
          86.7017724012641,
          93.1477989006172,
          96.351696772755,
          81.5642311053814,
          62.9282022815161,
          37.3424359335585,
          25.8308411362682,
          17.1154305724822,
          12.0559945858256,
          13.9890376456109,
          8.4483105769161,
          5.39700796657996,
          3.58968118901319,
          2.15449914094678,
          1.56710495184185,
          5.00720987015802
         ],
         "yaxis":"y",
         "type":"scattergl"
        },
        {
         "customdata":[
          [
           "Canada"
          ],
          [
           "Canada"
          ],
          [
           "Canada"
          ],
          [
           "Canada"
          ],
          [
           "Canada"
          ],
          [
           "Canada"
          ],
          [
           "Canada"
          ],
          [
           "Canada"
          ],
          [
           "Canada"
          ],
          [
           "Canada"
          ],
          [
           "Canada"
          ],
          [
           "Canada"
          ],
          [
           "Canada"
          ],
          [
           "Canada"
          ],
          [
           "Canada"
          ],
          [
           "Canada"
          ],
          [
           "Canada"
          ],
          [
           "Canada"
          ],
          [
           "Canada"
          ],
          [
           "Canada"
          ],
          [
           "Canada"
          ],
          [
           "Canada"
          ],
          [
           "Canada"
          ],
          [
           "Canada"
          ],
          [
           "Canada"
          ],
          [
           "Canada"
          ],
          [
           "Canada"
          ],
          [
           "Canada"
          ],
          [
           "Canada"
          ],
          [
           "Canada"
          ],
          [
           "Canada"
          ],
          [
           "Canada"
          ],
          [
           "Canada"
          ],
          [
           "Canada"
          ],
          [
           "Canada"
          ],
          [
           "Canada"
          ],
          [
           "Canada"
          ],
          [
           "Canada"
          ],
          [
           "Canada"
          ],
          [
           "Canada"
          ],
          [
           "Canada"
          ],
          [
           "Canada"
          ],
          [
           "Canada"
          ],
          [
           "Canada"
          ],
          [
           "Canada"
          ],
          [
           "Canada"
          ],
          [
           "Canada"
          ],
          [
           "Canada"
          ],
          [
           "Canada"
          ],
          [
           "Canada"
          ],
          [
           "Canada"
          ],
          [
           "Canada"
          ],
          [
           "Canada"
          ],
          [
           "Canada"
          ],
          [
           "Canada"
          ],
          [
           "Canada"
          ],
          [
           "Canada"
          ],
          [
           "Canada"
          ],
          [
           "Canada"
          ],
          [
           "Canada"
          ],
          [
           "Canada"
          ],
          [
           "Canada"
          ],
          [
           "Canada"
          ],
          [
           "Canada"
          ],
          [
           "Canada"
          ],
          [
           "Canada"
          ],
          [
           "Canada"
          ],
          [
           "Canada"
          ],
          [
           "Canada"
          ],
          [
           "Canada"
          ],
          [
           "Canada"
          ],
          [
           "Canada"
          ],
          [
           "Canada"
          ],
          [
           "Canada"
          ],
          [
           "Canada"
          ],
          [
           "Canada"
          ],
          [
           "Canada"
          ],
          [
           "Canada"
          ],
          [
           "Canada"
          ],
          [
           "Canada"
          ],
          [
           "Canada"
          ],
          [
           "Canada"
          ],
          [
           "Canada"
          ],
          [
           "Canada"
          ],
          [
           "Canada"
          ],
          [
           "Canada"
          ],
          [
           "Canada"
          ],
          [
           "Canada"
          ],
          [
           "Canada"
          ],
          [
           "Canada"
          ],
          [
           "Canada"
          ],
          [
           "Canada"
          ],
          [
           "Canada"
          ],
          [
           "Canada"
          ],
          [
           "Canada"
          ],
          [
           "Canada"
          ],
          [
           "Canada"
          ],
          [
           "Canada"
          ],
          [
           "Canada"
          ],
          [
           "Canada"
          ],
          [
           "Canada"
          ],
          [
           "Canada"
          ],
          [
           "Canada"
          ],
          [
           "Canada"
          ],
          [
           "Canada"
          ],
          [
           "Canada"
          ],
          [
           "Canada"
          ],
          [
           "Canada"
          ],
          [
           "Canada"
          ],
          [
           "Canada"
          ],
          [
           "Canada"
          ],
          [
           "Canada"
          ],
          [
           "Canada"
          ],
          [
           "Canada"
          ],
          [
           "Canada"
          ],
          [
           "Canada"
          ],
          [
           "Canada"
          ],
          [
           "Canada"
          ],
          [
           "Canada"
          ],
          [
           "Canada"
          ],
          [
           "Canada"
          ],
          [
           "Canada"
          ],
          [
           "Canada"
          ],
          [
           "Canada"
          ],
          [
           "Canada"
          ],
          [
           "Canada"
          ],
          [
           "Canada"
          ],
          [
           "Canada"
          ],
          [
           "Canada"
          ],
          [
           "Canada"
          ],
          [
           "Canada"
          ],
          [
           "Canada"
          ],
          [
           "Canada"
          ],
          [
           "Canada"
          ],
          [
           "Canada"
          ],
          [
           "Canada"
          ],
          [
           "Canada"
          ],
          [
           "Canada"
          ],
          [
           "Canada"
          ],
          [
           "Canada"
          ],
          [
           "Canada"
          ],
          [
           "Canada"
          ],
          [
           "Canada"
          ],
          [
           "Canada"
          ],
          [
           "Canada"
          ],
          [
           "Canada"
          ],
          [
           "Canada"
          ],
          [
           "Canada"
          ],
          [
           "Canada"
          ],
          [
           "Canada"
          ],
          [
           "Canada"
          ],
          [
           "Canada"
          ],
          [
           "Canada"
          ],
          [
           "Canada"
          ],
          [
           "Canada"
          ],
          [
           "Canada"
          ],
          [
           "Canada"
          ],
          [
           "Canada"
          ],
          [
           "Canada"
          ],
          [
           "Canada"
          ],
          [
           "Canada"
          ],
          [
           "Canada"
          ],
          [
           "Canada"
          ],
          [
           "Canada"
          ],
          [
           "Canada"
          ],
          [
           "Canada"
          ],
          [
           "Canada"
          ],
          [
           "Canada"
          ],
          [
           "Canada"
          ],
          [
           "Canada"
          ],
          [
           "Canada"
          ],
          [
           "Canada"
          ],
          [
           "Canada"
          ],
          [
           "Canada"
          ],
          [
           "Canada"
          ],
          [
           "Canada"
          ],
          [
           "Canada"
          ],
          [
           "Canada"
          ],
          [
           "Canada"
          ],
          [
           "Canada"
          ],
          [
           "Canada"
          ],
          [
           "Canada"
          ],
          [
           "Canada"
          ],
          [
           "Canada"
          ],
          [
           "Canada"
          ],
          [
           "Canada"
          ],
          [
           "Canada"
          ],
          [
           "Canada"
          ],
          [
           "Canada"
          ],
          [
           "Canada"
          ],
          [
           "Canada"
          ],
          [
           "Canada"
          ],
          [
           "Canada"
          ],
          [
           "Canada"
          ],
          [
           "Canada"
          ],
          [
           "Canada"
          ],
          [
           "Canada"
          ],
          [
           "Canada"
          ],
          [
           "Canada"
          ],
          [
           "Canada"
          ],
          [
           "Canada"
          ],
          [
           "Canada"
          ],
          [
           "Canada"
          ],
          [
           "Canada"
          ],
          [
           "Canada"
          ],
          [
           "Canada"
          ],
          [
           "Canada"
          ],
          [
           "Canada"
          ],
          [
           "Canada"
          ],
          [
           "Canada"
          ],
          [
           "Canada"
          ],
          [
           "Canada"
          ],
          [
           "Canada"
          ],
          [
           "Canada"
          ],
          [
           "Canada"
          ],
          [
           "Canada"
          ]
         ],
         "hovertemplate":"Country Name=%{customdata[0]}<br>Year=%{x}<br>Debt to GDP Ratio=%{y}<extra><\/extra>",
         "legendgroup":"Canada",
         "marker":{
          "color":"#00cc96",
          "symbol":"circle"
         },
         "mode":"markers",
         "name":"Canada",
         "showlegend":true,
         "x":[
          "1800",
          "1801",
          "1802",
          "1803",
          "1804",
          "1805",
          "1806",
          "1807",
          "1808",
          "1809",
          "1810",
          "1811",
          "1812",
          "1813",
          "1814",
          "1815",
          "1816",
          "1817",
          "1818",
          "1819",
          "1820",
          "1821",
          "1822",
          "1823",
          "1824",
          "1825",
          "1826",
          "1827",
          "1828",
          "1829",
          "1830",
          "1831",
          "1832",
          "1833",
          "1834",
          "1835",
          "1836",
          "1837",
          "1838",
          "1839",
          "1840",
          "1841",
          "1842",
          "1843",
          "1844",
          "1845",
          "1846",
          "1847",
          "1848",
          "1849",
          "1850",
          "1851",
          "1852",
          "1853",
          "1854",
          "1855",
          "1856",
          "1857",
          "1858",
          "1859",
          "1860",
          "1861",
          "1862",
          "1863",
          "1864",
          "1865",
          "1866",
          "1867",
          "1868",
          "1869",
          "1870",
          "1871",
          "1872",
          "1873",
          "1874",
          "1875",
          "1876",
          "1877",
          "1878",
          "1879",
          "1880",
          "1881",
          "1882",
          "1883",
          "1884",
          "1885",
          "1886",
          "1887",
          "1888",
          "1889",
          "1890",
          "1891",
          "1892",
          "1893",
          "1894",
          "1895",
          "1896",
          "1897",
          "1898",
          "1899",
          "1900",
          "1901",
          "1902",
          "1903",
          "1904",
          "1905",
          "1906",
          "1907",
          "1908",
          "1909",
          "1910",
          "1911",
          "1912",
          "1913",
          "1914",
          "1915",
          "1916",
          "1917",
          "1918",
          "1919",
          "1920",
          "1921",
          "1922",
          "1923",
          "1924",
          "1925",
          "1926",
          "1927",
          "1928",
          "1929",
          "1930",
          "1931",
          "1932",
          "1933",
          "1934",
          "1935",
          "1936",
          "1937",
          "1938",
          "1939",
          "1940",
          "1941",
          "1942",
          "1943",
          "1944",
          "1945",
          "1946",
          "1947",
          "1948",
          "1949",
          "1950",
          "1951",
          "1952",
          "1953",
          "1954",
          "1955",
          "1956",
          "1957",
          "1958",
          "1959",
          "1960",
          "1961",
          "1962",
          "1963",
          "1964",
          "1965",
          "1966",
          "1967",
          "1968",
          "1969",
          "1970",
          "1971",
          "1972",
          "1973",
          "1974",
          "1975",
          "1976",
          "1977",
          "1978",
          "1979",
          "1980",
          "1981",
          "1982",
          "1983",
          "1984",
          "1985",
          "1986",
          "1987",
          "1988",
          "1989",
          "1990",
          "1991",
          "1992",
          "1993",
          "1994",
          "1995",
          "1996",
          "1997",
          "1998",
          "1999",
          "2000",
          "2001",
          "2002",
          "2003",
          "2004",
          "2005",
          "2006",
          "2007",
          "2008",
          "2009",
          "2010",
          "2011",
          "2012",
          "2013",
          "2014",
          "2015"
         ],
         "xaxis":"x",
         "y":[
          null,
          null,
          null,
          null,
          null,
          null,
          null,
          null,
          null,
          null,
          null,
          null,
          null,
          null,
          null,
          null,
          null,
          null,
          null,
          null,
          null,
          null,
          null,
          null,
          null,
          null,
          null,
          null,
          null,
          null,
          null,
          null,
          null,
          null,
          null,
          null,
          null,
          null,
          null,
          null,
          null,
          null,
          null,
          null,
          null,
          null,
          null,
          null,
          null,
          null,
          null,
          null,
          null,
          null,
          null,
          null,
          null,
          null,
          null,
          null,
          null,
          null,
          null,
          null,
          null,
          null,
          null,
          null,
          null,
          null,
          29.0120230005227,
          28.1075842015992,
          27.7218868768165,
          27.470274702747,
          29.4541709577755,
          33.8121546961326,
          39.3644771164335,
          37.9572118702554,
          41.015625,
          40.8896877106268,
          38.5892116182573,
          33.4095305081765,
          30.2148973986104,
          36.9582992641047,
          42.0369104579631,
          45.4463480613165,
          44.7654717317639,
          42.5462281132384,
          41.5675075360939,
          39.3412625800549,
          37.9340531076744,
          37.2423596304193,
          37.5553334285306,
          39.2731535756155,
          42.3702793982192,
          44.3637511840859,
          44.16354556804,
          40.0278940027894,
          37.561736417988,
          34.8668280871671,
          32.1798545294247,
          29.9788028666599,
          25.1875669882101,
          24.6986929214055,
          24.4650854204677,
          22.6955563716489,
          19.3983878366865,
          18.7478301122555,
          22.8564518079574,
          20.9976608823369,
          19.2307692307692,
          20.7325810496149,
          18.4450058141866,
          20.7429756741467,
          30.6297476108797,
          36.2270326564011,
          43.4822832824498,
          46.8699115709311,
          61.9030857679221,
          68.1870220268352,
          58.3888241221917,
          74.0831655947764,
          75.5568152294575,
          70.664939740522,
          72.464733977563,
          64.8557759673319,
          62.9032258064516,
          57.777378169394,
          53.1735537190083,
          53.2008470434924,
          60.7867132867133,
          79.6079266993394,
          102.307288935501,
          117.86941580756,
          108.289241622575,
          105.161590327831,
          98.4246870953819,
          87.9412325892005,
          90.8383915022762,
          90.9802526240882,
          91.0025323998212,
          91.5841584158416,
          93.7359961032635,
          113.598118157966,
          131.709993247806,
          155.466576751243,
          153.782078249895,
          131.611370889928,
          112.966664517377,
          103.309523809524,
          87.6485029687461,
          76.4324936797422,
          69.9733606871743,
          67.1148891434859,
          68.1984162853954,
          66.3793222844589,
          58.3372726439879,
          57.5657731183003,
          63.0234449028925,
          64.1012380088432,
          64.7995835139638,
          67.2825959987804,
          66.5641992156779,
          65.3024040148317,
          61.9533783215912,
          58.241575169023,
          57.0055188976016,
          56.9581065687995,
          56.2553023015699,
          54.362511194136,
          56.6790989148724,
          57.825283416899,
          56.6242190068648,
          52.2700568097789,
          49.4455448143523,
          49.8195823416309,
          42.7866375630198,
          44.2483489730298,
          47.0634690414456,
          45.0623960821138,
          45.409787539274,
          46.5576906285143,
          52.2600588924389,
          57.8368794258312,
          60.8662320973882,
          65.8819754267677,
          70.101448297959,
          70.5475656744229,
          70.5156673745702,
          71.7590534980233,
          74.5314724200136,
          81.5361659977234,
          89.1831202351095,
          95.0392689844858,
          97.7848201472565,
          100.403873226269,
          100.572680079765,
          95.5912255974652,
          93.6139635867043,
          89.2730990705417,
          80.705927175747,
          81.750452650361,
          79.8879652142331,
          76.1808824176307,
          72.1352816828403,
          70.8678304169007,
          70.1258605541992,
          66.8440807050635,
          67.8343153310832,
          79.2833194565401,
          81.097266760121,
          81.5134686802405,
          84.8399282864679,
          86.0798554904283,
          86.2013144163609,
          91.4993183037461
         ],
         "yaxis":"y",
         "type":"scattergl"
        },
        {
         "customdata":[
          [
           "China"
          ],
          [
           "China"
          ],
          [
           "China"
          ],
          [
           "China"
          ],
          [
           "China"
          ],
          [
           "China"
          ],
          [
           "China"
          ],
          [
           "China"
          ],
          [
           "China"
          ],
          [
           "China"
          ],
          [
           "China"
          ],
          [
           "China"
          ],
          [
           "China"
          ],
          [
           "China"
          ],
          [
           "China"
          ],
          [
           "China"
          ],
          [
           "China"
          ],
          [
           "China"
          ],
          [
           "China"
          ],
          [
           "China"
          ],
          [
           "China"
          ],
          [
           "China"
          ],
          [
           "China"
          ],
          [
           "China"
          ],
          [
           "China"
          ],
          [
           "China"
          ],
          [
           "China"
          ],
          [
           "China"
          ],
          [
           "China"
          ],
          [
           "China"
          ],
          [
           "China"
          ],
          [
           "China"
          ],
          [
           "China"
          ],
          [
           "China"
          ],
          [
           "China"
          ],
          [
           "China"
          ],
          [
           "China"
          ],
          [
           "China"
          ],
          [
           "China"
          ],
          [
           "China"
          ],
          [
           "China"
          ],
          [
           "China"
          ],
          [
           "China"
          ],
          [
           "China"
          ],
          [
           "China"
          ],
          [
           "China"
          ],
          [
           "China"
          ],
          [
           "China"
          ],
          [
           "China"
          ],
          [
           "China"
          ],
          [
           "China"
          ],
          [
           "China"
          ],
          [
           "China"
          ],
          [
           "China"
          ],
          [
           "China"
          ],
          [
           "China"
          ],
          [
           "China"
          ],
          [
           "China"
          ],
          [
           "China"
          ],
          [
           "China"
          ],
          [
           "China"
          ],
          [
           "China"
          ],
          [
           "China"
          ],
          [
           "China"
          ],
          [
           "China"
          ],
          [
           "China"
          ],
          [
           "China"
          ],
          [
           "China"
          ],
          [
           "China"
          ],
          [
           "China"
          ],
          [
           "China"
          ],
          [
           "China"
          ],
          [
           "China"
          ],
          [
           "China"
          ],
          [
           "China"
          ],
          [
           "China"
          ],
          [
           "China"
          ],
          [
           "China"
          ],
          [
           "China"
          ],
          [
           "China"
          ],
          [
           "China"
          ],
          [
           "China"
          ],
          [
           "China"
          ],
          [
           "China"
          ],
          [
           "China"
          ],
          [
           "China"
          ],
          [
           "China"
          ],
          [
           "China"
          ],
          [
           "China"
          ],
          [
           "China"
          ],
          [
           "China"
          ],
          [
           "China"
          ],
          [
           "China"
          ],
          [
           "China"
          ],
          [
           "China"
          ],
          [
           "China"
          ],
          [
           "China"
          ],
          [
           "China"
          ],
          [
           "China"
          ],
          [
           "China"
          ],
          [
           "China"
          ],
          [
           "China"
          ],
          [
           "China"
          ],
          [
           "China"
          ],
          [
           "China"
          ],
          [
           "China"
          ],
          [
           "China"
          ],
          [
           "China"
          ],
          [
           "China"
          ],
          [
           "China"
          ],
          [
           "China"
          ],
          [
           "China"
          ],
          [
           "China"
          ],
          [
           "China"
          ],
          [
           "China"
          ],
          [
           "China"
          ],
          [
           "China"
          ],
          [
           "China"
          ],
          [
           "China"
          ],
          [
           "China"
          ],
          [
           "China"
          ],
          [
           "China"
          ],
          [
           "China"
          ],
          [
           "China"
          ],
          [
           "China"
          ],
          [
           "China"
          ],
          [
           "China"
          ],
          [
           "China"
          ],
          [
           "China"
          ],
          [
           "China"
          ],
          [
           "China"
          ],
          [
           "China"
          ],
          [
           "China"
          ],
          [
           "China"
          ],
          [
           "China"
          ],
          [
           "China"
          ],
          [
           "China"
          ],
          [
           "China"
          ],
          [
           "China"
          ],
          [
           "China"
          ],
          [
           "China"
          ],
          [
           "China"
          ],
          [
           "China"
          ],
          [
           "China"
          ],
          [
           "China"
          ],
          [
           "China"
          ],
          [
           "China"
          ],
          [
           "China"
          ],
          [
           "China"
          ],
          [
           "China"
          ],
          [
           "China"
          ],
          [
           "China"
          ],
          [
           "China"
          ],
          [
           "China"
          ],
          [
           "China"
          ],
          [
           "China"
          ],
          [
           "China"
          ],
          [
           "China"
          ],
          [
           "China"
          ],
          [
           "China"
          ],
          [
           "China"
          ],
          [
           "China"
          ],
          [
           "China"
          ],
          [
           "China"
          ],
          [
           "China"
          ],
          [
           "China"
          ],
          [
           "China"
          ],
          [
           "China"
          ],
          [
           "China"
          ],
          [
           "China"
          ],
          [
           "China"
          ],
          [
           "China"
          ],
          [
           "China"
          ],
          [
           "China"
          ],
          [
           "China"
          ],
          [
           "China"
          ],
          [
           "China"
          ],
          [
           "China"
          ],
          [
           "China"
          ],
          [
           "China"
          ],
          [
           "China"
          ],
          [
           "China"
          ],
          [
           "China"
          ],
          [
           "China"
          ],
          [
           "China"
          ],
          [
           "China"
          ],
          [
           "China"
          ],
          [
           "China"
          ],
          [
           "China"
          ],
          [
           "China"
          ],
          [
           "China"
          ],
          [
           "China"
          ],
          [
           "China"
          ],
          [
           "China"
          ],
          [
           "China"
          ],
          [
           "China"
          ],
          [
           "China"
          ],
          [
           "China"
          ],
          [
           "China"
          ],
          [
           "China"
          ],
          [
           "China"
          ],
          [
           "China"
          ],
          [
           "China"
          ],
          [
           "China"
          ],
          [
           "China"
          ],
          [
           "China"
          ],
          [
           "China"
          ],
          [
           "China"
          ],
          [
           "China"
          ],
          [
           "China"
          ],
          [
           "China"
          ],
          [
           "China"
          ],
          [
           "China"
          ],
          [
           "China"
          ],
          [
           "China"
          ],
          [
           "China"
          ]
         ],
         "hovertemplate":"Country Name=%{customdata[0]}<br>Year=%{x}<br>Debt to GDP Ratio=%{y}<extra><\/extra>",
         "legendgroup":"China",
         "marker":{
          "color":"#ab63fa",
          "symbol":"circle"
         },
         "mode":"markers",
         "name":"China",
         "showlegend":true,
         "x":[
          "1800",
          "1801",
          "1802",
          "1803",
          "1804",
          "1805",
          "1806",
          "1807",
          "1808",
          "1809",
          "1810",
          "1811",
          "1812",
          "1813",
          "1814",
          "1815",
          "1816",
          "1817",
          "1818",
          "1819",
          "1820",
          "1821",
          "1822",
          "1823",
          "1824",
          "1825",
          "1826",
          "1827",
          "1828",
          "1829",
          "1830",
          "1831",
          "1832",
          "1833",
          "1834",
          "1835",
          "1836",
          "1837",
          "1838",
          "1839",
          "1840",
          "1841",
          "1842",
          "1843",
          "1844",
          "1845",
          "1846",
          "1847",
          "1848",
          "1849",
          "1850",
          "1851",
          "1852",
          "1853",
          "1854",
          "1855",
          "1856",
          "1857",
          "1858",
          "1859",
          "1860",
          "1861",
          "1862",
          "1863",
          "1864",
          "1865",
          "1866",
          "1867",
          "1868",
          "1869",
          "1870",
          "1871",
          "1872",
          "1873",
          "1874",
          "1875",
          "1876",
          "1877",
          "1878",
          "1879",
          "1880",
          "1881",
          "1882",
          "1883",
          "1884",
          "1885",
          "1886",
          "1887",
          "1888",
          "1889",
          "1890",
          "1891",
          "1892",
          "1893",
          "1894",
          "1895",
          "1896",
          "1897",
          "1898",
          "1899",
          "1900",
          "1901",
          "1902",
          "1903",
          "1904",
          "1905",
          "1906",
          "1907",
          "1908",
          "1909",
          "1910",
          "1911",
          "1912",
          "1913",
          "1914",
          "1915",
          "1916",
          "1917",
          "1918",
          "1919",
          "1920",
          "1921",
          "1922",
          "1923",
          "1924",
          "1925",
          "1926",
          "1927",
          "1928",
          "1929",
          "1930",
          "1931",
          "1932",
          "1933",
          "1934",
          "1935",
          "1936",
          "1937",
          "1938",
          "1939",
          "1940",
          "1941",
          "1942",
          "1943",
          "1944",
          "1945",
          "1946",
          "1947",
          "1948",
          "1949",
          "1950",
          "1951",
          "1952",
          "1953",
          "1954",
          "1955",
          "1956",
          "1957",
          "1958",
          "1959",
          "1960",
          "1961",
          "1962",
          "1963",
          "1964",
          "1965",
          "1966",
          "1967",
          "1968",
          "1969",
          "1970",
          "1971",
          "1972",
          "1973",
          "1974",
          "1975",
          "1976",
          "1977",
          "1978",
          "1979",
          "1980",
          "1981",
          "1982",
          "1983",
          "1984",
          "1985",
          "1986",
          "1987",
          "1988",
          "1989",
          "1990",
          "1991",
          "1992",
          "1993",
          "1994",
          "1995",
          "1996",
          "1997",
          "1998",
          "1999",
          "2000",
          "2001",
          "2002",
          "2003",
          "2004",
          "2005",
          "2006",
          "2007",
          "2008",
          "2009",
          "2010",
          "2011",
          "2012",
          "2013",
          "2014",
          "2015"
         ],
         "xaxis":"x",
         "y":[
          null,
          null,
          null,
          null,
          null,
          null,
          null,
          null,
          null,
          null,
          null,
          null,
          null,
          null,
          null,
          null,
          null,
          null,
          null,
          null,
          null,
          null,
          null,
          null,
          null,
          null,
          null,
          null,
          null,
          null,
          null,
          null,
          null,
          null,
          null,
          null,
          null,
          null,
          null,
          null,
          null,
          null,
          null,
          null,
          null,
          null,
          null,
          null,
          null,
          null,
          null,
          null,
          null,
          null,
          null,
          null,
          null,
          null,
          null,
          null,
          null,
          null,
          null,
          null,
          null,
          null,
          null,
          null,
          null,
          null,
          null,
          null,
          null,
          null,
          null,
          null,
          null,
          null,
          null,
          null,
          null,
          null,
          null,
          null,
          null,
          null,
          null,
          null,
          null,
          null,
          null,
          null,
          null,
          null,
          null,
          null,
          null,
          null,
          null,
          null,
          null,
          null,
          null,
          null,
          null,
          null,
          null,
          null,
          null,
          null,
          null,
          null,
          null,
          null,
          null,
          null,
          null,
          null,
          null,
          null,
          null,
          null,
          null,
          null,
          null,
          null,
          null,
          null,
          null,
          null,
          null,
          null,
          null,
          null,
          null,
          null,
          null,
          null,
          null,
          null,
          null,
          null,
          null,
          null,
          null,
          null,
          null,
          null,
          null,
          null,
          null,
          null,
          null,
          null,
          null,
          null,
          null,
          null,
          null,
          null,
          null,
          null,
          null,
          null,
          null,
          null,
          null,
          null,
          null,
          null,
          null,
          null,
          null,
          null,
          null,
          null,
          null,
          null,
          null,
          null,
          null,
          null,
          null,
          null,
          0.971136206213822,
          3.30522164264305,
          3.24081931183361,
          3.59908671730818,
          4.46059881373789,
          6.4970532173622,
          6.94778396404146,
          7.42832254107961,
          4.98078345666379,
          6.71309510236496,
          6.13720214160056,
          21.4472610864655,
          21.2587045245831,
          20.4481956542512,
          20.4963182884515,
          21.6875467028869,
          22.8089333684925,
          24.3842425951406,
          25.7109592211718,
          26.5740068842788,
          26.1683665960703,
          26.0984784775641,
          25.3819473053517,
          29.0355432523223,
          27.0002058697859,
          32.5567175430411,
          33.0897958631988,
          33.0862095544953,
          34.0214597623741,
          36.9283752959174,
          39.830932080445,
          42.9192832514333
         ],
         "yaxis":"y",
         "type":"scattergl"
        },
        {
         "customdata":[
          [
           "Italy"
          ],
          [
           "Italy"
          ],
          [
           "Italy"
          ],
          [
           "Italy"
          ],
          [
           "Italy"
          ],
          [
           "Italy"
          ],
          [
           "Italy"
          ],
          [
           "Italy"
          ],
          [
           "Italy"
          ],
          [
           "Italy"
          ],
          [
           "Italy"
          ],
          [
           "Italy"
          ],
          [
           "Italy"
          ],
          [
           "Italy"
          ],
          [
           "Italy"
          ],
          [
           "Italy"
          ],
          [
           "Italy"
          ],
          [
           "Italy"
          ],
          [
           "Italy"
          ],
          [
           "Italy"
          ],
          [
           "Italy"
          ],
          [
           "Italy"
          ],
          [
           "Italy"
          ],
          [
           "Italy"
          ],
          [
           "Italy"
          ],
          [
           "Italy"
          ],
          [
           "Italy"
          ],
          [
           "Italy"
          ],
          [
           "Italy"
          ],
          [
           "Italy"
          ],
          [
           "Italy"
          ],
          [
           "Italy"
          ],
          [
           "Italy"
          ],
          [
           "Italy"
          ],
          [
           "Italy"
          ],
          [
           "Italy"
          ],
          [
           "Italy"
          ],
          [
           "Italy"
          ],
          [
           "Italy"
          ],
          [
           "Italy"
          ],
          [
           "Italy"
          ],
          [
           "Italy"
          ],
          [
           "Italy"
          ],
          [
           "Italy"
          ],
          [
           "Italy"
          ],
          [
           "Italy"
          ],
          [
           "Italy"
          ],
          [
           "Italy"
          ],
          [
           "Italy"
          ],
          [
           "Italy"
          ],
          [
           "Italy"
          ],
          [
           "Italy"
          ],
          [
           "Italy"
          ],
          [
           "Italy"
          ],
          [
           "Italy"
          ],
          [
           "Italy"
          ],
          [
           "Italy"
          ],
          [
           "Italy"
          ],
          [
           "Italy"
          ],
          [
           "Italy"
          ],
          [
           "Italy"
          ],
          [
           "Italy"
          ],
          [
           "Italy"
          ],
          [
           "Italy"
          ],
          [
           "Italy"
          ],
          [
           "Italy"
          ],
          [
           "Italy"
          ],
          [
           "Italy"
          ],
          [
           "Italy"
          ],
          [
           "Italy"
          ],
          [
           "Italy"
          ],
          [
           "Italy"
          ],
          [
           "Italy"
          ],
          [
           "Italy"
          ],
          [
           "Italy"
          ],
          [
           "Italy"
          ],
          [
           "Italy"
          ],
          [
           "Italy"
          ],
          [
           "Italy"
          ],
          [
           "Italy"
          ],
          [
           "Italy"
          ],
          [
           "Italy"
          ],
          [
           "Italy"
          ],
          [
           "Italy"
          ],
          [
           "Italy"
          ],
          [
           "Italy"
          ],
          [
           "Italy"
          ],
          [
           "Italy"
          ],
          [
           "Italy"
          ],
          [
           "Italy"
          ],
          [
           "Italy"
          ],
          [
           "Italy"
          ],
          [
           "Italy"
          ],
          [
           "Italy"
          ],
          [
           "Italy"
          ],
          [
           "Italy"
          ],
          [
           "Italy"
          ],
          [
           "Italy"
          ],
          [
           "Italy"
          ],
          [
           "Italy"
          ],
          [
           "Italy"
          ],
          [
           "Italy"
          ],
          [
           "Italy"
          ],
          [
           "Italy"
          ],
          [
           "Italy"
          ],
          [
           "Italy"
          ],
          [
           "Italy"
          ],
          [
           "Italy"
          ],
          [
           "Italy"
          ],
          [
           "Italy"
          ],
          [
           "Italy"
          ],
          [
           "Italy"
          ],
          [
           "Italy"
          ],
          [
           "Italy"
          ],
          [
           "Italy"
          ],
          [
           "Italy"
          ],
          [
           "Italy"
          ],
          [
           "Italy"
          ],
          [
           "Italy"
          ],
          [
           "Italy"
          ],
          [
           "Italy"
          ],
          [
           "Italy"
          ],
          [
           "Italy"
          ],
          [
           "Italy"
          ],
          [
           "Italy"
          ],
          [
           "Italy"
          ],
          [
           "Italy"
          ],
          [
           "Italy"
          ],
          [
           "Italy"
          ],
          [
           "Italy"
          ],
          [
           "Italy"
          ],
          [
           "Italy"
          ],
          [
           "Italy"
          ],
          [
           "Italy"
          ],
          [
           "Italy"
          ],
          [
           "Italy"
          ],
          [
           "Italy"
          ],
          [
           "Italy"
          ],
          [
           "Italy"
          ],
          [
           "Italy"
          ],
          [
           "Italy"
          ],
          [
           "Italy"
          ],
          [
           "Italy"
          ],
          [
           "Italy"
          ],
          [
           "Italy"
          ],
          [
           "Italy"
          ],
          [
           "Italy"
          ],
          [
           "Italy"
          ],
          [
           "Italy"
          ],
          [
           "Italy"
          ],
          [
           "Italy"
          ],
          [
           "Italy"
          ],
          [
           "Italy"
          ],
          [
           "Italy"
          ],
          [
           "Italy"
          ],
          [
           "Italy"
          ],
          [
           "Italy"
          ],
          [
           "Italy"
          ],
          [
           "Italy"
          ],
          [
           "Italy"
          ],
          [
           "Italy"
          ],
          [
           "Italy"
          ],
          [
           "Italy"
          ],
          [
           "Italy"
          ],
          [
           "Italy"
          ],
          [
           "Italy"
          ],
          [
           "Italy"
          ],
          [
           "Italy"
          ],
          [
           "Italy"
          ],
          [
           "Italy"
          ],
          [
           "Italy"
          ],
          [
           "Italy"
          ],
          [
           "Italy"
          ],
          [
           "Italy"
          ],
          [
           "Italy"
          ],
          [
           "Italy"
          ],
          [
           "Italy"
          ],
          [
           "Italy"
          ],
          [
           "Italy"
          ],
          [
           "Italy"
          ],
          [
           "Italy"
          ],
          [
           "Italy"
          ],
          [
           "Italy"
          ],
          [
           "Italy"
          ],
          [
           "Italy"
          ],
          [
           "Italy"
          ],
          [
           "Italy"
          ],
          [
           "Italy"
          ],
          [
           "Italy"
          ],
          [
           "Italy"
          ],
          [
           "Italy"
          ],
          [
           "Italy"
          ],
          [
           "Italy"
          ],
          [
           "Italy"
          ],
          [
           "Italy"
          ],
          [
           "Italy"
          ],
          [
           "Italy"
          ],
          [
           "Italy"
          ],
          [
           "Italy"
          ],
          [
           "Italy"
          ],
          [
           "Italy"
          ],
          [
           "Italy"
          ],
          [
           "Italy"
          ],
          [
           "Italy"
          ],
          [
           "Italy"
          ],
          [
           "Italy"
          ],
          [
           "Italy"
          ],
          [
           "Italy"
          ],
          [
           "Italy"
          ],
          [
           "Italy"
          ],
          [
           "Italy"
          ],
          [
           "Italy"
          ],
          [
           "Italy"
          ],
          [
           "Italy"
          ],
          [
           "Italy"
          ],
          [
           "Italy"
          ]
         ],
         "hovertemplate":"Country Name=%{customdata[0]}<br>Year=%{x}<br>Debt to GDP Ratio=%{y}<extra><\/extra>",
         "legendgroup":"Italy",
         "marker":{
          "color":"#FFA15A",
          "symbol":"circle"
         },
         "mode":"markers",
         "name":"Italy",
         "showlegend":true,
         "x":[
          "1800",
          "1801",
          "1802",
          "1803",
          "1804",
          "1805",
          "1806",
          "1807",
          "1808",
          "1809",
          "1810",
          "1811",
          "1812",
          "1813",
          "1814",
          "1815",
          "1816",
          "1817",
          "1818",
          "1819",
          "1820",
          "1821",
          "1822",
          "1823",
          "1824",
          "1825",
          "1826",
          "1827",
          "1828",
          "1829",
          "1830",
          "1831",
          "1832",
          "1833",
          "1834",
          "1835",
          "1836",
          "1837",
          "1838",
          "1839",
          "1840",
          "1841",
          "1842",
          "1843",
          "1844",
          "1845",
          "1846",
          "1847",
          "1848",
          "1849",
          "1850",
          "1851",
          "1852",
          "1853",
          "1854",
          "1855",
          "1856",
          "1857",
          "1858",
          "1859",
          "1860",
          "1861",
          "1862",
          "1863",
          "1864",
          "1865",
          "1866",
          "1867",
          "1868",
          "1869",
          "1870",
          "1871",
          "1872",
          "1873",
          "1874",
          "1875",
          "1876",
          "1877",
          "1878",
          "1879",
          "1880",
          "1881",
          "1882",
          "1883",
          "1884",
          "1885",
          "1886",
          "1887",
          "1888",
          "1889",
          "1890",
          "1891",
          "1892",
          "1893",
          "1894",
          "1895",
          "1896",
          "1897",
          "1898",
          "1899",
          "1900",
          "1901",
          "1902",
          "1903",
          "1904",
          "1905",
          "1906",
          "1907",
          "1908",
          "1909",
          "1910",
          "1911",
          "1912",
          "1913",
          "1914",
          "1915",
          "1916",
          "1917",
          "1918",
          "1919",
          "1920",
          "1921",
          "1922",
          "1923",
          "1924",
          "1925",
          "1926",
          "1927",
          "1928",
          "1929",
          "1930",
          "1931",
          "1932",
          "1933",
          "1934",
          "1935",
          "1936",
          "1937",
          "1938",
          "1939",
          "1940",
          "1941",
          "1942",
          "1943",
          "1944",
          "1945",
          "1946",
          "1947",
          "1948",
          "1949",
          "1950",
          "1951",
          "1952",
          "1953",
          "1954",
          "1955",
          "1956",
          "1957",
          "1958",
          "1959",
          "1960",
          "1961",
          "1962",
          "1963",
          "1964",
          "1965",
          "1966",
          "1967",
          "1968",
          "1969",
          "1970",
          "1971",
          "1972",
          "1973",
          "1974",
          "1975",
          "1976",
          "1977",
          "1978",
          "1979",
          "1980",
          "1981",
          "1982",
          "1983",
          "1984",
          "1985",
          "1986",
          "1987",
          "1988",
          "1989",
          "1990",
          "1991",
          "1992",
          "1993",
          "1994",
          "1995",
          "1996",
          "1997",
          "1998",
          "1999",
          "2000",
          "2001",
          "2002",
          "2003",
          "2004",
          "2005",
          "2006",
          "2007",
          "2008",
          "2009",
          "2010",
          "2011",
          "2012",
          "2013",
          "2014",
          "2015"
         ],
         "xaxis":"x",
         "y":[
          null,
          null,
          null,
          null,
          null,
          null,
          null,
          null,
          null,
          null,
          null,
          null,
          null,
          null,
          null,
          null,
          null,
          null,
          null,
          null,
          null,
          null,
          null,
          null,
          null,
          null,
          null,
          null,
          null,
          null,
          null,
          null,
          null,
          null,
          null,
          null,
          null,
          null,
          null,
          null,
          null,
          null,
          null,
          null,
          null,
          null,
          null,
          null,
          null,
          null,
          null,
          null,
          null,
          null,
          null,
          null,
          null,
          null,
          null,
          null,
          null,
          39.4182813322566,
          40.9099011402123,
          51.8493900721721,
          61.1048907192872,
          68.0489295409882,
          69.257704910858,
          86.0901740505302,
          82.4599607154664,
          87.4744197878208,
          95.7842917374307,
          95.792755800814,
          88.7552971223475,
          79.6796531271816,
          78.6206668719663,
          89.7842641878406,
          101.305085911474,
          91.3649476294912,
          97.1508926870417,
          98.5786887144994,
          91.5818622245402,
          111.69787764847,
          111.434739552752,
          116.33072534835,
          117.159932478775,
          109.090313781485,
          105.902352117034,
          115.199610706453,
          119.924580196278,
          120.934540340501,
          105.807685251761,
          105.60873343901,
          116.890711737145,
          116.069768759001,
          124.712633353252,
          120.827891111976,
          123.04912053948,
          128.001879208106,
          117.023650566987,
          116.472080804475,
          109.76406673619,
          106.82629991545,
          110.208185200582,
          102.056926232603,
          103.70735175857,
          100.89244943795,
          95.5849110294225,
          85.7998289379215,
          90.2992682860962,
          84.4650459033283,
          87.1152408691576,
          79.315521048496,
          77.6951897082391,
          77.2419328473544,
          82.0028873285304,
          84.3117901938657,
          74.9225925877439,
          92.0250517503973,
          93.5947863858468,
          132.254402775143,
          159.720009405515,
          152.24266952778,
          140.920730223803,
          143.489280331116,
          142.817335725751,
          103.777619278848,
          89.3940448297042,
          99.6560055224631,
          97.7361288988865,
          97.422812259139,
          106.628008252699,
          101.3397230111,
          79.9918993269407,
          86.3515258773808,
          89.5009092522279,
          80.7179368727547,
          80.2261353455325,
          72.1432718315055,
          71.435531851461,
          69.3858944525043,
          72.559393889233,
          89.4411068664141,
          100.48234238956,
          102.520619696034,
          90.930739498361,
          72.4279947100991,
          39.8555151982879,
          24.2139448242317,
          26.9727313151239,
          29.5804989028408,
          29.4743976177609,
          29.9106510967744,
          31.6236828579822,
          32.4847633639441,
          34.0800311634123,
          33.8923204619192,
          32.9178304842481,
          32.1336291472198,
          32.0170806324962,
          33.1434514956837,
          31.4270172933646,
          30.0154237269155,
          28.9583568899419,
          27.1734878540744,
          27.2052061778928,
          28.3866041242981,
          33.440759923264,
          33.264663661135,
          35.8250531881877,
          36.5286608757254,
          37.1067817995426,
          41.9521552273039,
          47.7001500266326,
          50.6377562060689,
          50.1715185094917,
          56.6396066504373,
          56.2079534360718,
          55.2249298242348,
          59.4461413493643,
          58.2460735145371,
          56.0843791763098,
          58.459851914043,
          63.1425417806009,
          69.4034173687591,
          74.9010955574933,
          80.90156778121,
          85.1178408529161,
          89.1143859347246,
          90.8344973400192,
          93.3121320173651,
          95.2229017842478,
          98.5903454516894,
          105.490837531465,
          115.661837428412,
          117.865121605253,
          108.689247744126,
          117.711854738588,
          113.426445355868,
          110.80770514513,
          109.658759862173,
          105.109524508863,
          104.729800060051,
          101.922924310853,
          100.484939347528,
          100.089128208881,
          101.94049107017,
          102.557091691562,
          99.7758630973091,
          102.39029208064,
          112.51944524623,
          115.377924170232,
          116.498951730759,
          123.338680663945,
          129.004386473358,
          132.528477563198,
          132.712549469192
         ],
         "yaxis":"y",
         "type":"scattergl"
        },
        {
         "customdata":[
          [
           "South Africa"
          ],
          [
           "South Africa"
          ],
          [
           "South Africa"
          ],
          [
           "South Africa"
          ],
          [
           "South Africa"
          ],
          [
           "South Africa"
          ],
          [
           "South Africa"
          ],
          [
           "South Africa"
          ],
          [
           "South Africa"
          ],
          [
           "South Africa"
          ],
          [
           "South Africa"
          ],
          [
           "South Africa"
          ],
          [
           "South Africa"
          ],
          [
           "South Africa"
          ],
          [
           "South Africa"
          ],
          [
           "South Africa"
          ],
          [
           "South Africa"
          ],
          [
           "South Africa"
          ],
          [
           "South Africa"
          ],
          [
           "South Africa"
          ],
          [
           "South Africa"
          ],
          [
           "South Africa"
          ],
          [
           "South Africa"
          ],
          [
           "South Africa"
          ],
          [
           "South Africa"
          ],
          [
           "South Africa"
          ],
          [
           "South Africa"
          ],
          [
           "South Africa"
          ],
          [
           "South Africa"
          ],
          [
           "South Africa"
          ],
          [
           "South Africa"
          ],
          [
           "South Africa"
          ],
          [
           "South Africa"
          ],
          [
           "South Africa"
          ],
          [
           "South Africa"
          ],
          [
           "South Africa"
          ],
          [
           "South Africa"
          ],
          [
           "South Africa"
          ],
          [
           "South Africa"
          ],
          [
           "South Africa"
          ],
          [
           "South Africa"
          ],
          [
           "South Africa"
          ],
          [
           "South Africa"
          ],
          [
           "South Africa"
          ],
          [
           "South Africa"
          ],
          [
           "South Africa"
          ],
          [
           "South Africa"
          ],
          [
           "South Africa"
          ],
          [
           "South Africa"
          ],
          [
           "South Africa"
          ],
          [
           "South Africa"
          ],
          [
           "South Africa"
          ],
          [
           "South Africa"
          ],
          [
           "South Africa"
          ],
          [
           "South Africa"
          ],
          [
           "South Africa"
          ],
          [
           "South Africa"
          ],
          [
           "South Africa"
          ],
          [
           "South Africa"
          ],
          [
           "South Africa"
          ],
          [
           "South Africa"
          ],
          [
           "South Africa"
          ],
          [
           "South Africa"
          ],
          [
           "South Africa"
          ],
          [
           "South Africa"
          ],
          [
           "South Africa"
          ],
          [
           "South Africa"
          ],
          [
           "South Africa"
          ],
          [
           "South Africa"
          ],
          [
           "South Africa"
          ],
          [
           "South Africa"
          ],
          [
           "South Africa"
          ],
          [
           "South Africa"
          ],
          [
           "South Africa"
          ],
          [
           "South Africa"
          ],
          [
           "South Africa"
          ],
          [
           "South Africa"
          ],
          [
           "South Africa"
          ],
          [
           "South Africa"
          ],
          [
           "South Africa"
          ],
          [
           "South Africa"
          ],
          [
           "South Africa"
          ],
          [
           "South Africa"
          ],
          [
           "South Africa"
          ],
          [
           "South Africa"
          ],
          [
           "South Africa"
          ],
          [
           "South Africa"
          ],
          [
           "South Africa"
          ],
          [
           "South Africa"
          ],
          [
           "South Africa"
          ],
          [
           "South Africa"
          ],
          [
           "South Africa"
          ],
          [
           "South Africa"
          ],
          [
           "South Africa"
          ],
          [
           "South Africa"
          ],
          [
           "South Africa"
          ],
          [
           "South Africa"
          ],
          [
           "South Africa"
          ],
          [
           "South Africa"
          ],
          [
           "South Africa"
          ],
          [
           "South Africa"
          ],
          [
           "South Africa"
          ],
          [
           "South Africa"
          ],
          [
           "South Africa"
          ],
          [
           "South Africa"
          ],
          [
           "South Africa"
          ],
          [
           "South Africa"
          ],
          [
           "South Africa"
          ],
          [
           "South Africa"
          ],
          [
           "South Africa"
          ],
          [
           "South Africa"
          ],
          [
           "South Africa"
          ],
          [
           "South Africa"
          ],
          [
           "South Africa"
          ],
          [
           "South Africa"
          ],
          [
           "South Africa"
          ],
          [
           "South Africa"
          ],
          [
           "South Africa"
          ],
          [
           "South Africa"
          ],
          [
           "South Africa"
          ],
          [
           "South Africa"
          ],
          [
           "South Africa"
          ],
          [
           "South Africa"
          ],
          [
           "South Africa"
          ],
          [
           "South Africa"
          ],
          [
           "South Africa"
          ],
          [
           "South Africa"
          ],
          [
           "South Africa"
          ],
          [
           "South Africa"
          ],
          [
           "South Africa"
          ],
          [
           "South Africa"
          ],
          [
           "South Africa"
          ],
          [
           "South Africa"
          ],
          [
           "South Africa"
          ],
          [
           "South Africa"
          ],
          [
           "South Africa"
          ],
          [
           "South Africa"
          ],
          [
           "South Africa"
          ],
          [
           "South Africa"
          ],
          [
           "South Africa"
          ],
          [
           "South Africa"
          ],
          [
           "South Africa"
          ],
          [
           "South Africa"
          ],
          [
           "South Africa"
          ],
          [
           "South Africa"
          ],
          [
           "South Africa"
          ],
          [
           "South Africa"
          ],
          [
           "South Africa"
          ],
          [
           "South Africa"
          ],
          [
           "South Africa"
          ],
          [
           "South Africa"
          ],
          [
           "South Africa"
          ],
          [
           "South Africa"
          ],
          [
           "South Africa"
          ],
          [
           "South Africa"
          ],
          [
           "South Africa"
          ],
          [
           "South Africa"
          ],
          [
           "South Africa"
          ],
          [
           "South Africa"
          ],
          [
           "South Africa"
          ],
          [
           "South Africa"
          ],
          [
           "South Africa"
          ],
          [
           "South Africa"
          ],
          [
           "South Africa"
          ],
          [
           "South Africa"
          ],
          [
           "South Africa"
          ],
          [
           "South Africa"
          ],
          [
           "South Africa"
          ],
          [
           "South Africa"
          ],
          [
           "South Africa"
          ],
          [
           "South Africa"
          ],
          [
           "South Africa"
          ],
          [
           "South Africa"
          ],
          [
           "South Africa"
          ],
          [
           "South Africa"
          ],
          [
           "South Africa"
          ],
          [
           "South Africa"
          ],
          [
           "South Africa"
          ],
          [
           "South Africa"
          ],
          [
           "South Africa"
          ],
          [
           "South Africa"
          ],
          [
           "South Africa"
          ],
          [
           "South Africa"
          ],
          [
           "South Africa"
          ],
          [
           "South Africa"
          ],
          [
           "South Africa"
          ],
          [
           "South Africa"
          ],
          [
           "South Africa"
          ],
          [
           "South Africa"
          ],
          [
           "South Africa"
          ],
          [
           "South Africa"
          ],
          [
           "South Africa"
          ],
          [
           "South Africa"
          ],
          [
           "South Africa"
          ],
          [
           "South Africa"
          ],
          [
           "South Africa"
          ],
          [
           "South Africa"
          ],
          [
           "South Africa"
          ],
          [
           "South Africa"
          ],
          [
           "South Africa"
          ],
          [
           "South Africa"
          ],
          [
           "South Africa"
          ],
          [
           "South Africa"
          ],
          [
           "South Africa"
          ],
          [
           "South Africa"
          ],
          [
           "South Africa"
          ],
          [
           "South Africa"
          ],
          [
           "South Africa"
          ],
          [
           "South Africa"
          ],
          [
           "South Africa"
          ],
          [
           "South Africa"
          ],
          [
           "South Africa"
          ],
          [
           "South Africa"
          ],
          [
           "South Africa"
          ],
          [
           "South Africa"
          ],
          [
           "South Africa"
          ]
         ],
         "hovertemplate":"Country Name=%{customdata[0]}<br>Year=%{x}<br>Debt to GDP Ratio=%{y}<extra><\/extra>",
         "legendgroup":"South Africa",
         "marker":{
          "color":"#19d3f3",
          "symbol":"circle"
         },
         "mode":"markers",
         "name":"South Africa",
         "showlegend":true,
         "x":[
          "1800",
          "1801",
          "1802",
          "1803",
          "1804",
          "1805",
          "1806",
          "1807",
          "1808",
          "1809",
          "1810",
          "1811",
          "1812",
          "1813",
          "1814",
          "1815",
          "1816",
          "1817",
          "1818",
          "1819",
          "1820",
          "1821",
          "1822",
          "1823",
          "1824",
          "1825",
          "1826",
          "1827",
          "1828",
          "1829",
          "1830",
          "1831",
          "1832",
          "1833",
          "1834",
          "1835",
          "1836",
          "1837",
          "1838",
          "1839",
          "1840",
          "1841",
          "1842",
          "1843",
          "1844",
          "1845",
          "1846",
          "1847",
          "1848",
          "1849",
          "1850",
          "1851",
          "1852",
          "1853",
          "1854",
          "1855",
          "1856",
          "1857",
          "1858",
          "1859",
          "1860",
          "1861",
          "1862",
          "1863",
          "1864",
          "1865",
          "1866",
          "1867",
          "1868",
          "1869",
          "1870",
          "1871",
          "1872",
          "1873",
          "1874",
          "1875",
          "1876",
          "1877",
          "1878",
          "1879",
          "1880",
          "1881",
          "1882",
          "1883",
          "1884",
          "1885",
          "1886",
          "1887",
          "1888",
          "1889",
          "1890",
          "1891",
          "1892",
          "1893",
          "1894",
          "1895",
          "1896",
          "1897",
          "1898",
          "1899",
          "1900",
          "1901",
          "1902",
          "1903",
          "1904",
          "1905",
          "1906",
          "1907",
          "1908",
          "1909",
          "1910",
          "1911",
          "1912",
          "1913",
          "1914",
          "1915",
          "1916",
          "1917",
          "1918",
          "1919",
          "1920",
          "1921",
          "1922",
          "1923",
          "1924",
          "1925",
          "1926",
          "1927",
          "1928",
          "1929",
          "1930",
          "1931",
          "1932",
          "1933",
          "1934",
          "1935",
          "1936",
          "1937",
          "1938",
          "1939",
          "1940",
          "1941",
          "1942",
          "1943",
          "1944",
          "1945",
          "1946",
          "1947",
          "1948",
          "1949",
          "1950",
          "1951",
          "1952",
          "1953",
          "1954",
          "1955",
          "1956",
          "1957",
          "1958",
          "1959",
          "1960",
          "1961",
          "1962",
          "1963",
          "1964",
          "1965",
          "1966",
          "1967",
          "1968",
          "1969",
          "1970",
          "1971",
          "1972",
          "1973",
          "1974",
          "1975",
          "1976",
          "1977",
          "1978",
          "1979",
          "1980",
          "1981",
          "1982",
          "1983",
          "1984",
          "1985",
          "1986",
          "1987",
          "1988",
          "1989",
          "1990",
          "1991",
          "1992",
          "1993",
          "1994",
          "1995",
          "1996",
          "1997",
          "1998",
          "1999",
          "2000",
          "2001",
          "2002",
          "2003",
          "2004",
          "2005",
          "2006",
          "2007",
          "2008",
          "2009",
          "2010",
          "2011",
          "2012",
          "2013",
          "2014",
          "2015"
         ],
         "xaxis":"x",
         "y":[
          null,
          null,
          null,
          null,
          null,
          null,
          null,
          null,
          null,
          null,
          null,
          null,
          null,
          null,
          null,
          null,
          null,
          null,
          null,
          null,
          null,
          null,
          null,
          null,
          null,
          null,
          null,
          null,
          null,
          null,
          null,
          null,
          null,
          null,
          null,
          null,
          null,
          null,
          null,
          null,
          null,
          null,
          null,
          null,
          null,
          null,
          null,
          null,
          null,
          null,
          null,
          null,
          null,
          null,
          null,
          null,
          null,
          null,
          null,
          null,
          null,
          null,
          null,
          null,
          null,
          null,
          null,
          null,
          null,
          null,
          null,
          null,
          null,
          null,
          null,
          null,
          null,
          null,
          null,
          null,
          null,
          null,
          null,
          null,
          null,
          null,
          null,
          null,
          null,
          null,
          null,
          null,
          null,
          null,
          null,
          null,
          null,
          null,
          null,
          null,
          null,
          null,
          null,
          null,
          null,
          null,
          null,
          null,
          null,
          null,
          null,
          null,
          null,
          null,
          91.7029702970297,
          99.0358306188925,
          96.7230320699709,
          90.6986666666667,
          84.8269230769231,
          72.2051282051282,
          68.5627240143369,
          80.0244399185336,
          96.118451025057,
          92.104821802935,
          89.2865497076023,
          87.7951582867784,
          88,
          87.8103448275862,
          87.450915141431,
          89.6160267111853,
          99.6987295825771,
          113.674044265594,
          124.587982832618,
          112.734463276836,
          100.409317803661,
          87.6482558139535,
          72.0234680573664,
          68.8918918918919,
          68.4502369668246,
          68.7869955156951,
          64.9523809523809,
          66.2959641255605,
          67.8333333333333,
          71.5582450832073,
          74.4736091298146,
          78.4303630363036,
          78.3372021991448,
          72.2163355408389,
          66.8229426433915,
          66.8480954566315,
          63.3848568065908,
          61.6111111111111,
          59.3615591397849,
          57.6970056329677,
          56.6937086092715,
          55.5847080387536,
          53.8981324278438,
          53.8295716259788,
          55.4150731158605,
          53.919897741798,
          52.9199277543648,
          52.8106060606061,
          52.6425146510389,
          46.2226481392749,
          30.3484602917342,
          44.1114058355438,
          45.7104557640751,
          41.0956066717541,
          42.6719951436665,
          44.3603963996727,
          43.2956716789898,
          41.0915944214097,
          41.1241031092214,
          38.1921658739913,
          33.6983042048797,
          32.798484379833,
          42.467926610567,
          45.2615451958853,
          44.736418726873,
          41.9282460903318,
          33.284,
          27.4318,
          31.3229,
          28.7053,
          23.1982,
          26.3431,
          32.4962,
          33.4927,
          30.6096,
          33.3289,
          31.784,
          34.7358,
          34.7782,
          39.8476,
          46.4245,
          46.9691,
          44.3337,
          45.7577,
          45.8013,
          45.9312,
          43.3167994725359,
          42.4018108405726,
          35.5473130337272,
          35.4275188834229,
          34.3926648846727,
          33.212302669385,
          31.35511579863,
          27.0606996343213,
          26.5056691189724,
          30.0782756311917,
          34.6751901741189,
          38.2270950527159,
          40.9985340983476,
          43.9855931823734,
          46.8954182794083,
          49.7781289179369
         ],
         "yaxis":"y",
         "type":"scattergl"
        },
        {
         "customdata":[
          [
           "Mexico"
          ],
          [
           "Mexico"
          ],
          [
           "Mexico"
          ],
          [
           "Mexico"
          ],
          [
           "Mexico"
          ],
          [
           "Mexico"
          ],
          [
           "Mexico"
          ],
          [
           "Mexico"
          ],
          [
           "Mexico"
          ],
          [
           "Mexico"
          ],
          [
           "Mexico"
          ],
          [
           "Mexico"
          ],
          [
           "Mexico"
          ],
          [
           "Mexico"
          ],
          [
           "Mexico"
          ],
          [
           "Mexico"
          ],
          [
           "Mexico"
          ],
          [
           "Mexico"
          ],
          [
           "Mexico"
          ],
          [
           "Mexico"
          ],
          [
           "Mexico"
          ],
          [
           "Mexico"
          ],
          [
           "Mexico"
          ],
          [
           "Mexico"
          ],
          [
           "Mexico"
          ],
          [
           "Mexico"
          ],
          [
           "Mexico"
          ],
          [
           "Mexico"
          ],
          [
           "Mexico"
          ],
          [
           "Mexico"
          ],
          [
           "Mexico"
          ],
          [
           "Mexico"
          ],
          [
           "Mexico"
          ],
          [
           "Mexico"
          ],
          [
           "Mexico"
          ],
          [
           "Mexico"
          ],
          [
           "Mexico"
          ],
          [
           "Mexico"
          ],
          [
           "Mexico"
          ],
          [
           "Mexico"
          ],
          [
           "Mexico"
          ],
          [
           "Mexico"
          ],
          [
           "Mexico"
          ],
          [
           "Mexico"
          ],
          [
           "Mexico"
          ],
          [
           "Mexico"
          ],
          [
           "Mexico"
          ],
          [
           "Mexico"
          ],
          [
           "Mexico"
          ],
          [
           "Mexico"
          ],
          [
           "Mexico"
          ],
          [
           "Mexico"
          ],
          [
           "Mexico"
          ],
          [
           "Mexico"
          ],
          [
           "Mexico"
          ],
          [
           "Mexico"
          ],
          [
           "Mexico"
          ],
          [
           "Mexico"
          ],
          [
           "Mexico"
          ],
          [
           "Mexico"
          ],
          [
           "Mexico"
          ],
          [
           "Mexico"
          ],
          [
           "Mexico"
          ],
          [
           "Mexico"
          ],
          [
           "Mexico"
          ],
          [
           "Mexico"
          ],
          [
           "Mexico"
          ],
          [
           "Mexico"
          ],
          [
           "Mexico"
          ],
          [
           "Mexico"
          ],
          [
           "Mexico"
          ],
          [
           "Mexico"
          ],
          [
           "Mexico"
          ],
          [
           "Mexico"
          ],
          [
           "Mexico"
          ],
          [
           "Mexico"
          ],
          [
           "Mexico"
          ],
          [
           "Mexico"
          ],
          [
           "Mexico"
          ],
          [
           "Mexico"
          ],
          [
           "Mexico"
          ],
          [
           "Mexico"
          ],
          [
           "Mexico"
          ],
          [
           "Mexico"
          ],
          [
           "Mexico"
          ],
          [
           "Mexico"
          ],
          [
           "Mexico"
          ],
          [
           "Mexico"
          ],
          [
           "Mexico"
          ],
          [
           "Mexico"
          ],
          [
           "Mexico"
          ],
          [
           "Mexico"
          ],
          [
           "Mexico"
          ],
          [
           "Mexico"
          ],
          [
           "Mexico"
          ],
          [
           "Mexico"
          ],
          [
           "Mexico"
          ],
          [
           "Mexico"
          ],
          [
           "Mexico"
          ],
          [
           "Mexico"
          ],
          [
           "Mexico"
          ],
          [
           "Mexico"
          ],
          [
           "Mexico"
          ],
          [
           "Mexico"
          ],
          [
           "Mexico"
          ],
          [
           "Mexico"
          ],
          [
           "Mexico"
          ],
          [
           "Mexico"
          ],
          [
           "Mexico"
          ],
          [
           "Mexico"
          ],
          [
           "Mexico"
          ],
          [
           "Mexico"
          ],
          [
           "Mexico"
          ],
          [
           "Mexico"
          ],
          [
           "Mexico"
          ],
          [
           "Mexico"
          ],
          [
           "Mexico"
          ],
          [
           "Mexico"
          ],
          [
           "Mexico"
          ],
          [
           "Mexico"
          ],
          [
           "Mexico"
          ],
          [
           "Mexico"
          ],
          [
           "Mexico"
          ],
          [
           "Mexico"
          ],
          [
           "Mexico"
          ],
          [
           "Mexico"
          ],
          [
           "Mexico"
          ],
          [
           "Mexico"
          ],
          [
           "Mexico"
          ],
          [
           "Mexico"
          ],
          [
           "Mexico"
          ],
          [
           "Mexico"
          ],
          [
           "Mexico"
          ],
          [
           "Mexico"
          ],
          [
           "Mexico"
          ],
          [
           "Mexico"
          ],
          [
           "Mexico"
          ],
          [
           "Mexico"
          ],
          [
           "Mexico"
          ],
          [
           "Mexico"
          ],
          [
           "Mexico"
          ],
          [
           "Mexico"
          ],
          [
           "Mexico"
          ],
          [
           "Mexico"
          ],
          [
           "Mexico"
          ],
          [
           "Mexico"
          ],
          [
           "Mexico"
          ],
          [
           "Mexico"
          ],
          [
           "Mexico"
          ],
          [
           "Mexico"
          ],
          [
           "Mexico"
          ],
          [
           "Mexico"
          ],
          [
           "Mexico"
          ],
          [
           "Mexico"
          ],
          [
           "Mexico"
          ],
          [
           "Mexico"
          ],
          [
           "Mexico"
          ],
          [
           "Mexico"
          ],
          [
           "Mexico"
          ],
          [
           "Mexico"
          ],
          [
           "Mexico"
          ],
          [
           "Mexico"
          ],
          [
           "Mexico"
          ],
          [
           "Mexico"
          ],
          [
           "Mexico"
          ],
          [
           "Mexico"
          ],
          [
           "Mexico"
          ],
          [
           "Mexico"
          ],
          [
           "Mexico"
          ],
          [
           "Mexico"
          ],
          [
           "Mexico"
          ],
          [
           "Mexico"
          ],
          [
           "Mexico"
          ],
          [
           "Mexico"
          ],
          [
           "Mexico"
          ],
          [
           "Mexico"
          ],
          [
           "Mexico"
          ],
          [
           "Mexico"
          ],
          [
           "Mexico"
          ],
          [
           "Mexico"
          ],
          [
           "Mexico"
          ],
          [
           "Mexico"
          ],
          [
           "Mexico"
          ],
          [
           "Mexico"
          ],
          [
           "Mexico"
          ],
          [
           "Mexico"
          ],
          [
           "Mexico"
          ],
          [
           "Mexico"
          ],
          [
           "Mexico"
          ],
          [
           "Mexico"
          ],
          [
           "Mexico"
          ],
          [
           "Mexico"
          ],
          [
           "Mexico"
          ],
          [
           "Mexico"
          ],
          [
           "Mexico"
          ],
          [
           "Mexico"
          ],
          [
           "Mexico"
          ],
          [
           "Mexico"
          ],
          [
           "Mexico"
          ],
          [
           "Mexico"
          ],
          [
           "Mexico"
          ],
          [
           "Mexico"
          ],
          [
           "Mexico"
          ],
          [
           "Mexico"
          ],
          [
           "Mexico"
          ],
          [
           "Mexico"
          ],
          [
           "Mexico"
          ],
          [
           "Mexico"
          ],
          [
           "Mexico"
          ],
          [
           "Mexico"
          ],
          [
           "Mexico"
          ],
          [
           "Mexico"
          ],
          [
           "Mexico"
          ],
          [
           "Mexico"
          ],
          [
           "Mexico"
          ],
          [
           "Mexico"
          ]
         ],
         "hovertemplate":"Country Name=%{customdata[0]}<br>Year=%{x}<br>Debt to GDP Ratio=%{y}<extra><\/extra>",
         "legendgroup":"Mexico",
         "marker":{
          "color":"#FF6692",
          "symbol":"circle"
         },
         "mode":"markers",
         "name":"Mexico",
         "showlegend":true,
         "x":[
          "1800",
          "1801",
          "1802",
          "1803",
          "1804",
          "1805",
          "1806",
          "1807",
          "1808",
          "1809",
          "1810",
          "1811",
          "1812",
          "1813",
          "1814",
          "1815",
          "1816",
          "1817",
          "1818",
          "1819",
          "1820",
          "1821",
          "1822",
          "1823",
          "1824",
          "1825",
          "1826",
          "1827",
          "1828",
          "1829",
          "1830",
          "1831",
          "1832",
          "1833",
          "1834",
          "1835",
          "1836",
          "1837",
          "1838",
          "1839",
          "1840",
          "1841",
          "1842",
          "1843",
          "1844",
          "1845",
          "1846",
          "1847",
          "1848",
          "1849",
          "1850",
          "1851",
          "1852",
          "1853",
          "1854",
          "1855",
          "1856",
          "1857",
          "1858",
          "1859",
          "1860",
          "1861",
          "1862",
          "1863",
          "1864",
          "1865",
          "1866",
          "1867",
          "1868",
          "1869",
          "1870",
          "1871",
          "1872",
          "1873",
          "1874",
          "1875",
          "1876",
          "1877",
          "1878",
          "1879",
          "1880",
          "1881",
          "1882",
          "1883",
          "1884",
          "1885",
          "1886",
          "1887",
          "1888",
          "1889",
          "1890",
          "1891",
          "1892",
          "1893",
          "1894",
          "1895",
          "1896",
          "1897",
          "1898",
          "1899",
          "1900",
          "1901",
          "1902",
          "1903",
          "1904",
          "1905",
          "1906",
          "1907",
          "1908",
          "1909",
          "1910",
          "1911",
          "1912",
          "1913",
          "1914",
          "1915",
          "1916",
          "1917",
          "1918",
          "1919",
          "1920",
          "1921",
          "1922",
          "1923",
          "1924",
          "1925",
          "1926",
          "1927",
          "1928",
          "1929",
          "1930",
          "1931",
          "1932",
          "1933",
          "1934",
          "1935",
          "1936",
          "1937",
          "1938",
          "1939",
          "1940",
          "1941",
          "1942",
          "1943",
          "1944",
          "1945",
          "1946",
          "1947",
          "1948",
          "1949",
          "1950",
          "1951",
          "1952",
          "1953",
          "1954",
          "1955",
          "1956",
          "1957",
          "1958",
          "1959",
          "1960",
          "1961",
          "1962",
          "1963",
          "1964",
          "1965",
          "1966",
          "1967",
          "1968",
          "1969",
          "1970",
          "1971",
          "1972",
          "1973",
          "1974",
          "1975",
          "1976",
          "1977",
          "1978",
          "1979",
          "1980",
          "1981",
          "1982",
          "1983",
          "1984",
          "1985",
          "1986",
          "1987",
          "1988",
          "1989",
          "1990",
          "1991",
          "1992",
          "1993",
          "1994",
          "1995",
          "1996",
          "1997",
          "1998",
          "1999",
          "2000",
          "2001",
          "2002",
          "2003",
          "2004",
          "2005",
          "2006",
          "2007",
          "2008",
          "2009",
          "2010",
          "2011",
          "2012",
          "2013",
          "2014",
          "2015"
         ],
         "xaxis":"x",
         "y":[
          null,
          null,
          null,
          null,
          null,
          null,
          null,
          null,
          null,
          null,
          null,
          null,
          null,
          null,
          null,
          null,
          null,
          null,
          null,
          null,
          null,
          null,
          null,
          null,
          null,
          null,
          null,
          null,
          null,
          null,
          null,
          null,
          null,
          null,
          null,
          null,
          null,
          null,
          null,
          null,
          null,
          null,
          null,
          null,
          null,
          null,
          null,
          null,
          null,
          null,
          null,
          null,
          null,
          null,
          null,
          null,
          null,
          null,
          null,
          null,
          null,
          null,
          null,
          null,
          null,
          null,
          null,
          null,
          null,
          null,
          null,
          null,
          null,
          null,
          null,
          null,
          null,
          null,
          null,
          null,
          null,
          null,
          null,
          null,
          null,
          null,
          null,
          null,
          null,
          null,
          null,
          null,
          null,
          null,
          null,
          null,
          null,
          null,
          null,
          null,
          null,
          null,
          null,
          null,
          null,
          null,
          null,
          null,
          null,
          null,
          null,
          null,
          null,
          null,
          11.2792224848962,
          11.1601796407186,
          11.0476416212373,
          11.2134173795588,
          15.0213857998289,
          15.0934579439252,
          14.7259745272096,
          14.6104491292392,
          32.9520697167756,
          31.0011966493817,
          35.0701489315778,
          17.5644206909716,
          17.1731577985006,
          21.4277120513335,
          21.5922678357912,
          22.9816985399959,
          24.5522707797772,
          28.117591275486,
          37.6419213973799,
          34.8625066102591,
          32.1561069621778,
          30.4361233480176,
          26.7358772914328,
          22.3029411764706,
          20.3639609943689,
          19.2652536929994,
          21.6656564432052,
          21.1275996533796,
          20.8145304746747,
          10.4618335251247,
          6.39061752034466,
          6.99212292132646,
          null,
          0.0722044934403507,
          0.0785474759070723,
          0.0801749271137026,
          0.0782676754500392,
          null,
          null,
          null,
          3.49951309240424,
          4.0339577804182,
          4.19597745821998,
          3.98067779977328,
          4.10391468826355,
          4.05932998039383,
          4.6267759528625,
          4.50120067422476,
          null,
          null,
          null,
          5.71112856181288,
          8.98497960941601,
          8.69253134374279,
          11.7804800782531,
          null,
          17.0511,
          17.0233,
          17.8714,
          19.9557,
          21.6798,
          24.4317,
          31.3435,
          41.4919,
          38.9524,
          35.7782,
          31.4137,
          null,
          47.5522,
          57.4069,
          53.9778,
          51.9132,
          78.1448,
          77.6509,
          73.2093,
          59.7947,
          53.5187,
          44.0691,
          34.2539,
          31.4806,
          30.9095,
          56.8034,
          46.5869059116188,
          42.611256524622,
          44.0939094220829,
          46.3182335443887,
          41.8499505067964,
          41.1107762442298,
          43.4660996863675,
          44.7471639177726,
          40.8445934155735,
          39.0188204030331,
          37.7524853084487,
          37.5339375331576,
          42.8273315710826,
          43.9241866618858,
          42.2294449566621,
          43.1994354732541,
          43.1709760843807,
          46.3520215538119,
          49.498875227633,
          54.0277924040666
         ],
         "yaxis":"y",
         "type":"scattergl"
        },
        {
         "customdata":[
          [
           "Euro area"
          ],
          [
           "Euro area"
          ],
          [
           "Euro area"
          ],
          [
           "Euro area"
          ],
          [
           "Euro area"
          ],
          [
           "Euro area"
          ],
          [
           "Euro area"
          ],
          [
           "Euro area"
          ],
          [
           "Euro area"
          ],
          [
           "Euro area"
          ],
          [
           "Euro area"
          ],
          [
           "Euro area"
          ],
          [
           "Euro area"
          ],
          [
           "Euro area"
          ],
          [
           "Euro area"
          ],
          [
           "Euro area"
          ],
          [
           "Euro area"
          ],
          [
           "Euro area"
          ],
          [
           "Euro area"
          ],
          [
           "Euro area"
          ],
          [
           "Euro area"
          ],
          [
           "Euro area"
          ],
          [
           "Euro area"
          ],
          [
           "Euro area"
          ],
          [
           "Euro area"
          ],
          [
           "Euro area"
          ],
          [
           "Euro area"
          ],
          [
           "Euro area"
          ],
          [
           "Euro area"
          ],
          [
           "Euro area"
          ],
          [
           "Euro area"
          ],
          [
           "Euro area"
          ],
          [
           "Euro area"
          ],
          [
           "Euro area"
          ],
          [
           "Euro area"
          ],
          [
           "Euro area"
          ],
          [
           "Euro area"
          ],
          [
           "Euro area"
          ],
          [
           "Euro area"
          ],
          [
           "Euro area"
          ],
          [
           "Euro area"
          ],
          [
           "Euro area"
          ],
          [
           "Euro area"
          ],
          [
           "Euro area"
          ],
          [
           "Euro area"
          ],
          [
           "Euro area"
          ],
          [
           "Euro area"
          ],
          [
           "Euro area"
          ],
          [
           "Euro area"
          ],
          [
           "Euro area"
          ],
          [
           "Euro area"
          ],
          [
           "Euro area"
          ],
          [
           "Euro area"
          ],
          [
           "Euro area"
          ],
          [
           "Euro area"
          ],
          [
           "Euro area"
          ],
          [
           "Euro area"
          ],
          [
           "Euro area"
          ],
          [
           "Euro area"
          ],
          [
           "Euro area"
          ],
          [
           "Euro area"
          ],
          [
           "Euro area"
          ],
          [
           "Euro area"
          ],
          [
           "Euro area"
          ],
          [
           "Euro area"
          ],
          [
           "Euro area"
          ],
          [
           "Euro area"
          ],
          [
           "Euro area"
          ],
          [
           "Euro area"
          ],
          [
           "Euro area"
          ],
          [
           "Euro area"
          ],
          [
           "Euro area"
          ],
          [
           "Euro area"
          ],
          [
           "Euro area"
          ],
          [
           "Euro area"
          ],
          [
           "Euro area"
          ],
          [
           "Euro area"
          ],
          [
           "Euro area"
          ],
          [
           "Euro area"
          ],
          [
           "Euro area"
          ],
          [
           "Euro area"
          ],
          [
           "Euro area"
          ],
          [
           "Euro area"
          ],
          [
           "Euro area"
          ],
          [
           "Euro area"
          ],
          [
           "Euro area"
          ],
          [
           "Euro area"
          ],
          [
           "Euro area"
          ],
          [
           "Euro area"
          ],
          [
           "Euro area"
          ],
          [
           "Euro area"
          ],
          [
           "Euro area"
          ],
          [
           "Euro area"
          ],
          [
           "Euro area"
          ],
          [
           "Euro area"
          ],
          [
           "Euro area"
          ],
          [
           "Euro area"
          ],
          [
           "Euro area"
          ],
          [
           "Euro area"
          ],
          [
           "Euro area"
          ],
          [
           "Euro area"
          ],
          [
           "Euro area"
          ],
          [
           "Euro area"
          ],
          [
           "Euro area"
          ],
          [
           "Euro area"
          ],
          [
           "Euro area"
          ],
          [
           "Euro area"
          ],
          [
           "Euro area"
          ],
          [
           "Euro area"
          ],
          [
           "Euro area"
          ],
          [
           "Euro area"
          ],
          [
           "Euro area"
          ],
          [
           "Euro area"
          ],
          [
           "Euro area"
          ],
          [
           "Euro area"
          ],
          [
           "Euro area"
          ],
          [
           "Euro area"
          ],
          [
           "Euro area"
          ],
          [
           "Euro area"
          ],
          [
           "Euro area"
          ],
          [
           "Euro area"
          ],
          [
           "Euro area"
          ],
          [
           "Euro area"
          ],
          [
           "Euro area"
          ],
          [
           "Euro area"
          ],
          [
           "Euro area"
          ],
          [
           "Euro area"
          ],
          [
           "Euro area"
          ],
          [
           "Euro area"
          ],
          [
           "Euro area"
          ],
          [
           "Euro area"
          ],
          [
           "Euro area"
          ],
          [
           "Euro area"
          ],
          [
           "Euro area"
          ],
          [
           "Euro area"
          ],
          [
           "Euro area"
          ],
          [
           "Euro area"
          ],
          [
           "Euro area"
          ],
          [
           "Euro area"
          ],
          [
           "Euro area"
          ],
          [
           "Euro area"
          ],
          [
           "Euro area"
          ],
          [
           "Euro area"
          ],
          [
           "Euro area"
          ],
          [
           "Euro area"
          ],
          [
           "Euro area"
          ],
          [
           "Euro area"
          ],
          [
           "Euro area"
          ],
          [
           "Euro area"
          ],
          [
           "Euro area"
          ],
          [
           "Euro area"
          ],
          [
           "Euro area"
          ],
          [
           "Euro area"
          ],
          [
           "Euro area"
          ],
          [
           "Euro area"
          ],
          [
           "Euro area"
          ],
          [
           "Euro area"
          ],
          [
           "Euro area"
          ],
          [
           "Euro area"
          ],
          [
           "Euro area"
          ],
          [
           "Euro area"
          ],
          [
           "Euro area"
          ],
          [
           "Euro area"
          ],
          [
           "Euro area"
          ],
          [
           "Euro area"
          ],
          [
           "Euro area"
          ],
          [
           "Euro area"
          ],
          [
           "Euro area"
          ],
          [
           "Euro area"
          ],
          [
           "Euro area"
          ],
          [
           "Euro area"
          ],
          [
           "Euro area"
          ],
          [
           "Euro area"
          ],
          [
           "Euro area"
          ],
          [
           "Euro area"
          ],
          [
           "Euro area"
          ],
          [
           "Euro area"
          ],
          [
           "Euro area"
          ],
          [
           "Euro area"
          ],
          [
           "Euro area"
          ],
          [
           "Euro area"
          ],
          [
           "Euro area"
          ],
          [
           "Euro area"
          ],
          [
           "Euro area"
          ],
          [
           "Euro area"
          ],
          [
           "Euro area"
          ],
          [
           "Euro area"
          ],
          [
           "Euro area"
          ],
          [
           "Euro area"
          ],
          [
           "Euro area"
          ],
          [
           "Euro area"
          ],
          [
           "Euro area"
          ],
          [
           "Euro area"
          ],
          [
           "Euro area"
          ],
          [
           "Euro area"
          ],
          [
           "Euro area"
          ],
          [
           "Euro area"
          ],
          [
           "Euro area"
          ],
          [
           "Euro area"
          ],
          [
           "Euro area"
          ],
          [
           "Euro area"
          ],
          [
           "Euro area"
          ],
          [
           "Euro area"
          ],
          [
           "Euro area"
          ],
          [
           "Euro area"
          ],
          [
           "Euro area"
          ],
          [
           "Euro area"
          ],
          [
           "Euro area"
          ],
          [
           "Euro area"
          ],
          [
           "Euro area"
          ],
          [
           "Euro area"
          ],
          [
           "Euro area"
          ],
          [
           "Euro area"
          ],
          [
           "Euro area"
          ],
          [
           "Euro area"
          ],
          [
           "Euro area"
          ]
         ],
         "hovertemplate":"Country Name=%{customdata[0]}<br>Year=%{x}<br>Debt to GDP Ratio=%{y}<extra><\/extra>",
         "legendgroup":"Euro area",
         "marker":{
          "color":"#B6E880",
          "symbol":"circle"
         },
         "mode":"markers",
         "name":"Euro area",
         "showlegend":true,
         "x":[
          "1800",
          "1801",
          "1802",
          "1803",
          "1804",
          "1805",
          "1806",
          "1807",
          "1808",
          "1809",
          "1810",
          "1811",
          "1812",
          "1813",
          "1814",
          "1815",
          "1816",
          "1817",
          "1818",
          "1819",
          "1820",
          "1821",
          "1822",
          "1823",
          "1824",
          "1825",
          "1826",
          "1827",
          "1828",
          "1829",
          "1830",
          "1831",
          "1832",
          "1833",
          "1834",
          "1835",
          "1836",
          "1837",
          "1838",
          "1839",
          "1840",
          "1841",
          "1842",
          "1843",
          "1844",
          "1845",
          "1846",
          "1847",
          "1848",
          "1849",
          "1850",
          "1851",
          "1852",
          "1853",
          "1854",
          "1855",
          "1856",
          "1857",
          "1858",
          "1859",
          "1860",
          "1861",
          "1862",
          "1863",
          "1864",
          "1865",
          "1866",
          "1867",
          "1868",
          "1869",
          "1870",
          "1871",
          "1872",
          "1873",
          "1874",
          "1875",
          "1876",
          "1877",
          "1878",
          "1879",
          "1880",
          "1881",
          "1882",
          "1883",
          "1884",
          "1885",
          "1886",
          "1887",
          "1888",
          "1889",
          "1890",
          "1891",
          "1892",
          "1893",
          "1894",
          "1895",
          "1896",
          "1897",
          "1898",
          "1899",
          "1900",
          "1901",
          "1902",
          "1903",
          "1904",
          "1905",
          "1906",
          "1907",
          "1908",
          "1909",
          "1910",
          "1911",
          "1912",
          "1913",
          "1914",
          "1915",
          "1916",
          "1917",
          "1918",
          "1919",
          "1920",
          "1921",
          "1922",
          "1923",
          "1924",
          "1925",
          "1926",
          "1927",
          "1928",
          "1929",
          "1930",
          "1931",
          "1932",
          "1933",
          "1934",
          "1935",
          "1936",
          "1937",
          "1938",
          "1939",
          "1940",
          "1941",
          "1942",
          "1943",
          "1944",
          "1945",
          "1946",
          "1947",
          "1948",
          "1949",
          "1950",
          "1951",
          "1952",
          "1953",
          "1954",
          "1955",
          "1956",
          "1957",
          "1958",
          "1959",
          "1960",
          "1961",
          "1962",
          "1963",
          "1964",
          "1965",
          "1966",
          "1967",
          "1968",
          "1969",
          "1970",
          "1971",
          "1972",
          "1973",
          "1974",
          "1975",
          "1976",
          "1977",
          "1978",
          "1979",
          "1980",
          "1981",
          "1982",
          "1983",
          "1984",
          "1985",
          "1986",
          "1987",
          "1988",
          "1989",
          "1990",
          "1991",
          "1992",
          "1993",
          "1994",
          "1995",
          "1996",
          "1997",
          "1998",
          "1999",
          "2000",
          "2001",
          "2002",
          "2003",
          "2004",
          "2005",
          "2006",
          "2007",
          "2008",
          "2009",
          "2010",
          "2011",
          "2012",
          "2013",
          "2014",
          "2015"
         ],
         "xaxis":"x",
         "y":[
          null,
          null,
          null,
          null,
          null,
          null,
          null,
          null,
          null,
          null,
          null,
          null,
          null,
          null,
          null,
          null,
          null,
          null,
          null,
          null,
          null,
          null,
          null,
          null,
          null,
          null,
          null,
          null,
          null,
          null,
          null,
          null,
          null,
          null,
          null,
          null,
          null,
          null,
          null,
          null,
          null,
          null,
          null,
          null,
          null,
          null,
          null,
          null,
          null,
          null,
          null,
          null,
          null,
          null,
          null,
          null,
          null,
          null,
          null,
          null,
          null,
          null,
          null,
          null,
          null,
          null,
          null,
          null,
          null,
          null,
          null,
          null,
          null,
          null,
          null,
          null,
          null,
          null,
          null,
          null,
          null,
          null,
          null,
          null,
          null,
          null,
          null,
          null,
          null,
          null,
          null,
          null,
          null,
          null,
          null,
          null,
          null,
          null,
          null,
          null,
          null,
          null,
          null,
          null,
          null,
          null,
          null,
          null,
          null,
          null,
          null,
          null,
          null,
          null,
          null,
          null,
          null,
          null,
          null,
          null,
          null,
          null,
          null,
          null,
          null,
          null,
          null,
          null,
          null,
          null,
          null,
          null,
          null,
          null,
          null,
          null,
          null,
          null,
          null,
          null,
          null,
          null,
          null,
          null,
          null,
          null,
          null,
          null,
          null,
          null,
          null,
          null,
          null,
          null,
          null,
          null,
          null,
          null,
          null,
          null,
          null,
          null,
          null,
          null,
          null,
          null,
          null,
          null,
          null,
          null,
          null,
          null,
          null,
          null,
          null,
          null,
          null,
          null,
          null,
          null,
          null,
          null,
          null,
          null,
          null,
          null,
          null,
          null,
          null,
          null,
          null,
          null,
          null,
          null,
          null,
          69.0385856742036,
          73.2216797746365,
          72.5215411850609,
          71.3641511446902,
          70.5673869518975,
          68.0328881586564,
          66.9227649834761,
          66.7770065129172,
          67.9943452573576,
          68.3041384193442,
          69.0358168670629,
          67.1416829773779,
          64.9035903985516,
          68.505352337915,
          78.322725428747,
          84.0624934626585,
          86.6688887908334,
          91.2504375909799,
          93.3446425399524,
          94.2540356105774,
          92.4909869939866
         ],
         "yaxis":"y",
         "type":"scattergl"
        },
        {
         "customdata":[
          [
           "France"
          ],
          [
           "France"
          ],
          [
           "France"
          ],
          [
           "France"
          ],
          [
           "France"
          ],
          [
           "France"
          ],
          [
           "France"
          ],
          [
           "France"
          ],
          [
           "France"
          ],
          [
           "France"
          ],
          [
           "France"
          ],
          [
           "France"
          ],
          [
           "France"
          ],
          [
           "France"
          ],
          [
           "France"
          ],
          [
           "France"
          ],
          [
           "France"
          ],
          [
           "France"
          ],
          [
           "France"
          ],
          [
           "France"
          ],
          [
           "France"
          ],
          [
           "France"
          ],
          [
           "France"
          ],
          [
           "France"
          ],
          [
           "France"
          ],
          [
           "France"
          ],
          [
           "France"
          ],
          [
           "France"
          ],
          [
           "France"
          ],
          [
           "France"
          ],
          [
           "France"
          ],
          [
           "France"
          ],
          [
           "France"
          ],
          [
           "France"
          ],
          [
           "France"
          ],
          [
           "France"
          ],
          [
           "France"
          ],
          [
           "France"
          ],
          [
           "France"
          ],
          [
           "France"
          ],
          [
           "France"
          ],
          [
           "France"
          ],
          [
           "France"
          ],
          [
           "France"
          ],
          [
           "France"
          ],
          [
           "France"
          ],
          [
           "France"
          ],
          [
           "France"
          ],
          [
           "France"
          ],
          [
           "France"
          ],
          [
           "France"
          ],
          [
           "France"
          ],
          [
           "France"
          ],
          [
           "France"
          ],
          [
           "France"
          ],
          [
           "France"
          ],
          [
           "France"
          ],
          [
           "France"
          ],
          [
           "France"
          ],
          [
           "France"
          ],
          [
           "France"
          ],
          [
           "France"
          ],
          [
           "France"
          ],
          [
           "France"
          ],
          [
           "France"
          ],
          [
           "France"
          ],
          [
           "France"
          ],
          [
           "France"
          ],
          [
           "France"
          ],
          [
           "France"
          ],
          [
           "France"
          ],
          [
           "France"
          ],
          [
           "France"
          ],
          [
           "France"
          ],
          [
           "France"
          ],
          [
           "France"
          ],
          [
           "France"
          ],
          [
           "France"
          ],
          [
           "France"
          ],
          [
           "France"
          ],
          [
           "France"
          ],
          [
           "France"
          ],
          [
           "France"
          ],
          [
           "France"
          ],
          [
           "France"
          ],
          [
           "France"
          ],
          [
           "France"
          ],
          [
           "France"
          ],
          [
           "France"
          ],
          [
           "France"
          ],
          [
           "France"
          ],
          [
           "France"
          ],
          [
           "France"
          ],
          [
           "France"
          ],
          [
           "France"
          ],
          [
           "France"
          ],
          [
           "France"
          ],
          [
           "France"
          ],
          [
           "France"
          ],
          [
           "France"
          ],
          [
           "France"
          ],
          [
           "France"
          ],
          [
           "France"
          ],
          [
           "France"
          ],
          [
           "France"
          ],
          [
           "France"
          ],
          [
           "France"
          ],
          [
           "France"
          ],
          [
           "France"
          ],
          [
           "France"
          ],
          [
           "France"
          ],
          [
           "France"
          ],
          [
           "France"
          ],
          [
           "France"
          ],
          [
           "France"
          ],
          [
           "France"
          ],
          [
           "France"
          ],
          [
           "France"
          ],
          [
           "France"
          ],
          [
           "France"
          ],
          [
           "France"
          ],
          [
           "France"
          ],
          [
           "France"
          ],
          [
           "France"
          ],
          [
           "France"
          ],
          [
           "France"
          ],
          [
           "France"
          ],
          [
           "France"
          ],
          [
           "France"
          ],
          [
           "France"
          ],
          [
           "France"
          ],
          [
           "France"
          ],
          [
           "France"
          ],
          [
           "France"
          ],
          [
           "France"
          ],
          [
           "France"
          ],
          [
           "France"
          ],
          [
           "France"
          ],
          [
           "France"
          ],
          [
           "France"
          ],
          [
           "France"
          ],
          [
           "France"
          ],
          [
           "France"
          ],
          [
           "France"
          ],
          [
           "France"
          ],
          [
           "France"
          ],
          [
           "France"
          ],
          [
           "France"
          ],
          [
           "France"
          ],
          [
           "France"
          ],
          [
           "France"
          ],
          [
           "France"
          ],
          [
           "France"
          ],
          [
           "France"
          ],
          [
           "France"
          ],
          [
           "France"
          ],
          [
           "France"
          ],
          [
           "France"
          ],
          [
           "France"
          ],
          [
           "France"
          ],
          [
           "France"
          ],
          [
           "France"
          ],
          [
           "France"
          ],
          [
           "France"
          ],
          [
           "France"
          ],
          [
           "France"
          ],
          [
           "France"
          ],
          [
           "France"
          ],
          [
           "France"
          ],
          [
           "France"
          ],
          [
           "France"
          ],
          [
           "France"
          ],
          [
           "France"
          ],
          [
           "France"
          ],
          [
           "France"
          ],
          [
           "France"
          ],
          [
           "France"
          ],
          [
           "France"
          ],
          [
           "France"
          ],
          [
           "France"
          ],
          [
           "France"
          ],
          [
           "France"
          ],
          [
           "France"
          ],
          [
           "France"
          ],
          [
           "France"
          ],
          [
           "France"
          ],
          [
           "France"
          ],
          [
           "France"
          ],
          [
           "France"
          ],
          [
           "France"
          ],
          [
           "France"
          ],
          [
           "France"
          ],
          [
           "France"
          ],
          [
           "France"
          ],
          [
           "France"
          ],
          [
           "France"
          ],
          [
           "France"
          ],
          [
           "France"
          ],
          [
           "France"
          ],
          [
           "France"
          ],
          [
           "France"
          ],
          [
           "France"
          ],
          [
           "France"
          ],
          [
           "France"
          ],
          [
           "France"
          ],
          [
           "France"
          ],
          [
           "France"
          ],
          [
           "France"
          ],
          [
           "France"
          ],
          [
           "France"
          ],
          [
           "France"
          ],
          [
           "France"
          ],
          [
           "France"
          ],
          [
           "France"
          ],
          [
           "France"
          ],
          [
           "France"
          ]
         ],
         "hovertemplate":"Country Name=%{customdata[0]}<br>Year=%{x}<br>Debt to GDP Ratio=%{y}<extra><\/extra>",
         "legendgroup":"France",
         "marker":{
          "color":"#FF97FF",
          "symbol":"circle"
         },
         "mode":"markers",
         "name":"France",
         "showlegend":true,
         "x":[
          "1800",
          "1801",
          "1802",
          "1803",
          "1804",
          "1805",
          "1806",
          "1807",
          "1808",
          "1809",
          "1810",
          "1811",
          "1812",
          "1813",
          "1814",
          "1815",
          "1816",
          "1817",
          "1818",
          "1819",
          "1820",
          "1821",
          "1822",
          "1823",
          "1824",
          "1825",
          "1826",
          "1827",
          "1828",
          "1829",
          "1830",
          "1831",
          "1832",
          "1833",
          "1834",
          "1835",
          "1836",
          "1837",
          "1838",
          "1839",
          "1840",
          "1841",
          "1842",
          "1843",
          "1844",
          "1845",
          "1846",
          "1847",
          "1848",
          "1849",
          "1850",
          "1851",
          "1852",
          "1853",
          "1854",
          "1855",
          "1856",
          "1857",
          "1858",
          "1859",
          "1860",
          "1861",
          "1862",
          "1863",
          "1864",
          "1865",
          "1866",
          "1867",
          "1868",
          "1869",
          "1870",
          "1871",
          "1872",
          "1873",
          "1874",
          "1875",
          "1876",
          "1877",
          "1878",
          "1879",
          "1880",
          "1881",
          "1882",
          "1883",
          "1884",
          "1885",
          "1886",
          "1887",
          "1888",
          "1889",
          "1890",
          "1891",
          "1892",
          "1893",
          "1894",
          "1895",
          "1896",
          "1897",
          "1898",
          "1899",
          "1900",
          "1901",
          "1902",
          "1903",
          "1904",
          "1905",
          "1906",
          "1907",
          "1908",
          "1909",
          "1910",
          "1911",
          "1912",
          "1913",
          "1914",
          "1915",
          "1916",
          "1917",
          "1918",
          "1919",
          "1920",
          "1921",
          "1922",
          "1923",
          "1924",
          "1925",
          "1926",
          "1927",
          "1928",
          "1929",
          "1930",
          "1931",
          "1932",
          "1933",
          "1934",
          "1935",
          "1936",
          "1937",
          "1938",
          "1939",
          "1940",
          "1941",
          "1942",
          "1943",
          "1944",
          "1945",
          "1946",
          "1947",
          "1948",
          "1949",
          "1950",
          "1951",
          "1952",
          "1953",
          "1954",
          "1955",
          "1956",
          "1957",
          "1958",
          "1959",
          "1960",
          "1961",
          "1962",
          "1963",
          "1964",
          "1965",
          "1966",
          "1967",
          "1968",
          "1969",
          "1970",
          "1971",
          "1972",
          "1973",
          "1974",
          "1975",
          "1976",
          "1977",
          "1978",
          "1979",
          "1980",
          "1981",
          "1982",
          "1983",
          "1984",
          "1985",
          "1986",
          "1987",
          "1988",
          "1989",
          "1990",
          "1991",
          "1992",
          "1993",
          "1994",
          "1995",
          "1996",
          "1997",
          "1998",
          "1999",
          "2000",
          "2001",
          "2002",
          "2003",
          "2004",
          "2005",
          "2006",
          "2007",
          "2008",
          "2009",
          "2010",
          "2011",
          "2012",
          "2013",
          "2014",
          "2015"
         ],
         "xaxis":"x",
         "y":[
          null,
          null,
          null,
          null,
          null,
          null,
          null,
          null,
          null,
          null,
          null,
          null,
          null,
          null,
          null,
          null,
          null,
          null,
          null,
          null,
          null,
          null,
          null,
          null,
          null,
          null,
          null,
          null,
          null,
          null,
          null,
          null,
          null,
          null,
          null,
          null,
          null,
          null,
          null,
          null,
          null,
          null,
          null,
          null,
          null,
          null,
          null,
          null,
          null,
          null,
          null,
          null,
          null,
          null,
          null,
          null,
          null,
          null,
          null,
          null,
          null,
          null,
          null,
          null,
          null,
          null,
          null,
          null,
          null,
          null,
          null,
          null,
          null,
          null,
          null,
          null,
          null,
          null,
          null,
          null,
          95.5533767051045,
          95.5051870461236,
          90.1318151741472,
          96.9720875013765,
          105.08266694326,
          112.571386191235,
          113.933972508523,
          117.059146885937,
          116.38461818642,
          109.584688992197,
          104.038121909569,
          103.921308257475,
          106.668357105025,
          110.245648545345,
          109.352311436919,
          114.460563734079,
          105.135397658912,
          98.9489085788544,
          93.881916291536,
          92.2765592091124,
          91.741244351643,
          98.0787061736376,
          95.1870421235885,
          89.6256905078044,
          92.1056752109099,
          92.435037597471,
          85.2115397781834,
          77.8547768617227,
          81.3775920270053,
          81.9530685020324,
          79.5764280857408,
          72.5669183437202,
          66.6156722791734,
          66.3468752072784,
          null,
          null,
          null,
          null,
          null,
          null,
          169.565093430499,
          237.034599825019,
          235.884371225166,
          216.821460513016,
          192.405931298553,
          197.186876121721,
          144.658179055244,
          157.496732412498,
          142.284839073884,
          138.60766801568,
          143.838507197313,
          161.023813109761,
          172.691267504057,
          null,
          null,
          null,
          null,
          null,
          null,
          null,
          null,
          null,
          null,
          null,
          null,
          null,
          null,
          null,
          null,
          44.3359818388195,
          39.9803921568627,
          33.872,
          32.8707482993197,
          35,
          34.3703703703704,
          33.271676300578,
          32.9896373056995,
          32.5972222222222,
          32.0200803212851,
          31.4756554307116,
          28.4983164983165,
          26.312693498452,
          23.6149584487535,
          22.1654320987654,
          19.5924276169265,
          17.5879917184265,
          15.3059273422562,
          16.0513274336283,
          15.8308943089431,
          14.3880171184023,
          21.0153256704981,
          20.0619266055046,
          17.7064220183486,
          15.8258527827648,
          15.4201877934272,
          16.0874655647383,
          15.1042908224076,
          14.9883289124668,
          null,
          null,
          20.7629558858898,
          21.9671548039471,
          25.2741720412551,
          26.5924854782971,
          28.9862016098122,
          30.58477940432,
          31.1791591164193,
          33.530000802487,
          33.4823830160827,
          34.2749803622528,
          35.4137954161381,
          36.2952916384107,
          40.0143907547318,
          46.2990376209069,
          49.6145724894529,
          55.8055849667787,
          59.6846578497955,
          61.0968817585685,
          61.0402303249395,
          60.2204722620102,
          58.6546987382372,
          58.1563598767083,
          60.078067616366,
          64.2100647474897,
          65.7368654866843,
          67.2073806785412,
          64.448349860004,
          64.4045495896015,
          68.0612270461207,
          78.998791655772,
          81.6970489086461,
          85.2092280617924,
          89.5813896879098,
          92.3954358243163,
          95.3427253916421,
          96.1411494573291
         ],
         "yaxis":"y",
         "type":"scattergl"
        },
        {
         "customdata":[
          [
           "Indonesia"
          ],
          [
           "Indonesia"
          ],
          [
           "Indonesia"
          ],
          [
           "Indonesia"
          ],
          [
           "Indonesia"
          ],
          [
           "Indonesia"
          ],
          [
           "Indonesia"
          ],
          [
           "Indonesia"
          ],
          [
           "Indonesia"
          ],
          [
           "Indonesia"
          ],
          [
           "Indonesia"
          ],
          [
           "Indonesia"
          ],
          [
           "Indonesia"
          ],
          [
           "Indonesia"
          ],
          [
           "Indonesia"
          ],
          [
           "Indonesia"
          ],
          [
           "Indonesia"
          ],
          [
           "Indonesia"
          ],
          [
           "Indonesia"
          ],
          [
           "Indonesia"
          ],
          [
           "Indonesia"
          ],
          [
           "Indonesia"
          ],
          [
           "Indonesia"
          ],
          [
           "Indonesia"
          ],
          [
           "Indonesia"
          ],
          [
           "Indonesia"
          ],
          [
           "Indonesia"
          ],
          [
           "Indonesia"
          ],
          [
           "Indonesia"
          ],
          [
           "Indonesia"
          ],
          [
           "Indonesia"
          ],
          [
           "Indonesia"
          ],
          [
           "Indonesia"
          ],
          [
           "Indonesia"
          ],
          [
           "Indonesia"
          ],
          [
           "Indonesia"
          ],
          [
           "Indonesia"
          ],
          [
           "Indonesia"
          ],
          [
           "Indonesia"
          ],
          [
           "Indonesia"
          ],
          [
           "Indonesia"
          ],
          [
           "Indonesia"
          ],
          [
           "Indonesia"
          ],
          [
           "Indonesia"
          ],
          [
           "Indonesia"
          ],
          [
           "Indonesia"
          ],
          [
           "Indonesia"
          ],
          [
           "Indonesia"
          ],
          [
           "Indonesia"
          ],
          [
           "Indonesia"
          ],
          [
           "Indonesia"
          ],
          [
           "Indonesia"
          ],
          [
           "Indonesia"
          ],
          [
           "Indonesia"
          ],
          [
           "Indonesia"
          ],
          [
           "Indonesia"
          ],
          [
           "Indonesia"
          ],
          [
           "Indonesia"
          ],
          [
           "Indonesia"
          ],
          [
           "Indonesia"
          ],
          [
           "Indonesia"
          ],
          [
           "Indonesia"
          ],
          [
           "Indonesia"
          ],
          [
           "Indonesia"
          ],
          [
           "Indonesia"
          ],
          [
           "Indonesia"
          ],
          [
           "Indonesia"
          ],
          [
           "Indonesia"
          ],
          [
           "Indonesia"
          ],
          [
           "Indonesia"
          ],
          [
           "Indonesia"
          ],
          [
           "Indonesia"
          ],
          [
           "Indonesia"
          ],
          [
           "Indonesia"
          ],
          [
           "Indonesia"
          ],
          [
           "Indonesia"
          ],
          [
           "Indonesia"
          ],
          [
           "Indonesia"
          ],
          [
           "Indonesia"
          ],
          [
           "Indonesia"
          ],
          [
           "Indonesia"
          ],
          [
           "Indonesia"
          ],
          [
           "Indonesia"
          ],
          [
           "Indonesia"
          ],
          [
           "Indonesia"
          ],
          [
           "Indonesia"
          ],
          [
           "Indonesia"
          ],
          [
           "Indonesia"
          ],
          [
           "Indonesia"
          ],
          [
           "Indonesia"
          ],
          [
           "Indonesia"
          ],
          [
           "Indonesia"
          ],
          [
           "Indonesia"
          ],
          [
           "Indonesia"
          ],
          [
           "Indonesia"
          ],
          [
           "Indonesia"
          ],
          [
           "Indonesia"
          ],
          [
           "Indonesia"
          ],
          [
           "Indonesia"
          ],
          [
           "Indonesia"
          ],
          [
           "Indonesia"
          ],
          [
           "Indonesia"
          ],
          [
           "Indonesia"
          ],
          [
           "Indonesia"
          ],
          [
           "Indonesia"
          ],
          [
           "Indonesia"
          ],
          [
           "Indonesia"
          ],
          [
           "Indonesia"
          ],
          [
           "Indonesia"
          ],
          [
           "Indonesia"
          ],
          [
           "Indonesia"
          ],
          [
           "Indonesia"
          ],
          [
           "Indonesia"
          ],
          [
           "Indonesia"
          ],
          [
           "Indonesia"
          ],
          [
           "Indonesia"
          ],
          [
           "Indonesia"
          ],
          [
           "Indonesia"
          ],
          [
           "Indonesia"
          ],
          [
           "Indonesia"
          ],
          [
           "Indonesia"
          ],
          [
           "Indonesia"
          ],
          [
           "Indonesia"
          ],
          [
           "Indonesia"
          ],
          [
           "Indonesia"
          ],
          [
           "Indonesia"
          ],
          [
           "Indonesia"
          ],
          [
           "Indonesia"
          ],
          [
           "Indonesia"
          ],
          [
           "Indonesia"
          ],
          [
           "Indonesia"
          ],
          [
           "Indonesia"
          ],
          [
           "Indonesia"
          ],
          [
           "Indonesia"
          ],
          [
           "Indonesia"
          ],
          [
           "Indonesia"
          ],
          [
           "Indonesia"
          ],
          [
           "Indonesia"
          ],
          [
           "Indonesia"
          ],
          [
           "Indonesia"
          ],
          [
           "Indonesia"
          ],
          [
           "Indonesia"
          ],
          [
           "Indonesia"
          ],
          [
           "Indonesia"
          ],
          [
           "Indonesia"
          ],
          [
           "Indonesia"
          ],
          [
           "Indonesia"
          ],
          [
           "Indonesia"
          ],
          [
           "Indonesia"
          ],
          [
           "Indonesia"
          ],
          [
           "Indonesia"
          ],
          [
           "Indonesia"
          ],
          [
           "Indonesia"
          ],
          [
           "Indonesia"
          ],
          [
           "Indonesia"
          ],
          [
           "Indonesia"
          ],
          [
           "Indonesia"
          ],
          [
           "Indonesia"
          ],
          [
           "Indonesia"
          ],
          [
           "Indonesia"
          ],
          [
           "Indonesia"
          ],
          [
           "Indonesia"
          ],
          [
           "Indonesia"
          ],
          [
           "Indonesia"
          ],
          [
           "Indonesia"
          ],
          [
           "Indonesia"
          ],
          [
           "Indonesia"
          ],
          [
           "Indonesia"
          ],
          [
           "Indonesia"
          ],
          [
           "Indonesia"
          ],
          [
           "Indonesia"
          ],
          [
           "Indonesia"
          ],
          [
           "Indonesia"
          ],
          [
           "Indonesia"
          ],
          [
           "Indonesia"
          ],
          [
           "Indonesia"
          ],
          [
           "Indonesia"
          ],
          [
           "Indonesia"
          ],
          [
           "Indonesia"
          ],
          [
           "Indonesia"
          ],
          [
           "Indonesia"
          ],
          [
           "Indonesia"
          ],
          [
           "Indonesia"
          ],
          [
           "Indonesia"
          ],
          [
           "Indonesia"
          ],
          [
           "Indonesia"
          ],
          [
           "Indonesia"
          ],
          [
           "Indonesia"
          ],
          [
           "Indonesia"
          ],
          [
           "Indonesia"
          ],
          [
           "Indonesia"
          ],
          [
           "Indonesia"
          ],
          [
           "Indonesia"
          ],
          [
           "Indonesia"
          ],
          [
           "Indonesia"
          ],
          [
           "Indonesia"
          ],
          [
           "Indonesia"
          ],
          [
           "Indonesia"
          ],
          [
           "Indonesia"
          ],
          [
           "Indonesia"
          ],
          [
           "Indonesia"
          ],
          [
           "Indonesia"
          ],
          [
           "Indonesia"
          ],
          [
           "Indonesia"
          ],
          [
           "Indonesia"
          ],
          [
           "Indonesia"
          ],
          [
           "Indonesia"
          ],
          [
           "Indonesia"
          ],
          [
           "Indonesia"
          ],
          [
           "Indonesia"
          ],
          [
           "Indonesia"
          ],
          [
           "Indonesia"
          ],
          [
           "Indonesia"
          ],
          [
           "Indonesia"
          ],
          [
           "Indonesia"
          ],
          [
           "Indonesia"
          ]
         ],
         "hovertemplate":"Country Name=%{customdata[0]}<br>Year=%{x}<br>Debt to GDP Ratio=%{y}<extra><\/extra>",
         "legendgroup":"Indonesia",
         "marker":{
          "color":"#FECB52",
          "symbol":"circle"
         },
         "mode":"markers",
         "name":"Indonesia",
         "showlegend":true,
         "x":[
          "1800",
          "1801",
          "1802",
          "1803",
          "1804",
          "1805",
          "1806",
          "1807",
          "1808",
          "1809",
          "1810",
          "1811",
          "1812",
          "1813",
          "1814",
          "1815",
          "1816",
          "1817",
          "1818",
          "1819",
          "1820",
          "1821",
          "1822",
          "1823",
          "1824",
          "1825",
          "1826",
          "1827",
          "1828",
          "1829",
          "1830",
          "1831",
          "1832",
          "1833",
          "1834",
          "1835",
          "1836",
          "1837",
          "1838",
          "1839",
          "1840",
          "1841",
          "1842",
          "1843",
          "1844",
          "1845",
          "1846",
          "1847",
          "1848",
          "1849",
          "1850",
          "1851",
          "1852",
          "1853",
          "1854",
          "1855",
          "1856",
          "1857",
          "1858",
          "1859",
          "1860",
          "1861",
          "1862",
          "1863",
          "1864",
          "1865",
          "1866",
          "1867",
          "1868",
          "1869",
          "1870",
          "1871",
          "1872",
          "1873",
          "1874",
          "1875",
          "1876",
          "1877",
          "1878",
          "1879",
          "1880",
          "1881",
          "1882",
          "1883",
          "1884",
          "1885",
          "1886",
          "1887",
          "1888",
          "1889",
          "1890",
          "1891",
          "1892",
          "1893",
          "1894",
          "1895",
          "1896",
          "1897",
          "1898",
          "1899",
          "1900",
          "1901",
          "1902",
          "1903",
          "1904",
          "1905",
          "1906",
          "1907",
          "1908",
          "1909",
          "1910",
          "1911",
          "1912",
          "1913",
          "1914",
          "1915",
          "1916",
          "1917",
          "1918",
          "1919",
          "1920",
          "1921",
          "1922",
          "1923",
          "1924",
          "1925",
          "1926",
          "1927",
          "1928",
          "1929",
          "1930",
          "1931",
          "1932",
          "1933",
          "1934",
          "1935",
          "1936",
          "1937",
          "1938",
          "1939",
          "1940",
          "1941",
          "1942",
          "1943",
          "1944",
          "1945",
          "1946",
          "1947",
          "1948",
          "1949",
          "1950",
          "1951",
          "1952",
          "1953",
          "1954",
          "1955",
          "1956",
          "1957",
          "1958",
          "1959",
          "1960",
          "1961",
          "1962",
          "1963",
          "1964",
          "1965",
          "1966",
          "1967",
          "1968",
          "1969",
          "1970",
          "1971",
          "1972",
          "1973",
          "1974",
          "1975",
          "1976",
          "1977",
          "1978",
          "1979",
          "1980",
          "1981",
          "1982",
          "1983",
          "1984",
          "1985",
          "1986",
          "1987",
          "1988",
          "1989",
          "1990",
          "1991",
          "1992",
          "1993",
          "1994",
          "1995",
          "1996",
          "1997",
          "1998",
          "1999",
          "2000",
          "2001",
          "2002",
          "2003",
          "2004",
          "2005",
          "2006",
          "2007",
          "2008",
          "2009",
          "2010",
          "2011",
          "2012",
          "2013",
          "2014",
          "2015"
         ],
         "xaxis":"x",
         "y":[
          null,
          null,
          null,
          null,
          null,
          null,
          null,
          null,
          null,
          null,
          null,
          null,
          null,
          null,
          null,
          null,
          null,
          null,
          null,
          null,
          null,
          null,
          null,
          null,
          null,
          null,
          null,
          null,
          null,
          null,
          null,
          null,
          null,
          null,
          null,
          null,
          null,
          null,
          null,
          null,
          null,
          null,
          null,
          null,
          null,
          null,
          null,
          null,
          null,
          null,
          null,
          null,
          null,
          null,
          null,
          null,
          null,
          null,
          null,
          null,
          null,
          null,
          null,
          null,
          null,
          null,
          null,
          null,
          null,
          null,
          null,
          null,
          null,
          null,
          null,
          null,
          null,
          null,
          null,
          null,
          null,
          null,
          null,
          null,
          null,
          null,
          null,
          null,
          null,
          null,
          null,
          null,
          null,
          null,
          null,
          null,
          null,
          null,
          null,
          null,
          null,
          null,
          null,
          null,
          null,
          null,
          null,
          null,
          null,
          null,
          null,
          null,
          null,
          null,
          null,
          null,
          null,
          null,
          null,
          null,
          null,
          null,
          null,
          null,
          null,
          null,
          null,
          null,
          null,
          null,
          null,
          null,
          null,
          null,
          null,
          null,
          null,
          null,
          null,
          null,
          null,
          null,
          null,
          null,
          null,
          null,
          null,
          null,
          null,
          null,
          null,
          null,
          null,
          null,
          null,
          null,
          null,
          null,
          null,
          null,
          null,
          null,
          null,
          null,
          null,
          null,
          null,
          null,
          null,
          null,
          null,
          null,
          null,
          null,
          null,
          null,
          38.0681450830801,
          27.6576718741781,
          30.3353130413264,
          21.9637931034483,
          17.2574642126789,
          16.4301,
          18.5635,
          23.1409,
          23.5199,
          27.9834,
          38.2506,
          49.7269,
          45.5592,
          42.5207,
          40.8214,
          39.2185,
          42.6187,
          40.3682,
          36.9595,
          32.0244,
          27.5393,
          26.4111,
          72.5266,
          95.8935,
          87.437298742237,
          73.7021149501112,
          62.3393810350656,
          55.6426916280537,
          51.328172495401,
          42.611727208196,
          35.8477340869901,
          32.3333333488476,
          30.2520374602258,
          26.4831257407831,
          24.524582718246,
          23.1060177539408,
          22.9603974927413,
          24.8467075781672,
          24.6954866425714,
          27.3042609243347
         ],
         "yaxis":"y",
         "type":"scattergl"
        },
        {
         "customdata":[
          [
           "Japan"
          ],
          [
           "Japan"
          ],
          [
           "Japan"
          ],
          [
           "Japan"
          ],
          [
           "Japan"
          ],
          [
           "Japan"
          ],
          [
           "Japan"
          ],
          [
           "Japan"
          ],
          [
           "Japan"
          ],
          [
           "Japan"
          ],
          [
           "Japan"
          ],
          [
           "Japan"
          ],
          [
           "Japan"
          ],
          [
           "Japan"
          ],
          [
           "Japan"
          ],
          [
           "Japan"
          ],
          [
           "Japan"
          ],
          [
           "Japan"
          ],
          [
           "Japan"
          ],
          [
           "Japan"
          ],
          [
           "Japan"
          ],
          [
           "Japan"
          ],
          [
           "Japan"
          ],
          [
           "Japan"
          ],
          [
           "Japan"
          ],
          [
           "Japan"
          ],
          [
           "Japan"
          ],
          [
           "Japan"
          ],
          [
           "Japan"
          ],
          [
           "Japan"
          ],
          [
           "Japan"
          ],
          [
           "Japan"
          ],
          [
           "Japan"
          ],
          [
           "Japan"
          ],
          [
           "Japan"
          ],
          [
           "Japan"
          ],
          [
           "Japan"
          ],
          [
           "Japan"
          ],
          [
           "Japan"
          ],
          [
           "Japan"
          ],
          [
           "Japan"
          ],
          [
           "Japan"
          ],
          [
           "Japan"
          ],
          [
           "Japan"
          ],
          [
           "Japan"
          ],
          [
           "Japan"
          ],
          [
           "Japan"
          ],
          [
           "Japan"
          ],
          [
           "Japan"
          ],
          [
           "Japan"
          ],
          [
           "Japan"
          ],
          [
           "Japan"
          ],
          [
           "Japan"
          ],
          [
           "Japan"
          ],
          [
           "Japan"
          ],
          [
           "Japan"
          ],
          [
           "Japan"
          ],
          [
           "Japan"
          ],
          [
           "Japan"
          ],
          [
           "Japan"
          ],
          [
           "Japan"
          ],
          [
           "Japan"
          ],
          [
           "Japan"
          ],
          [
           "Japan"
          ],
          [
           "Japan"
          ],
          [
           "Japan"
          ],
          [
           "Japan"
          ],
          [
           "Japan"
          ],
          [
           "Japan"
          ],
          [
           "Japan"
          ],
          [
           "Japan"
          ],
          [
           "Japan"
          ],
          [
           "Japan"
          ],
          [
           "Japan"
          ],
          [
           "Japan"
          ],
          [
           "Japan"
          ],
          [
           "Japan"
          ],
          [
           "Japan"
          ],
          [
           "Japan"
          ],
          [
           "Japan"
          ],
          [
           "Japan"
          ],
          [
           "Japan"
          ],
          [
           "Japan"
          ],
          [
           "Japan"
          ],
          [
           "Japan"
          ],
          [
           "Japan"
          ],
          [
           "Japan"
          ],
          [
           "Japan"
          ],
          [
           "Japan"
          ],
          [
           "Japan"
          ],
          [
           "Japan"
          ],
          [
           "Japan"
          ],
          [
           "Japan"
          ],
          [
           "Japan"
          ],
          [
           "Japan"
          ],
          [
           "Japan"
          ],
          [
           "Japan"
          ],
          [
           "Japan"
          ],
          [
           "Japan"
          ],
          [
           "Japan"
          ],
          [
           "Japan"
          ],
          [
           "Japan"
          ],
          [
           "Japan"
          ],
          [
           "Japan"
          ],
          [
           "Japan"
          ],
          [
           "Japan"
          ],
          [
           "Japan"
          ],
          [
           "Japan"
          ],
          [
           "Japan"
          ],
          [
           "Japan"
          ],
          [
           "Japan"
          ],
          [
           "Japan"
          ],
          [
           "Japan"
          ],
          [
           "Japan"
          ],
          [
           "Japan"
          ],
          [
           "Japan"
          ],
          [
           "Japan"
          ],
          [
           "Japan"
          ],
          [
           "Japan"
          ],
          [
           "Japan"
          ],
          [
           "Japan"
          ],
          [
           "Japan"
          ],
          [
           "Japan"
          ],
          [
           "Japan"
          ],
          [
           "Japan"
          ],
          [
           "Japan"
          ],
          [
           "Japan"
          ],
          [
           "Japan"
          ],
          [
           "Japan"
          ],
          [
           "Japan"
          ],
          [
           "Japan"
          ],
          [
           "Japan"
          ],
          [
           "Japan"
          ],
          [
           "Japan"
          ],
          [
           "Japan"
          ],
          [
           "Japan"
          ],
          [
           "Japan"
          ],
          [
           "Japan"
          ],
          [
           "Japan"
          ],
          [
           "Japan"
          ],
          [
           "Japan"
          ],
          [
           "Japan"
          ],
          [
           "Japan"
          ],
          [
           "Japan"
          ],
          [
           "Japan"
          ],
          [
           "Japan"
          ],
          [
           "Japan"
          ],
          [
           "Japan"
          ],
          [
           "Japan"
          ],
          [
           "Japan"
          ],
          [
           "Japan"
          ],
          [
           "Japan"
          ],
          [
           "Japan"
          ],
          [
           "Japan"
          ],
          [
           "Japan"
          ],
          [
           "Japan"
          ],
          [
           "Japan"
          ],
          [
           "Japan"
          ],
          [
           "Japan"
          ],
          [
           "Japan"
          ],
          [
           "Japan"
          ],
          [
           "Japan"
          ],
          [
           "Japan"
          ],
          [
           "Japan"
          ],
          [
           "Japan"
          ],
          [
           "Japan"
          ],
          [
           "Japan"
          ],
          [
           "Japan"
          ],
          [
           "Japan"
          ],
          [
           "Japan"
          ],
          [
           "Japan"
          ],
          [
           "Japan"
          ],
          [
           "Japan"
          ],
          [
           "Japan"
          ],
          [
           "Japan"
          ],
          [
           "Japan"
          ],
          [
           "Japan"
          ],
          [
           "Japan"
          ],
          [
           "Japan"
          ],
          [
           "Japan"
          ],
          [
           "Japan"
          ],
          [
           "Japan"
          ],
          [
           "Japan"
          ],
          [
           "Japan"
          ],
          [
           "Japan"
          ],
          [
           "Japan"
          ],
          [
           "Japan"
          ],
          [
           "Japan"
          ],
          [
           "Japan"
          ],
          [
           "Japan"
          ],
          [
           "Japan"
          ],
          [
           "Japan"
          ],
          [
           "Japan"
          ],
          [
           "Japan"
          ],
          [
           "Japan"
          ],
          [
           "Japan"
          ],
          [
           "Japan"
          ],
          [
           "Japan"
          ],
          [
           "Japan"
          ],
          [
           "Japan"
          ],
          [
           "Japan"
          ],
          [
           "Japan"
          ],
          [
           "Japan"
          ],
          [
           "Japan"
          ],
          [
           "Japan"
          ],
          [
           "Japan"
          ],
          [
           "Japan"
          ],
          [
           "Japan"
          ],
          [
           "Japan"
          ],
          [
           "Japan"
          ],
          [
           "Japan"
          ],
          [
           "Japan"
          ],
          [
           "Japan"
          ],
          [
           "Japan"
          ],
          [
           "Japan"
          ],
          [
           "Japan"
          ]
         ],
         "hovertemplate":"Country Name=%{customdata[0]}<br>Year=%{x}<br>Debt to GDP Ratio=%{y}<extra><\/extra>",
         "legendgroup":"Japan",
         "marker":{
          "color":"#636efa",
          "symbol":"circle"
         },
         "mode":"markers",
         "name":"Japan",
         "showlegend":true,
         "x":[
          "1800",
          "1801",
          "1802",
          "1803",
          "1804",
          "1805",
          "1806",
          "1807",
          "1808",
          "1809",
          "1810",
          "1811",
          "1812",
          "1813",
          "1814",
          "1815",
          "1816",
          "1817",
          "1818",
          "1819",
          "1820",
          "1821",
          "1822",
          "1823",
          "1824",
          "1825",
          "1826",
          "1827",
          "1828",
          "1829",
          "1830",
          "1831",
          "1832",
          "1833",
          "1834",
          "1835",
          "1836",
          "1837",
          "1838",
          "1839",
          "1840",
          "1841",
          "1842",
          "1843",
          "1844",
          "1845",
          "1846",
          "1847",
          "1848",
          "1849",
          "1850",
          "1851",
          "1852",
          "1853",
          "1854",
          "1855",
          "1856",
          "1857",
          "1858",
          "1859",
          "1860",
          "1861",
          "1862",
          "1863",
          "1864",
          "1865",
          "1866",
          "1867",
          "1868",
          "1869",
          "1870",
          "1871",
          "1872",
          "1873",
          "1874",
          "1875",
          "1876",
          "1877",
          "1878",
          "1879",
          "1880",
          "1881",
          "1882",
          "1883",
          "1884",
          "1885",
          "1886",
          "1887",
          "1888",
          "1889",
          "1890",
          "1891",
          "1892",
          "1893",
          "1894",
          "1895",
          "1896",
          "1897",
          "1898",
          "1899",
          "1900",
          "1901",
          "1902",
          "1903",
          "1904",
          "1905",
          "1906",
          "1907",
          "1908",
          "1909",
          "1910",
          "1911",
          "1912",
          "1913",
          "1914",
          "1915",
          "1916",
          "1917",
          "1918",
          "1919",
          "1920",
          "1921",
          "1922",
          "1923",
          "1924",
          "1925",
          "1926",
          "1927",
          "1928",
          "1929",
          "1930",
          "1931",
          "1932",
          "1933",
          "1934",
          "1935",
          "1936",
          "1937",
          "1938",
          "1939",
          "1940",
          "1941",
          "1942",
          "1943",
          "1944",
          "1945",
          "1946",
          "1947",
          "1948",
          "1949",
          "1950",
          "1951",
          "1952",
          "1953",
          "1954",
          "1955",
          "1956",
          "1957",
          "1958",
          "1959",
          "1960",
          "1961",
          "1962",
          "1963",
          "1964",
          "1965",
          "1966",
          "1967",
          "1968",
          "1969",
          "1970",
          "1971",
          "1972",
          "1973",
          "1974",
          "1975",
          "1976",
          "1977",
          "1978",
          "1979",
          "1980",
          "1981",
          "1982",
          "1983",
          "1984",
          "1985",
          "1986",
          "1987",
          "1988",
          "1989",
          "1990",
          "1991",
          "1992",
          "1993",
          "1994",
          "1995",
          "1996",
          "1997",
          "1998",
          "1999",
          "2000",
          "2001",
          "2002",
          "2003",
          "2004",
          "2005",
          "2006",
          "2007",
          "2008",
          "2009",
          "2010",
          "2011",
          "2012",
          "2013",
          "2014",
          "2015"
         ],
         "xaxis":"x",
         "y":[
          null,
          null,
          null,
          null,
          null,
          null,
          null,
          null,
          null,
          null,
          null,
          null,
          null,
          null,
          null,
          null,
          null,
          null,
          null,
          null,
          null,
          null,
          null,
          null,
          null,
          null,
          null,
          null,
          null,
          null,
          null,
          null,
          null,
          null,
          null,
          null,
          null,
          null,
          null,
          null,
          null,
          null,
          null,
          null,
          null,
          null,
          null,
          null,
          null,
          null,
          null,
          null,
          null,
          null,
          null,
          null,
          null,
          null,
          null,
          null,
          null,
          null,
          null,
          null,
          null,
          null,
          null,
          null,
          null,
          null,
          null,
          null,
          null,
          null,
          null,
          10.3351851851852,
          10.1749056603774,
          46.7956777996071,
          42.5571669477234,
          32.8775295663601,
          34.0160982264666,
          30.998362720403,
          32.1538770053476,
          32.0650704225352,
          32.5519515477793,
          30.6018610421836,
          31.2265,
          31.2904645476773,
          29.6847575057737,
          27.2306806282723,
          26.0640151515151,
          24.1111501316945,
          24.7016888888889,
          22.3737677527151,
          24.3742899850523,
          26.3955541237113,
          24.6299519807923,
          21.5250383239653,
          18.8355970829535,
          21.874114088159,
          21.4898094449047,
          22.8875201288245,
          23.0437524635396,
          22.8972922848665,
          35.6273447820343,
          68.5339169909209,
          70.474348879467,
          61.5826876836762,
          60.8818640467339,
          70.1385978835979,
          70.8367133757962,
          61.4416311897827,
          57.6176790950985,
          53.5909435467784,
          55.9248417053609,
          53.2494690442797,
          43.3096128822381,
          33.4333216945996,
          27.4958020103049,
          22.5829482948295,
          25.5814041268244,
          29.092241031842,
          29.5504462852373,
          33.8370075046904,
          33.1485041088855,
          33.3774239163849,
          35.2269295774648,
          36.7378567482968,
          39.0618805282927,
          40.3795100085963,
          49.4063465703971,
          56.3360063897764,
          60.653292954075,
          62.2057625226734,
          62.4030308831036,
          62.8963308234732,
          63.4965505617977,
          57.0104798087595,
          66.8886089650282,
          71.2322552368286,
          78.6951670220327,
          93.0736992159658,
          105.089917990585,
          133.35886500376,
          203.953562943774,
          null,
          55.9791139240506,
          27.5498090145149,
          19.6702175543886,
          18.8825185185185,
          14.0361540410438,
          11.8564107274063,
          13.199393262015,
          12.0642664776754,
          11.9108287575022,
          12.2961537119529,
          10.3677353151528,
          8.76961524208928,
          9.07941680526125,
          9.01611858674534,
          8.03498075608791,
          6.06295238661828,
          5.73548063487514,
          4.51630662711696,
          4.43823787734747,
          5.23281001501541,
          6.70616566202086,
          8.22128133248933,
          8.70990954920196,
          11.9633146535427,
          11.9455234832035,
          14.1773211595273,
          18.3835425340178,
          18.10735552414,
          18.868394689533,
          23.8675624304287,
          29.0687790656266,
          35.1155346419807,
          41.6912669185656,
          47.587432271401,
          50.6270888986885,
          55.2943548846749,
          59.2582899606027,
          64.8328860929031,
          66.3435953091449,
          66.667570045143,
          69.9280624343941,
          72.4557788459806,
          70.3517990832513,
          67.2988075993462,
          67.0434276424559,
          66.4905122712377,
          71.2210471253563,
          77.2671292609135,
          86.2176105183427,
          95.0702890472505,
          102.294120266878,
          109.104368267252,
          121.632211156615,
          135.609446644317,
          143.77848821245,
          153.634535360275,
          163.991910198799,
          169.571821213672,
          180.656881705787,
          186.436357791083,
          185.997272477881,
          183.01235615289,
          191.812143150576,
          210.246836069046,
          215.821204619488,
          231.629354760934,
          238.014556574821,
          244.477405513901,
          249.113739092857,
          247.975864153389
         ],
         "yaxis":"y",
         "type":"scattergl"
        },
        {
         "customdata":[
          [
           "Korea"
          ],
          [
           "Korea"
          ],
          [
           "Korea"
          ],
          [
           "Korea"
          ],
          [
           "Korea"
          ],
          [
           "Korea"
          ],
          [
           "Korea"
          ],
          [
           "Korea"
          ],
          [
           "Korea"
          ],
          [
           "Korea"
          ],
          [
           "Korea"
          ],
          [
           "Korea"
          ],
          [
           "Korea"
          ],
          [
           "Korea"
          ],
          [
           "Korea"
          ],
          [
           "Korea"
          ],
          [
           "Korea"
          ],
          [
           "Korea"
          ],
          [
           "Korea"
          ],
          [
           "Korea"
          ],
          [
           "Korea"
          ],
          [
           "Korea"
          ],
          [
           "Korea"
          ],
          [
           "Korea"
          ],
          [
           "Korea"
          ],
          [
           "Korea"
          ],
          [
           "Korea"
          ],
          [
           "Korea"
          ],
          [
           "Korea"
          ],
          [
           "Korea"
          ],
          [
           "Korea"
          ],
          [
           "Korea"
          ],
          [
           "Korea"
          ],
          [
           "Korea"
          ],
          [
           "Korea"
          ],
          [
           "Korea"
          ],
          [
           "Korea"
          ],
          [
           "Korea"
          ],
          [
           "Korea"
          ],
          [
           "Korea"
          ],
          [
           "Korea"
          ],
          [
           "Korea"
          ],
          [
           "Korea"
          ],
          [
           "Korea"
          ],
          [
           "Korea"
          ],
          [
           "Korea"
          ],
          [
           "Korea"
          ],
          [
           "Korea"
          ],
          [
           "Korea"
          ],
          [
           "Korea"
          ],
          [
           "Korea"
          ],
          [
           "Korea"
          ],
          [
           "Korea"
          ],
          [
           "Korea"
          ],
          [
           "Korea"
          ],
          [
           "Korea"
          ],
          [
           "Korea"
          ],
          [
           "Korea"
          ],
          [
           "Korea"
          ],
          [
           "Korea"
          ],
          [
           "Korea"
          ],
          [
           "Korea"
          ],
          [
           "Korea"
          ],
          [
           "Korea"
          ],
          [
           "Korea"
          ],
          [
           "Korea"
          ],
          [
           "Korea"
          ],
          [
           "Korea"
          ],
          [
           "Korea"
          ],
          [
           "Korea"
          ],
          [
           "Korea"
          ],
          [
           "Korea"
          ],
          [
           "Korea"
          ],
          [
           "Korea"
          ],
          [
           "Korea"
          ],
          [
           "Korea"
          ],
          [
           "Korea"
          ],
          [
           "Korea"
          ],
          [
           "Korea"
          ],
          [
           "Korea"
          ],
          [
           "Korea"
          ],
          [
           "Korea"
          ],
          [
           "Korea"
          ],
          [
           "Korea"
          ],
          [
           "Korea"
          ],
          [
           "Korea"
          ],
          [
           "Korea"
          ],
          [
           "Korea"
          ],
          [
           "Korea"
          ],
          [
           "Korea"
          ],
          [
           "Korea"
          ],
          [
           "Korea"
          ],
          [
           "Korea"
          ],
          [
           "Korea"
          ],
          [
           "Korea"
          ],
          [
           "Korea"
          ],
          [
           "Korea"
          ],
          [
           "Korea"
          ],
          [
           "Korea"
          ],
          [
           "Korea"
          ],
          [
           "Korea"
          ],
          [
           "Korea"
          ],
          [
           "Korea"
          ],
          [
           "Korea"
          ],
          [
           "Korea"
          ],
          [
           "Korea"
          ],
          [
           "Korea"
          ],
          [
           "Korea"
          ],
          [
           "Korea"
          ],
          [
           "Korea"
          ],
          [
           "Korea"
          ],
          [
           "Korea"
          ],
          [
           "Korea"
          ],
          [
           "Korea"
          ],
          [
           "Korea"
          ],
          [
           "Korea"
          ],
          [
           "Korea"
          ],
          [
           "Korea"
          ],
          [
           "Korea"
          ],
          [
           "Korea"
          ],
          [
           "Korea"
          ],
          [
           "Korea"
          ],
          [
           "Korea"
          ],
          [
           "Korea"
          ],
          [
           "Korea"
          ],
          [
           "Korea"
          ],
          [
           "Korea"
          ],
          [
           "Korea"
          ],
          [
           "Korea"
          ],
          [
           "Korea"
          ],
          [
           "Korea"
          ],
          [
           "Korea"
          ],
          [
           "Korea"
          ],
          [
           "Korea"
          ],
          [
           "Korea"
          ],
          [
           "Korea"
          ],
          [
           "Korea"
          ],
          [
           "Korea"
          ],
          [
           "Korea"
          ],
          [
           "Korea"
          ],
          [
           "Korea"
          ],
          [
           "Korea"
          ],
          [
           "Korea"
          ],
          [
           "Korea"
          ],
          [
           "Korea"
          ],
          [
           "Korea"
          ],
          [
           "Korea"
          ],
          [
           "Korea"
          ],
          [
           "Korea"
          ],
          [
           "Korea"
          ],
          [
           "Korea"
          ],
          [
           "Korea"
          ],
          [
           "Korea"
          ],
          [
           "Korea"
          ],
          [
           "Korea"
          ],
          [
           "Korea"
          ],
          [
           "Korea"
          ],
          [
           "Korea"
          ],
          [
           "Korea"
          ],
          [
           "Korea"
          ],
          [
           "Korea"
          ],
          [
           "Korea"
          ],
          [
           "Korea"
          ],
          [
           "Korea"
          ],
          [
           "Korea"
          ],
          [
           "Korea"
          ],
          [
           "Korea"
          ],
          [
           "Korea"
          ],
          [
           "Korea"
          ],
          [
           "Korea"
          ],
          [
           "Korea"
          ],
          [
           "Korea"
          ],
          [
           "Korea"
          ],
          [
           "Korea"
          ],
          [
           "Korea"
          ],
          [
           "Korea"
          ],
          [
           "Korea"
          ],
          [
           "Korea"
          ],
          [
           "Korea"
          ],
          [
           "Korea"
          ],
          [
           "Korea"
          ],
          [
           "Korea"
          ],
          [
           "Korea"
          ],
          [
           "Korea"
          ],
          [
           "Korea"
          ],
          [
           "Korea"
          ],
          [
           "Korea"
          ],
          [
           "Korea"
          ],
          [
           "Korea"
          ],
          [
           "Korea"
          ],
          [
           "Korea"
          ],
          [
           "Korea"
          ],
          [
           "Korea"
          ],
          [
           "Korea"
          ],
          [
           "Korea"
          ],
          [
           "Korea"
          ],
          [
           "Korea"
          ],
          [
           "Korea"
          ],
          [
           "Korea"
          ],
          [
           "Korea"
          ],
          [
           "Korea"
          ],
          [
           "Korea"
          ],
          [
           "Korea"
          ],
          [
           "Korea"
          ],
          [
           "Korea"
          ],
          [
           "Korea"
          ],
          [
           "Korea"
          ],
          [
           "Korea"
          ],
          [
           "Korea"
          ],
          [
           "Korea"
          ],
          [
           "Korea"
          ],
          [
           "Korea"
          ],
          [
           "Korea"
          ],
          [
           "Korea"
          ],
          [
           "Korea"
          ],
          [
           "Korea"
          ]
         ],
         "hovertemplate":"Country Name=%{customdata[0]}<br>Year=%{x}<br>Debt to GDP Ratio=%{y}<extra><\/extra>",
         "legendgroup":"Korea",
         "marker":{
          "color":"#EF553B",
          "symbol":"circle"
         },
         "mode":"markers",
         "name":"Korea",
         "showlegend":true,
         "x":[
          "1800",
          "1801",
          "1802",
          "1803",
          "1804",
          "1805",
          "1806",
          "1807",
          "1808",
          "1809",
          "1810",
          "1811",
          "1812",
          "1813",
          "1814",
          "1815",
          "1816",
          "1817",
          "1818",
          "1819",
          "1820",
          "1821",
          "1822",
          "1823",
          "1824",
          "1825",
          "1826",
          "1827",
          "1828",
          "1829",
          "1830",
          "1831",
          "1832",
          "1833",
          "1834",
          "1835",
          "1836",
          "1837",
          "1838",
          "1839",
          "1840",
          "1841",
          "1842",
          "1843",
          "1844",
          "1845",
          "1846",
          "1847",
          "1848",
          "1849",
          "1850",
          "1851",
          "1852",
          "1853",
          "1854",
          "1855",
          "1856",
          "1857",
          "1858",
          "1859",
          "1860",
          "1861",
          "1862",
          "1863",
          "1864",
          "1865",
          "1866",
          "1867",
          "1868",
          "1869",
          "1870",
          "1871",
          "1872",
          "1873",
          "1874",
          "1875",
          "1876",
          "1877",
          "1878",
          "1879",
          "1880",
          "1881",
          "1882",
          "1883",
          "1884",
          "1885",
          "1886",
          "1887",
          "1888",
          "1889",
          "1890",
          "1891",
          "1892",
          "1893",
          "1894",
          "1895",
          "1896",
          "1897",
          "1898",
          "1899",
          "1900",
          "1901",
          "1902",
          "1903",
          "1904",
          "1905",
          "1906",
          "1907",
          "1908",
          "1909",
          "1910",
          "1911",
          "1912",
          "1913",
          "1914",
          "1915",
          "1916",
          "1917",
          "1918",
          "1919",
          "1920",
          "1921",
          "1922",
          "1923",
          "1924",
          "1925",
          "1926",
          "1927",
          "1928",
          "1929",
          "1930",
          "1931",
          "1932",
          "1933",
          "1934",
          "1935",
          "1936",
          "1937",
          "1938",
          "1939",
          "1940",
          "1941",
          "1942",
          "1943",
          "1944",
          "1945",
          "1946",
          "1947",
          "1948",
          "1949",
          "1950",
          "1951",
          "1952",
          "1953",
          "1954",
          "1955",
          "1956",
          "1957",
          "1958",
          "1959",
          "1960",
          "1961",
          "1962",
          "1963",
          "1964",
          "1965",
          "1966",
          "1967",
          "1968",
          "1969",
          "1970",
          "1971",
          "1972",
          "1973",
          "1974",
          "1975",
          "1976",
          "1977",
          "1978",
          "1979",
          "1980",
          "1981",
          "1982",
          "1983",
          "1984",
          "1985",
          "1986",
          "1987",
          "1988",
          "1989",
          "1990",
          "1991",
          "1992",
          "1993",
          "1994",
          "1995",
          "1996",
          "1997",
          "1998",
          "1999",
          "2000",
          "2001",
          "2002",
          "2003",
          "2004",
          "2005",
          "2006",
          "2007",
          "2008",
          "2009",
          "2010",
          "2011",
          "2012",
          "2013",
          "2014",
          "2015"
         ],
         "xaxis":"x",
         "y":[
          null,
          null,
          null,
          null,
          null,
          null,
          null,
          null,
          null,
          null,
          null,
          null,
          null,
          null,
          null,
          null,
          null,
          null,
          null,
          null,
          null,
          null,
          null,
          null,
          null,
          null,
          null,
          null,
          null,
          null,
          null,
          null,
          null,
          null,
          null,
          null,
          null,
          null,
          null,
          null,
          null,
          null,
          null,
          null,
          null,
          null,
          null,
          null,
          null,
          null,
          null,
          null,
          null,
          null,
          null,
          null,
          null,
          null,
          null,
          null,
          null,
          null,
          null,
          null,
          null,
          null,
          null,
          null,
          null,
          null,
          null,
          null,
          null,
          null,
          null,
          null,
          null,
          null,
          null,
          null,
          null,
          null,
          null,
          null,
          null,
          null,
          null,
          null,
          null,
          null,
          null,
          null,
          null,
          null,
          null,
          null,
          null,
          null,
          null,
          null,
          null,
          null,
          null,
          null,
          null,
          null,
          null,
          null,
          null,
          null,
          null,
          null,
          null,
          null,
          null,
          null,
          null,
          null,
          null,
          null,
          null,
          null,
          null,
          null,
          null,
          null,
          null,
          null,
          null,
          null,
          null,
          null,
          null,
          null,
          null,
          null,
          null,
          null,
          null,
          null,
          null,
          null,
          null,
          null,
          null,
          null,
          null,
          null,
          null,
          null,
          null,
          null,
          null,
          null,
          null,
          null,
          null,
          null,
          16.8850498820451,
          null,
          13.6926318044044,
          13.3735033560941,
          13.0446512919475,
          9.21498500288127,
          6.56669179207481,
          6.14482147965833,
          4.44352311280443,
          3.73691278415848,
          2.75670782669802,
          2.63123619963453,
          null,
          11.2708,
          16.1874,
          15.9147,
          16.5465,
          18.8766,
          17.0722,
          18.3766,
          16.8175,
          14.1031,
          16.9634,
          18.8612,
          21.2851,
          20.464,
          20.726,
          21.4646,
          18.9868,
          16.5558,
          13.5183,
          10.385,
          8.40282,
          7.80629,
          7.70514,
          7.54453,
          7.69814,
          7.10565,
          6.82168,
          10.2450942168776,
          14.6683828808635,
          16.7479657664266,
          17.1140142885714,
          17.7015335570782,
          17.5512760931356,
          20.4491122008535,
          23.251062088864,
          26.9594181239714,
          29.2719479830643,
          28.6508282037287,
          28.1619010075399,
          31.3802685021322,
          30.8254986137763,
          31.5108393148218,
          32.1268198214013,
          33.7574954763928,
          35.8762012229092,
          37.8887155486219
         ],
         "yaxis":"y",
         "type":"scattergl"
        },
        {
         "customdata":[
          [
           "Brazil"
          ],
          [
           "Brazil"
          ],
          [
           "Brazil"
          ],
          [
           "Brazil"
          ],
          [
           "Brazil"
          ],
          [
           "Brazil"
          ],
          [
           "Brazil"
          ],
          [
           "Brazil"
          ],
          [
           "Brazil"
          ],
          [
           "Brazil"
          ],
          [
           "Brazil"
          ],
          [
           "Brazil"
          ],
          [
           "Brazil"
          ],
          [
           "Brazil"
          ],
          [
           "Brazil"
          ],
          [
           "Brazil"
          ],
          [
           "Brazil"
          ],
          [
           "Brazil"
          ],
          [
           "Brazil"
          ],
          [
           "Brazil"
          ],
          [
           "Brazil"
          ],
          [
           "Brazil"
          ],
          [
           "Brazil"
          ],
          [
           "Brazil"
          ],
          [
           "Brazil"
          ],
          [
           "Brazil"
          ],
          [
           "Brazil"
          ],
          [
           "Brazil"
          ],
          [
           "Brazil"
          ],
          [
           "Brazil"
          ],
          [
           "Brazil"
          ],
          [
           "Brazil"
          ],
          [
           "Brazil"
          ],
          [
           "Brazil"
          ],
          [
           "Brazil"
          ],
          [
           "Brazil"
          ],
          [
           "Brazil"
          ],
          [
           "Brazil"
          ],
          [
           "Brazil"
          ],
          [
           "Brazil"
          ],
          [
           "Brazil"
          ],
          [
           "Brazil"
          ],
          [
           "Brazil"
          ],
          [
           "Brazil"
          ],
          [
           "Brazil"
          ],
          [
           "Brazil"
          ],
          [
           "Brazil"
          ],
          [
           "Brazil"
          ],
          [
           "Brazil"
          ],
          [
           "Brazil"
          ],
          [
           "Brazil"
          ],
          [
           "Brazil"
          ],
          [
           "Brazil"
          ],
          [
           "Brazil"
          ],
          [
           "Brazil"
          ],
          [
           "Brazil"
          ],
          [
           "Brazil"
          ],
          [
           "Brazil"
          ],
          [
           "Brazil"
          ],
          [
           "Brazil"
          ],
          [
           "Brazil"
          ],
          [
           "Brazil"
          ],
          [
           "Brazil"
          ],
          [
           "Brazil"
          ],
          [
           "Brazil"
          ],
          [
           "Brazil"
          ],
          [
           "Brazil"
          ],
          [
           "Brazil"
          ],
          [
           "Brazil"
          ],
          [
           "Brazil"
          ],
          [
           "Brazil"
          ],
          [
           "Brazil"
          ],
          [
           "Brazil"
          ],
          [
           "Brazil"
          ],
          [
           "Brazil"
          ],
          [
           "Brazil"
          ],
          [
           "Brazil"
          ],
          [
           "Brazil"
          ],
          [
           "Brazil"
          ],
          [
           "Brazil"
          ],
          [
           "Brazil"
          ],
          [
           "Brazil"
          ],
          [
           "Brazil"
          ],
          [
           "Brazil"
          ],
          [
           "Brazil"
          ],
          [
           "Brazil"
          ],
          [
           "Brazil"
          ],
          [
           "Brazil"
          ],
          [
           "Brazil"
          ],
          [
           "Brazil"
          ],
          [
           "Brazil"
          ],
          [
           "Brazil"
          ],
          [
           "Brazil"
          ],
          [
           "Brazil"
          ],
          [
           "Brazil"
          ],
          [
           "Brazil"
          ],
          [
           "Brazil"
          ],
          [
           "Brazil"
          ],
          [
           "Brazil"
          ],
          [
           "Brazil"
          ],
          [
           "Brazil"
          ],
          [
           "Brazil"
          ],
          [
           "Brazil"
          ],
          [
           "Brazil"
          ],
          [
           "Brazil"
          ],
          [
           "Brazil"
          ],
          [
           "Brazil"
          ],
          [
           "Brazil"
          ],
          [
           "Brazil"
          ],
          [
           "Brazil"
          ],
          [
           "Brazil"
          ],
          [
           "Brazil"
          ],
          [
           "Brazil"
          ],
          [
           "Brazil"
          ],
          [
           "Brazil"
          ],
          [
           "Brazil"
          ],
          [
           "Brazil"
          ],
          [
           "Brazil"
          ],
          [
           "Brazil"
          ],
          [
           "Brazil"
          ],
          [
           "Brazil"
          ],
          [
           "Brazil"
          ],
          [
           "Brazil"
          ],
          [
           "Brazil"
          ],
          [
           "Brazil"
          ],
          [
           "Brazil"
          ],
          [
           "Brazil"
          ],
          [
           "Brazil"
          ],
          [
           "Brazil"
          ],
          [
           "Brazil"
          ],
          [
           "Brazil"
          ],
          [
           "Brazil"
          ],
          [
           "Brazil"
          ],
          [
           "Brazil"
          ],
          [
           "Brazil"
          ],
          [
           "Brazil"
          ],
          [
           "Brazil"
          ],
          [
           "Brazil"
          ],
          [
           "Brazil"
          ],
          [
           "Brazil"
          ],
          [
           "Brazil"
          ],
          [
           "Brazil"
          ],
          [
           "Brazil"
          ],
          [
           "Brazil"
          ],
          [
           "Brazil"
          ],
          [
           "Brazil"
          ],
          [
           "Brazil"
          ],
          [
           "Brazil"
          ],
          [
           "Brazil"
          ],
          [
           "Brazil"
          ],
          [
           "Brazil"
          ],
          [
           "Brazil"
          ],
          [
           "Brazil"
          ],
          [
           "Brazil"
          ],
          [
           "Brazil"
          ],
          [
           "Brazil"
          ],
          [
           "Brazil"
          ],
          [
           "Brazil"
          ],
          [
           "Brazil"
          ],
          [
           "Brazil"
          ],
          [
           "Brazil"
          ],
          [
           "Brazil"
          ],
          [
           "Brazil"
          ],
          [
           "Brazil"
          ],
          [
           "Brazil"
          ],
          [
           "Brazil"
          ],
          [
           "Brazil"
          ],
          [
           "Brazil"
          ],
          [
           "Brazil"
          ],
          [
           "Brazil"
          ],
          [
           "Brazil"
          ],
          [
           "Brazil"
          ],
          [
           "Brazil"
          ],
          [
           "Brazil"
          ],
          [
           "Brazil"
          ],
          [
           "Brazil"
          ],
          [
           "Brazil"
          ],
          [
           "Brazil"
          ],
          [
           "Brazil"
          ],
          [
           "Brazil"
          ],
          [
           "Brazil"
          ],
          [
           "Brazil"
          ],
          [
           "Brazil"
          ],
          [
           "Brazil"
          ],
          [
           "Brazil"
          ],
          [
           "Brazil"
          ],
          [
           "Brazil"
          ],
          [
           "Brazil"
          ],
          [
           "Brazil"
          ],
          [
           "Brazil"
          ],
          [
           "Brazil"
          ],
          [
           "Brazil"
          ],
          [
           "Brazil"
          ],
          [
           "Brazil"
          ],
          [
           "Brazil"
          ],
          [
           "Brazil"
          ],
          [
           "Brazil"
          ],
          [
           "Brazil"
          ],
          [
           "Brazil"
          ],
          [
           "Brazil"
          ],
          [
           "Brazil"
          ],
          [
           "Brazil"
          ],
          [
           "Brazil"
          ],
          [
           "Brazil"
          ],
          [
           "Brazil"
          ],
          [
           "Brazil"
          ],
          [
           "Brazil"
          ],
          [
           "Brazil"
          ],
          [
           "Brazil"
          ],
          [
           "Brazil"
          ],
          [
           "Brazil"
          ],
          [
           "Brazil"
          ],
          [
           "Brazil"
          ],
          [
           "Brazil"
          ],
          [
           "Brazil"
          ],
          [
           "Brazil"
          ]
         ],
         "hovertemplate":"Country Name=%{customdata[0]}<br>Year=%{x}<br>Debt to GDP Ratio=%{y}<extra><\/extra>",
         "legendgroup":"Brazil",
         "marker":{
          "color":"#00cc96",
          "symbol":"circle"
         },
         "mode":"markers",
         "name":"Brazil",
         "showlegend":true,
         "x":[
          "1800",
          "1801",
          "1802",
          "1803",
          "1804",
          "1805",
          "1806",
          "1807",
          "1808",
          "1809",
          "1810",
          "1811",
          "1812",
          "1813",
          "1814",
          "1815",
          "1816",
          "1817",
          "1818",
          "1819",
          "1820",
          "1821",
          "1822",
          "1823",
          "1824",
          "1825",
          "1826",
          "1827",
          "1828",
          "1829",
          "1830",
          "1831",
          "1832",
          "1833",
          "1834",
          "1835",
          "1836",
          "1837",
          "1838",
          "1839",
          "1840",
          "1841",
          "1842",
          "1843",
          "1844",
          "1845",
          "1846",
          "1847",
          "1848",
          "1849",
          "1850",
          "1851",
          "1852",
          "1853",
          "1854",
          "1855",
          "1856",
          "1857",
          "1858",
          "1859",
          "1860",
          "1861",
          "1862",
          "1863",
          "1864",
          "1865",
          "1866",
          "1867",
          "1868",
          "1869",
          "1870",
          "1871",
          "1872",
          "1873",
          "1874",
          "1875",
          "1876",
          "1877",
          "1878",
          "1879",
          "1880",
          "1881",
          "1882",
          "1883",
          "1884",
          "1885",
          "1886",
          "1887",
          "1888",
          "1889",
          "1890",
          "1891",
          "1892",
          "1893",
          "1894",
          "1895",
          "1896",
          "1897",
          "1898",
          "1899",
          "1900",
          "1901",
          "1902",
          "1903",
          "1904",
          "1905",
          "1906",
          "1907",
          "1908",
          "1909",
          "1910",
          "1911",
          "1912",
          "1913",
          "1914",
          "1915",
          "1916",
          "1917",
          "1918",
          "1919",
          "1920",
          "1921",
          "1922",
          "1923",
          "1924",
          "1925",
          "1926",
          "1927",
          "1928",
          "1929",
          "1930",
          "1931",
          "1932",
          "1933",
          "1934",
          "1935",
          "1936",
          "1937",
          "1938",
          "1939",
          "1940",
          "1941",
          "1942",
          "1943",
          "1944",
          "1945",
          "1946",
          "1947",
          "1948",
          "1949",
          "1950",
          "1951",
          "1952",
          "1953",
          "1954",
          "1955",
          "1956",
          "1957",
          "1958",
          "1959",
          "1960",
          "1961",
          "1962",
          "1963",
          "1964",
          "1965",
          "1966",
          "1967",
          "1968",
          "1969",
          "1970",
          "1971",
          "1972",
          "1973",
          "1974",
          "1975",
          "1976",
          "1977",
          "1978",
          "1979",
          "1980",
          "1981",
          "1982",
          "1983",
          "1984",
          "1985",
          "1986",
          "1987",
          "1988",
          "1989",
          "1990",
          "1991",
          "1992",
          "1993",
          "1994",
          "1995",
          "1996",
          "1997",
          "1998",
          "1999",
          "2000",
          "2001",
          "2002",
          "2003",
          "2004",
          "2005",
          "2006",
          "2007",
          "2008",
          "2009",
          "2010",
          "2011",
          "2012",
          "2013",
          "2014",
          "2015"
         ],
         "xaxis":"x",
         "y":[
          null,
          null,
          null,
          null,
          null,
          null,
          null,
          null,
          null,
          null,
          null,
          null,
          null,
          null,
          null,
          null,
          null,
          null,
          null,
          null,
          null,
          null,
          null,
          null,
          null,
          null,
          null,
          null,
          null,
          null,
          null,
          null,
          null,
          null,
          null,
          null,
          null,
          null,
          null,
          null,
          null,
          null,
          null,
          null,
          null,
          null,
          null,
          null,
          null,
          null,
          null,
          null,
          null,
          null,
          null,
          null,
          null,
          null,
          null,
          null,
          null,
          null,
          null,
          null,
          null,
          null,
          null,
          null,
          null,
          null,
          null,
          null,
          null,
          null,
          null,
          null,
          null,
          null,
          null,
          null,
          99.0322580645161,
          105.344827586207,
          107.894736842105,
          93.768115942029,
          120.740740740741,
          107.619047619048,
          99.4366197183099,
          107.272727272727,
          103.4375,
          105,
          101.046511627907,
          69.2356687898089,
          86.8367346938775,
          64.4155844155844,
          63.6121673003802,
          75.3763440860215,
          72.1649484536082,
          68.7147335423197,
          60.5828220858896,
          62.4920127795527,
          54.8709677419355,
          66.7037037037037,
          62.8275862068966,
          66.7241379310345,
          59,
          60.7407407407407,
          50.34375,
          45.6509481756757,
          47.7613558108108,
          42.8966888690476,
          39.900884375,
          35.7609792484848,
          34.2398328421053,
          37.6671648976608,
          null,
          null,
          null,
          null,
          null,
          null,
          null,
          null,
          null,
          36.22375,
          26.514,
          24.73,
          23.4591304347826,
          21.3632,
          null,
          21.582,
          26.9681818181818,
          34.3366666666667,
          39.4383333333333,
          51.5826315789474,
          31.9752,
          28.7133333333333,
          24.46,
          28.4395238095238,
          29.1375555555556,
          30.8231111111111,
          31.9204166666667,
          34.0705882352941,
          31.6260344827586,
          36.8098507462687,
          35.7794318181818,
          34.0040178571429,
          26.4124324324324,
          12.6296774193548,
          11.6525641025641,
          11.2445652173913,
          10.6427573529412,
          null,
          13.2070135746606,
          13.1658525238428,
          12.6033800791082,
          12.7075812274368,
          14.570586902334,
          16.9522006625651,
          18.6768013650818,
          17.416715371128,
          14.8730964467005,
          21.8805372963704,
          null,
          null,
          null,
          null,
          null,
          null,
          null,
          null,
          null,
          null,
          null,
          null,
          null,
          null,
          null,
          null,
          29.9128,
          30.351,
          33.1026,
          34.7655,
          36.6326,
          48.1872,
          53.6335,
          37.8899,
          43.753,
          47.8894,
          84.8958,
          102.9,
          65.713,
          65.7378,
          83.9648,
          80.2602,
          39.5198,
          36.5638,
          44.1542,
          46.4822,
          59.8939,
          73.8969,
          68.4572,
          70.0537035431034,
          78.797735589593,
          73.8229993461769,
          70.0768827547608,
          68.585171049981,
          65.8451918549005,
          63.7432046704168,
          61.8679802006076,
          64.9439204131118,
          63.0449225180818,
          61.2416771180575,
          62.3101473379579,
          60.3644234423679,
          63.3140558174017,
          73.6970948210385
         ],
         "yaxis":"y",
         "type":"scattergl"
        },
        {
         "customdata":[
          [
           "Turkey"
          ],
          [
           "Turkey"
          ],
          [
           "Turkey"
          ],
          [
           "Turkey"
          ],
          [
           "Turkey"
          ],
          [
           "Turkey"
          ],
          [
           "Turkey"
          ],
          [
           "Turkey"
          ],
          [
           "Turkey"
          ],
          [
           "Turkey"
          ],
          [
           "Turkey"
          ],
          [
           "Turkey"
          ],
          [
           "Turkey"
          ],
          [
           "Turkey"
          ],
          [
           "Turkey"
          ],
          [
           "Turkey"
          ],
          [
           "Turkey"
          ],
          [
           "Turkey"
          ],
          [
           "Turkey"
          ],
          [
           "Turkey"
          ],
          [
           "Turkey"
          ],
          [
           "Turkey"
          ],
          [
           "Turkey"
          ],
          [
           "Turkey"
          ],
          [
           "Turkey"
          ],
          [
           "Turkey"
          ],
          [
           "Turkey"
          ],
          [
           "Turkey"
          ],
          [
           "Turkey"
          ],
          [
           "Turkey"
          ],
          [
           "Turkey"
          ],
          [
           "Turkey"
          ],
          [
           "Turkey"
          ],
          [
           "Turkey"
          ],
          [
           "Turkey"
          ],
          [
           "Turkey"
          ],
          [
           "Turkey"
          ],
          [
           "Turkey"
          ],
          [
           "Turkey"
          ],
          [
           "Turkey"
          ],
          [
           "Turkey"
          ],
          [
           "Turkey"
          ],
          [
           "Turkey"
          ],
          [
           "Turkey"
          ],
          [
           "Turkey"
          ],
          [
           "Turkey"
          ],
          [
           "Turkey"
          ],
          [
           "Turkey"
          ],
          [
           "Turkey"
          ],
          [
           "Turkey"
          ],
          [
           "Turkey"
          ],
          [
           "Turkey"
          ],
          [
           "Turkey"
          ],
          [
           "Turkey"
          ],
          [
           "Turkey"
          ],
          [
           "Turkey"
          ],
          [
           "Turkey"
          ],
          [
           "Turkey"
          ],
          [
           "Turkey"
          ],
          [
           "Turkey"
          ],
          [
           "Turkey"
          ],
          [
           "Turkey"
          ],
          [
           "Turkey"
          ],
          [
           "Turkey"
          ],
          [
           "Turkey"
          ],
          [
           "Turkey"
          ],
          [
           "Turkey"
          ],
          [
           "Turkey"
          ],
          [
           "Turkey"
          ],
          [
           "Turkey"
          ],
          [
           "Turkey"
          ],
          [
           "Turkey"
          ],
          [
           "Turkey"
          ],
          [
           "Turkey"
          ],
          [
           "Turkey"
          ],
          [
           "Turkey"
          ],
          [
           "Turkey"
          ],
          [
           "Turkey"
          ],
          [
           "Turkey"
          ],
          [
           "Turkey"
          ],
          [
           "Turkey"
          ],
          [
           "Turkey"
          ],
          [
           "Turkey"
          ],
          [
           "Turkey"
          ],
          [
           "Turkey"
          ],
          [
           "Turkey"
          ],
          [
           "Turkey"
          ],
          [
           "Turkey"
          ],
          [
           "Turkey"
          ],
          [
           "Turkey"
          ],
          [
           "Turkey"
          ],
          [
           "Turkey"
          ],
          [
           "Turkey"
          ],
          [
           "Turkey"
          ],
          [
           "Turkey"
          ],
          [
           "Turkey"
          ],
          [
           "Turkey"
          ],
          [
           "Turkey"
          ],
          [
           "Turkey"
          ],
          [
           "Turkey"
          ],
          [
           "Turkey"
          ],
          [
           "Turkey"
          ],
          [
           "Turkey"
          ],
          [
           "Turkey"
          ],
          [
           "Turkey"
          ],
          [
           "Turkey"
          ],
          [
           "Turkey"
          ],
          [
           "Turkey"
          ],
          [
           "Turkey"
          ],
          [
           "Turkey"
          ],
          [
           "Turkey"
          ],
          [
           "Turkey"
          ],
          [
           "Turkey"
          ],
          [
           "Turkey"
          ],
          [
           "Turkey"
          ],
          [
           "Turkey"
          ],
          [
           "Turkey"
          ],
          [
           "Turkey"
          ],
          [
           "Turkey"
          ],
          [
           "Turkey"
          ],
          [
           "Turkey"
          ],
          [
           "Turkey"
          ],
          [
           "Turkey"
          ],
          [
           "Turkey"
          ],
          [
           "Turkey"
          ],
          [
           "Turkey"
          ],
          [
           "Turkey"
          ],
          [
           "Turkey"
          ],
          [
           "Turkey"
          ],
          [
           "Turkey"
          ],
          [
           "Turkey"
          ],
          [
           "Turkey"
          ],
          [
           "Turkey"
          ],
          [
           "Turkey"
          ],
          [
           "Turkey"
          ],
          [
           "Turkey"
          ],
          [
           "Turkey"
          ],
          [
           "Turkey"
          ],
          [
           "Turkey"
          ],
          [
           "Turkey"
          ],
          [
           "Turkey"
          ],
          [
           "Turkey"
          ],
          [
           "Turkey"
          ],
          [
           "Turkey"
          ],
          [
           "Turkey"
          ],
          [
           "Turkey"
          ],
          [
           "Turkey"
          ],
          [
           "Turkey"
          ],
          [
           "Turkey"
          ],
          [
           "Turkey"
          ],
          [
           "Turkey"
          ],
          [
           "Turkey"
          ],
          [
           "Turkey"
          ],
          [
           "Turkey"
          ],
          [
           "Turkey"
          ],
          [
           "Turkey"
          ],
          [
           "Turkey"
          ],
          [
           "Turkey"
          ],
          [
           "Turkey"
          ],
          [
           "Turkey"
          ],
          [
           "Turkey"
          ],
          [
           "Turkey"
          ],
          [
           "Turkey"
          ],
          [
           "Turkey"
          ],
          [
           "Turkey"
          ],
          [
           "Turkey"
          ],
          [
           "Turkey"
          ],
          [
           "Turkey"
          ],
          [
           "Turkey"
          ],
          [
           "Turkey"
          ],
          [
           "Turkey"
          ],
          [
           "Turkey"
          ],
          [
           "Turkey"
          ],
          [
           "Turkey"
          ],
          [
           "Turkey"
          ],
          [
           "Turkey"
          ],
          [
           "Turkey"
          ],
          [
           "Turkey"
          ],
          [
           "Turkey"
          ],
          [
           "Turkey"
          ],
          [
           "Turkey"
          ],
          [
           "Turkey"
          ],
          [
           "Turkey"
          ],
          [
           "Turkey"
          ],
          [
           "Turkey"
          ],
          [
           "Turkey"
          ],
          [
           "Turkey"
          ],
          [
           "Turkey"
          ],
          [
           "Turkey"
          ],
          [
           "Turkey"
          ],
          [
           "Turkey"
          ],
          [
           "Turkey"
          ],
          [
           "Turkey"
          ],
          [
           "Turkey"
          ],
          [
           "Turkey"
          ],
          [
           "Turkey"
          ],
          [
           "Turkey"
          ],
          [
           "Turkey"
          ],
          [
           "Turkey"
          ],
          [
           "Turkey"
          ],
          [
           "Turkey"
          ],
          [
           "Turkey"
          ],
          [
           "Turkey"
          ],
          [
           "Turkey"
          ],
          [
           "Turkey"
          ],
          [
           "Turkey"
          ],
          [
           "Turkey"
          ],
          [
           "Turkey"
          ],
          [
           "Turkey"
          ],
          [
           "Turkey"
          ],
          [
           "Turkey"
          ],
          [
           "Turkey"
          ],
          [
           "Turkey"
          ],
          [
           "Turkey"
          ],
          [
           "Turkey"
          ],
          [
           "Turkey"
          ]
         ],
         "hovertemplate":"Country Name=%{customdata[0]}<br>Year=%{x}<br>Debt to GDP Ratio=%{y}<extra><\/extra>",
         "legendgroup":"Turkey",
         "marker":{
          "color":"#ab63fa",
          "symbol":"circle"
         },
         "mode":"markers",
         "name":"Turkey",
         "showlegend":true,
         "x":[
          "1800",
          "1801",
          "1802",
          "1803",
          "1804",
          "1805",
          "1806",
          "1807",
          "1808",
          "1809",
          "1810",
          "1811",
          "1812",
          "1813",
          "1814",
          "1815",
          "1816",
          "1817",
          "1818",
          "1819",
          "1820",
          "1821",
          "1822",
          "1823",
          "1824",
          "1825",
          "1826",
          "1827",
          "1828",
          "1829",
          "1830",
          "1831",
          "1832",
          "1833",
          "1834",
          "1835",
          "1836",
          "1837",
          "1838",
          "1839",
          "1840",
          "1841",
          "1842",
          "1843",
          "1844",
          "1845",
          "1846",
          "1847",
          "1848",
          "1849",
          "1850",
          "1851",
          "1852",
          "1853",
          "1854",
          "1855",
          "1856",
          "1857",
          "1858",
          "1859",
          "1860",
          "1861",
          "1862",
          "1863",
          "1864",
          "1865",
          "1866",
          "1867",
          "1868",
          "1869",
          "1870",
          "1871",
          "1872",
          "1873",
          "1874",
          "1875",
          "1876",
          "1877",
          "1878",
          "1879",
          "1880",
          "1881",
          "1882",
          "1883",
          "1884",
          "1885",
          "1886",
          "1887",
          "1888",
          "1889",
          "1890",
          "1891",
          "1892",
          "1893",
          "1894",
          "1895",
          "1896",
          "1897",
          "1898",
          "1899",
          "1900",
          "1901",
          "1902",
          "1903",
          "1904",
          "1905",
          "1906",
          "1907",
          "1908",
          "1909",
          "1910",
          "1911",
          "1912",
          "1913",
          "1914",
          "1915",
          "1916",
          "1917",
          "1918",
          "1919",
          "1920",
          "1921",
          "1922",
          "1923",
          "1924",
          "1925",
          "1926",
          "1927",
          "1928",
          "1929",
          "1930",
          "1931",
          "1932",
          "1933",
          "1934",
          "1935",
          "1936",
          "1937",
          "1938",
          "1939",
          "1940",
          "1941",
          "1942",
          "1943",
          "1944",
          "1945",
          "1946",
          "1947",
          "1948",
          "1949",
          "1950",
          "1951",
          "1952",
          "1953",
          "1954",
          "1955",
          "1956",
          "1957",
          "1958",
          "1959",
          "1960",
          "1961",
          "1962",
          "1963",
          "1964",
          "1965",
          "1966",
          "1967",
          "1968",
          "1969",
          "1970",
          "1971",
          "1972",
          "1973",
          "1974",
          "1975",
          "1976",
          "1977",
          "1978",
          "1979",
          "1980",
          "1981",
          "1982",
          "1983",
          "1984",
          "1985",
          "1986",
          "1987",
          "1988",
          "1989",
          "1990",
          "1991",
          "1992",
          "1993",
          "1994",
          "1995",
          "1996",
          "1997",
          "1998",
          "1999",
          "2000",
          "2001",
          "2002",
          "2003",
          "2004",
          "2005",
          "2006",
          "2007",
          "2008",
          "2009",
          "2010",
          "2011",
          "2012",
          "2013",
          "2014",
          "2015"
         ],
         "xaxis":"x",
         "y":[
          null,
          null,
          null,
          null,
          null,
          null,
          null,
          null,
          null,
          null,
          null,
          null,
          null,
          null,
          null,
          null,
          null,
          null,
          null,
          null,
          null,
          null,
          null,
          null,
          null,
          null,
          null,
          null,
          null,
          null,
          null,
          null,
          null,
          null,
          null,
          null,
          null,
          null,
          null,
          null,
          null,
          null,
          null,
          null,
          null,
          null,
          null,
          null,
          null,
          null,
          null,
          null,
          null,
          null,
          null,
          null,
          null,
          null,
          null,
          null,
          null,
          null,
          null,
          null,
          null,
          null,
          null,
          null,
          null,
          null,
          null,
          null,
          null,
          null,
          null,
          null,
          null,
          null,
          null,
          null,
          null,
          null,
          null,
          null,
          null,
          null,
          null,
          null,
          null,
          null,
          null,
          null,
          null,
          null,
          null,
          null,
          null,
          null,
          null,
          null,
          null,
          null,
          null,
          null,
          null,
          null,
          null,
          null,
          null,
          null,
          null,
          null,
          null,
          null,
          null,
          null,
          null,
          null,
          null,
          null,
          null,
          null,
          null,
          null,
          null,
          null,
          null,
          null,
          null,
          null,
          null,
          null,
          null,
          null,
          null,
          null,
          38.0300751879699,
          null,
          33.225404732254,
          null,
          null,
          null,
          null,
          25.3181818181818,
          null,
          25.9425087108014,
          null,
          null,
          31.2130518234165,
          30.9149762624083,
          26.4484536082474,
          null,
          null,
          null,
          null,
          null,
          null,
          null,
          21.2125356125356,
          18.2635535307517,
          19.8770212765957,
          28.8602409638554,
          28.8478411053541,
          27.6449925261584,
          25.7062937062937,
          33.3848167539267,
          33.3568281938326,
          33.3178217821782,
          33.2196428571429,
          33.1516129032258,
          39.8427586206897,
          34.4192513368984,
          30.0538793103448,
          23.0508474576271,
          19.0365853658537,
          20.2350674373796,
          20.3614457831325,
          24.0092699884125,
          25.8074781225139,
          23.5528756957328,
          22.3682994454713,
          31.9971936389149,
          33.427,
          32.693,
          42.5686,
          44.2797,
          38.2129,
          40.3375,
          38.642,
          33.4522,
          25.7752,
          28.3553,
          29.1915,
          29.1444,
          39.1626,
          34.6283,
          35.4572,
          32.4722,
          36.5254,
          52.0898,
          51.3102405115325,
          77.9359729350624,
          73.9996833405349,
          67.6979801508043,
          59.6115197913851,
          52.7104766008632,
          46.5241278069182,
          39.9073305980633,
          39.9836571407901,
          46.0726336477889,
          42.3354099957516,
          39.1417112794053,
          36.1582344623456,
          36.1380038502031,
          33.5195100150625,
          32.9297255929522
         ],
         "yaxis":"y",
         "type":"scattergl"
        },
        {
         "customdata":[
          [
           "United Kingdom"
          ],
          [
           "United Kingdom"
          ],
          [
           "United Kingdom"
          ],
          [
           "United Kingdom"
          ],
          [
           "United Kingdom"
          ],
          [
           "United Kingdom"
          ],
          [
           "United Kingdom"
          ],
          [
           "United Kingdom"
          ],
          [
           "United Kingdom"
          ],
          [
           "United Kingdom"
          ],
          [
           "United Kingdom"
          ],
          [
           "United Kingdom"
          ],
          [
           "United Kingdom"
          ],
          [
           "United Kingdom"
          ],
          [
           "United Kingdom"
          ],
          [
           "United Kingdom"
          ],
          [
           "United Kingdom"
          ],
          [
           "United Kingdom"
          ],
          [
           "United Kingdom"
          ],
          [
           "United Kingdom"
          ],
          [
           "United Kingdom"
          ],
          [
           "United Kingdom"
          ],
          [
           "United Kingdom"
          ],
          [
           "United Kingdom"
          ],
          [
           "United Kingdom"
          ],
          [
           "United Kingdom"
          ],
          [
           "United Kingdom"
          ],
          [
           "United Kingdom"
          ],
          [
           "United Kingdom"
          ],
          [
           "United Kingdom"
          ],
          [
           "United Kingdom"
          ],
          [
           "United Kingdom"
          ],
          [
           "United Kingdom"
          ],
          [
           "United Kingdom"
          ],
          [
           "United Kingdom"
          ],
          [
           "United Kingdom"
          ],
          [
           "United Kingdom"
          ],
          [
           "United Kingdom"
          ],
          [
           "United Kingdom"
          ],
          [
           "United Kingdom"
          ],
          [
           "United Kingdom"
          ],
          [
           "United Kingdom"
          ],
          [
           "United Kingdom"
          ],
          [
           "United Kingdom"
          ],
          [
           "United Kingdom"
          ],
          [
           "United Kingdom"
          ],
          [
           "United Kingdom"
          ],
          [
           "United Kingdom"
          ],
          [
           "United Kingdom"
          ],
          [
           "United Kingdom"
          ],
          [
           "United Kingdom"
          ],
          [
           "United Kingdom"
          ],
          [
           "United Kingdom"
          ],
          [
           "United Kingdom"
          ],
          [
           "United Kingdom"
          ],
          [
           "United Kingdom"
          ],
          [
           "United Kingdom"
          ],
          [
           "United Kingdom"
          ],
          [
           "United Kingdom"
          ],
          [
           "United Kingdom"
          ],
          [
           "United Kingdom"
          ],
          [
           "United Kingdom"
          ],
          [
           "United Kingdom"
          ],
          [
           "United Kingdom"
          ],
          [
           "United Kingdom"
          ],
          [
           "United Kingdom"
          ],
          [
           "United Kingdom"
          ],
          [
           "United Kingdom"
          ],
          [
           "United Kingdom"
          ],
          [
           "United Kingdom"
          ],
          [
           "United Kingdom"
          ],
          [
           "United Kingdom"
          ],
          [
           "United Kingdom"
          ],
          [
           "United Kingdom"
          ],
          [
           "United Kingdom"
          ],
          [
           "United Kingdom"
          ],
          [
           "United Kingdom"
          ],
          [
           "United Kingdom"
          ],
          [
           "United Kingdom"
          ],
          [
           "United Kingdom"
          ],
          [
           "United Kingdom"
          ],
          [
           "United Kingdom"
          ],
          [
           "United Kingdom"
          ],
          [
           "United Kingdom"
          ],
          [
           "United Kingdom"
          ],
          [
           "United Kingdom"
          ],
          [
           "United Kingdom"
          ],
          [
           "United Kingdom"
          ],
          [
           "United Kingdom"
          ],
          [
           "United Kingdom"
          ],
          [
           "United Kingdom"
          ],
          [
           "United Kingdom"
          ],
          [
           "United Kingdom"
          ],
          [
           "United Kingdom"
          ],
          [
           "United Kingdom"
          ],
          [
           "United Kingdom"
          ],
          [
           "United Kingdom"
          ],
          [
           "United Kingdom"
          ],
          [
           "United Kingdom"
          ],
          [
           "United Kingdom"
          ],
          [
           "United Kingdom"
          ],
          [
           "United Kingdom"
          ],
          [
           "United Kingdom"
          ],
          [
           "United Kingdom"
          ],
          [
           "United Kingdom"
          ],
          [
           "United Kingdom"
          ],
          [
           "United Kingdom"
          ],
          [
           "United Kingdom"
          ],
          [
           "United Kingdom"
          ],
          [
           "United Kingdom"
          ],
          [
           "United Kingdom"
          ],
          [
           "United Kingdom"
          ],
          [
           "United Kingdom"
          ],
          [
           "United Kingdom"
          ],
          [
           "United Kingdom"
          ],
          [
           "United Kingdom"
          ],
          [
           "United Kingdom"
          ],
          [
           "United Kingdom"
          ],
          [
           "United Kingdom"
          ],
          [
           "United Kingdom"
          ],
          [
           "United Kingdom"
          ],
          [
           "United Kingdom"
          ],
          [
           "United Kingdom"
          ],
          [
           "United Kingdom"
          ],
          [
           "United Kingdom"
          ],
          [
           "United Kingdom"
          ],
          [
           "United Kingdom"
          ],
          [
           "United Kingdom"
          ],
          [
           "United Kingdom"
          ],
          [
           "United Kingdom"
          ],
          [
           "United Kingdom"
          ],
          [
           "United Kingdom"
          ],
          [
           "United Kingdom"
          ],
          [
           "United Kingdom"
          ],
          [
           "United Kingdom"
          ],
          [
           "United Kingdom"
          ],
          [
           "United Kingdom"
          ],
          [
           "United Kingdom"
          ],
          [
           "United Kingdom"
          ],
          [
           "United Kingdom"
          ],
          [
           "United Kingdom"
          ],
          [
           "United Kingdom"
          ],
          [
           "United Kingdom"
          ],
          [
           "United Kingdom"
          ],
          [
           "United Kingdom"
          ],
          [
           "United Kingdom"
          ],
          [
           "United Kingdom"
          ],
          [
           "United Kingdom"
          ],
          [
           "United Kingdom"
          ],
          [
           "United Kingdom"
          ],
          [
           "United Kingdom"
          ],
          [
           "United Kingdom"
          ],
          [
           "United Kingdom"
          ],
          [
           "United Kingdom"
          ],
          [
           "United Kingdom"
          ],
          [
           "United Kingdom"
          ],
          [
           "United Kingdom"
          ],
          [
           "United Kingdom"
          ],
          [
           "United Kingdom"
          ],
          [
           "United Kingdom"
          ],
          [
           "United Kingdom"
          ],
          [
           "United Kingdom"
          ],
          [
           "United Kingdom"
          ],
          [
           "United Kingdom"
          ],
          [
           "United Kingdom"
          ],
          [
           "United Kingdom"
          ],
          [
           "United Kingdom"
          ],
          [
           "United Kingdom"
          ],
          [
           "United Kingdom"
          ],
          [
           "United Kingdom"
          ],
          [
           "United Kingdom"
          ],
          [
           "United Kingdom"
          ],
          [
           "United Kingdom"
          ],
          [
           "United Kingdom"
          ],
          [
           "United Kingdom"
          ],
          [
           "United Kingdom"
          ],
          [
           "United Kingdom"
          ],
          [
           "United Kingdom"
          ],
          [
           "United Kingdom"
          ],
          [
           "United Kingdom"
          ],
          [
           "United Kingdom"
          ],
          [
           "United Kingdom"
          ],
          [
           "United Kingdom"
          ],
          [
           "United Kingdom"
          ],
          [
           "United Kingdom"
          ],
          [
           "United Kingdom"
          ],
          [
           "United Kingdom"
          ],
          [
           "United Kingdom"
          ],
          [
           "United Kingdom"
          ],
          [
           "United Kingdom"
          ],
          [
           "United Kingdom"
          ],
          [
           "United Kingdom"
          ],
          [
           "United Kingdom"
          ],
          [
           "United Kingdom"
          ],
          [
           "United Kingdom"
          ],
          [
           "United Kingdom"
          ],
          [
           "United Kingdom"
          ],
          [
           "United Kingdom"
          ],
          [
           "United Kingdom"
          ],
          [
           "United Kingdom"
          ],
          [
           "United Kingdom"
          ],
          [
           "United Kingdom"
          ],
          [
           "United Kingdom"
          ],
          [
           "United Kingdom"
          ],
          [
           "United Kingdom"
          ],
          [
           "United Kingdom"
          ],
          [
           "United Kingdom"
          ],
          [
           "United Kingdom"
          ],
          [
           "United Kingdom"
          ],
          [
           "United Kingdom"
          ],
          [
           "United Kingdom"
          ],
          [
           "United Kingdom"
          ],
          [
           "United Kingdom"
          ],
          [
           "United Kingdom"
          ],
          [
           "United Kingdom"
          ],
          [
           "United Kingdom"
          ]
         ],
         "hovertemplate":"Country Name=%{customdata[0]}<br>Year=%{x}<br>Debt to GDP Ratio=%{y}<extra><\/extra>",
         "legendgroup":"United Kingdom",
         "marker":{
          "color":"#FFA15A",
          "symbol":"circle"
         },
         "mode":"markers",
         "name":"United Kingdom",
         "showlegend":true,
         "x":[
          "1800",
          "1801",
          "1802",
          "1803",
          "1804",
          "1805",
          "1806",
          "1807",
          "1808",
          "1809",
          "1810",
          "1811",
          "1812",
          "1813",
          "1814",
          "1815",
          "1816",
          "1817",
          "1818",
          "1819",
          "1820",
          "1821",
          "1822",
          "1823",
          "1824",
          "1825",
          "1826",
          "1827",
          "1828",
          "1829",
          "1830",
          "1831",
          "1832",
          "1833",
          "1834",
          "1835",
          "1836",
          "1837",
          "1838",
          "1839",
          "1840",
          "1841",
          "1842",
          "1843",
          "1844",
          "1845",
          "1846",
          "1847",
          "1848",
          "1849",
          "1850",
          "1851",
          "1852",
          "1853",
          "1854",
          "1855",
          "1856",
          "1857",
          "1858",
          "1859",
          "1860",
          "1861",
          "1862",
          "1863",
          "1864",
          "1865",
          "1866",
          "1867",
          "1868",
          "1869",
          "1870",
          "1871",
          "1872",
          "1873",
          "1874",
          "1875",
          "1876",
          "1877",
          "1878",
          "1879",
          "1880",
          "1881",
          "1882",
          "1883",
          "1884",
          "1885",
          "1886",
          "1887",
          "1888",
          "1889",
          "1890",
          "1891",
          "1892",
          "1893",
          "1894",
          "1895",
          "1896",
          "1897",
          "1898",
          "1899",
          "1900",
          "1901",
          "1902",
          "1903",
          "1904",
          "1905",
          "1906",
          "1907",
          "1908",
          "1909",
          "1910",
          "1911",
          "1912",
          "1913",
          "1914",
          "1915",
          "1916",
          "1917",
          "1918",
          "1919",
          "1920",
          "1921",
          "1922",
          "1923",
          "1924",
          "1925",
          "1926",
          "1927",
          "1928",
          "1929",
          "1930",
          "1931",
          "1932",
          "1933",
          "1934",
          "1935",
          "1936",
          "1937",
          "1938",
          "1939",
          "1940",
          "1941",
          "1942",
          "1943",
          "1944",
          "1945",
          "1946",
          "1947",
          "1948",
          "1949",
          "1950",
          "1951",
          "1952",
          "1953",
          "1954",
          "1955",
          "1956",
          "1957",
          "1958",
          "1959",
          "1960",
          "1961",
          "1962",
          "1963",
          "1964",
          "1965",
          "1966",
          "1967",
          "1968",
          "1969",
          "1970",
          "1971",
          "1972",
          "1973",
          "1974",
          "1975",
          "1976",
          "1977",
          "1978",
          "1979",
          "1980",
          "1981",
          "1982",
          "1983",
          "1984",
          "1985",
          "1986",
          "1987",
          "1988",
          "1989",
          "1990",
          "1991",
          "1992",
          "1993",
          "1994",
          "1995",
          "1996",
          "1997",
          "1998",
          "1999",
          "2000",
          "2001",
          "2002",
          "2003",
          "2004",
          "2005",
          "2006",
          "2007",
          "2008",
          "2009",
          "2010",
          "2011",
          "2012",
          "2013",
          "2014",
          "2015"
         ],
         "xaxis":"x",
         "y":[
          176.84,
          177.47,
          188.99,
          190.67,
          188.4,
          189.07,
          192.64,
          193.88,
          191.51,
          188.99,
          186.69,
          182.51,
          188.11,
          196.74,
          219.62,
          226.31,
          237.32,
          231.09,
          259.04,
          260.29,
          259.95,
          260.34,
          246.73,
          237.29,
          224.8,
          212.72,
          201.07,
          191.97,
          182.7,
          173.55,
          181.574158325751,
          177.913555102964,
          187.294005254359,
          190.04854368932,
          177.487505679237,
          164.522292993631,
          155.713159968479,
          163.341594382487,
          151.857555341675,
          143.465598835093,
          154.677387723083,
          164.180344899231,
          172.849989113869,
          172.988881621975,
          157.046847203005,
          147.122369156267,
          135.700741251508,
          130.086149768058,
          136.743143005003,
          135.153990131019,
          148.512071869736,
          139.745177844629,
          137.36013986014,
          131.653181242397,
          125.095251792029,
          120.89837660479,
          120.036897097274,
          121.578103503447,
          125.038939786526,
          117.58376816188,
          115.500355015448,
          108.474056453491,
          106.619749761988,
          100.907765758139,
          95.230712589532,
          91.060027261659,
          86.9486709455024,
          87.6716353167139,
          84.5780997351189,
          83.1221582125827,
          77.3530462257828,
          71.7103749206297,
          67.4093113475502,
          61.8401434850711,
          63.0810622938481,
          63.6543429488177,
          65.4335344016375,
          65.8060343199093,
          67.4606596944995,
          70.2795118658702,
          65.4011914944856,
          64.3604947205268,
          61.5469800853218,
          61.4962196893751,
          56.0508150597027,
          57.7860405901101,
          57.4823029250478,
          55.4303523737496,
          51.31931324756,
          47.1481778004592,
          45.903151594614,
          46.4329192994458,
          47.4749090514637,
          47.3891711384417,
          44.1155677158266,
          43.1104687713125,
          41.1028481764663,
          40.3786242484683,
          37.7709771394922,
          35.088183840776,
          32.4402483058456,
          35.7951205076376,
          38.9684483294854,
          41.1958413401977,
          40.7136663333704,
          39.0348470292338,
          37.4050125389801,
          35.332448483192,
          35.6765662881594,
          34.8774884406493,
          34.5133512900054,
          31.6143557772292,
          29.7922332874336,
          27.898613339666,
          27.2711527057962,
          39.2826065474793,
          65.5849133226508,
          97.8458154958671,
          119.099185790666,
          142.766153896605,
          137.793835235798,
          158.409787158857,
          183.482299361244,
          195.543599636508,
          188.806841337544,
          176.974641692607,
          187.124844952779,
          177.452234818504,
          175.780389464689,
          170.523925722734,
          170.996993414215,
          184.826075147549,
          190.147446389568,
          193.966309714089,
          186.635420149321,
          178.088098379971,
          170.194736878342,
          158.69138808483,
          155.081206165607,
          149.68408125153,
          121.058604769515,
          133.687263517283,
          153.2039174871,
          173.99243762092,
          200.634611178022,
          234.686434092043,
          269.797596885853,
          264.124919999567,
          239.573393207971,
          220.273204903678,
          216.918159643368,
          196.762606318348,
          180.858201132155,
          169.75748093096,
          163.225628109835,
          154.185900005727,
          143.758842614755,
          135.734539969834,
          131.127649325626,
          124.87041430918,
          117.94435463286,
          113.751661363728,
          110.521263060493,
          108.554330823238,
          101.081081081081,
          94.6061548026111,
          91.9492942868042,
          89.1478508111724,
          88.5483411463055,
          82.8373963920039,
          73.2353918030246,
          65.5545099884334,
          62.0416183369977,
          54.5621847123393,
          51.6014404218378,
          46.677779697712,
          48.8844339215042,
          50.4586397818362,
          51.626111676186,
          45.3001922959945,
          42.7739187085356,
          45.0873214703279,
          43.3913093624823,
          42.1844248579752,
          42.5932269923081,
          41.5364337065022,
          41.5154237699307,
          39.6151343236912,
          37.3416126108951,
          32.8084169869794,
          28.8210002262955,
          28.8008675745447,
          33.6616096861161,
          38.5309415976109,
          41.4241589385363,
          44.4455600098488,
          44.5512375405981,
          43.8667312843836,
          41.6417085242597,
          39.5527832315745,
          36.980357362589,
          34.3043526760815,
          34.2348795721152,
          35.7559948134692,
          38.6611274345262,
          40.013715541695,
          41.0167595923179,
          42.2101522643691,
          50.2670285861869,
          64.2034434624429,
          75.7370556186917,
          81.3242734330954,
          84.817533151368,
          85.9951033679148,
          87.9353408542206,
          88.9843599563534
         ],
         "yaxis":"y",
         "type":"scattergl"
        },
        {
         "customdata":[
          [
           "United States"
          ],
          [
           "United States"
          ],
          [
           "United States"
          ],
          [
           "United States"
          ],
          [
           "United States"
          ],
          [
           "United States"
          ],
          [
           "United States"
          ],
          [
           "United States"
          ],
          [
           "United States"
          ],
          [
           "United States"
          ],
          [
           "United States"
          ],
          [
           "United States"
          ],
          [
           "United States"
          ],
          [
           "United States"
          ],
          [
           "United States"
          ],
          [
           "United States"
          ],
          [
           "United States"
          ],
          [
           "United States"
          ],
          [
           "United States"
          ],
          [
           "United States"
          ],
          [
           "United States"
          ],
          [
           "United States"
          ],
          [
           "United States"
          ],
          [
           "United States"
          ],
          [
           "United States"
          ],
          [
           "United States"
          ],
          [
           "United States"
          ],
          [
           "United States"
          ],
          [
           "United States"
          ],
          [
           "United States"
          ],
          [
           "United States"
          ],
          [
           "United States"
          ],
          [
           "United States"
          ],
          [
           "United States"
          ],
          [
           "United States"
          ],
          [
           "United States"
          ],
          [
           "United States"
          ],
          [
           "United States"
          ],
          [
           "United States"
          ],
          [
           "United States"
          ],
          [
           "United States"
          ],
          [
           "United States"
          ],
          [
           "United States"
          ],
          [
           "United States"
          ],
          [
           "United States"
          ],
          [
           "United States"
          ],
          [
           "United States"
          ],
          [
           "United States"
          ],
          [
           "United States"
          ],
          [
           "United States"
          ],
          [
           "United States"
          ],
          [
           "United States"
          ],
          [
           "United States"
          ],
          [
           "United States"
          ],
          [
           "United States"
          ],
          [
           "United States"
          ],
          [
           "United States"
          ],
          [
           "United States"
          ],
          [
           "United States"
          ],
          [
           "United States"
          ],
          [
           "United States"
          ],
          [
           "United States"
          ],
          [
           "United States"
          ],
          [
           "United States"
          ],
          [
           "United States"
          ],
          [
           "United States"
          ],
          [
           "United States"
          ],
          [
           "United States"
          ],
          [
           "United States"
          ],
          [
           "United States"
          ],
          [
           "United States"
          ],
          [
           "United States"
          ],
          [
           "United States"
          ],
          [
           "United States"
          ],
          [
           "United States"
          ],
          [
           "United States"
          ],
          [
           "United States"
          ],
          [
           "United States"
          ],
          [
           "United States"
          ],
          [
           "United States"
          ],
          [
           "United States"
          ],
          [
           "United States"
          ],
          [
           "United States"
          ],
          [
           "United States"
          ],
          [
           "United States"
          ],
          [
           "United States"
          ],
          [
           "United States"
          ],
          [
           "United States"
          ],
          [
           "United States"
          ],
          [
           "United States"
          ],
          [
           "United States"
          ],
          [
           "United States"
          ],
          [
           "United States"
          ],
          [
           "United States"
          ],
          [
           "United States"
          ],
          [
           "United States"
          ],
          [
           "United States"
          ],
          [
           "United States"
          ],
          [
           "United States"
          ],
          [
           "United States"
          ],
          [
           "United States"
          ],
          [
           "United States"
          ],
          [
           "United States"
          ],
          [
           "United States"
          ],
          [
           "United States"
          ],
          [
           "United States"
          ],
          [
           "United States"
          ],
          [
           "United States"
          ],
          [
           "United States"
          ],
          [
           "United States"
          ],
          [
           "United States"
          ],
          [
           "United States"
          ],
          [
           "United States"
          ],
          [
           "United States"
          ],
          [
           "United States"
          ],
          [
           "United States"
          ],
          [
           "United States"
          ],
          [
           "United States"
          ],
          [
           "United States"
          ],
          [
           "United States"
          ],
          [
           "United States"
          ],
          [
           "United States"
          ],
          [
           "United States"
          ],
          [
           "United States"
          ],
          [
           "United States"
          ],
          [
           "United States"
          ],
          [
           "United States"
          ],
          [
           "United States"
          ],
          [
           "United States"
          ],
          [
           "United States"
          ],
          [
           "United States"
          ],
          [
           "United States"
          ],
          [
           "United States"
          ],
          [
           "United States"
          ],
          [
           "United States"
          ],
          [
           "United States"
          ],
          [
           "United States"
          ],
          [
           "United States"
          ],
          [
           "United States"
          ],
          [
           "United States"
          ],
          [
           "United States"
          ],
          [
           "United States"
          ],
          [
           "United States"
          ],
          [
           "United States"
          ],
          [
           "United States"
          ],
          [
           "United States"
          ],
          [
           "United States"
          ],
          [
           "United States"
          ],
          [
           "United States"
          ],
          [
           "United States"
          ],
          [
           "United States"
          ],
          [
           "United States"
          ],
          [
           "United States"
          ],
          [
           "United States"
          ],
          [
           "United States"
          ],
          [
           "United States"
          ],
          [
           "United States"
          ],
          [
           "United States"
          ],
          [
           "United States"
          ],
          [
           "United States"
          ],
          [
           "United States"
          ],
          [
           "United States"
          ],
          [
           "United States"
          ],
          [
           "United States"
          ],
          [
           "United States"
          ],
          [
           "United States"
          ],
          [
           "United States"
          ],
          [
           "United States"
          ],
          [
           "United States"
          ],
          [
           "United States"
          ],
          [
           "United States"
          ],
          [
           "United States"
          ],
          [
           "United States"
          ],
          [
           "United States"
          ],
          [
           "United States"
          ],
          [
           "United States"
          ],
          [
           "United States"
          ],
          [
           "United States"
          ],
          [
           "United States"
          ],
          [
           "United States"
          ],
          [
           "United States"
          ],
          [
           "United States"
          ],
          [
           "United States"
          ],
          [
           "United States"
          ],
          [
           "United States"
          ],
          [
           "United States"
          ],
          [
           "United States"
          ],
          [
           "United States"
          ],
          [
           "United States"
          ],
          [
           "United States"
          ],
          [
           "United States"
          ],
          [
           "United States"
          ],
          [
           "United States"
          ],
          [
           "United States"
          ],
          [
           "United States"
          ],
          [
           "United States"
          ],
          [
           "United States"
          ],
          [
           "United States"
          ],
          [
           "United States"
          ],
          [
           "United States"
          ],
          [
           "United States"
          ],
          [
           "United States"
          ],
          [
           "United States"
          ],
          [
           "United States"
          ],
          [
           "United States"
          ],
          [
           "United States"
          ],
          [
           "United States"
          ],
          [
           "United States"
          ],
          [
           "United States"
          ],
          [
           "United States"
          ],
          [
           "United States"
          ],
          [
           "United States"
          ],
          [
           "United States"
          ],
          [
           "United States"
          ],
          [
           "United States"
          ],
          [
           "United States"
          ]
         ],
         "hovertemplate":"Country Name=%{customdata[0]}<br>Year=%{x}<br>Debt to GDP Ratio=%{y}<extra><\/extra>",
         "legendgroup":"United States",
         "marker":{
          "color":"#19d3f3",
          "symbol":"circle"
         },
         "mode":"markers",
         "name":"United States",
         "showlegend":true,
         "x":[
          "1800",
          "1801",
          "1802",
          "1803",
          "1804",
          "1805",
          "1806",
          "1807",
          "1808",
          "1809",
          "1810",
          "1811",
          "1812",
          "1813",
          "1814",
          "1815",
          "1816",
          "1817",
          "1818",
          "1819",
          "1820",
          "1821",
          "1822",
          "1823",
          "1824",
          "1825",
          "1826",
          "1827",
          "1828",
          "1829",
          "1830",
          "1831",
          "1832",
          "1833",
          "1834",
          "1835",
          "1836",
          "1837",
          "1838",
          "1839",
          "1840",
          "1841",
          "1842",
          "1843",
          "1844",
          "1845",
          "1846",
          "1847",
          "1848",
          "1849",
          "1850",
          "1851",
          "1852",
          "1853",
          "1854",
          "1855",
          "1856",
          "1857",
          "1858",
          "1859",
          "1860",
          "1861",
          "1862",
          "1863",
          "1864",
          "1865",
          "1866",
          "1867",
          "1868",
          "1869",
          "1870",
          "1871",
          "1872",
          "1873",
          "1874",
          "1875",
          "1876",
          "1877",
          "1878",
          "1879",
          "1880",
          "1881",
          "1882",
          "1883",
          "1884",
          "1885",
          "1886",
          "1887",
          "1888",
          "1889",
          "1890",
          "1891",
          "1892",
          "1893",
          "1894",
          "1895",
          "1896",
          "1897",
          "1898",
          "1899",
          "1900",
          "1901",
          "1902",
          "1903",
          "1904",
          "1905",
          "1906",
          "1907",
          "1908",
          "1909",
          "1910",
          "1911",
          "1912",
          "1913",
          "1914",
          "1915",
          "1916",
          "1917",
          "1918",
          "1919",
          "1920",
          "1921",
          "1922",
          "1923",
          "1924",
          "1925",
          "1926",
          "1927",
          "1928",
          "1929",
          "1930",
          "1931",
          "1932",
          "1933",
          "1934",
          "1935",
          "1936",
          "1937",
          "1938",
          "1939",
          "1940",
          "1941",
          "1942",
          "1943",
          "1944",
          "1945",
          "1946",
          "1947",
          "1948",
          "1949",
          "1950",
          "1951",
          "1952",
          "1953",
          "1954",
          "1955",
          "1956",
          "1957",
          "1958",
          "1959",
          "1960",
          "1961",
          "1962",
          "1963",
          "1964",
          "1965",
          "1966",
          "1967",
          "1968",
          "1969",
          "1970",
          "1971",
          "1972",
          "1973",
          "1974",
          "1975",
          "1976",
          "1977",
          "1978",
          "1979",
          "1980",
          "1981",
          "1982",
          "1983",
          "1984",
          "1985",
          "1986",
          "1987",
          "1988",
          "1989",
          "1990",
          "1991",
          "1992",
          "1993",
          "1994",
          "1995",
          "1996",
          "1997",
          "1998",
          "1999",
          "2000",
          "2001",
          "2002",
          "2003",
          "2004",
          "2005",
          "2006",
          "2007",
          "2008",
          "2009",
          "2010",
          "2011",
          "2012",
          "2013",
          "2014",
          "2015"
         ],
         "xaxis":"x",
         "y":[
          18.082788671024,
          15.719696969697,
          16.469387755102,
          15.7991803278689,
          16.1797752808989,
          13.902027027027,
          12.4302134646962,
          12.2695035460993,
          14.1431670281996,
          11.3545816733068,
          9.89795918367347,
          8.27586206896552,
          7.94376098418278,
          8.98876404494382,
          11.6262482168331,
          12.2906403940887,
          14.9063231850117,
          14.5808736717828,
          12.6838235294118,
          12.6657824933687,
          13.8719512195122,
          14.827018121911,
          13.28125,
          13.0042918454936,
          12.0239680426099,
          9.85882352941177,
          9.17420814479638,
          8.52534562211981,
          7.66174801362089,
          6.45303867403315,
          5.20900321543408,
          3.64398881640261,
          2.1038961038961,
          0.539291217257319,
          0.360090022505626,
          null,
          null,
          0.0218579234972678,
          0.187713310580205,
          0.538302277432712,
          0.208092485549133,
          0.303899082568807,
          0.81437125748503,
          1.99877750611247,
          1.2954796030871,
          0.812883435582822,
          0.756547041707081,
          1.66167023554604,
          1.98061525495154,
          2.6919795221843,
          2.50295624753646,
          2.52029520295203,
          2.19602559784439,
          1.74293208976975,
          1.08734862148931,
          0.87988136431043,
          0.762631077216397,
          0.664967562557924,
          1.10373647984267,
          1.36459062281316,
          1.44481605351171,
          1.93962748876044,
          9.51361161524501,
          15.2540525813922,
          19.0575146935348,
          28.451976200595,
          30.1081612586037,
          29.8950930626057,
          29.7626728110599,
          29.6251891514375,
          29.8847050165583,
          28.9358255451713,
          23.6161572985681,
          23.1311827956989,
          24.9843840370156,
          25.4671075941892,
          24.5427320893803,
          22.9457870672763,
          23.8160361751406,
          23.7416090054735,
          17.5087924970692,
          17.0577800304105,
          13.8100550349546,
          13.7693906924676,
          13.2938000981515,
          12.9542097488922,
          11.5906720309939,
          10.5904032374621,
          10.1369060692584,
          8.58821912158911,
          7.7337559429477,
          6.46401028277635,
          6.17750271166975,
          6.32375189107413,
          7.46458195698451,
          7.08774877229258,
          7.99463842029554,
          7.704094448631,
          7.43486127864898,
          7.76049262680279,
          6.54950751684811,
          5.64718934911243,
          5.3072625698324,
          4.77866622702168,
          4.88605091159271,
          4.42032945585136,
          3.79152424252481,
          3.71634973598108,
          4.48921247236411,
          3.74771540469974,
          3.62839697554494,
          3.54020308617357,
          3.4117344460004,
          3.24926462577623,
          3.46666666666667,
          3.30723744482385,
          2.74108381438224,
          5.71670092793606,
          18.6400778210117,
          33.2821825495292,
          27.9103397578737,
          32.42832025967,
          31.5349016053503,
          26.3222546756489,
          24.4197511002838,
          22.4591402204731,
          20.1559678213758,
          19.1234685233776,
          18.1853210061464,
          16.3270009643202,
          17.7276013143483,
          21.9338120104439,
          33.141156462585,
          39.9622340425532,
          40.9895454545455,
          39.1553888130969,
          40.3566308243728,
          39.6350380848749,
          43.1645760743322,
          43.9559782608696,
          42.4160908193485,
          38.6435674822415,
          44.7604449938195,
          68.8992439516129,
          91.4899408284024,
          116.000986547085,
          121.197525865947,
          105.681833060556,
          93.5801928783383,
          94.423010833022,
          87.4472986748216,
          75.1758468335788,
          72.2546569994423,
          70.0371413529876,
          71.1780635003936,
          66.0824181117534,
          62.2718721461187,
          58.6191115926327,
          59.0603120324856,
          56.1107410327158,
          54.2910125142207,
          52.9541689573025,
          50.844126172208,
          49.4358493615646,
          46.9164509331728,
          44.0597000416609,
          40.5304827061954,
          39.1105263157895,
          38.1325726823917,
          35.8997564193647,
          35.6755506396076,
          36.1665780613149,
          35.1447920025798,
          33.655070371707,
          32.2380413057961,
          33.1412059686888,
          34.4848950052086,
          34.7739490006892,
          33.8256021603728,
          null,
          41.178805055066,
          40.3255759633128,
          44.9798206278027,
          47.8485208727023,
          49.5133268988047,
          54.0917467073101,
          57.5213311184336,
          59.2754917662519,
          60.1462316460817,
          60.2791795179978,
          61.9868217508006,
          66.3689246480213,
          68.6053117509204,
          70.1920130257171,
          69.3935994089236,
          68.8004906022273,
          68.0278513360864,
          65.6206470948687,
          62.4721741641797,
          58.8776912173976,
          53.0320781167621,
          53.0219430276812,
          55.3787579622911,
          58.5172633229589,
          65.4922779568918,
          64.8931394487425,
          63.641199777712,
          64.014304832457,
          72.8473238747637,
          86.0340772155652,
          94.7320173211088,
          98.9947753968395,
          102.497522477213,
          104.621196417338,
          104.605125020842,
          105.151987758259
         ],
         "yaxis":"y",
         "type":"scattergl"
        },
        {
         "customdata":[
          [
           "Argentina"
          ],
          [
           "Argentina"
          ],
          [
           "Argentina"
          ],
          [
           "Argentina"
          ],
          [
           "Argentina"
          ],
          [
           "Argentina"
          ],
          [
           "Argentina"
          ],
          [
           "Argentina"
          ],
          [
           "Argentina"
          ],
          [
           "Argentina"
          ],
          [
           "Argentina"
          ],
          [
           "Argentina"
          ],
          [
           "Argentina"
          ],
          [
           "Argentina"
          ],
          [
           "Argentina"
          ],
          [
           "Argentina"
          ],
          [
           "Argentina"
          ],
          [
           "Argentina"
          ],
          [
           "Argentina"
          ],
          [
           "Argentina"
          ],
          [
           "Argentina"
          ],
          [
           "Argentina"
          ],
          [
           "Argentina"
          ],
          [
           "Argentina"
          ],
          [
           "Argentina"
          ],
          [
           "Argentina"
          ],
          [
           "Argentina"
          ],
          [
           "Argentina"
          ],
          [
           "Argentina"
          ],
          [
           "Argentina"
          ],
          [
           "Argentina"
          ],
          [
           "Argentina"
          ],
          [
           "Argentina"
          ],
          [
           "Argentina"
          ],
          [
           "Argentina"
          ],
          [
           "Argentina"
          ],
          [
           "Argentina"
          ],
          [
           "Argentina"
          ],
          [
           "Argentina"
          ],
          [
           "Argentina"
          ],
          [
           "Argentina"
          ],
          [
           "Argentina"
          ],
          [
           "Argentina"
          ],
          [
           "Argentina"
          ],
          [
           "Argentina"
          ],
          [
           "Argentina"
          ],
          [
           "Argentina"
          ],
          [
           "Argentina"
          ],
          [
           "Argentina"
          ],
          [
           "Argentina"
          ],
          [
           "Argentina"
          ],
          [
           "Argentina"
          ],
          [
           "Argentina"
          ],
          [
           "Argentina"
          ],
          [
           "Argentina"
          ],
          [
           "Argentina"
          ],
          [
           "Argentina"
          ],
          [
           "Argentina"
          ],
          [
           "Argentina"
          ],
          [
           "Argentina"
          ],
          [
           "Argentina"
          ],
          [
           "Argentina"
          ],
          [
           "Argentina"
          ],
          [
           "Argentina"
          ],
          [
           "Argentina"
          ],
          [
           "Argentina"
          ],
          [
           "Argentina"
          ],
          [
           "Argentina"
          ],
          [
           "Argentina"
          ],
          [
           "Argentina"
          ],
          [
           "Argentina"
          ],
          [
           "Argentina"
          ],
          [
           "Argentina"
          ],
          [
           "Argentina"
          ],
          [
           "Argentina"
          ],
          [
           "Argentina"
          ],
          [
           "Argentina"
          ],
          [
           "Argentina"
          ],
          [
           "Argentina"
          ],
          [
           "Argentina"
          ],
          [
           "Argentina"
          ],
          [
           "Argentina"
          ],
          [
           "Argentina"
          ],
          [
           "Argentina"
          ],
          [
           "Argentina"
          ],
          [
           "Argentina"
          ],
          [
           "Argentina"
          ],
          [
           "Argentina"
          ],
          [
           "Argentina"
          ],
          [
           "Argentina"
          ],
          [
           "Argentina"
          ],
          [
           "Argentina"
          ],
          [
           "Argentina"
          ],
          [
           "Argentina"
          ],
          [
           "Argentina"
          ],
          [
           "Argentina"
          ],
          [
           "Argentina"
          ],
          [
           "Argentina"
          ],
          [
           "Argentina"
          ],
          [
           "Argentina"
          ],
          [
           "Argentina"
          ],
          [
           "Argentina"
          ],
          [
           "Argentina"
          ],
          [
           "Argentina"
          ],
          [
           "Argentina"
          ],
          [
           "Argentina"
          ],
          [
           "Argentina"
          ],
          [
           "Argentina"
          ],
          [
           "Argentina"
          ],
          [
           "Argentina"
          ],
          [
           "Argentina"
          ],
          [
           "Argentina"
          ],
          [
           "Argentina"
          ],
          [
           "Argentina"
          ],
          [
           "Argentina"
          ],
          [
           "Argentina"
          ],
          [
           "Argentina"
          ],
          [
           "Argentina"
          ],
          [
           "Argentina"
          ],
          [
           "Argentina"
          ],
          [
           "Argentina"
          ],
          [
           "Argentina"
          ],
          [
           "Argentina"
          ],
          [
           "Argentina"
          ],
          [
           "Argentina"
          ],
          [
           "Argentina"
          ],
          [
           "Argentina"
          ],
          [
           "Argentina"
          ],
          [
           "Argentina"
          ],
          [
           "Argentina"
          ],
          [
           "Argentina"
          ],
          [
           "Argentina"
          ],
          [
           "Argentina"
          ],
          [
           "Argentina"
          ],
          [
           "Argentina"
          ],
          [
           "Argentina"
          ],
          [
           "Argentina"
          ],
          [
           "Argentina"
          ],
          [
           "Argentina"
          ],
          [
           "Argentina"
          ],
          [
           "Argentina"
          ],
          [
           "Argentina"
          ],
          [
           "Argentina"
          ],
          [
           "Argentina"
          ],
          [
           "Argentina"
          ],
          [
           "Argentina"
          ],
          [
           "Argentina"
          ],
          [
           "Argentina"
          ],
          [
           "Argentina"
          ],
          [
           "Argentina"
          ],
          [
           "Argentina"
          ],
          [
           "Argentina"
          ],
          [
           "Argentina"
          ],
          [
           "Argentina"
          ],
          [
           "Argentina"
          ],
          [
           "Argentina"
          ],
          [
           "Argentina"
          ],
          [
           "Argentina"
          ],
          [
           "Argentina"
          ],
          [
           "Argentina"
          ],
          [
           "Argentina"
          ],
          [
           "Argentina"
          ],
          [
           "Argentina"
          ],
          [
           "Argentina"
          ],
          [
           "Argentina"
          ],
          [
           "Argentina"
          ],
          [
           "Argentina"
          ],
          [
           "Argentina"
          ],
          [
           "Argentina"
          ],
          [
           "Argentina"
          ],
          [
           "Argentina"
          ],
          [
           "Argentina"
          ],
          [
           "Argentina"
          ],
          [
           "Argentina"
          ],
          [
           "Argentina"
          ],
          [
           "Argentina"
          ],
          [
           "Argentina"
          ],
          [
           "Argentina"
          ],
          [
           "Argentina"
          ],
          [
           "Argentina"
          ],
          [
           "Argentina"
          ],
          [
           "Argentina"
          ],
          [
           "Argentina"
          ],
          [
           "Argentina"
          ],
          [
           "Argentina"
          ],
          [
           "Argentina"
          ],
          [
           "Argentina"
          ],
          [
           "Argentina"
          ],
          [
           "Argentina"
          ],
          [
           "Argentina"
          ],
          [
           "Argentina"
          ],
          [
           "Argentina"
          ],
          [
           "Argentina"
          ],
          [
           "Argentina"
          ],
          [
           "Argentina"
          ],
          [
           "Argentina"
          ],
          [
           "Argentina"
          ],
          [
           "Argentina"
          ],
          [
           "Argentina"
          ],
          [
           "Argentina"
          ],
          [
           "Argentina"
          ],
          [
           "Argentina"
          ],
          [
           "Argentina"
          ],
          [
           "Argentina"
          ],
          [
           "Argentina"
          ],
          [
           "Argentina"
          ],
          [
           "Argentina"
          ],
          [
           "Argentina"
          ],
          [
           "Argentina"
          ],
          [
           "Argentina"
          ],
          [
           "Argentina"
          ],
          [
           "Argentina"
          ],
          [
           "Argentina"
          ],
          [
           "Argentina"
          ],
          [
           "Argentina"
          ],
          [
           "Argentina"
          ]
         ],
         "hovertemplate":"Country Name=%{customdata[0]}<br>Year=%{x}<br>Debt to GDP Ratio=%{y}<extra><\/extra>",
         "legendgroup":"Argentina",
         "marker":{
          "color":"#FF6692",
          "symbol":"circle"
         },
         "mode":"markers",
         "name":"Argentina",
         "showlegend":true,
         "x":[
          "1800",
          "1801",
          "1802",
          "1803",
          "1804",
          "1805",
          "1806",
          "1807",
          "1808",
          "1809",
          "1810",
          "1811",
          "1812",
          "1813",
          "1814",
          "1815",
          "1816",
          "1817",
          "1818",
          "1819",
          "1820",
          "1821",
          "1822",
          "1823",
          "1824",
          "1825",
          "1826",
          "1827",
          "1828",
          "1829",
          "1830",
          "1831",
          "1832",
          "1833",
          "1834",
          "1835",
          "1836",
          "1837",
          "1838",
          "1839",
          "1840",
          "1841",
          "1842",
          "1843",
          "1844",
          "1845",
          "1846",
          "1847",
          "1848",
          "1849",
          "1850",
          "1851",
          "1852",
          "1853",
          "1854",
          "1855",
          "1856",
          "1857",
          "1858",
          "1859",
          "1860",
          "1861",
          "1862",
          "1863",
          "1864",
          "1865",
          "1866",
          "1867",
          "1868",
          "1869",
          "1870",
          "1871",
          "1872",
          "1873",
          "1874",
          "1875",
          "1876",
          "1877",
          "1878",
          "1879",
          "1880",
          "1881",
          "1882",
          "1883",
          "1884",
          "1885",
          "1886",
          "1887",
          "1888",
          "1889",
          "1890",
          "1891",
          "1892",
          "1893",
          "1894",
          "1895",
          "1896",
          "1897",
          "1898",
          "1899",
          "1900",
          "1901",
          "1902",
          "1903",
          "1904",
          "1905",
          "1906",
          "1907",
          "1908",
          "1909",
          "1910",
          "1911",
          "1912",
          "1913",
          "1914",
          "1915",
          "1916",
          "1917",
          "1918",
          "1919",
          "1920",
          "1921",
          "1922",
          "1923",
          "1924",
          "1925",
          "1926",
          "1927",
          "1928",
          "1929",
          "1930",
          "1931",
          "1932",
          "1933",
          "1934",
          "1935",
          "1936",
          "1937",
          "1938",
          "1939",
          "1940",
          "1941",
          "1942",
          "1943",
          "1944",
          "1945",
          "1946",
          "1947",
          "1948",
          "1949",
          "1950",
          "1951",
          "1952",
          "1953",
          "1954",
          "1955",
          "1956",
          "1957",
          "1958",
          "1959",
          "1960",
          "1961",
          "1962",
          "1963",
          "1964",
          "1965",
          "1966",
          "1967",
          "1968",
          "1969",
          "1970",
          "1971",
          "1972",
          "1973",
          "1974",
          "1975",
          "1976",
          "1977",
          "1978",
          "1979",
          "1980",
          "1981",
          "1982",
          "1983",
          "1984",
          "1985",
          "1986",
          "1987",
          "1988",
          "1989",
          "1990",
          "1991",
          "1992",
          "1993",
          "1994",
          "1995",
          "1996",
          "1997",
          "1998",
          "1999",
          "2000",
          "2001",
          "2002",
          "2003",
          "2004",
          "2005",
          "2006",
          "2007",
          "2008",
          "2009",
          "2010",
          "2011",
          "2012",
          "2013",
          "2014",
          "2015"
         ],
         "xaxis":"x",
         "y":[
          null,
          null,
          null,
          null,
          null,
          null,
          null,
          null,
          null,
          null,
          null,
          null,
          null,
          null,
          null,
          null,
          null,
          null,
          null,
          null,
          null,
          null,
          null,
          null,
          null,
          null,
          null,
          null,
          null,
          null,
          null,
          null,
          null,
          null,
          null,
          null,
          null,
          null,
          null,
          null,
          null,
          null,
          null,
          null,
          null,
          null,
          null,
          null,
          null,
          null,
          null,
          null,
          null,
          null,
          null,
          null,
          null,
          null,
          null,
          null,
          null,
          null,
          null,
          null,
          null,
          null,
          null,
          null,
          null,
          null,
          null,
          null,
          null,
          null,
          null,
          null,
          null,
          null,
          null,
          null,
          null,
          null,
          null,
          null,
          33.7711243135135,
          32.6445375566667,
          33.2023889062653,
          36.1567689467547,
          70.7768747921552,
          64.3268460432073,
          84.7134341746636,
          90.568971693732,
          105.34080563891,
          106.135296641221,
          102.374106793623,
          83.3528133931988,
          81.9632887233224,
          86.23211984775,
          76.0166212282597,
          85.1410559121379,
          64.9693875018868,
          68.3333476562914,
          60.6036556466258,
          55.3111294982857,
          48.9028327580808,
          35.6192898216327,
          31.5605157787546,
          33.2054005444056,
          29.8876303825083,
          29.5097153315029,
          25.6317908750623,
          29.4395405977833,
          26.8111268317778,
          27.1762314094506,
          null,
          71.8976825535636,
          75.9524838012959,
          95.5936293436293,
          55.4627601314348,
          59.3215859030837,
          46.7683369644154,
          53.1808622502629,
          61.5878378378378,
          55.9595183192416,
          54.1714947856315,
          56.2144798616259,
          58.6143695014663,
          57.7065046139996,
          67.2909623619563,
          70.1690450054885,
          83.6563981042654,
          100.650105708245,
          118.221744471745,
          105.335743801653,
          48.3714285714286,
          41.7935483870968,
          44.5214285714286,
          35.8201680672269,
          43.5790909090909,
          45.1870689655172,
          46.6233333333333,
          49.7767441860465,
          48.5630136986301,
          58.3320261437908,
          57.3857142857143,
          58.2518134715026,
          51.2809160305344,
          40.2866295264624,
          null,
          null,
          null,
          null,
          null,
          35.075503875969,
          37.9968965517241,
          36.0073099415205,
          33.6675688073395,
          null,
          26.8656330749354,
          19.7238731443995,
          16.7515308151093,
          15.4606166666667,
          15.9150168350168,
          null,
          null,
          null,
          null,
          null,
          null,
          null,
          12.8729,
          11.5191,
          9.34742,
          13.3275,
          13.8114,
          18.35,
          13.8014,
          15.8392,
          16.6954,
          13.511,
          12.5571,
          21.3244,
          35.9909,
          46.6584,
          40.4905,
          60.4651,
          55.7611,
          72.5569,
          59.7437,
          null,
          55.8164,
          45.6228,
          38.4511,
          35.9441,
          28.8917,
          33.6909,
          35.5732,
          32.6620350504167,
          35.20024369626,
          40.0965149830981,
          42.0595725605832,
          49.4355017030262,
          152.111761096881,
          128.561136322981,
          117.116331513796,
          66.9382125033265,
          58.6221715344631,
          50.8416972241923,
          43.8529881338305,
          53.8284165715329,
          42.6235055943962,
          38.0628683968671,
          39.4338894163692,
          42.195378799453,
          43.5866743334442,
          52.1309338338097
         ],
         "yaxis":"y",
         "type":"scattergl"
        },
        {
         "customdata":[
          [
           "Australia"
          ],
          [
           "Australia"
          ],
          [
           "Australia"
          ],
          [
           "Australia"
          ],
          [
           "Australia"
          ],
          [
           "Australia"
          ],
          [
           "Australia"
          ],
          [
           "Australia"
          ],
          [
           "Australia"
          ],
          [
           "Australia"
          ],
          [
           "Australia"
          ],
          [
           "Australia"
          ],
          [
           "Australia"
          ],
          [
           "Australia"
          ],
          [
           "Australia"
          ],
          [
           "Australia"
          ],
          [
           "Australia"
          ],
          [
           "Australia"
          ],
          [
           "Australia"
          ],
          [
           "Australia"
          ],
          [
           "Australia"
          ],
          [
           "Australia"
          ],
          [
           "Australia"
          ],
          [
           "Australia"
          ],
          [
           "Australia"
          ],
          [
           "Australia"
          ],
          [
           "Australia"
          ],
          [
           "Australia"
          ],
          [
           "Australia"
          ],
          [
           "Australia"
          ],
          [
           "Australia"
          ],
          [
           "Australia"
          ],
          [
           "Australia"
          ],
          [
           "Australia"
          ],
          [
           "Australia"
          ],
          [
           "Australia"
          ],
          [
           "Australia"
          ],
          [
           "Australia"
          ],
          [
           "Australia"
          ],
          [
           "Australia"
          ],
          [
           "Australia"
          ],
          [
           "Australia"
          ],
          [
           "Australia"
          ],
          [
           "Australia"
          ],
          [
           "Australia"
          ],
          [
           "Australia"
          ],
          [
           "Australia"
          ],
          [
           "Australia"
          ],
          [
           "Australia"
          ],
          [
           "Australia"
          ],
          [
           "Australia"
          ],
          [
           "Australia"
          ],
          [
           "Australia"
          ],
          [
           "Australia"
          ],
          [
           "Australia"
          ],
          [
           "Australia"
          ],
          [
           "Australia"
          ],
          [
           "Australia"
          ],
          [
           "Australia"
          ],
          [
           "Australia"
          ],
          [
           "Australia"
          ],
          [
           "Australia"
          ],
          [
           "Australia"
          ],
          [
           "Australia"
          ],
          [
           "Australia"
          ],
          [
           "Australia"
          ],
          [
           "Australia"
          ],
          [
           "Australia"
          ],
          [
           "Australia"
          ],
          [
           "Australia"
          ],
          [
           "Australia"
          ],
          [
           "Australia"
          ],
          [
           "Australia"
          ],
          [
           "Australia"
          ],
          [
           "Australia"
          ],
          [
           "Australia"
          ],
          [
           "Australia"
          ],
          [
           "Australia"
          ],
          [
           "Australia"
          ],
          [
           "Australia"
          ],
          [
           "Australia"
          ],
          [
           "Australia"
          ],
          [
           "Australia"
          ],
          [
           "Australia"
          ],
          [
           "Australia"
          ],
          [
           "Australia"
          ],
          [
           "Australia"
          ],
          [
           "Australia"
          ],
          [
           "Australia"
          ],
          [
           "Australia"
          ],
          [
           "Australia"
          ],
          [
           "Australia"
          ],
          [
           "Australia"
          ],
          [
           "Australia"
          ],
          [
           "Australia"
          ],
          [
           "Australia"
          ],
          [
           "Australia"
          ],
          [
           "Australia"
          ],
          [
           "Australia"
          ],
          [
           "Australia"
          ],
          [
           "Australia"
          ],
          [
           "Australia"
          ],
          [
           "Australia"
          ],
          [
           "Australia"
          ],
          [
           "Australia"
          ],
          [
           "Australia"
          ],
          [
           "Australia"
          ],
          [
           "Australia"
          ],
          [
           "Australia"
          ],
          [
           "Australia"
          ],
          [
           "Australia"
          ],
          [
           "Australia"
          ],
          [
           "Australia"
          ],
          [
           "Australia"
          ],
          [
           "Australia"
          ],
          [
           "Australia"
          ],
          [
           "Australia"
          ],
          [
           "Australia"
          ],
          [
           "Australia"
          ],
          [
           "Australia"
          ],
          [
           "Australia"
          ],
          [
           "Australia"
          ],
          [
           "Australia"
          ],
          [
           "Australia"
          ],
          [
           "Australia"
          ],
          [
           "Australia"
          ],
          [
           "Australia"
          ],
          [
           "Australia"
          ],
          [
           "Australia"
          ],
          [
           "Australia"
          ],
          [
           "Australia"
          ],
          [
           "Australia"
          ],
          [
           "Australia"
          ],
          [
           "Australia"
          ],
          [
           "Australia"
          ],
          [
           "Australia"
          ],
          [
           "Australia"
          ],
          [
           "Australia"
          ],
          [
           "Australia"
          ],
          [
           "Australia"
          ],
          [
           "Australia"
          ],
          [
           "Australia"
          ],
          [
           "Australia"
          ],
          [
           "Australia"
          ],
          [
           "Australia"
          ],
          [
           "Australia"
          ],
          [
           "Australia"
          ],
          [
           "Australia"
          ],
          [
           "Australia"
          ],
          [
           "Australia"
          ],
          [
           "Australia"
          ],
          [
           "Australia"
          ],
          [
           "Australia"
          ],
          [
           "Australia"
          ],
          [
           "Australia"
          ],
          [
           "Australia"
          ],
          [
           "Australia"
          ],
          [
           "Australia"
          ],
          [
           "Australia"
          ],
          [
           "Australia"
          ],
          [
           "Australia"
          ],
          [
           "Australia"
          ],
          [
           "Australia"
          ],
          [
           "Australia"
          ],
          [
           "Australia"
          ],
          [
           "Australia"
          ],
          [
           "Australia"
          ],
          [
           "Australia"
          ],
          [
           "Australia"
          ],
          [
           "Australia"
          ],
          [
           "Australia"
          ],
          [
           "Australia"
          ],
          [
           "Australia"
          ],
          [
           "Australia"
          ],
          [
           "Australia"
          ],
          [
           "Australia"
          ],
          [
           "Australia"
          ],
          [
           "Australia"
          ],
          [
           "Australia"
          ],
          [
           "Australia"
          ],
          [
           "Australia"
          ],
          [
           "Australia"
          ],
          [
           "Australia"
          ],
          [
           "Australia"
          ],
          [
           "Australia"
          ],
          [
           "Australia"
          ],
          [
           "Australia"
          ],
          [
           "Australia"
          ],
          [
           "Australia"
          ],
          [
           "Australia"
          ],
          [
           "Australia"
          ],
          [
           "Australia"
          ],
          [
           "Australia"
          ],
          [
           "Australia"
          ],
          [
           "Australia"
          ],
          [
           "Australia"
          ],
          [
           "Australia"
          ],
          [
           "Australia"
          ],
          [
           "Australia"
          ],
          [
           "Australia"
          ],
          [
           "Australia"
          ],
          [
           "Australia"
          ],
          [
           "Australia"
          ],
          [
           "Australia"
          ],
          [
           "Australia"
          ],
          [
           "Australia"
          ],
          [
           "Australia"
          ],
          [
           "Australia"
          ],
          [
           "Australia"
          ],
          [
           "Australia"
          ],
          [
           "Australia"
          ],
          [
           "Australia"
          ],
          [
           "Australia"
          ],
          [
           "Australia"
          ],
          [
           "Australia"
          ],
          [
           "Australia"
          ]
         ],
         "hovertemplate":"Country Name=%{customdata[0]}<br>Year=%{x}<br>Debt to GDP Ratio=%{y}<extra><\/extra>",
         "legendgroup":"Australia",
         "marker":{
          "color":"#B6E880",
          "symbol":"circle"
         },
         "mode":"markers",
         "name":"Australia",
         "showlegend":true,
         "x":[
          "1800",
          "1801",
          "1802",
          "1803",
          "1804",
          "1805",
          "1806",
          "1807",
          "1808",
          "1809",
          "1810",
          "1811",
          "1812",
          "1813",
          "1814",
          "1815",
          "1816",
          "1817",
          "1818",
          "1819",
          "1820",
          "1821",
          "1822",
          "1823",
          "1824",
          "1825",
          "1826",
          "1827",
          "1828",
          "1829",
          "1830",
          "1831",
          "1832",
          "1833",
          "1834",
          "1835",
          "1836",
          "1837",
          "1838",
          "1839",
          "1840",
          "1841",
          "1842",
          "1843",
          "1844",
          "1845",
          "1846",
          "1847",
          "1848",
          "1849",
          "1850",
          "1851",
          "1852",
          "1853",
          "1854",
          "1855",
          "1856",
          "1857",
          "1858",
          "1859",
          "1860",
          "1861",
          "1862",
          "1863",
          "1864",
          "1865",
          "1866",
          "1867",
          "1868",
          "1869",
          "1870",
          "1871",
          "1872",
          "1873",
          "1874",
          "1875",
          "1876",
          "1877",
          "1878",
          "1879",
          "1880",
          "1881",
          "1882",
          "1883",
          "1884",
          "1885",
          "1886",
          "1887",
          "1888",
          "1889",
          "1890",
          "1891",
          "1892",
          "1893",
          "1894",
          "1895",
          "1896",
          "1897",
          "1898",
          "1899",
          "1900",
          "1901",
          "1902",
          "1903",
          "1904",
          "1905",
          "1906",
          "1907",
          "1908",
          "1909",
          "1910",
          "1911",
          "1912",
          "1913",
          "1914",
          "1915",
          "1916",
          "1917",
          "1918",
          "1919",
          "1920",
          "1921",
          "1922",
          "1923",
          "1924",
          "1925",
          "1926",
          "1927",
          "1928",
          "1929",
          "1930",
          "1931",
          "1932",
          "1933",
          "1934",
          "1935",
          "1936",
          "1937",
          "1938",
          "1939",
          "1940",
          "1941",
          "1942",
          "1943",
          "1944",
          "1945",
          "1946",
          "1947",
          "1948",
          "1949",
          "1950",
          "1951",
          "1952",
          "1953",
          "1954",
          "1955",
          "1956",
          "1957",
          "1958",
          "1959",
          "1960",
          "1961",
          "1962",
          "1963",
          "1964",
          "1965",
          "1966",
          "1967",
          "1968",
          "1969",
          "1970",
          "1971",
          "1972",
          "1973",
          "1974",
          "1975",
          "1976",
          "1977",
          "1978",
          "1979",
          "1980",
          "1981",
          "1982",
          "1983",
          "1984",
          "1985",
          "1986",
          "1987",
          "1988",
          "1989",
          "1990",
          "1991",
          "1992",
          "1993",
          "1994",
          "1995",
          "1996",
          "1997",
          "1998",
          "1999",
          "2000",
          "2001",
          "2002",
          "2003",
          "2004",
          "2005",
          "2006",
          "2007",
          "2008",
          "2009",
          "2010",
          "2011",
          "2012",
          "2013",
          "2014",
          "2015"
         ],
         "xaxis":"x",
         "y":[
          null,
          null,
          null,
          null,
          null,
          null,
          null,
          null,
          null,
          null,
          null,
          null,
          null,
          null,
          null,
          null,
          null,
          null,
          null,
          null,
          null,
          null,
          null,
          null,
          null,
          null,
          null,
          null,
          null,
          null,
          null,
          null,
          null,
          null,
          null,
          null,
          null,
          null,
          null,
          null,
          null,
          null,
          null,
          null,
          null,
          null,
          null,
          null,
          null,
          null,
          null,
          null,
          null,
          null,
          null,
          null,
          null,
          null,
          null,
          null,
          null,
          null,
          null,
          null,
          null,
          null,
          null,
          null,
          null,
          null,
          null,
          null,
          null,
          null,
          null,
          null,
          null,
          null,
          null,
          null,
          null,
          null,
          null,
          null,
          null,
          null,
          null,
          null,
          null,
          null,
          null,
          null,
          null,
          null,
          null,
          null,
          null,
          null,
          null,
          null,
          null,
          120.286396181384,
          122.072072072072,
          133.177570093458,
          131.25,
          136.486486486486,
          133.820459290188,
          123.191094619666,
          129.664179104478,
          124.607329842932,
          119.582664526485,
          121.783625730994,
          123.433242506812,
          120.074812967581,
          null,
          null,
          null,
          51.2035225048924,
          61.6290018832392,
          60.6288209606987,
          61.2051077414206,
          59.0810419681621,
          63.367198838897,
          59.2317880794702,
          58.8272785213512,
          55.2845528455285,
          60.4520795660036,
          59.7108155002892,
          62.3231742380679,
          63.8434579439252,
          70.2745849297573,
          89.8135198135198,
          98.1652892561983,
          95.2927215189873,
          90.1474926253687,
          87.6885474860335,
          80.2287166454892,
          74.2574257425742,
          64.3672590199246,
          66.8114348543156,
          63.7020202020202,
          62.7738927738928,
          62.0384461353624,
          67.3897830650805,
          78.7297762478485,
          89.7325826882477,
          92.4940374787053,
          88.6606856776674,
          74.4649052575394,
          65.4024051803885,
          57.0582467150422,
          45.18677100251,
          44.9222512728774,
          41.7163998059195,
          40.0177521358038,
          39.0440487347704,
          37.37241710716,
          35.226791387222,
          34.3700379703141,
          34.1388174807198,
          31.4739757982213,
          30.310465355356,
          30.4193461950697,
          29.318789234881,
          27.6522372995402,
          null,
          41.2316397318141,
          39.245824726025,
          38.2114342514509,
          35.7269301050708,
          33.90505045318,
          31.3264761197149,
          29.7351694915254,
          26.4661006300598,
          23.0130807397384,
          22.8611861572109,
          22.2987270713871,
          21.4884913007048,
          22.3798512592963,
          22.8866171871353,
          21.3488102787504,
          18.9446507345197,
          17.3873397505072,
          18.8926314950272,
          20.3590518703923,
          21.9956812731893,
          23.4131422515429,
          22.0637205056317,
          24.8187007,
          22.7699726,
          21.5777027,
          22.914084,
          27.1514375,
          30.3217800245365,
          31.4528501453056,
          30.8893517494967,
          29.1138962663799,
          25.7871581368043,
          23.7044780946975,
          22.5248307315714,
          19.4584678198019,
          17.0407898863993,
          14.9539172267313,
          13.150985945291,
          11.8900167030708,
          10.8932133184477,
          9.96690172357924,
          9.68267595882895,
          11.7436487831102,
          16.7465993226432,
          20.4812912962656,
          24.2005104541504,
          27.7982376601335,
          30.8291105169833,
          34.3228304726287,
          37.63774914205
         ],
         "yaxis":"y",
         "type":"scattergl"
        },
        {
         "customdata":[
          [
           "India"
          ],
          [
           "India"
          ],
          [
           "India"
          ],
          [
           "India"
          ],
          [
           "India"
          ],
          [
           "India"
          ],
          [
           "India"
          ],
          [
           "India"
          ],
          [
           "India"
          ],
          [
           "India"
          ],
          [
           "India"
          ],
          [
           "India"
          ],
          [
           "India"
          ],
          [
           "India"
          ],
          [
           "India"
          ],
          [
           "India"
          ],
          [
           "India"
          ],
          [
           "India"
          ],
          [
           "India"
          ],
          [
           "India"
          ],
          [
           "India"
          ],
          [
           "India"
          ],
          [
           "India"
          ],
          [
           "India"
          ],
          [
           "India"
          ],
          [
           "India"
          ],
          [
           "India"
          ],
          [
           "India"
          ],
          [
           "India"
          ],
          [
           "India"
          ],
          [
           "India"
          ],
          [
           "India"
          ],
          [
           "India"
          ],
          [
           "India"
          ],
          [
           "India"
          ],
          [
           "India"
          ],
          [
           "India"
          ],
          [
           "India"
          ],
          [
           "India"
          ],
          [
           "India"
          ],
          [
           "India"
          ],
          [
           "India"
          ],
          [
           "India"
          ],
          [
           "India"
          ],
          [
           "India"
          ],
          [
           "India"
          ],
          [
           "India"
          ],
          [
           "India"
          ],
          [
           "India"
          ],
          [
           "India"
          ],
          [
           "India"
          ],
          [
           "India"
          ],
          [
           "India"
          ],
          [
           "India"
          ],
          [
           "India"
          ],
          [
           "India"
          ],
          [
           "India"
          ],
          [
           "India"
          ],
          [
           "India"
          ],
          [
           "India"
          ],
          [
           "India"
          ],
          [
           "India"
          ],
          [
           "India"
          ],
          [
           "India"
          ],
          [
           "India"
          ],
          [
           "India"
          ],
          [
           "India"
          ],
          [
           "India"
          ],
          [
           "India"
          ],
          [
           "India"
          ],
          [
           "India"
          ],
          [
           "India"
          ],
          [
           "India"
          ],
          [
           "India"
          ],
          [
           "India"
          ],
          [
           "India"
          ],
          [
           "India"
          ],
          [
           "India"
          ],
          [
           "India"
          ],
          [
           "India"
          ],
          [
           "India"
          ],
          [
           "India"
          ],
          [
           "India"
          ],
          [
           "India"
          ],
          [
           "India"
          ],
          [
           "India"
          ],
          [
           "India"
          ],
          [
           "India"
          ],
          [
           "India"
          ],
          [
           "India"
          ],
          [
           "India"
          ],
          [
           "India"
          ],
          [
           "India"
          ],
          [
           "India"
          ],
          [
           "India"
          ],
          [
           "India"
          ],
          [
           "India"
          ],
          [
           "India"
          ],
          [
           "India"
          ],
          [
           "India"
          ],
          [
           "India"
          ],
          [
           "India"
          ],
          [
           "India"
          ],
          [
           "India"
          ],
          [
           "India"
          ],
          [
           "India"
          ],
          [
           "India"
          ],
          [
           "India"
          ],
          [
           "India"
          ],
          [
           "India"
          ],
          [
           "India"
          ],
          [
           "India"
          ],
          [
           "India"
          ],
          [
           "India"
          ],
          [
           "India"
          ],
          [
           "India"
          ],
          [
           "India"
          ],
          [
           "India"
          ],
          [
           "India"
          ],
          [
           "India"
          ],
          [
           "India"
          ],
          [
           "India"
          ],
          [
           "India"
          ],
          [
           "India"
          ],
          [
           "India"
          ],
          [
           "India"
          ],
          [
           "India"
          ],
          [
           "India"
          ],
          [
           "India"
          ],
          [
           "India"
          ],
          [
           "India"
          ],
          [
           "India"
          ],
          [
           "India"
          ],
          [
           "India"
          ],
          [
           "India"
          ],
          [
           "India"
          ],
          [
           "India"
          ],
          [
           "India"
          ],
          [
           "India"
          ],
          [
           "India"
          ],
          [
           "India"
          ],
          [
           "India"
          ],
          [
           "India"
          ],
          [
           "India"
          ],
          [
           "India"
          ],
          [
           "India"
          ],
          [
           "India"
          ],
          [
           "India"
          ],
          [
           "India"
          ],
          [
           "India"
          ],
          [
           "India"
          ],
          [
           "India"
          ],
          [
           "India"
          ],
          [
           "India"
          ],
          [
           "India"
          ],
          [
           "India"
          ],
          [
           "India"
          ],
          [
           "India"
          ],
          [
           "India"
          ],
          [
           "India"
          ],
          [
           "India"
          ],
          [
           "India"
          ],
          [
           "India"
          ],
          [
           "India"
          ],
          [
           "India"
          ],
          [
           "India"
          ],
          [
           "India"
          ],
          [
           "India"
          ],
          [
           "India"
          ],
          [
           "India"
          ],
          [
           "India"
          ],
          [
           "India"
          ],
          [
           "India"
          ],
          [
           "India"
          ],
          [
           "India"
          ],
          [
           "India"
          ],
          [
           "India"
          ],
          [
           "India"
          ],
          [
           "India"
          ],
          [
           "India"
          ],
          [
           "India"
          ],
          [
           "India"
          ],
          [
           "India"
          ],
          [
           "India"
          ],
          [
           "India"
          ],
          [
           "India"
          ],
          [
           "India"
          ],
          [
           "India"
          ],
          [
           "India"
          ],
          [
           "India"
          ],
          [
           "India"
          ],
          [
           "India"
          ],
          [
           "India"
          ],
          [
           "India"
          ],
          [
           "India"
          ],
          [
           "India"
          ],
          [
           "India"
          ],
          [
           "India"
          ],
          [
           "India"
          ],
          [
           "India"
          ],
          [
           "India"
          ],
          [
           "India"
          ],
          [
           "India"
          ],
          [
           "India"
          ],
          [
           "India"
          ],
          [
           "India"
          ],
          [
           "India"
          ],
          [
           "India"
          ],
          [
           "India"
          ],
          [
           "India"
          ],
          [
           "India"
          ],
          [
           "India"
          ],
          [
           "India"
          ],
          [
           "India"
          ],
          [
           "India"
          ],
          [
           "India"
          ]
         ],
         "hovertemplate":"Country Name=%{customdata[0]}<br>Year=%{x}<br>Debt to GDP Ratio=%{y}<extra><\/extra>",
         "legendgroup":"India",
         "marker":{
          "color":"#FF97FF",
          "symbol":"circle"
         },
         "mode":"markers",
         "name":"India",
         "showlegend":true,
         "x":[
          "1800",
          "1801",
          "1802",
          "1803",
          "1804",
          "1805",
          "1806",
          "1807",
          "1808",
          "1809",
          "1810",
          "1811",
          "1812",
          "1813",
          "1814",
          "1815",
          "1816",
          "1817",
          "1818",
          "1819",
          "1820",
          "1821",
          "1822",
          "1823",
          "1824",
          "1825",
          "1826",
          "1827",
          "1828",
          "1829",
          "1830",
          "1831",
          "1832",
          "1833",
          "1834",
          "1835",
          "1836",
          "1837",
          "1838",
          "1839",
          "1840",
          "1841",
          "1842",
          "1843",
          "1844",
          "1845",
          "1846",
          "1847",
          "1848",
          "1849",
          "1850",
          "1851",
          "1852",
          "1853",
          "1854",
          "1855",
          "1856",
          "1857",
          "1858",
          "1859",
          "1860",
          "1861",
          "1862",
          "1863",
          "1864",
          "1865",
          "1866",
          "1867",
          "1868",
          "1869",
          "1870",
          "1871",
          "1872",
          "1873",
          "1874",
          "1875",
          "1876",
          "1877",
          "1878",
          "1879",
          "1880",
          "1881",
          "1882",
          "1883",
          "1884",
          "1885",
          "1886",
          "1887",
          "1888",
          "1889",
          "1890",
          "1891",
          "1892",
          "1893",
          "1894",
          "1895",
          "1896",
          "1897",
          "1898",
          "1899",
          "1900",
          "1901",
          "1902",
          "1903",
          "1904",
          "1905",
          "1906",
          "1907",
          "1908",
          "1909",
          "1910",
          "1911",
          "1912",
          "1913",
          "1914",
          "1915",
          "1916",
          "1917",
          "1918",
          "1919",
          "1920",
          "1921",
          "1922",
          "1923",
          "1924",
          "1925",
          "1926",
          "1927",
          "1928",
          "1929",
          "1930",
          "1931",
          "1932",
          "1933",
          "1934",
          "1935",
          "1936",
          "1937",
          "1938",
          "1939",
          "1940",
          "1941",
          "1942",
          "1943",
          "1944",
          "1945",
          "1946",
          "1947",
          "1948",
          "1949",
          "1950",
          "1951",
          "1952",
          "1953",
          "1954",
          "1955",
          "1956",
          "1957",
          "1958",
          "1959",
          "1960",
          "1961",
          "1962",
          "1963",
          "1964",
          "1965",
          "1966",
          "1967",
          "1968",
          "1969",
          "1970",
          "1971",
          "1972",
          "1973",
          "1974",
          "1975",
          "1976",
          "1977",
          "1978",
          "1979",
          "1980",
          "1981",
          "1982",
          "1983",
          "1984",
          "1985",
          "1986",
          "1987",
          "1988",
          "1989",
          "1990",
          "1991",
          "1992",
          "1993",
          "1994",
          "1995",
          "1996",
          "1997",
          "1998",
          "1999",
          "2000",
          "2001",
          "2002",
          "2003",
          "2004",
          "2005",
          "2006",
          "2007",
          "2008",
          "2009",
          "2010",
          "2011",
          "2012",
          "2013",
          "2014",
          "2015"
         ],
         "xaxis":"x",
         "y":[
          null,
          null,
          null,
          null,
          null,
          null,
          null,
          null,
          null,
          null,
          null,
          null,
          null,
          null,
          null,
          null,
          null,
          null,
          null,
          null,
          null,
          null,
          null,
          null,
          null,
          null,
          null,
          null,
          null,
          null,
          null,
          null,
          null,
          null,
          null,
          null,
          null,
          null,
          null,
          null,
          null,
          null,
          null,
          null,
          null,
          null,
          null,
          null,
          null,
          null,
          null,
          null,
          null,
          null,
          null,
          null,
          null,
          null,
          null,
          null,
          null,
          null,
          null,
          null,
          null,
          null,
          null,
          null,
          null,
          null,
          null,
          null,
          null,
          null,
          null,
          null,
          null,
          null,
          null,
          null,
          null,
          null,
          null,
          null,
          null,
          null,
          null,
          null,
          null,
          null,
          null,
          null,
          null,
          null,
          null,
          null,
          null,
          null,
          null,
          null,
          null,
          null,
          null,
          null,
          null,
          null,
          null,
          null,
          null,
          null,
          null,
          null,
          null,
          null,
          null,
          null,
          null,
          null,
          null,
          null,
          null,
          null,
          null,
          null,
          null,
          null,
          null,
          null,
          null,
          null,
          null,
          null,
          null,
          null,
          null,
          null,
          null,
          null,
          null,
          null,
          null,
          null,
          null,
          null,
          null,
          null,
          null,
          null,
          24.9991954022988,
          27.1327777777778,
          26.8015625,
          25.9378,
          26.9057142857143,
          25.9019230769231,
          25.8103092783505,
          27.7407766990291,
          26.3864406779661,
          28.7516666666667,
          30.1611940298507,
          34.115,
          36.46,
          38.69375,
          36.1664864864865,
          35.4943396226415,
          33.770564516129,
          35.9934865900383,
          null,
          38.5089595375723,
          40.2762942779292,
          38.7700495049505,
          38.1481481481482,
          37.5505399568035,
          37.1643137254902,
          32.6951612903226,
          36.6612021857924,
          38.6053299492386,
          36.2426383981154,
          38.6056191467222,
          38.3493282149712,
          40.8566433566434,
          41.25,
          40.4005006257822,
          41.9876473891072,
          null,
          null,
          35.8421,
          39.0676,
          41.4087,
          41.9725,
          47.1218,
          48.349,
          75.3322417927005,
          77.4053850932598,
          76.9781971487124,
          73.4644021297413,
          69.6538428213643,
          65.9766465514182,
          67.8180393047722,
          68.0898993997878,
          70.039242636401,
          73.6489950770931,
          78.7284696774848,
          82.849967883263,
          84.2430372808561,
          83.288599671402,
          80.8936774562291,
          77.1083133497216,
          74.026517958065,
          74.5361363598257,
          72.5266065943379,
          67.4576345771905,
          69.6428447225516,
          69.0725241601634,
          67.9597324080349,
          68.3262697216014,
          69.0699759503657
         ],
         "yaxis":"y",
         "type":"scattergl"
        },
        {
         "customdata":[
          [
           "Germany"
          ],
          [
           "Germany"
          ],
          [
           "Germany"
          ],
          [
           "Germany"
          ],
          [
           "Germany"
          ],
          [
           "Germany"
          ],
          [
           "Germany"
          ],
          [
           "Germany"
          ],
          [
           "Germany"
          ],
          [
           "Germany"
          ],
          [
           "Germany"
          ],
          [
           "Germany"
          ],
          [
           "Germany"
          ],
          [
           "Germany"
          ],
          [
           "Germany"
          ],
          [
           "Germany"
          ],
          [
           "Germany"
          ],
          [
           "Germany"
          ],
          [
           "Germany"
          ],
          [
           "Germany"
          ],
          [
           "Germany"
          ],
          [
           "Germany"
          ],
          [
           "Germany"
          ],
          [
           "Germany"
          ],
          [
           "Germany"
          ],
          [
           "Germany"
          ],
          [
           "Germany"
          ],
          [
           "Germany"
          ],
          [
           "Germany"
          ],
          [
           "Germany"
          ],
          [
           "Germany"
          ],
          [
           "Germany"
          ],
          [
           "Germany"
          ],
          [
           "Germany"
          ],
          [
           "Germany"
          ],
          [
           "Germany"
          ],
          [
           "Germany"
          ],
          [
           "Germany"
          ],
          [
           "Germany"
          ],
          [
           "Germany"
          ],
          [
           "Germany"
          ],
          [
           "Germany"
          ],
          [
           "Germany"
          ],
          [
           "Germany"
          ],
          [
           "Germany"
          ],
          [
           "Germany"
          ],
          [
           "Germany"
          ],
          [
           "Germany"
          ],
          [
           "Germany"
          ],
          [
           "Germany"
          ],
          [
           "Germany"
          ],
          [
           "Germany"
          ],
          [
           "Germany"
          ],
          [
           "Germany"
          ],
          [
           "Germany"
          ],
          [
           "Germany"
          ],
          [
           "Germany"
          ],
          [
           "Germany"
          ],
          [
           "Germany"
          ],
          [
           "Germany"
          ],
          [
           "Germany"
          ],
          [
           "Germany"
          ],
          [
           "Germany"
          ],
          [
           "Germany"
          ],
          [
           "Germany"
          ],
          [
           "Germany"
          ],
          [
           "Germany"
          ],
          [
           "Germany"
          ],
          [
           "Germany"
          ],
          [
           "Germany"
          ],
          [
           "Germany"
          ],
          [
           "Germany"
          ],
          [
           "Germany"
          ],
          [
           "Germany"
          ],
          [
           "Germany"
          ],
          [
           "Germany"
          ],
          [
           "Germany"
          ],
          [
           "Germany"
          ],
          [
           "Germany"
          ],
          [
           "Germany"
          ],
          [
           "Germany"
          ],
          [
           "Germany"
          ],
          [
           "Germany"
          ],
          [
           "Germany"
          ],
          [
           "Germany"
          ],
          [
           "Germany"
          ],
          [
           "Germany"
          ],
          [
           "Germany"
          ],
          [
           "Germany"
          ],
          [
           "Germany"
          ],
          [
           "Germany"
          ],
          [
           "Germany"
          ],
          [
           "Germany"
          ],
          [
           "Germany"
          ],
          [
           "Germany"
          ],
          [
           "Germany"
          ],
          [
           "Germany"
          ],
          [
           "Germany"
          ],
          [
           "Germany"
          ],
          [
           "Germany"
          ],
          [
           "Germany"
          ],
          [
           "Germany"
          ],
          [
           "Germany"
          ],
          [
           "Germany"
          ],
          [
           "Germany"
          ],
          [
           "Germany"
          ],
          [
           "Germany"
          ],
          [
           "Germany"
          ],
          [
           "Germany"
          ],
          [
           "Germany"
          ],
          [
           "Germany"
          ],
          [
           "Germany"
          ],
          [
           "Germany"
          ],
          [
           "Germany"
          ],
          [
           "Germany"
          ],
          [
           "Germany"
          ],
          [
           "Germany"
          ],
          [
           "Germany"
          ],
          [
           "Germany"
          ],
          [
           "Germany"
          ],
          [
           "Germany"
          ],
          [
           "Germany"
          ],
          [
           "Germany"
          ],
          [
           "Germany"
          ],
          [
           "Germany"
          ],
          [
           "Germany"
          ],
          [
           "Germany"
          ],
          [
           "Germany"
          ],
          [
           "Germany"
          ],
          [
           "Germany"
          ],
          [
           "Germany"
          ],
          [
           "Germany"
          ],
          [
           "Germany"
          ],
          [
           "Germany"
          ],
          [
           "Germany"
          ],
          [
           "Germany"
          ],
          [
           "Germany"
          ],
          [
           "Germany"
          ],
          [
           "Germany"
          ],
          [
           "Germany"
          ],
          [
           "Germany"
          ],
          [
           "Germany"
          ],
          [
           "Germany"
          ],
          [
           "Germany"
          ],
          [
           "Germany"
          ],
          [
           "Germany"
          ],
          [
           "Germany"
          ],
          [
           "Germany"
          ],
          [
           "Germany"
          ],
          [
           "Germany"
          ],
          [
           "Germany"
          ],
          [
           "Germany"
          ],
          [
           "Germany"
          ],
          [
           "Germany"
          ],
          [
           "Germany"
          ],
          [
           "Germany"
          ],
          [
           "Germany"
          ],
          [
           "Germany"
          ],
          [
           "Germany"
          ],
          [
           "Germany"
          ],
          [
           "Germany"
          ],
          [
           "Germany"
          ],
          [
           "Germany"
          ],
          [
           "Germany"
          ],
          [
           "Germany"
          ],
          [
           "Germany"
          ],
          [
           "Germany"
          ],
          [
           "Germany"
          ],
          [
           "Germany"
          ],
          [
           "Germany"
          ],
          [
           "Germany"
          ],
          [
           "Germany"
          ],
          [
           "Germany"
          ],
          [
           "Germany"
          ],
          [
           "Germany"
          ],
          [
           "Germany"
          ],
          [
           "Germany"
          ],
          [
           "Germany"
          ],
          [
           "Germany"
          ],
          [
           "Germany"
          ],
          [
           "Germany"
          ],
          [
           "Germany"
          ],
          [
           "Germany"
          ],
          [
           "Germany"
          ],
          [
           "Germany"
          ],
          [
           "Germany"
          ],
          [
           "Germany"
          ],
          [
           "Germany"
          ],
          [
           "Germany"
          ],
          [
           "Germany"
          ],
          [
           "Germany"
          ],
          [
           "Germany"
          ],
          [
           "Germany"
          ],
          [
           "Germany"
          ],
          [
           "Germany"
          ],
          [
           "Germany"
          ],
          [
           "Germany"
          ],
          [
           "Germany"
          ],
          [
           "Germany"
          ],
          [
           "Germany"
          ],
          [
           "Germany"
          ],
          [
           "Germany"
          ],
          [
           "Germany"
          ],
          [
           "Germany"
          ],
          [
           "Germany"
          ],
          [
           "Germany"
          ],
          [
           "Germany"
          ],
          [
           "Germany"
          ],
          [
           "Germany"
          ],
          [
           "Germany"
          ],
          [
           "Germany"
          ],
          [
           "Germany"
          ],
          [
           "Germany"
          ],
          [
           "Germany"
          ],
          [
           "Germany"
          ],
          [
           "Germany"
          ]
         ],
         "hovertemplate":"Country Name=%{customdata[0]}<br>Year=%{x}<br>Debt to GDP Ratio=%{y}<extra><\/extra>",
         "legendgroup":"Germany",
         "marker":{
          "color":"#FECB52",
          "symbol":"circle"
         },
         "mode":"markers",
         "name":"Germany",
         "showlegend":true,
         "x":[
          "1800",
          "1801",
          "1802",
          "1803",
          "1804",
          "1805",
          "1806",
          "1807",
          "1808",
          "1809",
          "1810",
          "1811",
          "1812",
          "1813",
          "1814",
          "1815",
          "1816",
          "1817",
          "1818",
          "1819",
          "1820",
          "1821",
          "1822",
          "1823",
          "1824",
          "1825",
          "1826",
          "1827",
          "1828",
          "1829",
          "1830",
          "1831",
          "1832",
          "1833",
          "1834",
          "1835",
          "1836",
          "1837",
          "1838",
          "1839",
          "1840",
          "1841",
          "1842",
          "1843",
          "1844",
          "1845",
          "1846",
          "1847",
          "1848",
          "1849",
          "1850",
          "1851",
          "1852",
          "1853",
          "1854",
          "1855",
          "1856",
          "1857",
          "1858",
          "1859",
          "1860",
          "1861",
          "1862",
          "1863",
          "1864",
          "1865",
          "1866",
          "1867",
          "1868",
          "1869",
          "1870",
          "1871",
          "1872",
          "1873",
          "1874",
          "1875",
          "1876",
          "1877",
          "1878",
          "1879",
          "1880",
          "1881",
          "1882",
          "1883",
          "1884",
          "1885",
          "1886",
          "1887",
          "1888",
          "1889",
          "1890",
          "1891",
          "1892",
          "1893",
          "1894",
          "1895",
          "1896",
          "1897",
          "1898",
          "1899",
          "1900",
          "1901",
          "1902",
          "1903",
          "1904",
          "1905",
          "1906",
          "1907",
          "1908",
          "1909",
          "1910",
          "1911",
          "1912",
          "1913",
          "1914",
          "1915",
          "1916",
          "1917",
          "1918",
          "1919",
          "1920",
          "1921",
          "1922",
          "1923",
          "1924",
          "1925",
          "1926",
          "1927",
          "1928",
          "1929",
          "1930",
          "1931",
          "1932",
          "1933",
          "1934",
          "1935",
          "1936",
          "1937",
          "1938",
          "1939",
          "1940",
          "1941",
          "1942",
          "1943",
          "1944",
          "1945",
          "1946",
          "1947",
          "1948",
          "1949",
          "1950",
          "1951",
          "1952",
          "1953",
          "1954",
          "1955",
          "1956",
          "1957",
          "1958",
          "1959",
          "1960",
          "1961",
          "1962",
          "1963",
          "1964",
          "1965",
          "1966",
          "1967",
          "1968",
          "1969",
          "1970",
          "1971",
          "1972",
          "1973",
          "1974",
          "1975",
          "1976",
          "1977",
          "1978",
          "1979",
          "1980",
          "1981",
          "1982",
          "1983",
          "1984",
          "1985",
          "1986",
          "1987",
          "1988",
          "1989",
          "1990",
          "1991",
          "1992",
          "1993",
          "1994",
          "1995",
          "1996",
          "1997",
          "1998",
          "1999",
          "2000",
          "2001",
          "2002",
          "2003",
          "2004",
          "2005",
          "2006",
          "2007",
          "2008",
          "2009",
          "2010",
          "2011",
          "2012",
          "2013",
          "2014",
          "2015"
         ],
         "xaxis":"x",
         "y":[
          null,
          null,
          null,
          null,
          null,
          null,
          null,
          null,
          null,
          null,
          null,
          null,
          null,
          null,
          null,
          null,
          null,
          null,
          null,
          null,
          null,
          null,
          null,
          null,
          null,
          null,
          null,
          null,
          null,
          null,
          null,
          null,
          null,
          null,
          null,
          null,
          null,
          null,
          null,
          null,
          null,
          null,
          null,
          null,
          null,
          null,
          null,
          null,
          null,
          null,
          null,
          null,
          null,
          null,
          null,
          null,
          null,
          null,
          null,
          null,
          null,
          null,
          null,
          null,
          null,
          null,
          null,
          null,
          null,
          null,
          null,
          null,
          null,
          null,
          null,
          null,
          null,
          null,
          null,
          null,
          25.3934445627736,
          29.7634160415465,
          31.167619646635,
          32.8456200732763,
          35.8269147788565,
          38.9184240029897,
          39.5078426194877,
          39.7085580912863,
          39.278818304692,
          36.6038067607367,
          39.2380469673931,
          44.8815417256011,
          44.6697975977723,
          45.5023196616989,
          46.9808300151882,
          46.0441910192445,
          43.7673746247081,
          41.5128508741381,
          41.7357386640663,
          38.6007997229306,
          38.1780078895464,
          40.7628807287219,
          42.4141819092959,
          40.151735364223,
          39.4912358064161,
          37.3784659704717,
          37.172452820904,
          37.3836559940432,
          39.1804811385217,
          41.7084268903016,
          42.407889046631,
          40.6962832079159,
          38.0222368752788,
          38.498739511823,
          null,
          null,
          null,
          null,
          null,
          null,
          null,
          null,
          null,
          null,
          null,
          4.16966115285243,
          11.9522849462366,
          10.0060895284965,
          9.3263779715116,
          11.2864349423205,
          14.4375330494559,
          20.6716366869571,
          23.9007916190776,
          22.5553167500529,
          22.2424308092378,
          19.7905991807262,
          19.9355214653982,
          19.3428330791468,
          20.1040922543117,
          null,
          null,
          null,
          null,
          null,
          null,
          null,
          null,
          null,
          null,
          null,
          17.7537542630182,
          16.1940795487478,
          16.2971943813543,
          18.2089452027455,
          20.9211245100163,
          21.4070015066493,
          20.3580125894125,
          19.3897049583387,
          18.774304105932,
          18.418162758113,
          18.4102914071302,
          18.6546336249516,
          17.630918323154,
          18.0928956941238,
          18.2027542646304,
          18.7078291376903,
          19.7985289052585,
          22.5466932440263,
          22.486334364536,
          20.2811233867085,
          18.2695415535003,
          18.3777385271501,
          18.5373077826009,
          18.1015341187133,
          19.0232199890917,
          24.3342909570881,
          null,
          27.0018666661319,
          28.3855198357496,
          29.2933096955895,
          31.2544326842856,
          34.8624771735362,
          37.7918339020268,
          39.3761576398246,
          40.0943358666309,
          40.6866950434749,
          40.5392916458218,
          41.5980762416802,
          42.0304267727267,
          40.6493894594412,
          42.2496575356031,
          38.8925699246766,
          41.5205279508578,
          45.1186369442772,
          47.4212670185972,
          54.8200518200202,
          57.5975435026372,
          58.7725523489012,
          59.3846092863549,
          59.9624191236295,
          58.7576542183248,
          57.5823565841686,
          59.2195682775914,
          62.9207506035819,
          64.6893799931296,
          66.9093730170458,
          66.3334795779797,
          63.5422941792037,
          64.9260658770992,
          72.4302518412538,
          81.0037751060053,
          78.3106928290272,
          79.5159992168976,
          77.0575039628623,
          74.4797242068039,
          70.9881562374292
         ],
         "yaxis":"y",
         "type":"scattergl"
        }
       ],
       "layout":{
        "template":{
         "data":{
          "bar":[
           {
            "error_x":{
             "color":"#2a3f5f"
            },
            "error_y":{
             "color":"#2a3f5f"
            },
            "marker":{
             "line":{
              "color":"#E5ECF6",
              "width":0.5
             },
             "pattern":{
              "fillmode":"overlay",
              "size":10,
              "solidity":0.2
             }
            },
            "type":"bar"
           }
          ],
          "barpolar":[
           {
            "marker":{
             "line":{
              "color":"#E5ECF6",
              "width":0.5
             },
             "pattern":{
              "fillmode":"overlay",
              "size":10,
              "solidity":0.2
             }
            },
            "type":"barpolar"
           }
          ],
          "carpet":[
           {
            "aaxis":{
             "endlinecolor":"#2a3f5f",
             "gridcolor":"white",
             "linecolor":"white",
             "minorgridcolor":"white",
             "startlinecolor":"#2a3f5f"
            },
            "baxis":{
             "endlinecolor":"#2a3f5f",
             "gridcolor":"white",
             "linecolor":"white",
             "minorgridcolor":"white",
             "startlinecolor":"#2a3f5f"
            },
            "type":"carpet"
           }
          ],
          "choropleth":[
           {
            "colorbar":{
             "outlinewidth":0,
             "ticks":""
            },
            "type":"choropleth"
           }
          ],
          "contour":[
           {
            "colorbar":{
             "outlinewidth":0,
             "ticks":""
            },
            "colorscale":[
             [
              0,
              "#0d0887"
             ],
             [
              0.1111111111111111,
              "#46039f"
             ],
             [
              0.2222222222222222,
              "#7201a8"
             ],
             [
              0.3333333333333333,
              "#9c179e"
             ],
             [
              0.4444444444444444,
              "#bd3786"
             ],
             [
              0.5555555555555556,
              "#d8576b"
             ],
             [
              0.6666666666666666,
              "#ed7953"
             ],
             [
              0.7777777777777778,
              "#fb9f3a"
             ],
             [
              0.8888888888888888,
              "#fdca26"
             ],
             [
              1,
              "#f0f921"
             ]
            ],
            "type":"contour"
           }
          ],
          "contourcarpet":[
           {
            "colorbar":{
             "outlinewidth":0,
             "ticks":""
            },
            "type":"contourcarpet"
           }
          ],
          "heatmap":[
           {
            "colorbar":{
             "outlinewidth":0,
             "ticks":""
            },
            "colorscale":[
             [
              0,
              "#0d0887"
             ],
             [
              0.1111111111111111,
              "#46039f"
             ],
             [
              0.2222222222222222,
              "#7201a8"
             ],
             [
              0.3333333333333333,
              "#9c179e"
             ],
             [
              0.4444444444444444,
              "#bd3786"
             ],
             [
              0.5555555555555556,
              "#d8576b"
             ],
             [
              0.6666666666666666,
              "#ed7953"
             ],
             [
              0.7777777777777778,
              "#fb9f3a"
             ],
             [
              0.8888888888888888,
              "#fdca26"
             ],
             [
              1,
              "#f0f921"
             ]
            ],
            "type":"heatmap"
           }
          ],
          "heatmapgl":[
           {
            "colorbar":{
             "outlinewidth":0,
             "ticks":""
            },
            "colorscale":[
             [
              0,
              "#0d0887"
             ],
             [
              0.1111111111111111,
              "#46039f"
             ],
             [
              0.2222222222222222,
              "#7201a8"
             ],
             [
              0.3333333333333333,
              "#9c179e"
             ],
             [
              0.4444444444444444,
              "#bd3786"
             ],
             [
              0.5555555555555556,
              "#d8576b"
             ],
             [
              0.6666666666666666,
              "#ed7953"
             ],
             [
              0.7777777777777778,
              "#fb9f3a"
             ],
             [
              0.8888888888888888,
              "#fdca26"
             ],
             [
              1,
              "#f0f921"
             ]
            ],
            "type":"heatmapgl"
           }
          ],
          "histogram":[
           {
            "marker":{
             "pattern":{
              "fillmode":"overlay",
              "size":10,
              "solidity":0.2
             }
            },
            "type":"histogram"
           }
          ],
          "histogram2d":[
           {
            "colorbar":{
             "outlinewidth":0,
             "ticks":""
            },
            "colorscale":[
             [
              0,
              "#0d0887"
             ],
             [
              0.1111111111111111,
              "#46039f"
             ],
             [
              0.2222222222222222,
              "#7201a8"
             ],
             [
              0.3333333333333333,
              "#9c179e"
             ],
             [
              0.4444444444444444,
              "#bd3786"
             ],
             [
              0.5555555555555556,
              "#d8576b"
             ],
             [
              0.6666666666666666,
              "#ed7953"
             ],
             [
              0.7777777777777778,
              "#fb9f3a"
             ],
             [
              0.8888888888888888,
              "#fdca26"
             ],
             [
              1,
              "#f0f921"
             ]
            ],
            "type":"histogram2d"
           }
          ],
          "histogram2dcontour":[
           {
            "colorbar":{
             "outlinewidth":0,
             "ticks":""
            },
            "colorscale":[
             [
              0,
              "#0d0887"
             ],
             [
              0.1111111111111111,
              "#46039f"
             ],
             [
              0.2222222222222222,
              "#7201a8"
             ],
             [
              0.3333333333333333,
              "#9c179e"
             ],
             [
              0.4444444444444444,
              "#bd3786"
             ],
             [
              0.5555555555555556,
              "#d8576b"
             ],
             [
              0.6666666666666666,
              "#ed7953"
             ],
             [
              0.7777777777777778,
              "#fb9f3a"
             ],
             [
              0.8888888888888888,
              "#fdca26"
             ],
             [
              1,
              "#f0f921"
             ]
            ],
            "type":"histogram2dcontour"
           }
          ],
          "mesh3d":[
           {
            "colorbar":{
             "outlinewidth":0,
             "ticks":""
            },
            "type":"mesh3d"
           }
          ],
          "parcoords":[
           {
            "line":{
             "colorbar":{
              "outlinewidth":0,
              "ticks":""
             }
            },
            "type":"parcoords"
           }
          ],
          "pie":[
           {
            "automargin":true,
            "type":"pie"
           }
          ],
          "scatter":[
           {
            "marker":{
             "colorbar":{
              "outlinewidth":0,
              "ticks":""
             }
            },
            "type":"scatter"
           }
          ],
          "scatter3d":[
           {
            "line":{
             "colorbar":{
              "outlinewidth":0,
              "ticks":""
             }
            },
            "marker":{
             "colorbar":{
              "outlinewidth":0,
              "ticks":""
             }
            },
            "type":"scatter3d"
           }
          ],
          "scattercarpet":[
           {
            "marker":{
             "colorbar":{
              "outlinewidth":0,
              "ticks":""
             }
            },
            "type":"scattercarpet"
           }
          ],
          "scattergeo":[
           {
            "marker":{
             "colorbar":{
              "outlinewidth":0,
              "ticks":""
             }
            },
            "type":"scattergeo"
           }
          ],
          "scattergl":[
           {
            "marker":{
             "colorbar":{
              "outlinewidth":0,
              "ticks":""
             }
            },
            "type":"scattergl"
           }
          ],
          "scattermapbox":[
           {
            "marker":{
             "colorbar":{
              "outlinewidth":0,
              "ticks":""
             }
            },
            "type":"scattermapbox"
           }
          ],
          "scatterpolar":[
           {
            "marker":{
             "colorbar":{
              "outlinewidth":0,
              "ticks":""
             }
            },
            "type":"scatterpolar"
           }
          ],
          "scatterpolargl":[
           {
            "marker":{
             "colorbar":{
              "outlinewidth":0,
              "ticks":""
             }
            },
            "type":"scatterpolargl"
           }
          ],
          "scatterternary":[
           {
            "marker":{
             "colorbar":{
              "outlinewidth":0,
              "ticks":""
             }
            },
            "type":"scatterternary"
           }
          ],
          "surface":[
           {
            "colorbar":{
             "outlinewidth":0,
             "ticks":""
            },
            "colorscale":[
             [
              0,
              "#0d0887"
             ],
             [
              0.1111111111111111,
              "#46039f"
             ],
             [
              0.2222222222222222,
              "#7201a8"
             ],
             [
              0.3333333333333333,
              "#9c179e"
             ],
             [
              0.4444444444444444,
              "#bd3786"
             ],
             [
              0.5555555555555556,
              "#d8576b"
             ],
             [
              0.6666666666666666,
              "#ed7953"
             ],
             [
              0.7777777777777778,
              "#fb9f3a"
             ],
             [
              0.8888888888888888,
              "#fdca26"
             ],
             [
              1,
              "#f0f921"
             ]
            ],
            "type":"surface"
           }
          ],
          "table":[
           {
            "cells":{
             "fill":{
              "color":"#EBF0F8"
             },
             "line":{
              "color":"white"
             }
            },
            "header":{
             "fill":{
              "color":"#C8D4E3"
             },
             "line":{
              "color":"white"
             }
            },
            "type":"table"
           }
          ]
         },
         "layout":{
          "annotationdefaults":{
           "arrowcolor":"#2a3f5f",
           "arrowhead":0,
           "arrowwidth":1
          },
          "autotypenumbers":"strict",
          "coloraxis":{
           "colorbar":{
            "outlinewidth":0,
            "ticks":""
           }
          },
          "colorscale":{
           "diverging":[
            [
             0,
             "#8e0152"
            ],
            [
             0.1,
             "#c51b7d"
            ],
            [
             0.2,
             "#de77ae"
            ],
            [
             0.3,
             "#f1b6da"
            ],
            [
             0.4,
             "#fde0ef"
            ],
            [
             0.5,
             "#f7f7f7"
            ],
            [
             0.6,
             "#e6f5d0"
            ],
            [
             0.7,
             "#b8e186"
            ],
            [
             0.8,
             "#7fbc41"
            ],
            [
             0.9,
             "#4d9221"
            ],
            [
             1,
             "#276419"
            ]
           ],
           "sequential":[
            [
             0,
             "#0d0887"
            ],
            [
             0.1111111111111111,
             "#46039f"
            ],
            [
             0.2222222222222222,
             "#7201a8"
            ],
            [
             0.3333333333333333,
             "#9c179e"
            ],
            [
             0.4444444444444444,
             "#bd3786"
            ],
            [
             0.5555555555555556,
             "#d8576b"
            ],
            [
             0.6666666666666666,
             "#ed7953"
            ],
            [
             0.7777777777777778,
             "#fb9f3a"
            ],
            [
             0.8888888888888888,
             "#fdca26"
            ],
            [
             1,
             "#f0f921"
            ]
           ],
           "sequentialminus":[
            [
             0,
             "#0d0887"
            ],
            [
             0.1111111111111111,
             "#46039f"
            ],
            [
             0.2222222222222222,
             "#7201a8"
            ],
            [
             0.3333333333333333,
             "#9c179e"
            ],
            [
             0.4444444444444444,
             "#bd3786"
            ],
            [
             0.5555555555555556,
             "#d8576b"
            ],
            [
             0.6666666666666666,
             "#ed7953"
            ],
            [
             0.7777777777777778,
             "#fb9f3a"
            ],
            [
             0.8888888888888888,
             "#fdca26"
            ],
            [
             1,
             "#f0f921"
            ]
           ]
          },
          "colorway":[
           "#636efa",
           "#EF553B",
           "#00cc96",
           "#ab63fa",
           "#FFA15A",
           "#19d3f3",
           "#FF6692",
           "#B6E880",
           "#FF97FF",
           "#FECB52"
          ],
          "font":{
           "color":"#2a3f5f"
          },
          "geo":{
           "bgcolor":"white",
           "lakecolor":"white",
           "landcolor":"#E5ECF6",
           "showlakes":true,
           "showland":true,
           "subunitcolor":"white"
          },
          "hoverlabel":{
           "align":"left"
          },
          "hovermode":"closest",
          "mapbox":{
           "style":"light"
          },
          "paper_bgcolor":"white",
          "plot_bgcolor":"#E5ECF6",
          "polar":{
           "angularaxis":{
            "gridcolor":"white",
            "linecolor":"white",
            "ticks":""
           },
           "bgcolor":"#E5ECF6",
           "radialaxis":{
            "gridcolor":"white",
            "linecolor":"white",
            "ticks":""
           }
          },
          "scene":{
           "xaxis":{
            "backgroundcolor":"#E5ECF6",
            "gridcolor":"white",
            "gridwidth":2,
            "linecolor":"white",
            "showbackground":true,
            "ticks":"",
            "zerolinecolor":"white"
           },
           "yaxis":{
            "backgroundcolor":"#E5ECF6",
            "gridcolor":"white",
            "gridwidth":2,
            "linecolor":"white",
            "showbackground":true,
            "ticks":"",
            "zerolinecolor":"white"
           },
           "zaxis":{
            "backgroundcolor":"#E5ECF6",
            "gridcolor":"white",
            "gridwidth":2,
            "linecolor":"white",
            "showbackground":true,
            "ticks":"",
            "zerolinecolor":"white"
           }
          },
          "shapedefaults":{
           "line":{
            "color":"#2a3f5f"
           }
          },
          "ternary":{
           "aaxis":{
            "gridcolor":"white",
            "linecolor":"white",
            "ticks":""
           },
           "baxis":{
            "gridcolor":"white",
            "linecolor":"white",
            "ticks":""
           },
           "bgcolor":"#E5ECF6",
           "caxis":{
            "gridcolor":"white",
            "linecolor":"white",
            "ticks":""
           }
          },
          "title":{
           "x":0.05
          },
          "xaxis":{
           "automargin":true,
           "gridcolor":"white",
           "linecolor":"white",
           "ticks":"",
           "title":{
            "standoff":15
           },
           "zerolinecolor":"white",
           "zerolinewidth":2
          },
          "yaxis":{
           "automargin":true,
           "gridcolor":"white",
           "linecolor":"white",
           "ticks":"",
           "title":{
            "standoff":15
           },
           "zerolinecolor":"white",
           "zerolinewidth":2
          }
         }
        },
        "xaxis":{
         "anchor":"y",
         "domain":[
          0,
          1
         ],
         "title":{
          "text":"Year"
         }
        },
        "yaxis":{
         "anchor":"x",
         "domain":[
          0,
          1
         ],
         "title":{
          "text":"Debt to GDP Ratio"
         }
        },
        "legend":{
         "title":{
          "text":"Country Name"
         },
         "tracegroupgap":0
        },
        "margin":{
         "t":60
        },
        "title":{
         "text":"Debt to GDP Ratio vs Year"
        }
       },
       "config":{
        "plotlyServerURL":"https:\/\/plot.ly"
       }
      }
     },
     "metadata":{
      
     },
     "output_type":"display_data"
    }
   ],
   "metadata":{
    "datalore":{
     "node_id":"u4mNeciOoCFhb2KqCdtNDl",
     "type":"CODE",
     "hide_input_from_viewers":false,
     "hide_output_from_viewers":false,
     "report_properties":{
      "rowId":"rJkRwj8nZqIxgm6GpcCFQG",
      "relativeY":0
     }
    }
   }
  }
 ],
 "metadata":{
  "kernelspec":{
   "display_name":"Python",
   "language":"python",
   "name":"python"
  },
  "datalore":{
   "computation_mode":"JUPYTER",
   "package_manager":"pip",
   "base_environment":"default",
   "packages":[
    
   ],
   "report_row_ids":[
    "g6lhOdrFDSJvbVaEM3lUNi",
    "rSp6K2lWxarTuaiYl6SEkq",
    "Ic475lb688Fms9MnrIwt3E",
    "qHiUCnyJK1maKpKkSGHDPu",
    "SzLe2k3MpUVG7WYhesPh7G",
    "9a38PRxsiEhORswMwtXUkc",
    "ZLROwlr3VfhkXBaBm8YRWq",
    "ShKWv5zpuEe1bT0tRktTQJ",
    "9AfT4eMceVA0T6dPM1889B",
    "R824somMI8FhH60ODrYnXo",
    "u1i7ROjzzsAMUhSXY8hMsj",
    "K3krQX0SbgBzX33XHixj2a",
    "NY27cTkDuF99uEjL6Zm47f",
    "34suNBMT2jnd4kvEtyaTsF",
    "mvLLrowxMewEJ9iF2qIs86",
    "Xa8tfQrm21neXcmv6iph37",
    "HcolyoapHkB1FjUbEYIiZ7",
    "96rXOBqFrpe0Yswo6JRvHb",
    "rJkRwj8nZqIxgm6GpcCFQG"
   ],
   "version":3
  }
 },
 "nbformat":4,
 "nbformat_minor":4
}